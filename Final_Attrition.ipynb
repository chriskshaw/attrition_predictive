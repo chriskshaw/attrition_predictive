{
 "cells": [
  {
   "cell_type": "code",
   "execution_count": 101,
   "metadata": {},
   "outputs": [],
   "source": [
    "import numpy as np\n",
    "import pandas as pd\n",
    "import matplotlib.pyplot as plt\n",
    "%matplotlib inline\n",
    "import seaborn as sns\n",
    "from statsmodels.formula.api import ols \n",
    "import statsmodels.api as sm \n",
    "from sklearn.linear_model import LinearRegression \n",
    "from sklearn.metrics import mean_squared_error, r2_score\n",
    "from sklearn.neighbors import KNeighborsClassifier\n",
    "from sklearn.naive_bayes import GaussianNB as gnb\n",
    "from sklearn.model_selection import cross_val_score \n",
    "from sklearn.model_selection import train_test_split \n",
    "from sklearn.metrics import accuracy_score, confusion_matrix\n",
    "from sklearn.linear_model import LogisticRegression\n",
    "from sklearn.metrics import accuracy_score, f1_score, precision_score, roc_curve, roc_auc_score, precision_recall_curve, confusion_matrix, recall_score\n",
    "\n",
    "import scipy.stats as stats #for plotting q-q plot"
   ]
  },
  {
   "cell_type": "markdown",
   "metadata": {},
   "source": [
    "Loading Data"
   ]
  },
  {
   "cell_type": "code",
   "execution_count": 102,
   "metadata": {},
   "outputs": [],
   "source": [
    "data = pd.read_csv(\"attrition_data_exam.csv\")"
   ]
  },
  {
   "cell_type": "code",
   "execution_count": 103,
   "metadata": {},
   "outputs": [
    {
     "data": {
      "text/html": [
       "<div>\n",
       "<style scoped>\n",
       "    .dataframe tbody tr th:only-of-type {\n",
       "        vertical-align: middle;\n",
       "    }\n",
       "\n",
       "    .dataframe tbody tr th {\n",
       "        vertical-align: top;\n",
       "    }\n",
       "\n",
       "    .dataframe thead th {\n",
       "        text-align: right;\n",
       "    }\n",
       "</style>\n",
       "<table border=\"1\" class=\"dataframe\">\n",
       "  <thead>\n",
       "    <tr style=\"text-align: right;\">\n",
       "      <th></th>\n",
       "      <th>Age</th>\n",
       "      <th>Attrition</th>\n",
       "      <th>BusinessTravel</th>\n",
       "      <th>DailyRate($)</th>\n",
       "      <th>Department</th>\n",
       "      <th>DistanceFromHome</th>\n",
       "      <th>Education</th>\n",
       "      <th>EducationField</th>\n",
       "      <th>EmployeeNumber#</th>\n",
       "      <th>EnvironmentSatisfaction</th>\n",
       "      <th>...</th>\n",
       "      <th>PercentSalaryHike</th>\n",
       "      <th>PerformanceRating</th>\n",
       "      <th>StockOptionLevel</th>\n",
       "      <th>TotalWorkingYears</th>\n",
       "      <th>TrainingTimesLastYear</th>\n",
       "      <th>WorkLifeBalance</th>\n",
       "      <th>YearsAtCompany</th>\n",
       "      <th>YearsInCurrentRole</th>\n",
       "      <th>YearsSinceLastPromotion</th>\n",
       "      <th>YearsWithCurrManager</th>\n",
       "    </tr>\n",
       "  </thead>\n",
       "  <tbody>\n",
       "    <tr>\n",
       "      <th>0</th>\n",
       "      <td>41</td>\n",
       "      <td>Yes</td>\n",
       "      <td>Travel_Rarely</td>\n",
       "      <td>1102</td>\n",
       "      <td>Sales</td>\n",
       "      <td>1</td>\n",
       "      <td>2</td>\n",
       "      <td>Life Sciences</td>\n",
       "      <td>1</td>\n",
       "      <td>2</td>\n",
       "      <td>...</td>\n",
       "      <td>11</td>\n",
       "      <td>3</td>\n",
       "      <td>0.0</td>\n",
       "      <td>8.0</td>\n",
       "      <td>0.0</td>\n",
       "      <td>1</td>\n",
       "      <td>6.0</td>\n",
       "      <td>4.0</td>\n",
       "      <td>NaN</td>\n",
       "      <td>5.0</td>\n",
       "    </tr>\n",
       "    <tr>\n",
       "      <th>1</th>\n",
       "      <td>49</td>\n",
       "      <td>No</td>\n",
       "      <td>Travel_Frequently</td>\n",
       "      <td>279</td>\n",
       "      <td>Research &amp; Development</td>\n",
       "      <td>8</td>\n",
       "      <td>1</td>\n",
       "      <td>Life Sciences</td>\n",
       "      <td>2</td>\n",
       "      <td>3</td>\n",
       "      <td>...</td>\n",
       "      <td>23</td>\n",
       "      <td>4</td>\n",
       "      <td>1.0</td>\n",
       "      <td>10.0</td>\n",
       "      <td>3.0</td>\n",
       "      <td>3</td>\n",
       "      <td>10.0</td>\n",
       "      <td>7.0</td>\n",
       "      <td>1.0</td>\n",
       "      <td>7.0</td>\n",
       "    </tr>\n",
       "    <tr>\n",
       "      <th>2</th>\n",
       "      <td>37</td>\n",
       "      <td>Yes</td>\n",
       "      <td>Travel_Rarely</td>\n",
       "      <td>1373</td>\n",
       "      <td>Research &amp; Development</td>\n",
       "      <td>2</td>\n",
       "      <td>2</td>\n",
       "      <td>Other</td>\n",
       "      <td>3</td>\n",
       "      <td>4</td>\n",
       "      <td>...</td>\n",
       "      <td>15</td>\n",
       "      <td>3</td>\n",
       "      <td>0.0</td>\n",
       "      <td>7.0</td>\n",
       "      <td>3.0</td>\n",
       "      <td>3</td>\n",
       "      <td>0.0</td>\n",
       "      <td>0.0</td>\n",
       "      <td>0.0</td>\n",
       "      <td>0.0</td>\n",
       "    </tr>\n",
       "    <tr>\n",
       "      <th>3</th>\n",
       "      <td>33</td>\n",
       "      <td>No</td>\n",
       "      <td>Travel_Frequently</td>\n",
       "      <td>1392</td>\n",
       "      <td>Research &amp; Development</td>\n",
       "      <td>3</td>\n",
       "      <td>4</td>\n",
       "      <td>Life Sciences</td>\n",
       "      <td>4</td>\n",
       "      <td>4</td>\n",
       "      <td>...</td>\n",
       "      <td>11</td>\n",
       "      <td>3</td>\n",
       "      <td>0.0</td>\n",
       "      <td>8.0</td>\n",
       "      <td>3.0</td>\n",
       "      <td>3</td>\n",
       "      <td>8.0</td>\n",
       "      <td>7.0</td>\n",
       "      <td>3.0</td>\n",
       "      <td>0.0</td>\n",
       "    </tr>\n",
       "    <tr>\n",
       "      <th>4</th>\n",
       "      <td>27</td>\n",
       "      <td>No</td>\n",
       "      <td>Travel_Rarely</td>\n",
       "      <td>591</td>\n",
       "      <td>Research &amp; Development</td>\n",
       "      <td>2</td>\n",
       "      <td>1</td>\n",
       "      <td>Medical</td>\n",
       "      <td>5</td>\n",
       "      <td>1</td>\n",
       "      <td>...</td>\n",
       "      <td>12</td>\n",
       "      <td>3</td>\n",
       "      <td>1.0</td>\n",
       "      <td>6.0</td>\n",
       "      <td>3.0</td>\n",
       "      <td>3</td>\n",
       "      <td>2.0</td>\n",
       "      <td>2.0</td>\n",
       "      <td>2.0</td>\n",
       "      <td>2.0</td>\n",
       "    </tr>\n",
       "    <tr>\n",
       "      <th>...</th>\n",
       "      <td>...</td>\n",
       "      <td>...</td>\n",
       "      <td>...</td>\n",
       "      <td>...</td>\n",
       "      <td>...</td>\n",
       "      <td>...</td>\n",
       "      <td>...</td>\n",
       "      <td>...</td>\n",
       "      <td>...</td>\n",
       "      <td>...</td>\n",
       "      <td>...</td>\n",
       "      <td>...</td>\n",
       "      <td>...</td>\n",
       "      <td>...</td>\n",
       "      <td>...</td>\n",
       "      <td>...</td>\n",
       "      <td>...</td>\n",
       "      <td>...</td>\n",
       "      <td>...</td>\n",
       "      <td>...</td>\n",
       "      <td>...</td>\n",
       "    </tr>\n",
       "    <tr>\n",
       "      <th>2413</th>\n",
       "      <td>33</td>\n",
       "      <td>Yes</td>\n",
       "      <td>Non-Travel</td>\n",
       "      <td>365</td>\n",
       "      <td>Sales</td>\n",
       "      <td>23</td>\n",
       "      <td>5</td>\n",
       "      <td>Marketing</td>\n",
       "      <td>2414</td>\n",
       "      <td>4</td>\n",
       "      <td>...</td>\n",
       "      <td>13</td>\n",
       "      <td>4</td>\n",
       "      <td>0.0</td>\n",
       "      <td>11.0</td>\n",
       "      <td>2.0</td>\n",
       "      <td>3</td>\n",
       "      <td>38.0</td>\n",
       "      <td>1.0</td>\n",
       "      <td>5.0</td>\n",
       "      <td>13.0</td>\n",
       "    </tr>\n",
       "    <tr>\n",
       "      <th>2414</th>\n",
       "      <td>43</td>\n",
       "      <td>Yes</td>\n",
       "      <td>Travel_Rarely</td>\n",
       "      <td>1430</td>\n",
       "      <td>Research &amp; Development</td>\n",
       "      <td>21</td>\n",
       "      <td>5</td>\n",
       "      <td>Medical</td>\n",
       "      <td>2415</td>\n",
       "      <td>4</td>\n",
       "      <td>...</td>\n",
       "      <td>25</td>\n",
       "      <td>3</td>\n",
       "      <td>2.0</td>\n",
       "      <td>39.0</td>\n",
       "      <td>3.0</td>\n",
       "      <td>1</td>\n",
       "      <td>35.0</td>\n",
       "      <td>4.0</td>\n",
       "      <td>4.0</td>\n",
       "      <td>16.0</td>\n",
       "    </tr>\n",
       "    <tr>\n",
       "      <th>2415</th>\n",
       "      <td>34</td>\n",
       "      <td>Yes</td>\n",
       "      <td>Travel_Frequently</td>\n",
       "      <td>1441</td>\n",
       "      <td>Research &amp; Development</td>\n",
       "      <td>15</td>\n",
       "      <td>1</td>\n",
       "      <td>Technical Degree</td>\n",
       "      <td>2416</td>\n",
       "      <td>2</td>\n",
       "      <td>...</td>\n",
       "      <td>15</td>\n",
       "      <td>4</td>\n",
       "      <td>0.0</td>\n",
       "      <td>33.0</td>\n",
       "      <td>5.0</td>\n",
       "      <td>2</td>\n",
       "      <td>26.0</td>\n",
       "      <td>6.0</td>\n",
       "      <td>11.0</td>\n",
       "      <td>11.0</td>\n",
       "    </tr>\n",
       "    <tr>\n",
       "      <th>2416</th>\n",
       "      <td>53</td>\n",
       "      <td>Yes</td>\n",
       "      <td>Travel_Rarely</td>\n",
       "      <td>1238</td>\n",
       "      <td>Sales</td>\n",
       "      <td>3</td>\n",
       "      <td>2</td>\n",
       "      <td>Life Sciences</td>\n",
       "      <td>2417</td>\n",
       "      <td>4</td>\n",
       "      <td>...</td>\n",
       "      <td>14</td>\n",
       "      <td>3</td>\n",
       "      <td>3.0</td>\n",
       "      <td>16.0</td>\n",
       "      <td>6.0</td>\n",
       "      <td>4</td>\n",
       "      <td>4.0</td>\n",
       "      <td>5.0</td>\n",
       "      <td>5.0</td>\n",
       "      <td>13.0</td>\n",
       "    </tr>\n",
       "    <tr>\n",
       "      <th>2417</th>\n",
       "      <td>24</td>\n",
       "      <td>Yes</td>\n",
       "      <td>Travel_Frequently</td>\n",
       "      <td>1376</td>\n",
       "      <td>Sales</td>\n",
       "      <td>10</td>\n",
       "      <td>2</td>\n",
       "      <td>Marketing</td>\n",
       "      <td>2418</td>\n",
       "      <td>1</td>\n",
       "      <td>...</td>\n",
       "      <td>14</td>\n",
       "      <td>3</td>\n",
       "      <td>2.0</td>\n",
       "      <td>18.0</td>\n",
       "      <td>4.0</td>\n",
       "      <td>4</td>\n",
       "      <td>33.0</td>\n",
       "      <td>10.0</td>\n",
       "      <td>1.0</td>\n",
       "      <td>15.0</td>\n",
       "    </tr>\n",
       "  </tbody>\n",
       "</table>\n",
       "<p>2418 rows × 28 columns</p>\n",
       "</div>"
      ],
      "text/plain": [
       "      Age Attrition     BusinessTravel  DailyRate($)              Department  \\\n",
       "0      41       Yes      Travel_Rarely          1102                   Sales   \n",
       "1      49        No  Travel_Frequently           279  Research & Development   \n",
       "2      37       Yes      Travel_Rarely          1373  Research & Development   \n",
       "3      33        No  Travel_Frequently          1392  Research & Development   \n",
       "4      27        No      Travel_Rarely           591  Research & Development   \n",
       "...   ...       ...                ...           ...                     ...   \n",
       "2413   33       Yes         Non-Travel           365                   Sales   \n",
       "2414   43       Yes      Travel_Rarely          1430  Research & Development   \n",
       "2415   34       Yes  Travel_Frequently          1441  Research & Development   \n",
       "2416   53       Yes      Travel_Rarely          1238                   Sales   \n",
       "2417   24       Yes  Travel_Frequently          1376                   Sales   \n",
       "\n",
       "      DistanceFromHome  Education    EducationField  EmployeeNumber#  \\\n",
       "0                    1          2     Life Sciences                1   \n",
       "1                    8          1     Life Sciences                2   \n",
       "2                    2          2             Other                3   \n",
       "3                    3          4     Life Sciences                4   \n",
       "4                    2          1           Medical                5   \n",
       "...                ...        ...               ...              ...   \n",
       "2413                23          5         Marketing             2414   \n",
       "2414                21          5           Medical             2415   \n",
       "2415                15          1  Technical Degree             2416   \n",
       "2416                 3          2     Life Sciences             2417   \n",
       "2417                10          2         Marketing             2418   \n",
       "\n",
       "      EnvironmentSatisfaction  ... PercentSalaryHike  PerformanceRating  \\\n",
       "0                           2  ...                11                  3   \n",
       "1                           3  ...                23                  4   \n",
       "2                           4  ...                15                  3   \n",
       "3                           4  ...                11                  3   \n",
       "4                           1  ...                12                  3   \n",
       "...                       ...  ...               ...                ...   \n",
       "2413                        4  ...                13                  4   \n",
       "2414                        4  ...                25                  3   \n",
       "2415                        2  ...                15                  4   \n",
       "2416                        4  ...                14                  3   \n",
       "2417                        1  ...                14                  3   \n",
       "\n",
       "     StockOptionLevel  TotalWorkingYears TrainingTimesLastYear  \\\n",
       "0                 0.0                8.0                   0.0   \n",
       "1                 1.0               10.0                   3.0   \n",
       "2                 0.0                7.0                   3.0   \n",
       "3                 0.0                8.0                   3.0   \n",
       "4                 1.0                6.0                   3.0   \n",
       "...               ...                ...                   ...   \n",
       "2413              0.0               11.0                   2.0   \n",
       "2414              2.0               39.0                   3.0   \n",
       "2415              0.0               33.0                   5.0   \n",
       "2416              3.0               16.0                   6.0   \n",
       "2417              2.0               18.0                   4.0   \n",
       "\n",
       "      WorkLifeBalance  YearsAtCompany YearsInCurrentRole  \\\n",
       "0                   1             6.0                4.0   \n",
       "1                   3            10.0                7.0   \n",
       "2                   3             0.0                0.0   \n",
       "3                   3             8.0                7.0   \n",
       "4                   3             2.0                2.0   \n",
       "...               ...             ...                ...   \n",
       "2413                3            38.0                1.0   \n",
       "2414                1            35.0                4.0   \n",
       "2415                2            26.0                6.0   \n",
       "2416                4             4.0                5.0   \n",
       "2417                4            33.0               10.0   \n",
       "\n",
       "      YearsSinceLastPromotion  YearsWithCurrManager  \n",
       "0                         NaN                   5.0  \n",
       "1                         1.0                   7.0  \n",
       "2                         0.0                   0.0  \n",
       "3                         3.0                   0.0  \n",
       "4                         2.0                   2.0  \n",
       "...                       ...                   ...  \n",
       "2413                      5.0                  13.0  \n",
       "2414                      4.0                  16.0  \n",
       "2415                     11.0                  11.0  \n",
       "2416                      5.0                  13.0  \n",
       "2417                      1.0                  15.0  \n",
       "\n",
       "[2418 rows x 28 columns]"
      ]
     },
     "execution_count": 103,
     "metadata": {},
     "output_type": "execute_result"
    }
   ],
   "source": [
    "data"
   ]
  },
  {
   "cell_type": "markdown",
   "metadata": {},
   "source": [
    "Feature Engineering"
   ]
  },
  {
   "cell_type": "code",
   "execution_count": 104,
   "metadata": {},
   "outputs": [
    {
     "data": {
      "text/plain": [
       "Age                         0\n",
       "Attrition                   0\n",
       "BusinessTravel              0\n",
       "DailyRate($)                0\n",
       "Department                  0\n",
       "DistanceFromHome            0\n",
       "Education                   0\n",
       "EducationField              0\n",
       "EmployeeNumber#             0\n",
       "EnvironmentSatisfaction     0\n",
       "Gender                      0\n",
       "JobLevel                    0\n",
       "Job+Role                    0\n",
       "JobSatisfaction             0\n",
       "MaritalStatus               0\n",
       "MonthlyIncome($)            0\n",
       "NumCompaniesWorked#        20\n",
       "OverTime                    0\n",
       "PercentSalaryHike           0\n",
       "PerformanceRating           0\n",
       "StockOptionLevel           26\n",
       "TotalWorkingYears           1\n",
       "TrainingTimesLastYear       2\n",
       "WorkLifeBalance             0\n",
       "YearsAtCompany              2\n",
       "YearsInCurrentRole          8\n",
       "YearsSinceLastPromotion    12\n",
       "YearsWithCurrManager        3\n",
       "dtype: int64"
      ]
     },
     "execution_count": 104,
     "metadata": {},
     "output_type": "execute_result"
    }
   ],
   "source": [
    "#Lets check missing values\n",
    "data.isna().sum()"
   ]
  },
  {
   "cell_type": "markdown",
   "metadata": {},
   "source": [
    "Looks like we are doing fairly well for missing values, but lets impute/drop them as needed"
   ]
  },
  {
   "cell_type": "code",
   "execution_count": 105,
   "metadata": {},
   "outputs": [
    {
     "data": {
      "text/plain": [
       "2418"
      ]
     },
     "execution_count": 105,
     "metadata": {},
     "output_type": "execute_result"
    }
   ],
   "source": [
    "#Ensuring each row is a different employee\n",
    "data[\"EmployeeNumber#\"].nunique()"
   ]
  },
  {
   "cell_type": "code",
   "execution_count": 106,
   "metadata": {},
   "outputs": [],
   "source": [
    "#Dropping Employee Number column as each row is different employee\n",
    "data = data.drop(columns=\"EmployeeNumber#\")"
   ]
  },
  {
   "cell_type": "code",
   "execution_count": 107,
   "metadata": {},
   "outputs": [
    {
     "data": {
      "text/plain": [
       "Index(['Age', 'Attrition', 'BusinessTravel', 'DailyRate($)', 'Department',\n",
       "       'DistanceFromHome', 'Education', 'EducationField',\n",
       "       'EnvironmentSatisfaction', 'Gender', 'JobLevel', 'Job+Role',\n",
       "       'JobSatisfaction', 'MaritalStatus', 'MonthlyIncome($)',\n",
       "       'NumCompaniesWorked#', 'OverTime', 'PercentSalaryHike',\n",
       "       'PerformanceRating', 'StockOptionLevel', 'TotalWorkingYears',\n",
       "       'TrainingTimesLastYear', 'WorkLifeBalance', 'YearsAtCompany',\n",
       "       'YearsInCurrentRole', 'YearsSinceLastPromotion',\n",
       "       'YearsWithCurrManager'],\n",
       "      dtype='object')"
      ]
     },
     "execution_count": 107,
     "metadata": {},
     "output_type": "execute_result"
    }
   ],
   "source": [
    "data.columns"
   ]
  },
  {
   "cell_type": "code",
   "execution_count": 108,
   "metadata": {},
   "outputs": [
    {
     "name": "stdout",
     "output_type": "stream",
     "text": [
      "<class 'pandas.core.frame.DataFrame'>\n",
      "RangeIndex: 2418 entries, 0 to 2417\n",
      "Data columns (total 27 columns):\n",
      " #   Column                   Non-Null Count  Dtype  \n",
      "---  ------                   --------------  -----  \n",
      " 0   Age                      2418 non-null   int64  \n",
      " 1   Attrition                2418 non-null   object \n",
      " 2   BusinessTravel           2418 non-null   object \n",
      " 3   DailyRate($)             2418 non-null   int64  \n",
      " 4   Department               2418 non-null   object \n",
      " 5   DistanceFromHome         2418 non-null   int64  \n",
      " 6   Education                2418 non-null   int64  \n",
      " 7   EducationField           2418 non-null   object \n",
      " 8   EnvironmentSatisfaction  2418 non-null   int64  \n",
      " 9   Gender                   2418 non-null   object \n",
      " 10  JobLevel                 2418 non-null   int64  \n",
      " 11  Job+Role                 2418 non-null   object \n",
      " 12  JobSatisfaction          2418 non-null   int64  \n",
      " 13  MaritalStatus            2418 non-null   object \n",
      " 14  MonthlyIncome($)         2418 non-null   int64  \n",
      " 15  NumCompaniesWorked#      2398 non-null   float64\n",
      " 16  OverTime                 2418 non-null   object \n",
      " 17  PercentSalaryHike        2418 non-null   int64  \n",
      " 18  PerformanceRating        2418 non-null   int64  \n",
      " 19  StockOptionLevel         2392 non-null   float64\n",
      " 20  TotalWorkingYears        2417 non-null   float64\n",
      " 21  TrainingTimesLastYear    2416 non-null   float64\n",
      " 22  WorkLifeBalance          2418 non-null   int64  \n",
      " 23  YearsAtCompany           2416 non-null   float64\n",
      " 24  YearsInCurrentRole       2410 non-null   float64\n",
      " 25  YearsSinceLastPromotion  2406 non-null   float64\n",
      " 26  YearsWithCurrManager     2415 non-null   float64\n",
      "dtypes: float64(8), int64(11), object(8)\n",
      "memory usage: 510.2+ KB\n"
     ]
    }
   ],
   "source": [
    "data.info()"
   ]
  },
  {
   "cell_type": "code",
   "execution_count": 109,
   "metadata": {},
   "outputs": [
    {
     "data": {
      "text/plain": [
       "<AxesSubplot:xlabel='Age', ylabel='NumCompaniesWorked#'>"
      ]
     },
     "execution_count": 109,
     "metadata": {},
     "output_type": "execute_result"
    },
    {
     "data": {
      "image/png": "[encoded data removed]",
      "text/plain": [
       "<Figure size 432x288 with 1 Axes>"
      ]
     },
     "metadata": {
      "needs_background": "light"
     },
     "output_type": "display_data"
    }
   ],
   "source": [
    "sns.scatterplot(data=data, x=\"Age\", y=\"NumCompaniesWorked#\")"
   ]
  },
  {
   "cell_type": "code",
   "execution_count": 110,
   "metadata": {},
   "outputs": [
    {
     "data": {
      "text/html": [
       "<div>\n",
       "<style scoped>\n",
       "    .dataframe tbody tr th:only-of-type {\n",
       "        vertical-align: middle;\n",
       "    }\n",
       "\n",
       "    .dataframe tbody tr th {\n",
       "        vertical-align: top;\n",
       "    }\n",
       "\n",
       "    .dataframe thead th {\n",
       "        text-align: right;\n",
       "    }\n",
       "</style>\n",
       "<table border=\"1\" class=\"dataframe\">\n",
       "  <thead>\n",
       "    <tr style=\"text-align: right;\">\n",
       "      <th></th>\n",
       "      <th>Age</th>\n",
       "      <th>DailyRate($)</th>\n",
       "      <th>DistanceFromHome</th>\n",
       "      <th>Education</th>\n",
       "      <th>EnvironmentSatisfaction</th>\n",
       "      <th>JobLevel</th>\n",
       "      <th>JobSatisfaction</th>\n",
       "      <th>MonthlyIncome($)</th>\n",
       "      <th>NumCompaniesWorked#</th>\n",
       "      <th>PercentSalaryHike</th>\n",
       "      <th>PerformanceRating</th>\n",
       "      <th>StockOptionLevel</th>\n",
       "      <th>TotalWorkingYears</th>\n",
       "      <th>TrainingTimesLastYear</th>\n",
       "      <th>WorkLifeBalance</th>\n",
       "      <th>YearsAtCompany</th>\n",
       "      <th>YearsInCurrentRole</th>\n",
       "      <th>YearsSinceLastPromotion</th>\n",
       "      <th>YearsWithCurrManager</th>\n",
       "    </tr>\n",
       "  </thead>\n",
       "  <tbody>\n",
       "    <tr>\n",
       "      <th>Age</th>\n",
       "      <td>1.000000</td>\n",
       "      <td>0.003999</td>\n",
       "      <td>0.026586</td>\n",
       "      <td>0.100449</td>\n",
       "      <td>-0.020186</td>\n",
       "      <td>0.273662</td>\n",
       "      <td>-0.017906</td>\n",
       "      <td>0.252252</td>\n",
       "      <td>0.161505</td>\n",
       "      <td>0.027612</td>\n",
       "      <td>0.035209</td>\n",
       "      <td>0.031575</td>\n",
       "      <td>0.321211</td>\n",
       "      <td>-0.009523</td>\n",
       "      <td>-0.012633</td>\n",
       "      <td>0.134480</td>\n",
       "      <td>0.098930</td>\n",
       "      <td>0.163758</td>\n",
       "      <td>0.102097</td>\n",
       "    </tr>\n",
       "    <tr>\n",
       "      <th>DailyRate($)</th>\n",
       "      <td>0.003999</td>\n",
       "      <td>1.000000</td>\n",
       "      <td>-0.019009</td>\n",
       "      <td>-0.017449</td>\n",
       "      <td>-0.003279</td>\n",
       "      <td>0.001778</td>\n",
       "      <td>0.041983</td>\n",
       "      <td>-0.019822</td>\n",
       "      <td>0.009523</td>\n",
       "      <td>0.024086</td>\n",
       "      <td>0.022696</td>\n",
       "      <td>0.012421</td>\n",
       "      <td>0.004500</td>\n",
       "      <td>0.000404</td>\n",
       "      <td>-0.032699</td>\n",
       "      <td>0.008842</td>\n",
       "      <td>-0.025357</td>\n",
       "      <td>-0.022542</td>\n",
       "      <td>-0.031149</td>\n",
       "    </tr>\n",
       "    <tr>\n",
       "      <th>DistanceFromHome</th>\n",
       "      <td>0.026586</td>\n",
       "      <td>-0.019009</td>\n",
       "      <td>1.000000</td>\n",
       "      <td>0.009531</td>\n",
       "      <td>-0.040651</td>\n",
       "      <td>0.101678</td>\n",
       "      <td>-0.073271</td>\n",
       "      <td>0.116044</td>\n",
       "      <td>0.107807</td>\n",
       "      <td>0.136777</td>\n",
       "      <td>0.124437</td>\n",
       "      <td>0.135599</td>\n",
       "      <td>0.150133</td>\n",
       "      <td>0.001234</td>\n",
       "      <td>-0.062584</td>\n",
       "      <td>0.192005</td>\n",
       "      <td>0.149418</td>\n",
       "      <td>0.205382</td>\n",
       "      <td>0.191565</td>\n",
       "    </tr>\n",
       "    <tr>\n",
       "      <th>Education</th>\n",
       "      <td>0.100449</td>\n",
       "      <td>-0.017449</td>\n",
       "      <td>0.009531</td>\n",
       "      <td>1.000000</td>\n",
       "      <td>-0.007725</td>\n",
       "      <td>0.075015</td>\n",
       "      <td>-0.015471</td>\n",
       "      <td>0.048620</td>\n",
       "      <td>0.053461</td>\n",
       "      <td>0.000805</td>\n",
       "      <td>0.015904</td>\n",
       "      <td>0.025894</td>\n",
       "      <td>0.068291</td>\n",
       "      <td>-0.004056</td>\n",
       "      <td>0.054530</td>\n",
       "      <td>0.012958</td>\n",
       "      <td>0.053422</td>\n",
       "      <td>0.045881</td>\n",
       "      <td>0.043958</td>\n",
       "    </tr>\n",
       "    <tr>\n",
       "      <th>EnvironmentSatisfaction</th>\n",
       "      <td>-0.020186</td>\n",
       "      <td>-0.003279</td>\n",
       "      <td>-0.040651</td>\n",
       "      <td>-0.007725</td>\n",
       "      <td>1.000000</td>\n",
       "      <td>-0.040879</td>\n",
       "      <td>-0.005878</td>\n",
       "      <td>-0.049024</td>\n",
       "      <td>-0.045212</td>\n",
       "      <td>-0.051349</td>\n",
       "      <td>-0.071090</td>\n",
       "      <td>-0.037209</td>\n",
       "      <td>-0.056238</td>\n",
       "      <td>-0.020954</td>\n",
       "      <td>0.018863</td>\n",
       "      <td>-0.091476</td>\n",
       "      <td>-0.027966</td>\n",
       "      <td>-0.062970</td>\n",
       "      <td>-0.050274</td>\n",
       "    </tr>\n",
       "    <tr>\n",
       "      <th>JobLevel</th>\n",
       "      <td>0.273662</td>\n",
       "      <td>0.001778</td>\n",
       "      <td>0.101678</td>\n",
       "      <td>0.075015</td>\n",
       "      <td>-0.040879</td>\n",
       "      <td>1.000000</td>\n",
       "      <td>-0.029845</td>\n",
       "      <td>0.558361</td>\n",
       "      <td>0.171020</td>\n",
       "      <td>0.090452</td>\n",
       "      <td>0.135390</td>\n",
       "      <td>0.120268</td>\n",
       "      <td>0.430301</td>\n",
       "      <td>0.035397</td>\n",
       "      <td>-0.017646</td>\n",
       "      <td>0.357874</td>\n",
       "      <td>0.340597</td>\n",
       "      <td>0.321795</td>\n",
       "      <td>0.284996</td>\n",
       "    </tr>\n",
       "    <tr>\n",
       "      <th>JobSatisfaction</th>\n",
       "      <td>-0.017906</td>\n",
       "      <td>0.041983</td>\n",
       "      <td>-0.073271</td>\n",
       "      <td>-0.015471</td>\n",
       "      <td>-0.005878</td>\n",
       "      <td>-0.029845</td>\n",
       "      <td>1.000000</td>\n",
       "      <td>-0.037545</td>\n",
       "      <td>-0.084509</td>\n",
       "      <td>-0.023988</td>\n",
       "      <td>-0.038074</td>\n",
       "      <td>-0.042566</td>\n",
       "      <td>-0.053368</td>\n",
       "      <td>-0.008192</td>\n",
       "      <td>-0.022932</td>\n",
       "      <td>-0.073682</td>\n",
       "      <td>-0.066293</td>\n",
       "      <td>-0.084766</td>\n",
       "      <td>-0.046241</td>\n",
       "    </tr>\n",
       "    <tr>\n",
       "      <th>MonthlyIncome($)</th>\n",
       "      <td>0.252252</td>\n",
       "      <td>-0.019822</td>\n",
       "      <td>0.116044</td>\n",
       "      <td>0.048620</td>\n",
       "      <td>-0.049024</td>\n",
       "      <td>0.558361</td>\n",
       "      <td>-0.037545</td>\n",
       "      <td>1.000000</td>\n",
       "      <td>0.196312</td>\n",
       "      <td>0.124770</td>\n",
       "      <td>0.151449</td>\n",
       "      <td>0.133658</td>\n",
       "      <td>0.477945</td>\n",
       "      <td>0.025348</td>\n",
       "      <td>-0.008293</td>\n",
       "      <td>0.346322</td>\n",
       "      <td>0.299813</td>\n",
       "      <td>0.329694</td>\n",
       "      <td>0.317804</td>\n",
       "    </tr>\n",
       "    <tr>\n",
       "      <th>NumCompaniesWorked#</th>\n",
       "      <td>0.161505</td>\n",
       "      <td>0.009523</td>\n",
       "      <td>0.107807</td>\n",
       "      <td>0.053461</td>\n",
       "      <td>-0.045212</td>\n",
       "      <td>0.171020</td>\n",
       "      <td>-0.084509</td>\n",
       "      <td>0.196312</td>\n",
       "      <td>1.000000</td>\n",
       "      <td>0.089671</td>\n",
       "      <td>0.144660</td>\n",
       "      <td>0.084682</td>\n",
       "      <td>0.233665</td>\n",
       "      <td>-0.020491</td>\n",
       "      <td>0.004922</td>\n",
       "      <td>0.144834</td>\n",
       "      <td>0.117897</td>\n",
       "      <td>0.187923</td>\n",
       "      <td>0.088534</td>\n",
       "    </tr>\n",
       "    <tr>\n",
       "      <th>PercentSalaryHike</th>\n",
       "      <td>0.027612</td>\n",
       "      <td>0.024086</td>\n",
       "      <td>0.136777</td>\n",
       "      <td>0.000805</td>\n",
       "      <td>-0.051349</td>\n",
       "      <td>0.090452</td>\n",
       "      <td>-0.023988</td>\n",
       "      <td>0.124770</td>\n",
       "      <td>0.089671</td>\n",
       "      <td>1.000000</td>\n",
       "      <td>0.450837</td>\n",
       "      <td>0.098722</td>\n",
       "      <td>0.113267</td>\n",
       "      <td>-0.013894</td>\n",
       "      <td>-0.064227</td>\n",
       "      <td>0.166207</td>\n",
       "      <td>0.172493</td>\n",
       "      <td>0.159940</td>\n",
       "      <td>0.168858</td>\n",
       "    </tr>\n",
       "    <tr>\n",
       "      <th>PerformanceRating</th>\n",
       "      <td>0.035209</td>\n",
       "      <td>0.022696</td>\n",
       "      <td>0.124437</td>\n",
       "      <td>0.015904</td>\n",
       "      <td>-0.071090</td>\n",
       "      <td>0.135390</td>\n",
       "      <td>-0.038074</td>\n",
       "      <td>0.151449</td>\n",
       "      <td>0.144660</td>\n",
       "      <td>0.450837</td>\n",
       "      <td>1.000000</td>\n",
       "      <td>0.135963</td>\n",
       "      <td>0.175274</td>\n",
       "      <td>0.025623</td>\n",
       "      <td>-0.013162</td>\n",
       "      <td>0.200709</td>\n",
       "      <td>0.192492</td>\n",
       "      <td>0.215455</td>\n",
       "      <td>0.167926</td>\n",
       "    </tr>\n",
       "    <tr>\n",
       "      <th>StockOptionLevel</th>\n",
       "      <td>0.031575</td>\n",
       "      <td>0.012421</td>\n",
       "      <td>0.135599</td>\n",
       "      <td>0.025894</td>\n",
       "      <td>-0.037209</td>\n",
       "      <td>0.120268</td>\n",
       "      <td>-0.042566</td>\n",
       "      <td>0.133658</td>\n",
       "      <td>0.084682</td>\n",
       "      <td>0.098722</td>\n",
       "      <td>0.135963</td>\n",
       "      <td>1.000000</td>\n",
       "      <td>0.135109</td>\n",
       "      <td>0.027644</td>\n",
       "      <td>-0.020544</td>\n",
       "      <td>0.176906</td>\n",
       "      <td>0.155934</td>\n",
       "      <td>0.181959</td>\n",
       "      <td>0.164056</td>\n",
       "    </tr>\n",
       "    <tr>\n",
       "      <th>TotalWorkingYears</th>\n",
       "      <td>0.321211</td>\n",
       "      <td>0.004500</td>\n",
       "      <td>0.150133</td>\n",
       "      <td>0.068291</td>\n",
       "      <td>-0.056238</td>\n",
       "      <td>0.430301</td>\n",
       "      <td>-0.053368</td>\n",
       "      <td>0.477945</td>\n",
       "      <td>0.233665</td>\n",
       "      <td>0.113267</td>\n",
       "      <td>0.175274</td>\n",
       "      <td>0.135109</td>\n",
       "      <td>1.000000</td>\n",
       "      <td>-0.007286</td>\n",
       "      <td>-0.046291</td>\n",
       "      <td>0.385073</td>\n",
       "      <td>0.317479</td>\n",
       "      <td>0.364426</td>\n",
       "      <td>0.343980</td>\n",
       "    </tr>\n",
       "    <tr>\n",
       "      <th>TrainingTimesLastYear</th>\n",
       "      <td>-0.009523</td>\n",
       "      <td>0.000404</td>\n",
       "      <td>0.001234</td>\n",
       "      <td>-0.004056</td>\n",
       "      <td>-0.020954</td>\n",
       "      <td>0.035397</td>\n",
       "      <td>-0.008192</td>\n",
       "      <td>0.025348</td>\n",
       "      <td>-0.020491</td>\n",
       "      <td>-0.013894</td>\n",
       "      <td>0.025623</td>\n",
       "      <td>0.027644</td>\n",
       "      <td>-0.007286</td>\n",
       "      <td>1.000000</td>\n",
       "      <td>-0.016038</td>\n",
       "      <td>0.041043</td>\n",
       "      <td>0.021138</td>\n",
       "      <td>0.034668</td>\n",
       "      <td>0.019765</td>\n",
       "    </tr>\n",
       "    <tr>\n",
       "      <th>WorkLifeBalance</th>\n",
       "      <td>-0.012633</td>\n",
       "      <td>-0.032699</td>\n",
       "      <td>-0.062584</td>\n",
       "      <td>0.054530</td>\n",
       "      <td>0.018863</td>\n",
       "      <td>-0.017646</td>\n",
       "      <td>-0.022932</td>\n",
       "      <td>-0.008293</td>\n",
       "      <td>0.004922</td>\n",
       "      <td>-0.064227</td>\n",
       "      <td>-0.013162</td>\n",
       "      <td>-0.020544</td>\n",
       "      <td>-0.046291</td>\n",
       "      <td>-0.016038</td>\n",
       "      <td>1.000000</td>\n",
       "      <td>-0.077383</td>\n",
       "      <td>-0.024046</td>\n",
       "      <td>-0.057451</td>\n",
       "      <td>-0.046254</td>\n",
       "    </tr>\n",
       "    <tr>\n",
       "      <th>YearsAtCompany</th>\n",
       "      <td>0.134480</td>\n",
       "      <td>0.008842</td>\n",
       "      <td>0.192005</td>\n",
       "      <td>0.012958</td>\n",
       "      <td>-0.091476</td>\n",
       "      <td>0.357874</td>\n",
       "      <td>-0.073682</td>\n",
       "      <td>0.346322</td>\n",
       "      <td>0.144834</td>\n",
       "      <td>0.166207</td>\n",
       "      <td>0.200709</td>\n",
       "      <td>0.176906</td>\n",
       "      <td>0.385073</td>\n",
       "      <td>0.041043</td>\n",
       "      <td>-0.077383</td>\n",
       "      <td>1.000000</td>\n",
       "      <td>0.455212</td>\n",
       "      <td>0.450339</td>\n",
       "      <td>0.449087</td>\n",
       "    </tr>\n",
       "    <tr>\n",
       "      <th>YearsInCurrentRole</th>\n",
       "      <td>0.098930</td>\n",
       "      <td>-0.025357</td>\n",
       "      <td>0.149418</td>\n",
       "      <td>0.053422</td>\n",
       "      <td>-0.027966</td>\n",
       "      <td>0.340597</td>\n",
       "      <td>-0.066293</td>\n",
       "      <td>0.299813</td>\n",
       "      <td>0.117897</td>\n",
       "      <td>0.172493</td>\n",
       "      <td>0.192492</td>\n",
       "      <td>0.155934</td>\n",
       "      <td>0.317479</td>\n",
       "      <td>0.021138</td>\n",
       "      <td>-0.024046</td>\n",
       "      <td>0.455212</td>\n",
       "      <td>1.000000</td>\n",
       "      <td>0.428165</td>\n",
       "      <td>0.448684</td>\n",
       "    </tr>\n",
       "    <tr>\n",
       "      <th>YearsSinceLastPromotion</th>\n",
       "      <td>0.163758</td>\n",
       "      <td>-0.022542</td>\n",
       "      <td>0.205382</td>\n",
       "      <td>0.045881</td>\n",
       "      <td>-0.062970</td>\n",
       "      <td>0.321795</td>\n",
       "      <td>-0.084766</td>\n",
       "      <td>0.329694</td>\n",
       "      <td>0.187923</td>\n",
       "      <td>0.159940</td>\n",
       "      <td>0.215455</td>\n",
       "      <td>0.181959</td>\n",
       "      <td>0.364426</td>\n",
       "      <td>0.034668</td>\n",
       "      <td>-0.057451</td>\n",
       "      <td>0.450339</td>\n",
       "      <td>0.428165</td>\n",
       "      <td>1.000000</td>\n",
       "      <td>0.448582</td>\n",
       "    </tr>\n",
       "    <tr>\n",
       "      <th>YearsWithCurrManager</th>\n",
       "      <td>0.102097</td>\n",
       "      <td>-0.031149</td>\n",
       "      <td>0.191565</td>\n",
       "      <td>0.043958</td>\n",
       "      <td>-0.050274</td>\n",
       "      <td>0.284996</td>\n",
       "      <td>-0.046241</td>\n",
       "      <td>0.317804</td>\n",
       "      <td>0.088534</td>\n",
       "      <td>0.168858</td>\n",
       "      <td>0.167926</td>\n",
       "      <td>0.164056</td>\n",
       "      <td>0.343980</td>\n",
       "      <td>0.019765</td>\n",
       "      <td>-0.046254</td>\n",
       "      <td>0.449087</td>\n",
       "      <td>0.448684</td>\n",
       "      <td>0.448582</td>\n",
       "      <td>1.000000</td>\n",
       "    </tr>\n",
       "  </tbody>\n",
       "</table>\n",
       "</div>"
      ],
      "text/plain": [
       "                              Age  DailyRate($)  DistanceFromHome  Education  \\\n",
       "Age                      1.000000      0.003999          0.026586   0.100449   \n",
       "DailyRate($)             0.003999      1.000000         -0.019009  -0.017449   \n",
       "DistanceFromHome         0.026586     -0.019009          1.000000   0.009531   \n",
       "Education                0.100449     -0.017449          0.009531   1.000000   \n",
       "EnvironmentSatisfaction -0.020186     -0.003279         -0.040651  -0.007725   \n",
       "JobLevel                 0.273662      0.001778          0.101678   0.075015   \n",
       "JobSatisfaction         -0.017906      0.041983         -0.073271  -0.015471   \n",
       "MonthlyIncome($)         0.252252     -0.019822          0.116044   0.048620   \n",
       "NumCompaniesWorked#      0.161505      0.009523          0.107807   0.053461   \n",
       "PercentSalaryHike        0.027612      0.024086          0.136777   0.000805   \n",
       "PerformanceRating        0.035209      0.022696          0.124437   0.015904   \n",
       "StockOptionLevel         0.031575      0.012421          0.135599   0.025894   \n",
       "TotalWorkingYears        0.321211      0.004500          0.150133   0.068291   \n",
       "TrainingTimesLastYear   -0.009523      0.000404          0.001234  -0.004056   \n",
       "WorkLifeBalance         -0.012633     -0.032699         -0.062584   0.054530   \n",
       "YearsAtCompany           0.134480      0.008842          0.192005   0.012958   \n",
       "YearsInCurrentRole       0.098930     -0.025357          0.149418   0.053422   \n",
       "YearsSinceLastPromotion  0.163758     -0.022542          0.205382   0.045881   \n",
       "YearsWithCurrManager     0.102097     -0.031149          0.191565   0.043958   \n",
       "\n",
       "                         EnvironmentSatisfaction  JobLevel  JobSatisfaction  \\\n",
       "Age                                    -0.020186  0.273662        -0.017906   \n",
       "DailyRate($)                           -0.003279  0.001778         0.041983   \n",
       "DistanceFromHome                       -0.040651  0.101678        -0.073271   \n",
       "Education                              -0.007725  0.075015        -0.015471   \n",
       "EnvironmentSatisfaction                 1.000000 -0.040879        -0.005878   \n",
       "JobLevel                               -0.040879  1.000000        -0.029845   \n",
       "JobSatisfaction                        -0.005878 -0.029845         1.000000   \n",
       "MonthlyIncome($)                       -0.049024  0.558361        -0.037545   \n",
       "NumCompaniesWorked#                    -0.045212  0.171020        -0.084509   \n",
       "PercentSalaryHike                      -0.051349  0.090452        -0.023988   \n",
       "PerformanceRating                      -0.071090  0.135390        -0.038074   \n",
       "StockOptionLevel                       -0.037209  0.120268        -0.042566   \n",
       "TotalWorkingYears                      -0.056238  0.430301        -0.053368   \n",
       "TrainingTimesLastYear                  -0.020954  0.035397        -0.008192   \n",
       "WorkLifeBalance                         0.018863 -0.017646        -0.022932   \n",
       "YearsAtCompany                         -0.091476  0.357874        -0.073682   \n",
       "YearsInCurrentRole                     -0.027966  0.340597        -0.066293   \n",
       "YearsSinceLastPromotion                -0.062970  0.321795        -0.084766   \n",
       "YearsWithCurrManager                   -0.050274  0.284996        -0.046241   \n",
       "\n",
       "                         MonthlyIncome($)  NumCompaniesWorked#  \\\n",
       "Age                              0.252252             0.161505   \n",
       "DailyRate($)                    -0.019822             0.009523   \n",
       "DistanceFromHome                 0.116044             0.107807   \n",
       "Education                        0.048620             0.053461   \n",
       "EnvironmentSatisfaction         -0.049024            -0.045212   \n",
       "JobLevel                         0.558361             0.171020   \n",
       "JobSatisfaction                 -0.037545            -0.084509   \n",
       "MonthlyIncome($)                 1.000000             0.196312   \n",
       "NumCompaniesWorked#              0.196312             1.000000   \n",
       "PercentSalaryHike                0.124770             0.089671   \n",
       "PerformanceRating                0.151449             0.144660   \n",
       "StockOptionLevel                 0.133658             0.084682   \n",
       "TotalWorkingYears                0.477945             0.233665   \n",
       "TrainingTimesLastYear            0.025348            -0.020491   \n",
       "WorkLifeBalance                 -0.008293             0.004922   \n",
       "YearsAtCompany                   0.346322             0.144834   \n",
       "YearsInCurrentRole               0.299813             0.117897   \n",
       "YearsSinceLastPromotion          0.329694             0.187923   \n",
       "YearsWithCurrManager             0.317804             0.088534   \n",
       "\n",
       "                         PercentSalaryHike  PerformanceRating  \\\n",
       "Age                               0.027612           0.035209   \n",
       "DailyRate($)                      0.024086           0.022696   \n",
       "DistanceFromHome                  0.136777           0.124437   \n",
       "Education                         0.000805           0.015904   \n",
       "EnvironmentSatisfaction          -0.051349          -0.071090   \n",
       "JobLevel                          0.090452           0.135390   \n",
       "JobSatisfaction                  -0.023988          -0.038074   \n",
       "MonthlyIncome($)                  0.124770           0.151449   \n",
       "NumCompaniesWorked#               0.089671           0.144660   \n",
       "PercentSalaryHike                 1.000000           0.450837   \n",
       "PerformanceRating                 0.450837           1.000000   \n",
       "StockOptionLevel                  0.098722           0.135963   \n",
       "TotalWorkingYears                 0.113267           0.175274   \n",
       "TrainingTimesLastYear            -0.013894           0.025623   \n",
       "WorkLifeBalance                  -0.064227          -0.013162   \n",
       "YearsAtCompany                    0.166207           0.200709   \n",
       "YearsInCurrentRole                0.172493           0.192492   \n",
       "YearsSinceLastPromotion           0.159940           0.215455   \n",
       "YearsWithCurrManager              0.168858           0.167926   \n",
       "\n",
       "                         StockOptionLevel  TotalWorkingYears  \\\n",
       "Age                              0.031575           0.321211   \n",
       "DailyRate($)                     0.012421           0.004500   \n",
       "DistanceFromHome                 0.135599           0.150133   \n",
       "Education                        0.025894           0.068291   \n",
       "EnvironmentSatisfaction         -0.037209          -0.056238   \n",
       "JobLevel                         0.120268           0.430301   \n",
       "JobSatisfaction                 -0.042566          -0.053368   \n",
       "MonthlyIncome($)                 0.133658           0.477945   \n",
       "NumCompaniesWorked#              0.084682           0.233665   \n",
       "PercentSalaryHike                0.098722           0.113267   \n",
       "PerformanceRating                0.135963           0.175274   \n",
       "StockOptionLevel                 1.000000           0.135109   \n",
       "TotalWorkingYears                0.135109           1.000000   \n",
       "TrainingTimesLastYear            0.027644          -0.007286   \n",
       "WorkLifeBalance                 -0.020544          -0.046291   \n",
       "YearsAtCompany                   0.176906           0.385073   \n",
       "YearsInCurrentRole               0.155934           0.317479   \n",
       "YearsSinceLastPromotion          0.181959           0.364426   \n",
       "YearsWithCurrManager             0.164056           0.343980   \n",
       "\n",
       "                         TrainingTimesLastYear  WorkLifeBalance  \\\n",
       "Age                                  -0.009523        -0.012633   \n",
       "DailyRate($)                          0.000404        -0.032699   \n",
       "DistanceFromHome                      0.001234        -0.062584   \n",
       "Education                            -0.004056         0.054530   \n",
       "EnvironmentSatisfaction              -0.020954         0.018863   \n",
       "JobLevel                              0.035397        -0.017646   \n",
       "JobSatisfaction                      -0.008192        -0.022932   \n",
       "MonthlyIncome($)                      0.025348        -0.008293   \n",
       "NumCompaniesWorked#                  -0.020491         0.004922   \n",
       "PercentSalaryHike                    -0.013894        -0.064227   \n",
       "PerformanceRating                     0.025623        -0.013162   \n",
       "StockOptionLevel                      0.027644        -0.020544   \n",
       "TotalWorkingYears                    -0.007286        -0.046291   \n",
       "TrainingTimesLastYear                 1.000000        -0.016038   \n",
       "WorkLifeBalance                      -0.016038         1.000000   \n",
       "YearsAtCompany                        0.041043        -0.077383   \n",
       "YearsInCurrentRole                    0.021138        -0.024046   \n",
       "YearsSinceLastPromotion               0.034668        -0.057451   \n",
       "YearsWithCurrManager                  0.019765        -0.046254   \n",
       "\n",
       "                         YearsAtCompany  YearsInCurrentRole  \\\n",
       "Age                            0.134480            0.098930   \n",
       "DailyRate($)                   0.008842           -0.025357   \n",
       "DistanceFromHome               0.192005            0.149418   \n",
       "Education                      0.012958            0.053422   \n",
       "EnvironmentSatisfaction       -0.091476           -0.027966   \n",
       "JobLevel                       0.357874            0.340597   \n",
       "JobSatisfaction               -0.073682           -0.066293   \n",
       "MonthlyIncome($)               0.346322            0.299813   \n",
       "NumCompaniesWorked#            0.144834            0.117897   \n",
       "PercentSalaryHike              0.166207            0.172493   \n",
       "PerformanceRating              0.200709            0.192492   \n",
       "StockOptionLevel               0.176906            0.155934   \n",
       "TotalWorkingYears              0.385073            0.317479   \n",
       "TrainingTimesLastYear          0.041043            0.021138   \n",
       "WorkLifeBalance               -0.077383           -0.024046   \n",
       "YearsAtCompany                 1.000000            0.455212   \n",
       "YearsInCurrentRole             0.455212            1.000000   \n",
       "YearsSinceLastPromotion        0.450339            0.428165   \n",
       "YearsWithCurrManager           0.449087            0.448684   \n",
       "\n",
       "                         YearsSinceLastPromotion  YearsWithCurrManager  \n",
       "Age                                     0.163758              0.102097  \n",
       "DailyRate($)                           -0.022542             -0.031149  \n",
       "DistanceFromHome                        0.205382              0.191565  \n",
       "Education                               0.045881              0.043958  \n",
       "EnvironmentSatisfaction                -0.062970             -0.050274  \n",
       "JobLevel                                0.321795              0.284996  \n",
       "JobSatisfaction                        -0.084766             -0.046241  \n",
       "MonthlyIncome($)                        0.329694              0.317804  \n",
       "NumCompaniesWorked#                     0.187923              0.088534  \n",
       "PercentSalaryHike                       0.159940              0.168858  \n",
       "PerformanceRating                       0.215455              0.167926  \n",
       "StockOptionLevel                        0.181959              0.164056  \n",
       "TotalWorkingYears                       0.364426              0.343980  \n",
       "TrainingTimesLastYear                   0.034668              0.019765  \n",
       "WorkLifeBalance                        -0.057451             -0.046254  \n",
       "YearsAtCompany                          0.450339              0.449087  \n",
       "YearsInCurrentRole                      0.428165              0.448684  \n",
       "YearsSinceLastPromotion                 1.000000              0.448582  \n",
       "YearsWithCurrManager                    0.448582              1.000000  "
      ]
     },
     "execution_count": 110,
     "metadata": {},
     "output_type": "execute_result"
    }
   ],
   "source": [
    "data.corr()"
   ]
  },
  {
   "cell_type": "markdown",
   "metadata": {},
   "source": [
    "Doesn't look there's a pattern to the number of companies worked and age, so let's just impute the mean"
   ]
  },
  {
   "cell_type": "code",
   "execution_count": 111,
   "metadata": {},
   "outputs": [],
   "source": [
    "data[\"NumCompaniesWorked#\"] = data[\"NumCompaniesWorked#\"].fillna(data[\"NumCompaniesWorked#\"].mean())"
   ]
  },
  {
   "cell_type": "code",
   "execution_count": 112,
   "metadata": {},
   "outputs": [
    {
     "data": {
      "text/plain": [
       "Age                         0\n",
       "Attrition                   0\n",
       "BusinessTravel              0\n",
       "DailyRate($)                0\n",
       "Department                  0\n",
       "DistanceFromHome            0\n",
       "Education                   0\n",
       "EducationField              0\n",
       "EnvironmentSatisfaction     0\n",
       "Gender                      0\n",
       "JobLevel                    0\n",
       "Job+Role                    0\n",
       "JobSatisfaction             0\n",
       "MaritalStatus               0\n",
       "MonthlyIncome($)            0\n",
       "NumCompaniesWorked#         0\n",
       "OverTime                    0\n",
       "PercentSalaryHike           0\n",
       "PerformanceRating           0\n",
       "StockOptionLevel           26\n",
       "TotalWorkingYears           1\n",
       "TrainingTimesLastYear       2\n",
       "WorkLifeBalance             0\n",
       "YearsAtCompany              2\n",
       "YearsInCurrentRole          8\n",
       "YearsSinceLastPromotion    12\n",
       "YearsWithCurrManager        3\n",
       "dtype: int64"
      ]
     },
     "execution_count": 112,
     "metadata": {},
     "output_type": "execute_result"
    }
   ],
   "source": [
    "data.isna().sum()"
   ]
  },
  {
   "cell_type": "code",
   "execution_count": 113,
   "metadata": {},
   "outputs": [
    {
     "data": {
      "text/plain": [
       "Age                         0\n",
       "Attrition                   0\n",
       "BusinessTravel              0\n",
       "DailyRate($)                0\n",
       "Department                  0\n",
       "DistanceFromHome            0\n",
       "Education                   0\n",
       "EducationField              0\n",
       "EnvironmentSatisfaction     0\n",
       "Gender                      0\n",
       "JobLevel                    0\n",
       "Job+Role                    0\n",
       "JobSatisfaction             0\n",
       "MaritalStatus               0\n",
       "MonthlyIncome($)            0\n",
       "NumCompaniesWorked#         0\n",
       "OverTime                    0\n",
       "PercentSalaryHike           0\n",
       "PerformanceRating           0\n",
       "StockOptionLevel           26\n",
       "TotalWorkingYears           1\n",
       "TrainingTimesLastYear       2\n",
       "WorkLifeBalance             0\n",
       "YearsAtCompany              2\n",
       "YearsInCurrentRole          8\n",
       "YearsSinceLastPromotion    12\n",
       "YearsWithCurrManager        3\n",
       "dtype: int64"
      ]
     },
     "execution_count": 113,
     "metadata": {},
     "output_type": "execute_result"
    }
   ],
   "source": [
    "data.isna().sum()"
   ]
  },
  {
   "cell_type": "code",
   "execution_count": 114,
   "metadata": {},
   "outputs": [
    {
     "data": {
      "text/html": [
       "<div>\n",
       "<style scoped>\n",
       "    .dataframe tbody tr th:only-of-type {\n",
       "        vertical-align: middle;\n",
       "    }\n",
       "\n",
       "    .dataframe tbody tr th {\n",
       "        vertical-align: top;\n",
       "    }\n",
       "\n",
       "    .dataframe thead th {\n",
       "        text-align: right;\n",
       "    }\n",
       "</style>\n",
       "<table border=\"1\" class=\"dataframe\">\n",
       "  <thead>\n",
       "    <tr style=\"text-align: right;\">\n",
       "      <th>JobLevel</th>\n",
       "      <th>1</th>\n",
       "      <th>2</th>\n",
       "      <th>3</th>\n",
       "      <th>4</th>\n",
       "      <th>5</th>\n",
       "    </tr>\n",
       "  </thead>\n",
       "  <tbody>\n",
       "    <tr>\n",
       "      <th>TrainingTimesLastYear</th>\n",
       "      <td>2.855601</td>\n",
       "      <td>2.808123</td>\n",
       "      <td>2.84466</td>\n",
       "      <td>3.029412</td>\n",
       "      <td>2.987654</td>\n",
       "    </tr>\n",
       "  </tbody>\n",
       "</table>\n",
       "</div>"
      ],
      "text/plain": [
       "JobLevel                      1         2        3         4         5\n",
       "TrainingTimesLastYear  2.855601  2.808123  2.84466  3.029412  2.987654"
      ]
     },
     "execution_count": 114,
     "metadata": {},
     "output_type": "execute_result"
    }
   ],
   "source": [
    "pd.pivot_table(data, values=['TrainingTimesLastYear'],columns=['JobLevel'], aggfunc=np.mean)"
   ]
  },
  {
   "cell_type": "code",
   "execution_count": 115,
   "metadata": {},
   "outputs": [],
   "source": [
    "#Lets just remove na's from training times last year as it does not seem to be highly correlated with any other variables nor different by job level\n",
    "data = data.dropna(subset=\"TrainingTimesLastYear\")"
   ]
  },
  {
   "cell_type": "code",
   "execution_count": 116,
   "metadata": {},
   "outputs": [
    {
     "data": {
      "text/plain": [
       "count    2414.000000\n",
       "mean       11.985501\n",
       "std        10.703952\n",
       "min         0.000000\n",
       "25%         4.000000\n",
       "50%         8.000000\n",
       "75%        19.000000\n",
       "max        40.000000\n",
       "Name: YearsAtCompany, dtype: float64"
      ]
     },
     "execution_count": 116,
     "metadata": {},
     "output_type": "execute_result"
    }
   ],
   "source": [
    "data[\"YearsAtCompany\"].describe()"
   ]
  },
  {
   "cell_type": "code",
   "execution_count": 117,
   "metadata": {},
   "outputs": [
    {
     "data": {
      "text/html": [
       "<div>\n",
       "<style scoped>\n",
       "    .dataframe tbody tr th:only-of-type {\n",
       "        vertical-align: middle;\n",
       "    }\n",
       "\n",
       "    .dataframe tbody tr th {\n",
       "        vertical-align: top;\n",
       "    }\n",
       "\n",
       "    .dataframe thead th {\n",
       "        text-align: right;\n",
       "    }\n",
       "</style>\n",
       "<table border=\"1\" class=\"dataframe\">\n",
       "  <thead>\n",
       "    <tr style=\"text-align: right;\">\n",
       "      <th></th>\n",
       "      <th>Age</th>\n",
       "      <th>DailyRate($)</th>\n",
       "      <th>DistanceFromHome</th>\n",
       "      <th>Education</th>\n",
       "      <th>EnvironmentSatisfaction</th>\n",
       "      <th>JobLevel</th>\n",
       "      <th>JobSatisfaction</th>\n",
       "      <th>MonthlyIncome($)</th>\n",
       "      <th>NumCompaniesWorked#</th>\n",
       "      <th>PercentSalaryHike</th>\n",
       "      <th>PerformanceRating</th>\n",
       "      <th>StockOptionLevel</th>\n",
       "      <th>TotalWorkingYears</th>\n",
       "      <th>TrainingTimesLastYear</th>\n",
       "      <th>WorkLifeBalance</th>\n",
       "      <th>YearsAtCompany</th>\n",
       "      <th>YearsInCurrentRole</th>\n",
       "      <th>YearsSinceLastPromotion</th>\n",
       "      <th>YearsWithCurrManager</th>\n",
       "    </tr>\n",
       "  </thead>\n",
       "  <tbody>\n",
       "    <tr>\n",
       "      <th>count</th>\n",
       "      <td>2416.000000</td>\n",
       "      <td>2416.000000</td>\n",
       "      <td>2416.000000</td>\n",
       "      <td>2416.000000</td>\n",
       "      <td>2416.000000</td>\n",
       "      <td>2416.000000</td>\n",
       "      <td>2416.000000</td>\n",
       "      <td>2416.000000</td>\n",
       "      <td>2416.000000</td>\n",
       "      <td>2416.000000</td>\n",
       "      <td>2416.000000</td>\n",
       "      <td>2390.000000</td>\n",
       "      <td>2415.000000</td>\n",
       "      <td>2416.000000</td>\n",
       "      <td>2416.000000</td>\n",
       "      <td>2414.000000</td>\n",
       "      <td>2408.000000</td>\n",
       "      <td>2404.000000</td>\n",
       "      <td>2413.000000</td>\n",
       "    </tr>\n",
       "    <tr>\n",
       "      <th>mean</th>\n",
       "      <td>37.840646</td>\n",
       "      <td>800.268626</td>\n",
       "      <td>11.598096</td>\n",
       "      <td>2.937500</td>\n",
       "      <td>2.618791</td>\n",
       "      <td>2.418874</td>\n",
       "      <td>2.632450</td>\n",
       "      <td>8096.728891</td>\n",
       "      <td>3.460772</td>\n",
       "      <td>16.279801</td>\n",
       "      <td>3.294702</td>\n",
       "      <td>1.072803</td>\n",
       "      <td>14.544513</td>\n",
       "      <td>2.875000</td>\n",
       "      <td>2.678808</td>\n",
       "      <td>11.985501</td>\n",
       "      <td>6.127076</td>\n",
       "      <td>4.339434</td>\n",
       "      <td>5.861998</td>\n",
       "    </tr>\n",
       "    <tr>\n",
       "      <th>std</th>\n",
       "      <td>10.527646</td>\n",
       "      <td>403.146296</td>\n",
       "      <td>8.756677</td>\n",
       "      <td>1.208247</td>\n",
       "      <td>1.116766</td>\n",
       "      <td>1.309323</td>\n",
       "      <td>1.109271</td>\n",
       "      <td>5423.106630</td>\n",
       "      <td>2.790646</td>\n",
       "      <td>4.176681</td>\n",
       "      <td>0.456003</td>\n",
       "      <td>1.022012</td>\n",
       "      <td>10.411838</td>\n",
       "      <td>1.594796</td>\n",
       "      <td>0.890426</td>\n",
       "      <td>10.703952</td>\n",
       "      <td>4.984526</td>\n",
       "      <td>4.678468</td>\n",
       "      <td>4.775605</td>\n",
       "    </tr>\n",
       "    <tr>\n",
       "      <th>min</th>\n",
       "      <td>18.000000</td>\n",
       "      <td>102.000000</td>\n",
       "      <td>1.000000</td>\n",
       "      <td>1.000000</td>\n",
       "      <td>1.000000</td>\n",
       "      <td>1.000000</td>\n",
       "      <td>1.000000</td>\n",
       "      <td>1009.000000</td>\n",
       "      <td>0.000000</td>\n",
       "      <td>11.000000</td>\n",
       "      <td>3.000000</td>\n",
       "      <td>0.000000</td>\n",
       "      <td>0.000000</td>\n",
       "      <td>0.000000</td>\n",
       "      <td>1.000000</td>\n",
       "      <td>0.000000</td>\n",
       "      <td>0.000000</td>\n",
       "      <td>0.000000</td>\n",
       "      <td>0.000000</td>\n",
       "    </tr>\n",
       "    <tr>\n",
       "      <th>25%</th>\n",
       "      <td>30.000000</td>\n",
       "      <td>452.750000</td>\n",
       "      <td>4.000000</td>\n",
       "      <td>2.000000</td>\n",
       "      <td>2.000000</td>\n",
       "      <td>1.000000</td>\n",
       "      <td>2.000000</td>\n",
       "      <td>3561.250000</td>\n",
       "      <td>1.000000</td>\n",
       "      <td>13.000000</td>\n",
       "      <td>3.000000</td>\n",
       "      <td>0.000000</td>\n",
       "      <td>6.000000</td>\n",
       "      <td>2.000000</td>\n",
       "      <td>2.000000</td>\n",
       "      <td>4.000000</td>\n",
       "      <td>2.000000</td>\n",
       "      <td>0.000000</td>\n",
       "      <td>2.000000</td>\n",
       "    </tr>\n",
       "    <tr>\n",
       "      <th>50%</th>\n",
       "      <td>37.000000</td>\n",
       "      <td>800.500000</td>\n",
       "      <td>9.000000</td>\n",
       "      <td>3.000000</td>\n",
       "      <td>3.000000</td>\n",
       "      <td>2.000000</td>\n",
       "      <td>3.000000</td>\n",
       "      <td>6266.500000</td>\n",
       "      <td>3.000000</td>\n",
       "      <td>15.000000</td>\n",
       "      <td>3.000000</td>\n",
       "      <td>1.000000</td>\n",
       "      <td>11.000000</td>\n",
       "      <td>3.000000</td>\n",
       "      <td>3.000000</td>\n",
       "      <td>8.000000</td>\n",
       "      <td>5.000000</td>\n",
       "      <td>2.000000</td>\n",
       "      <td>5.000000</td>\n",
       "    </tr>\n",
       "    <tr>\n",
       "      <th>75%</th>\n",
       "      <td>46.000000</td>\n",
       "      <td>1149.000000</td>\n",
       "      <td>19.000000</td>\n",
       "      <td>4.000000</td>\n",
       "      <td>4.000000</td>\n",
       "      <td>3.000000</td>\n",
       "      <td>4.000000</td>\n",
       "      <td>11958.000000</td>\n",
       "      <td>6.000000</td>\n",
       "      <td>19.000000</td>\n",
       "      <td>4.000000</td>\n",
       "      <td>2.000000</td>\n",
       "      <td>21.000000</td>\n",
       "      <td>4.000000</td>\n",
       "      <td>3.000000</td>\n",
       "      <td>19.000000</td>\n",
       "      <td>9.000000</td>\n",
       "      <td>7.000000</td>\n",
       "      <td>9.000000</td>\n",
       "    </tr>\n",
       "    <tr>\n",
       "      <th>max</th>\n",
       "      <td>60.000000</td>\n",
       "      <td>1499.000000</td>\n",
       "      <td>29.000000</td>\n",
       "      <td>5.000000</td>\n",
       "      <td>4.000000</td>\n",
       "      <td>5.000000</td>\n",
       "      <td>4.000000</td>\n",
       "      <td>19999.000000</td>\n",
       "      <td>9.000000</td>\n",
       "      <td>25.000000</td>\n",
       "      <td>4.000000</td>\n",
       "      <td>3.000000</td>\n",
       "      <td>40.000000</td>\n",
       "      <td>6.000000</td>\n",
       "      <td>4.000000</td>\n",
       "      <td>40.000000</td>\n",
       "      <td>18.000000</td>\n",
       "      <td>15.000000</td>\n",
       "      <td>17.000000</td>\n",
       "    </tr>\n",
       "  </tbody>\n",
       "</table>\n",
       "</div>"
      ],
      "text/plain": [
       "               Age  DailyRate($)  DistanceFromHome    Education  \\\n",
       "count  2416.000000   2416.000000       2416.000000  2416.000000   \n",
       "mean     37.840646    800.268626         11.598096     2.937500   \n",
       "std      10.527646    403.146296          8.756677     1.208247   \n",
       "min      18.000000    102.000000          1.000000     1.000000   \n",
       "25%      30.000000    452.750000          4.000000     2.000000   \n",
       "50%      37.000000    800.500000          9.000000     3.000000   \n",
       "75%      46.000000   1149.000000         19.000000     4.000000   \n",
       "max      60.000000   1499.000000         29.000000     5.000000   \n",
       "\n",
       "       EnvironmentSatisfaction     JobLevel  JobSatisfaction  \\\n",
       "count              2416.000000  2416.000000      2416.000000   \n",
       "mean                  2.618791     2.418874         2.632450   \n",
       "std                   1.116766     1.309323         1.109271   \n",
       "min                   1.000000     1.000000         1.000000   \n",
       "25%                   2.000000     1.000000         2.000000   \n",
       "50%                   3.000000     2.000000         3.000000   \n",
       "75%                   4.000000     3.000000         4.000000   \n",
       "max                   4.000000     5.000000         4.000000   \n",
       "\n",
       "       MonthlyIncome($)  NumCompaniesWorked#  PercentSalaryHike  \\\n",
       "count       2416.000000          2416.000000        2416.000000   \n",
       "mean        8096.728891             3.460772          16.279801   \n",
       "std         5423.106630             2.790646           4.176681   \n",
       "min         1009.000000             0.000000          11.000000   \n",
       "25%         3561.250000             1.000000          13.000000   \n",
       "50%         6266.500000             3.000000          15.000000   \n",
       "75%        11958.000000             6.000000          19.000000   \n",
       "max        19999.000000             9.000000          25.000000   \n",
       "\n",
       "       PerformanceRating  StockOptionLevel  TotalWorkingYears  \\\n",
       "count        2416.000000       2390.000000        2415.000000   \n",
       "mean            3.294702          1.072803          14.544513   \n",
       "std             0.456003          1.022012          10.411838   \n",
       "min             3.000000          0.000000           0.000000   \n",
       "25%             3.000000          0.000000           6.000000   \n",
       "50%             3.000000          1.000000          11.000000   \n",
       "75%             4.000000          2.000000          21.000000   \n",
       "max             4.000000          3.000000          40.000000   \n",
       "\n",
       "       TrainingTimesLastYear  WorkLifeBalance  YearsAtCompany  \\\n",
       "count            2416.000000      2416.000000     2414.000000   \n",
       "mean                2.875000         2.678808       11.985501   \n",
       "std                 1.594796         0.890426       10.703952   \n",
       "min                 0.000000         1.000000        0.000000   \n",
       "25%                 2.000000         2.000000        4.000000   \n",
       "50%                 3.000000         3.000000        8.000000   \n",
       "75%                 4.000000         3.000000       19.000000   \n",
       "max                 6.000000         4.000000       40.000000   \n",
       "\n",
       "       YearsInCurrentRole  YearsSinceLastPromotion  YearsWithCurrManager  \n",
       "count         2408.000000              2404.000000           2413.000000  \n",
       "mean             6.127076                 4.339434              5.861998  \n",
       "std              4.984526                 4.678468              4.775605  \n",
       "min              0.000000                 0.000000              0.000000  \n",
       "25%              2.000000                 0.000000              2.000000  \n",
       "50%              5.000000                 2.000000              5.000000  \n",
       "75%              9.000000                 7.000000              9.000000  \n",
       "max             18.000000                15.000000             17.000000  "
      ]
     },
     "execution_count": 117,
     "metadata": {},
     "output_type": "execute_result"
    }
   ],
   "source": [
    "data.describe()"
   ]
  },
  {
   "cell_type": "code",
   "execution_count": 118,
   "metadata": {},
   "outputs": [
    {
     "data": {
      "text/plain": [
       "Age                         0\n",
       "Attrition                   0\n",
       "BusinessTravel              0\n",
       "DailyRate($)                0\n",
       "Department                  0\n",
       "DistanceFromHome            0\n",
       "Education                   0\n",
       "EducationField              0\n",
       "EnvironmentSatisfaction     0\n",
       "Gender                      0\n",
       "JobLevel                    0\n",
       "Job+Role                    0\n",
       "JobSatisfaction             0\n",
       "MaritalStatus               0\n",
       "MonthlyIncome($)            0\n",
       "NumCompaniesWorked#         0\n",
       "OverTime                    0\n",
       "PercentSalaryHike           0\n",
       "PerformanceRating           0\n",
       "StockOptionLevel           26\n",
       "TotalWorkingYears           1\n",
       "TrainingTimesLastYear       0\n",
       "WorkLifeBalance             0\n",
       "YearsAtCompany              2\n",
       "YearsInCurrentRole          8\n",
       "YearsSinceLastPromotion    12\n",
       "YearsWithCurrManager        3\n",
       "dtype: int64"
      ]
     },
     "execution_count": 118,
     "metadata": {},
     "output_type": "execute_result"
    }
   ],
   "source": [
    "data.isna().sum()"
   ]
  },
  {
   "cell_type": "code",
   "execution_count": 119,
   "metadata": {},
   "outputs": [],
   "source": [
    "#dropping nulls from columns with few missing values \n",
    "\n",
    "data = data.dropna(subset=['YearsAtCompany',\"YearsInCurrentRole\",\"YearsWithCurrManager\",\"YearsSinceLastPromotion\",\"TotalWorkingYears\"])"
   ]
  },
  {
   "cell_type": "code",
   "execution_count": 120,
   "metadata": {},
   "outputs": [
    {
     "data": {
      "text/html": [
       "<div>\n",
       "<style scoped>\n",
       "    .dataframe tbody tr th:only-of-type {\n",
       "        vertical-align: middle;\n",
       "    }\n",
       "\n",
       "    .dataframe tbody tr th {\n",
       "        vertical-align: top;\n",
       "    }\n",
       "\n",
       "    .dataframe thead th {\n",
       "        text-align: right;\n",
       "    }\n",
       "</style>\n",
       "<table border=\"1\" class=\"dataframe\">\n",
       "  <thead>\n",
       "    <tr style=\"text-align: right;\">\n",
       "      <th>StockOptionLevel</th>\n",
       "      <th>0.0</th>\n",
       "      <th>1.0</th>\n",
       "      <th>2.0</th>\n",
       "      <th>3.0</th>\n",
       "    </tr>\n",
       "  </thead>\n",
       "  <tbody>\n",
       "    <tr>\n",
       "      <th>JobLevel</th>\n",
       "      <td>2</td>\n",
       "      <td>2</td>\n",
       "      <td>2</td>\n",
       "      <td>3</td>\n",
       "    </tr>\n",
       "  </tbody>\n",
       "</table>\n",
       "</div>"
      ],
      "text/plain": [
       "StockOptionLevel  0.0  1.0  2.0  3.0\n",
       "JobLevel            2    2    2    3"
      ]
     },
     "execution_count": 120,
     "metadata": {},
     "output_type": "execute_result"
    }
   ],
   "source": [
    "pd.pivot_table(data, values=['JobLevel'],columns=['StockOptionLevel'], aggfunc=np.median)"
   ]
  },
  {
   "cell_type": "code",
   "execution_count": 121,
   "metadata": {},
   "outputs": [
    {
     "data": {
      "text/html": [
       "<div>\n",
       "<style scoped>\n",
       "    .dataframe tbody tr th:only-of-type {\n",
       "        vertical-align: middle;\n",
       "    }\n",
       "\n",
       "    .dataframe tbody tr th {\n",
       "        vertical-align: top;\n",
       "    }\n",
       "\n",
       "    .dataframe thead th {\n",
       "        text-align: right;\n",
       "    }\n",
       "</style>\n",
       "<table border=\"1\" class=\"dataframe\">\n",
       "  <thead>\n",
       "    <tr style=\"text-align: right;\">\n",
       "      <th>StockOptionLevel</th>\n",
       "      <th>0.0</th>\n",
       "      <th>1.0</th>\n",
       "      <th>2.0</th>\n",
       "      <th>3.0</th>\n",
       "    </tr>\n",
       "  </thead>\n",
       "  <tbody>\n",
       "    <tr>\n",
       "      <th>MonthlyIncome($)</th>\n",
       "      <td>5500.0</td>\n",
       "      <td>6397.0</td>\n",
       "      <td>6549.0</td>\n",
       "      <td>9055.5</td>\n",
       "    </tr>\n",
       "  </tbody>\n",
       "</table>\n",
       "</div>"
      ],
      "text/plain": [
       "StockOptionLevel     0.0     1.0     2.0     3.0\n",
       "MonthlyIncome($)  5500.0  6397.0  6549.0  9055.5"
      ]
     },
     "execution_count": 121,
     "metadata": {},
     "output_type": "execute_result"
    }
   ],
   "source": [
    "#It looks like Stock Option Level is Correlated with Monthly Income\n",
    "pd.pivot_table(data, values=['MonthlyIncome($)'],columns=['StockOptionLevel'], aggfunc=np.median)"
   ]
  },
  {
   "cell_type": "code",
   "execution_count": 122,
   "metadata": {},
   "outputs": [
    {
     "data": {
      "text/html": [
       "<div>\n",
       "<style scoped>\n",
       "    .dataframe tbody tr th:only-of-type {\n",
       "        vertical-align: middle;\n",
       "    }\n",
       "\n",
       "    .dataframe tbody tr th {\n",
       "        vertical-align: top;\n",
       "    }\n",
       "\n",
       "    .dataframe thead th {\n",
       "        text-align: right;\n",
       "    }\n",
       "</style>\n",
       "<table border=\"1\" class=\"dataframe\">\n",
       "  <thead>\n",
       "    <tr style=\"text-align: right;\">\n",
       "      <th>StockOptionLevel</th>\n",
       "      <th>0.0</th>\n",
       "      <th>1.0</th>\n",
       "      <th>2.0</th>\n",
       "      <th>3.0</th>\n",
       "    </tr>\n",
       "  </thead>\n",
       "  <tbody>\n",
       "    <tr>\n",
       "      <th>MonthlyIncome($)</th>\n",
       "      <td>1009</td>\n",
       "      <td>1061</td>\n",
       "      <td>1012</td>\n",
       "      <td>1127</td>\n",
       "    </tr>\n",
       "  </tbody>\n",
       "</table>\n",
       "</div>"
      ],
      "text/plain": [
       "StockOptionLevel   0.0   1.0   2.0   3.0\n",
       "MonthlyIncome($)  1009  1061  1012  1127"
      ]
     },
     "execution_count": 122,
     "metadata": {},
     "output_type": "execute_result"
    }
   ],
   "source": [
    "#This data will not make sense to bin because while on average, higher stock option level correlates to  a higher income, the minimum\n",
    "# incomes are spread evenly across levels\n",
    "pd.pivot_table(data, values=['MonthlyIncome($)'],columns=['StockOptionLevel'], aggfunc=np.min)"
   ]
  },
  {
   "cell_type": "code",
   "execution_count": 125,
   "metadata": {},
   "outputs": [],
   "source": [
    "#We will therefore drop the nulls of StockOptionLevel as they only represent 1% of the data\n",
    "data[\"StockOptionLevel\"]= data[\"StockOptionLevel\"].dropna()"
   ]
  },
  {
   "cell_type": "code",
   "execution_count": 127,
   "metadata": {},
   "outputs": [],
   "source": [
    "data.dropna(subset=['StockOptionLevel'], inplace=True)\n"
   ]
  },
  {
   "cell_type": "code",
   "execution_count": 128,
   "metadata": {},
   "outputs": [
    {
     "data": {
      "text/plain": [
       "Age                        0\n",
       "Attrition                  0\n",
       "BusinessTravel             0\n",
       "DailyRate($)               0\n",
       "Department                 0\n",
       "DistanceFromHome           0\n",
       "Education                  0\n",
       "EducationField             0\n",
       "EnvironmentSatisfaction    0\n",
       "Gender                     0\n",
       "JobLevel                   0\n",
       "Job+Role                   0\n",
       "JobSatisfaction            0\n",
       "MaritalStatus              0\n",
       "MonthlyIncome($)           0\n",
       "NumCompaniesWorked#        0\n",
       "OverTime                   0\n",
       "PercentSalaryHike          0\n",
       "PerformanceRating          0\n",
       "StockOptionLevel           0\n",
       "TotalWorkingYears          0\n",
       "TrainingTimesLastYear      0\n",
       "WorkLifeBalance            0\n",
       "YearsAtCompany             0\n",
       "YearsInCurrentRole         0\n",
       "YearsSinceLastPromotion    0\n",
       "YearsWithCurrManager       0\n",
       "dtype: int64"
      ]
     },
     "execution_count": 128,
     "metadata": {},
     "output_type": "execute_result"
    }
   ],
   "source": [
    "#missing value imputation complete\n",
    "data.isna().sum()"
   ]
  },
  {
   "cell_type": "code",
   "execution_count": 129,
   "metadata": {},
   "outputs": [
    {
     "name": "stdout",
     "output_type": "stream",
     "text": [
      "<class 'pandas.core.frame.DataFrame'>\n",
      "Int64Index: 2371 entries, 1 to 2417\n",
      "Data columns (total 27 columns):\n",
      " #   Column                   Non-Null Count  Dtype  \n",
      "---  ------                   --------------  -----  \n",
      " 0   Age                      2371 non-null   int64  \n",
      " 1   Attrition                2371 non-null   object \n",
      " 2   BusinessTravel           2371 non-null   object \n",
      " 3   DailyRate($)             2371 non-null   int64  \n",
      " 4   Department               2371 non-null   object \n",
      " 5   DistanceFromHome         2371 non-null   int64  \n",
      " 6   Education                2371 non-null   int64  \n",
      " 7   EducationField           2371 non-null   object \n",
      " 8   EnvironmentSatisfaction  2371 non-null   int64  \n",
      " 9   Gender                   2371 non-null   object \n",
      " 10  JobLevel                 2371 non-null   int64  \n",
      " 11  Job+Role                 2371 non-null   object \n",
      " 12  JobSatisfaction          2371 non-null   int64  \n",
      " 13  MaritalStatus            2371 non-null   object \n",
      " 14  MonthlyIncome($)         2371 non-null   int64  \n",
      " 15  NumCompaniesWorked#      2371 non-null   float64\n",
      " 16  OverTime                 2371 non-null   object \n",
      " 17  PercentSalaryHike        2371 non-null   int64  \n",
      " 18  PerformanceRating        2371 non-null   int64  \n",
      " 19  StockOptionLevel         2371 non-null   float64\n",
      " 20  TotalWorkingYears        2371 non-null   float64\n",
      " 21  TrainingTimesLastYear    2371 non-null   float64\n",
      " 22  WorkLifeBalance          2371 non-null   int64  \n",
      " 23  YearsAtCompany           2371 non-null   float64\n",
      " 24  YearsInCurrentRole       2371 non-null   float64\n",
      " 25  YearsSinceLastPromotion  2371 non-null   float64\n",
      " 26  YearsWithCurrManager     2371 non-null   float64\n",
      "dtypes: float64(8), int64(11), object(8)\n",
      "memory usage: 518.7+ KB\n"
     ]
    }
   ],
   "source": [
    "data.info()"
   ]
  },
  {
   "cell_type": "code",
   "execution_count": 130,
   "metadata": {},
   "outputs": [
    {
     "data": {
      "text/plain": [
       "Sales Executive              543\n",
       "Laboratory Technician        494\n",
       "Research Scientist           471\n",
       "Sales Representative         211\n",
       "Manufacturing Director       183\n",
       "Healthcare Representative    165\n",
       "Manager                      119\n",
       "Human Resources               98\n",
       "Research Director             87\n",
       "Name: Job+Role, dtype: int64"
      ]
     },
     "execution_count": 130,
     "metadata": {},
     "output_type": "execute_result"
    }
   ],
   "source": [
    "data[\"Job+Role\"].value_counts()"
   ]
  },
  {
   "cell_type": "code",
   "execution_count": 131,
   "metadata": {},
   "outputs": [],
   "source": [
    "#redundant because of monthly rate\n",
    "data = data.drop(columns=[\"DailyRate($)\"])"
   ]
  },
  {
   "cell_type": "code",
   "execution_count": 132,
   "metadata": {},
   "outputs": [],
   "source": [
    "#Encoding\n",
    "data.loc[data['Attrition']==\"Yes\",'Attrition']=1\n",
    "data.loc[data['Attrition']==\"No\",'Attrition']=0"
   ]
  },
  {
   "cell_type": "code",
   "execution_count": 133,
   "metadata": {},
   "outputs": [],
   "source": [
    "data[\"Attrition\"] = data[\"Attrition\"].astype(int)"
   ]
  },
  {
   "cell_type": "code",
   "execution_count": 134,
   "metadata": {},
   "outputs": [
    {
     "data": {
      "text/plain": [
       "Travel_Rarely        1324\n",
       "Travel_Frequently     577\n",
       "Non-Travel            470\n",
       "Name: BusinessTravel, dtype: int64"
      ]
     },
     "execution_count": 134,
     "metadata": {},
     "output_type": "execute_result"
    }
   ],
   "source": [
    "data[\"BusinessTravel\"].value_counts()"
   ]
  },
  {
   "cell_type": "code",
   "execution_count": 135,
   "metadata": {},
   "outputs": [],
   "source": [
    "#ordinal encoding makes sense here\n",
    "data.loc[data['BusinessTravel']==\"Travel_Frequently\",'BusinessTravel']=2\n",
    "data.loc[data['BusinessTravel']==\"Travel_Rarely\",'BusinessTravel']=1\n",
    "data.loc[data['BusinessTravel']==\"Non-Travel\",'BusinessTravel']=0\n",
    "data[\"BusinessTravel\"] = data[\"BusinessTravel\"].astype(int)\n"
   ]
  },
  {
   "cell_type": "code",
   "execution_count": 136,
   "metadata": {},
   "outputs": [
    {
     "name": "stdout",
     "output_type": "stream",
     "text": [
      "<class 'pandas.core.frame.DataFrame'>\n",
      "Int64Index: 2371 entries, 1 to 2417\n",
      "Data columns (total 26 columns):\n",
      " #   Column                   Non-Null Count  Dtype  \n",
      "---  ------                   --------------  -----  \n",
      " 0   Age                      2371 non-null   int64  \n",
      " 1   Attrition                2371 non-null   int32  \n",
      " 2   BusinessTravel           2371 non-null   int32  \n",
      " 3   Department               2371 non-null   object \n",
      " 4   DistanceFromHome         2371 non-null   int64  \n",
      " 5   Education                2371 non-null   int64  \n",
      " 6   EducationField           2371 non-null   object \n",
      " 7   EnvironmentSatisfaction  2371 non-null   int64  \n",
      " 8   Gender                   2371 non-null   object \n",
      " 9   JobLevel                 2371 non-null   int64  \n",
      " 10  Job+Role                 2371 non-null   object \n",
      " 11  JobSatisfaction          2371 non-null   int64  \n",
      " 12  MaritalStatus            2371 non-null   object \n",
      " 13  MonthlyIncome($)         2371 non-null   int64  \n",
      " 14  NumCompaniesWorked#      2371 non-null   float64\n",
      " 15  OverTime                 2371 non-null   object \n",
      " 16  PercentSalaryHike        2371 non-null   int64  \n",
      " 17  PerformanceRating        2371 non-null   int64  \n",
      " 18  StockOptionLevel         2371 non-null   float64\n",
      " 19  TotalWorkingYears        2371 non-null   float64\n",
      " 20  TrainingTimesLastYear    2371 non-null   float64\n",
      " 21  WorkLifeBalance          2371 non-null   int64  \n",
      " 22  YearsAtCompany           2371 non-null   float64\n",
      " 23  YearsInCurrentRole       2371 non-null   float64\n",
      " 24  YearsSinceLastPromotion  2371 non-null   float64\n",
      " 25  YearsWithCurrManager     2371 non-null   float64\n",
      "dtypes: float64(8), int32(2), int64(10), object(6)\n",
      "memory usage: 481.6+ KB\n"
     ]
    }
   ],
   "source": [
    "data.info()"
   ]
  },
  {
   "cell_type": "code",
   "execution_count": 137,
   "metadata": {},
   "outputs": [
    {
     "data": {
      "text/plain": [
       "Life Sciences       933\n",
       "Medical             705\n",
       "Marketing           300\n",
       "Technical Degree    259\n",
       "Other               122\n",
       "Human Resources      52\n",
       "Name: EducationField, dtype: int64"
      ]
     },
     "execution_count": 137,
     "metadata": {},
     "output_type": "execute_result"
    }
   ],
   "source": [
    "data[\"EducationField\"].value_counts()"
   ]
  },
  {
   "cell_type": "code",
   "execution_count": 138,
   "metadata": {},
   "outputs": [],
   "source": [
    "#We will drop department and education field because ordinal encoding does not make sense and we will fall into dummy trap if we make dummies\n",
    "data = data.drop(columns=[\"EducationField\",\"Department\"])"
   ]
  },
  {
   "cell_type": "code",
   "execution_count": 139,
   "metadata": {},
   "outputs": [],
   "source": [
    "#We will drop job+role for the same reason\n",
    "data = data.drop(columns=[\"Job+Role\"])"
   ]
  },
  {
   "cell_type": "code",
   "execution_count": 140,
   "metadata": {},
   "outputs": [
    {
     "name": "stdout",
     "output_type": "stream",
     "text": [
      "<class 'pandas.core.frame.DataFrame'>\n",
      "Int64Index: 2371 entries, 1 to 2417\n",
      "Data columns (total 23 columns):\n",
      " #   Column                   Non-Null Count  Dtype  \n",
      "---  ------                   --------------  -----  \n",
      " 0   Age                      2371 non-null   int64  \n",
      " 1   Attrition                2371 non-null   int32  \n",
      " 2   BusinessTravel           2371 non-null   int32  \n",
      " 3   DistanceFromHome         2371 non-null   int64  \n",
      " 4   Education                2371 non-null   int64  \n",
      " 5   EnvironmentSatisfaction  2371 non-null   int64  \n",
      " 6   Gender                   2371 non-null   object \n",
      " 7   JobLevel                 2371 non-null   int64  \n",
      " 8   JobSatisfaction          2371 non-null   int64  \n",
      " 9   MaritalStatus            2371 non-null   object \n",
      " 10  MonthlyIncome($)         2371 non-null   int64  \n",
      " 11  NumCompaniesWorked#      2371 non-null   float64\n",
      " 12  OverTime                 2371 non-null   object \n",
      " 13  PercentSalaryHike        2371 non-null   int64  \n",
      " 14  PerformanceRating        2371 non-null   int64  \n",
      " 15  StockOptionLevel         2371 non-null   float64\n",
      " 16  TotalWorkingYears        2371 non-null   float64\n",
      " 17  TrainingTimesLastYear    2371 non-null   float64\n",
      " 18  WorkLifeBalance          2371 non-null   int64  \n",
      " 19  YearsAtCompany           2371 non-null   float64\n",
      " 20  YearsInCurrentRole       2371 non-null   float64\n",
      " 21  YearsSinceLastPromotion  2371 non-null   float64\n",
      " 22  YearsWithCurrManager     2371 non-null   float64\n",
      "dtypes: float64(8), int32(2), int64(10), object(3)\n",
      "memory usage: 426.0+ KB\n"
     ]
    }
   ],
   "source": [
    "data.info()"
   ]
  },
  {
   "cell_type": "code",
   "execution_count": 141,
   "metadata": {},
   "outputs": [
    {
     "data": {
      "text/plain": [
       "Male      1451\n",
       "Female     920\n",
       "Name: Gender, dtype: int64"
      ]
     },
     "execution_count": 141,
     "metadata": {},
     "output_type": "execute_result"
    }
   ],
   "source": [
    "data[\"Gender\"].value_counts()"
   ]
  },
  {
   "cell_type": "code",
   "execution_count": 142,
   "metadata": {},
   "outputs": [],
   "source": [
    "data.loc[data['Gender']==\"Male\",'Gender']=1\n",
    "data.loc[data['Gender']==\"Female\",'Gender']=0\n",
    "data[\"Gender\"] = data[\"Gender\"].astype(int)"
   ]
  },
  {
   "cell_type": "code",
   "execution_count": 143,
   "metadata": {},
   "outputs": [
    {
     "name": "stdout",
     "output_type": "stream",
     "text": [
      "<class 'pandas.core.frame.DataFrame'>\n",
      "Int64Index: 2371 entries, 1 to 2417\n",
      "Data columns (total 23 columns):\n",
      " #   Column                   Non-Null Count  Dtype  \n",
      "---  ------                   --------------  -----  \n",
      " 0   Age                      2371 non-null   int64  \n",
      " 1   Attrition                2371 non-null   int32  \n",
      " 2   BusinessTravel           2371 non-null   int32  \n",
      " 3   DistanceFromHome         2371 non-null   int64  \n",
      " 4   Education                2371 non-null   int64  \n",
      " 5   EnvironmentSatisfaction  2371 non-null   int64  \n",
      " 6   Gender                   2371 non-null   int32  \n",
      " 7   JobLevel                 2371 non-null   int64  \n",
      " 8   JobSatisfaction          2371 non-null   int64  \n",
      " 9   MaritalStatus            2371 non-null   object \n",
      " 10  MonthlyIncome($)         2371 non-null   int64  \n",
      " 11  NumCompaniesWorked#      2371 non-null   float64\n",
      " 12  OverTime                 2371 non-null   object \n",
      " 13  PercentSalaryHike        2371 non-null   int64  \n",
      " 14  PerformanceRating        2371 non-null   int64  \n",
      " 15  StockOptionLevel         2371 non-null   float64\n",
      " 16  TotalWorkingYears        2371 non-null   float64\n",
      " 17  TrainingTimesLastYear    2371 non-null   float64\n",
      " 18  WorkLifeBalance          2371 non-null   int64  \n",
      " 19  YearsAtCompany           2371 non-null   float64\n",
      " 20  YearsInCurrentRole       2371 non-null   float64\n",
      " 21  YearsSinceLastPromotion  2371 non-null   float64\n",
      " 22  YearsWithCurrManager     2371 non-null   float64\n",
      "dtypes: float64(8), int32(3), int64(10), object(2)\n",
      "memory usage: 416.8+ KB\n"
     ]
    }
   ],
   "source": [
    "data.info()"
   ]
  },
  {
   "cell_type": "code",
   "execution_count": 144,
   "metadata": {},
   "outputs": [
    {
     "data": {
      "text/plain": [
       "Married     994\n",
       "Single      922\n",
       "Divorced    455\n",
       "Name: MaritalStatus, dtype: int64"
      ]
     },
     "execution_count": 144,
     "metadata": {},
     "output_type": "execute_result"
    }
   ],
   "source": [
    "data[\"MaritalStatus\"].value_counts()"
   ]
  },
  {
   "cell_type": "code",
   "execution_count": 145,
   "metadata": {},
   "outputs": [],
   "source": [
    "#Ordinal Encoding Again\n",
    "\n",
    "data.loc[data['MaritalStatus']==\"Married\",'MaritalStatus']=2\n",
    "data.loc[data['MaritalStatus']==\"Divorced\",'MaritalStatus']=1\n",
    "data.loc[data['MaritalStatus']==\"Single\",'MaritalStatus']=0\n",
    "data[\"MaritalStatus\"] = data[\"MaritalStatus\"].astype(int)"
   ]
  },
  {
   "cell_type": "code",
   "execution_count": 146,
   "metadata": {},
   "outputs": [
    {
     "name": "stdout",
     "output_type": "stream",
     "text": [
      "<class 'pandas.core.frame.DataFrame'>\n",
      "Int64Index: 2371 entries, 1 to 2417\n",
      "Data columns (total 23 columns):\n",
      " #   Column                   Non-Null Count  Dtype  \n",
      "---  ------                   --------------  -----  \n",
      " 0   Age                      2371 non-null   int64  \n",
      " 1   Attrition                2371 non-null   int32  \n",
      " 2   BusinessTravel           2371 non-null   int32  \n",
      " 3   DistanceFromHome         2371 non-null   int64  \n",
      " 4   Education                2371 non-null   int64  \n",
      " 5   EnvironmentSatisfaction  2371 non-null   int64  \n",
      " 6   Gender                   2371 non-null   int32  \n",
      " 7   JobLevel                 2371 non-null   int64  \n",
      " 8   JobSatisfaction          2371 non-null   int64  \n",
      " 9   MaritalStatus            2371 non-null   int32  \n",
      " 10  MonthlyIncome($)         2371 non-null   int64  \n",
      " 11  NumCompaniesWorked#      2371 non-null   float64\n",
      " 12  OverTime                 2371 non-null   object \n",
      " 13  PercentSalaryHike        2371 non-null   int64  \n",
      " 14  PerformanceRating        2371 non-null   int64  \n",
      " 15  StockOptionLevel         2371 non-null   float64\n",
      " 16  TotalWorkingYears        2371 non-null   float64\n",
      " 17  TrainingTimesLastYear    2371 non-null   float64\n",
      " 18  WorkLifeBalance          2371 non-null   int64  \n",
      " 19  YearsAtCompany           2371 non-null   float64\n",
      " 20  YearsInCurrentRole       2371 non-null   float64\n",
      " 21  YearsSinceLastPromotion  2371 non-null   float64\n",
      " 22  YearsWithCurrManager     2371 non-null   float64\n",
      "dtypes: float64(8), int32(4), int64(10), object(1)\n",
      "memory usage: 407.5+ KB\n"
     ]
    }
   ],
   "source": [
    "data.info()"
   ]
  },
  {
   "cell_type": "code",
   "execution_count": 147,
   "metadata": {},
   "outputs": [
    {
     "data": {
      "text/plain": [
       "No     1461\n",
       "Yes     910\n",
       "Name: OverTime, dtype: int64"
      ]
     },
     "execution_count": 147,
     "metadata": {},
     "output_type": "execute_result"
    }
   ],
   "source": [
    "data[\"OverTime\"].value_counts()"
   ]
  },
  {
   "cell_type": "code",
   "execution_count": 148,
   "metadata": {},
   "outputs": [],
   "source": [
    "data.loc[data['OverTime']==\"Yes\",'OverTime']=1\n",
    "data.loc[data['OverTime']==\"No\",'OverTime']=0\n",
    "data[\"OverTime\"] = data[\"OverTime\"].astype(int)"
   ]
  },
  {
   "cell_type": "code",
   "execution_count": 149,
   "metadata": {},
   "outputs": [
    {
     "name": "stdout",
     "output_type": "stream",
     "text": [
      "<class 'pandas.core.frame.DataFrame'>\n",
      "Int64Index: 2371 entries, 1 to 2417\n",
      "Data columns (total 23 columns):\n",
      " #   Column                   Non-Null Count  Dtype  \n",
      "---  ------                   --------------  -----  \n",
      " 0   Age                      2371 non-null   int64  \n",
      " 1   Attrition                2371 non-null   int32  \n",
      " 2   BusinessTravel           2371 non-null   int32  \n",
      " 3   DistanceFromHome         2371 non-null   int64  \n",
      " 4   Education                2371 non-null   int64  \n",
      " 5   EnvironmentSatisfaction  2371 non-null   int64  \n",
      " 6   Gender                   2371 non-null   int32  \n",
      " 7   JobLevel                 2371 non-null   int64  \n",
      " 8   JobSatisfaction          2371 non-null   int64  \n",
      " 9   MaritalStatus            2371 non-null   int32  \n",
      " 10  MonthlyIncome($)         2371 non-null   int64  \n",
      " 11  NumCompaniesWorked#      2371 non-null   float64\n",
      " 12  OverTime                 2371 non-null   int32  \n",
      " 13  PercentSalaryHike        2371 non-null   int64  \n",
      " 14  PerformanceRating        2371 non-null   int64  \n",
      " 15  StockOptionLevel         2371 non-null   float64\n",
      " 16  TotalWorkingYears        2371 non-null   float64\n",
      " 17  TrainingTimesLastYear    2371 non-null   float64\n",
      " 18  WorkLifeBalance          2371 non-null   int64  \n",
      " 19  YearsAtCompany           2371 non-null   float64\n",
      " 20  YearsInCurrentRole       2371 non-null   float64\n",
      " 21  YearsSinceLastPromotion  2371 non-null   float64\n",
      " 22  YearsWithCurrManager     2371 non-null   float64\n",
      "dtypes: float64(8), int32(5), int64(10)\n",
      "memory usage: 398.3 KB\n"
     ]
    }
   ],
   "source": [
    "data.info()"
   ]
  },
  {
   "cell_type": "code",
   "execution_count": 151,
   "metadata": {},
   "outputs": [
    {
     "data": {
      "text/plain": [
       "array([[<AxesSubplot:title={'center':'Age'}>,\n",
       "        <AxesSubplot:title={'center':'Attrition'}>,\n",
       "        <AxesSubplot:title={'center':'BusinessTravel'}>,\n",
       "        <AxesSubplot:title={'center':'DistanceFromHome'}>,\n",
       "        <AxesSubplot:title={'center':'Education'}>],\n",
       "       [<AxesSubplot:title={'center':'EnvironmentSatisfaction'}>,\n",
       "        <AxesSubplot:title={'center':'Gender'}>,\n",
       "        <AxesSubplot:title={'center':'JobLevel'}>,\n",
       "        <AxesSubplot:title={'center':'JobSatisfaction'}>,\n",
       "        <AxesSubplot:title={'center':'MaritalStatus'}>],\n",
       "       [<AxesSubplot:title={'center':'MonthlyIncome($)'}>,\n",
       "        <AxesSubplot:title={'center':'NumCompaniesWorked#'}>,\n",
       "        <AxesSubplot:title={'center':'OverTime'}>,\n",
       "        <AxesSubplot:title={'center':'PercentSalaryHike'}>,\n",
       "        <AxesSubplot:title={'center':'PerformanceRating'}>],\n",
       "       [<AxesSubplot:title={'center':'StockOptionLevel'}>,\n",
       "        <AxesSubplot:title={'center':'TotalWorkingYears'}>,\n",
       "        <AxesSubplot:title={'center':'TrainingTimesLastYear'}>,\n",
       "        <AxesSubplot:title={'center':'WorkLifeBalance'}>,\n",
       "        <AxesSubplot:title={'center':'YearsAtCompany'}>],\n",
       "       [<AxesSubplot:title={'center':'YearsInCurrentRole'}>,\n",
       "        <AxesSubplot:title={'center':'YearsSinceLastPromotion'}>,\n",
       "        <AxesSubplot:title={'center':'YearsWithCurrManager'}>,\n",
       "        <AxesSubplot:>, <AxesSubplot:>]], dtype=object)"
      ]
     },
     "execution_count": 151,
     "metadata": {},
     "output_type": "execute_result"
    },
    {
     "data": {
      "image/png": "[encoded data removed]",
      "text/plain": [
       "<Figure size 1080x720 with 25 Axes>"
      ]
     },
     "metadata": {
      "needs_background": "light"
     },
     "output_type": "display_data"
    }
   ],
   "source": [
    "data.hist(figsize = (15,10))"
   ]
  },
  {
   "cell_type": "code",
   "execution_count": 152,
   "metadata": {},
   "outputs": [],
   "source": [
    "x = data.loc[:,data.columns!='Attrition']\n",
    "y = data['Attrition']"
   ]
  },
  {
   "cell_type": "markdown",
   "metadata": {},
   "source": [
    "KNN Classifier with Scaling"
   ]
  },
  {
   "cell_type": "code",
   "execution_count": 153,
   "metadata": {},
   "outputs": [],
   "source": [
    "from sklearn.preprocessing import StandardScaler\n",
    "scaler_knn = StandardScaler()\n",
    "ssknn = scaler_knn.fit_transform(x)\n",
    "x_train_knn, x_test_knn, y_train_knn, y_test_knn = train_test_split(ssknn,y, test_size=0.3)"
   ]
  },
  {
   "cell_type": "code",
   "execution_count": 154,
   "metadata": {},
   "outputs": [
    {
     "data": {
      "text/html": [
       "<style>#sk-container-id-1 {color: black;background-color: white;}#sk-container-id-1 pre{padding: 0;}#sk-container-id-1 div.sk-toggleable {background-color: white;}#sk-container-id-1 label.sk-toggleable__label {cursor: pointer;display: block;width: 100%;margin-bottom: 0;padding: 0.3em;box-sizing: border-box;text-align: center;}#sk-container-id-1 label.sk-toggleable__label-arrow:before {content: \"▸\";float: left;margin-right: 0.25em;color: #696969;}#sk-container-id-1 label.sk-toggleable__label-arrow:hover:before {color: black;}#sk-container-id-1 div.sk-estimator:hover label.sk-toggleable__label-arrow:before {color: black;}#sk-container-id-1 div.sk-toggleable__content {max-height: 0;max-width: 0;overflow: hidden;text-align: left;background-color: #f0f8ff;}#sk-container-id-1 div.sk-toggleable__content pre {margin: 0.2em;color: black;border-radius: 0.25em;background-color: #f0f8ff;}#sk-container-id-1 input.sk-toggleable__control:checked~div.sk-toggleable__content {max-height: 200px;max-width: 100%;overflow: auto;}#sk-container-id-1 input.sk-toggleable__control:checked~label.sk-toggleable__label-arrow:before {content: \"▾\";}#sk-container-id-1 div.sk-estimator input.sk-toggleable__control:checked~label.sk-toggleable__label {background-color: #d4ebff;}#sk-container-id-1 div.sk-label input.sk-toggleable__control:checked~label.sk-toggleable__label {background-color: #d4ebff;}#sk-container-id-1 input.sk-hidden--visually {border: 0;clip: rect(1px 1px 1px 1px);clip: rect(1px, 1px, 1px, 1px);height: 1px;margin: -1px;overflow: hidden;padding: 0;position: absolute;width: 1px;}#sk-container-id-1 div.sk-estimator {font-family: monospace;background-color: #f0f8ff;border: 1px dotted black;border-radius: 0.25em;box-sizing: border-box;margin-bottom: 0.5em;}#sk-container-id-1 div.sk-estimator:hover {background-color: #d4ebff;}#sk-container-id-1 div.sk-parallel-item::after {content: \"\";width: 100%;border-bottom: 1px solid gray;flex-grow: 1;}#sk-container-id-1 div.sk-label:hover label.sk-toggleable__label {background-color: #d4ebff;}#sk-container-id-1 div.sk-serial::before {content: \"\";position: absolute;border-left: 1px solid gray;box-sizing: border-box;top: 0;bottom: 0;left: 50%;z-index: 0;}#sk-container-id-1 div.sk-serial {display: flex;flex-direction: column;align-items: center;background-color: white;padding-right: 0.2em;padding-left: 0.2em;position: relative;}#sk-container-id-1 div.sk-item {position: relative;z-index: 1;}#sk-container-id-1 div.sk-parallel {display: flex;align-items: stretch;justify-content: center;background-color: white;position: relative;}#sk-container-id-1 div.sk-item::before, #sk-container-id-1 div.sk-parallel-item::before {content: \"\";position: absolute;border-left: 1px solid gray;box-sizing: border-box;top: 0;bottom: 0;left: 50%;z-index: -1;}#sk-container-id-1 div.sk-parallel-item {display: flex;flex-direction: column;z-index: 1;position: relative;background-color: white;}#sk-container-id-1 div.sk-parallel-item:first-child::after {align-self: flex-end;width: 50%;}#sk-container-id-1 div.sk-parallel-item:last-child::after {align-self: flex-start;width: 50%;}#sk-container-id-1 div.sk-parallel-item:only-child::after {width: 0;}#sk-container-id-1 div.sk-dashed-wrapped {border: 1px dashed gray;margin: 0 0.4em 0.5em 0.4em;box-sizing: border-box;padding-bottom: 0.4em;background-color: white;}#sk-container-id-1 div.sk-label label {font-family: monospace;font-weight: bold;display: inline-block;line-height: 1.2em;}#sk-container-id-1 div.sk-label-container {text-align: center;}#sk-container-id-1 div.sk-container {/* jupyter's `normalize.less` sets `[hidden] { display: none; }` but bootstrap.min.css set `[hidden] { display: none !important; }` so we also need the `!important` here to be able to override the default hidden behavior on the sphinx rendered scikit-learn.org. See: https://github.com/scikit-learn/scikit-learn/issues/21755 */display: inline-block !important;position: relative;}#sk-container-id-1 div.sk-text-repr-fallback {display: none;}</style><div id=\"sk-container-id-1\" class=\"sk-top-container\"><div class=\"sk-text-repr-fallback\"><pre>KNeighborsClassifier()</pre><b>In a Jupyter environment, please rerun this cell to show the HTML representation or trust the notebook. <br />On GitHub, the HTML representation is unable to render, please try loading this page with nbviewer.org.</b></div><div class=\"sk-container\" hidden><div class=\"sk-item\"><div class=\"sk-estimator sk-toggleable\"><input class=\"sk-toggleable__control sk-hidden--visually\" id=\"sk-estimator-id-1\" type=\"checkbox\" checked><label for=\"sk-estimator-id-1\" class=\"sk-toggleable__label sk-toggleable__label-arrow\">KNeighborsClassifier</label><div class=\"sk-toggleable__content\"><pre>KNeighborsClassifier()</pre></div></div></div></div></div>"
      ],
      "text/plain": [
       "KNeighborsClassifier()"
      ]
     },
     "execution_count": 154,
     "metadata": {},
     "output_type": "execute_result"
    }
   ],
   "source": [
    "knn = KNeighborsClassifier()\n",
    "knn.fit(x_train_knn,y_train_knn)"
   ]
  },
  {
   "cell_type": "code",
   "execution_count": 155,
   "metadata": {},
   "outputs": [],
   "source": [
    "knn_pred = knn.predict(x_test_knn)"
   ]
  },
  {
   "cell_type": "code",
   "execution_count": 156,
   "metadata": {},
   "outputs": [],
   "source": [
    "from sklearn.metrics import classification_report"
   ]
  },
  {
   "cell_type": "code",
   "execution_count": 157,
   "metadata": {},
   "outputs": [
    {
     "name": "stdout",
     "output_type": "stream",
     "text": [
      "              precision    recall  f1-score   support\n",
      "\n",
      "        Left       0.69      0.97      0.81       366\n",
      "      Stayed       0.95      0.54      0.69       346\n",
      "\n",
      "    accuracy                           0.76       712\n",
      "   macro avg       0.82      0.76      0.75       712\n",
      "weighted avg       0.82      0.76      0.75       712\n",
      "\n"
     ]
    }
   ],
   "source": [
    "target_names = ['Left', 'Stayed']\n",
    "print(classification_report(y_test_knn, knn_pred, target_names=target_names))"
   ]
  },
  {
   "cell_type": "markdown",
   "metadata": {},
   "source": [
    "Classification Report Identifies Precision, Recall, f1-score, and accuracy metrics"
   ]
  },
  {
   "cell_type": "code",
   "execution_count": 158,
   "metadata": {},
   "outputs": [
    {
     "name": "stdout",
     "output_type": "stream",
     "text": [
      "Training set score: 0.8403\n",
      "Test set score: 0.7640\n"
     ]
    }
   ],
   "source": [
    "print('Training set score: {:.4f}'.format(knn.score(x_train_knn, y_train_knn)))\n",
    "\n",
    "print('Test set score: {:.4f}'.format(knn.score(x_test_knn, y_test_knn)))"
   ]
  },
  {
   "cell_type": "markdown",
   "metadata": {},
   "source": [
    "Slight Overfitting"
   ]
  },
  {
   "cell_type": "markdown",
   "metadata": {},
   "source": [
    "KNN Using SMOTE and Scaling"
   ]
  },
  {
   "cell_type": "code",
   "execution_count": 159,
   "metadata": {},
   "outputs": [],
   "source": [
    "x_train, x_test, y_train, y_test = train_test_split(x,y, test_size=0.3)"
   ]
  },
  {
   "cell_type": "code",
   "execution_count": 160,
   "metadata": {},
   "outputs": [],
   "source": [
    "from sklearn.model_selection import cross_validate"
   ]
  },
  {
   "cell_type": "code",
   "execution_count": 161,
   "metadata": {},
   "outputs": [
    {
     "data": {
      "text/plain": [
       "array([0.81325301, 0.77409639, 0.77710843, 0.80421687, 0.78549849])"
      ]
     },
     "execution_count": 161,
     "metadata": {},
     "output_type": "execute_result"
    }
   ],
   "source": [
    "from imblearn.pipeline import Pipeline\n",
    "from imblearn.over_sampling import SMOTE\n",
    "pipe = Pipeline(steps = [('smote', SMOTE(random_state = 42)), \n",
    "                      ('standardscaler', StandardScaler()),\n",
    "                      ('knn', KNeighborsClassifier())])\n",
    "pipe.fit(x_train, y_train)\n",
    "cv_results = cross_validate(pipe, x_train, y_train)\n",
    "sorted(cv_results.keys())\n",
    "['fit_time', 'score_time', 'test_score']\n",
    "cv_results['test_score']"
   ]
  },
  {
   "cell_type": "markdown",
   "metadata": {},
   "source": [
    " KNN GridSearch"
   ]
  },
  {
   "cell_type": "code",
   "execution_count": 162,
   "metadata": {},
   "outputs": [
    {
     "name": "stdout",
     "output_type": "stream",
     "text": [
      "Fitting 10 folds for each of 30 candidates, totalling 300 fits\n"
     ]
    }
   ],
   "source": [
    "from sklearn.model_selection import GridSearchCV\n",
    "k_range = list(range(1, 31))\n",
    "param_grid = dict(n_neighbors=k_range)\n",
    "  \n",
    "# defining parameter range\n",
    "grid = GridSearchCV(knn, param_grid, cv=10, scoring='accuracy', return_train_score=False,verbose=1)\n",
    "  \n",
    "# fitting the model for grid search\n",
    "grid_search=grid.fit(x_train_knn, y_train_knn)"
   ]
  },
  {
   "cell_type": "code",
   "execution_count": 163,
   "metadata": {},
   "outputs": [
    {
     "data": {
      "text/plain": [
       "{'n_neighbors': 5}"
      ]
     },
     "execution_count": 163,
     "metadata": {},
     "output_type": "execute_result"
    }
   ],
   "source": [
    "grid_search.best_params_"
   ]
  },
  {
   "cell_type": "code",
   "execution_count": 170,
   "metadata": {},
   "outputs": [
    {
     "name": "stdout",
     "output_type": "stream",
     "text": [
      "              precision    recall  f1-score   support\n",
      "\n",
      "        Left       0.69      0.97      0.81       366\n",
      "      Stayed       0.95      0.54      0.69       346\n",
      "\n",
      "    accuracy                           0.76       712\n",
      "   macro avg       0.82      0.76      0.75       712\n",
      "weighted avg       0.82      0.76      0.75       712\n",
      "\n"
     ]
    }
   ],
   "source": [
    "knn2 = KNeighborsClassifier(n_neighbors=5)\n",
    "knn2.fit(x_train_knn,y_train_knn)\n",
    "knn_pred2 = knn2.predict(x_test_knn)\n",
    "target_names = ['Left','Stayed']\n",
    "print(classification_report(y_test_knn, knn_pred2, target_names=target_names))"
   ]
  },
  {
   "cell_type": "code",
   "execution_count": 168,
   "metadata": {},
   "outputs": [
    {
     "data": {
      "text/plain": [
       "0.9494949494949495"
      ]
     },
     "execution_count": 168,
     "metadata": {},
     "output_type": "execute_result"
    }
   ],
   "source": [
    "precision_score(y_test_knn, knn_pred2)"
   ]
  },
  {
   "cell_type": "code",
   "execution_count": 169,
   "metadata": {},
   "outputs": [
    {
     "data": {
      "text/plain": [
       "0.5433526011560693"
      ]
     },
     "execution_count": 169,
     "metadata": {},
     "output_type": "execute_result"
    }
   ],
   "source": [
    "recall_score(y_test_knn, knn_pred2)"
   ]
  },
  {
   "cell_type": "code",
   "execution_count": 165,
   "metadata": {},
   "outputs": [
    {
     "data": {
      "text/plain": [
       "Text(0, 0.5, 'True Positive Rate')"
      ]
     },
     "execution_count": 165,
     "metadata": {},
     "output_type": "execute_result"
    },
    {
     "data": {
      "image/png": "[encoded data removed]",
      "text/plain": [
       "<Figure size 432x288 with 1 Axes>"
      ]
     },
     "metadata": {
      "needs_background": "light"
     },
     "output_type": "display_data"
    }
   ],
   "source": [
    "fpr, tpr, thresholds = roc_curve(y_test, knn_pred2)\n",
    "import matplotlib.pyplot as plt\n",
    "plt.plot(fpr,tpr)\n",
    "plt.xlabel('False Positive Rate')\n",
    "plt.ylabel('True Positive Rate')"
   ]
  },
  {
   "cell_type": "markdown",
   "metadata": {},
   "source": [
    "KNN isn't bad, with an average f1 score of 0.8, lets try Random Forest. This model is good a correctly prediciting cases where an employee left as indicated by high precision, but is poor at predicting all instances of attrition as indicated by low recall. This is visualized on the ROC curve"
   ]
  },
  {
   "cell_type": "markdown",
   "metadata": {},
   "source": [
    "Random Forest Classifier"
   ]
  },
  {
   "cell_type": "code",
   "execution_count": 171,
   "metadata": {},
   "outputs": [],
   "source": [
    "from sklearn.ensemble import RandomForestClassifier"
   ]
  },
  {
   "cell_type": "code",
   "execution_count": 172,
   "metadata": {},
   "outputs": [],
   "source": [
    "rf = RandomForestClassifier()"
   ]
  },
  {
   "cell_type": "code",
   "execution_count": 173,
   "metadata": {},
   "outputs": [],
   "source": [
    "from sklearn.model_selection import train_test_split"
   ]
  },
  {
   "cell_type": "code",
   "execution_count": 174,
   "metadata": {},
   "outputs": [
    {
     "data": {
      "text/html": [
       "<style>#sk-container-id-2 {color: black;background-color: white;}#sk-container-id-2 pre{padding: 0;}#sk-container-id-2 div.sk-toggleable {background-color: white;}#sk-container-id-2 label.sk-toggleable__label {cursor: pointer;display: block;width: 100%;margin-bottom: 0;padding: 0.3em;box-sizing: border-box;text-align: center;}#sk-container-id-2 label.sk-toggleable__label-arrow:before {content: \"▸\";float: left;margin-right: 0.25em;color: #696969;}#sk-container-id-2 label.sk-toggleable__label-arrow:hover:before {color: black;}#sk-container-id-2 div.sk-estimator:hover label.sk-toggleable__label-arrow:before {color: black;}#sk-container-id-2 div.sk-toggleable__content {max-height: 0;max-width: 0;overflow: hidden;text-align: left;background-color: #f0f8ff;}#sk-container-id-2 div.sk-toggleable__content pre {margin: 0.2em;color: black;border-radius: 0.25em;background-color: #f0f8ff;}#sk-container-id-2 input.sk-toggleable__control:checked~div.sk-toggleable__content {max-height: 200px;max-width: 100%;overflow: auto;}#sk-container-id-2 input.sk-toggleable__control:checked~label.sk-toggleable__label-arrow:before {content: \"▾\";}#sk-container-id-2 div.sk-estimator input.sk-toggleable__control:checked~label.sk-toggleable__label {background-color: #d4ebff;}#sk-container-id-2 div.sk-label input.sk-toggleable__control:checked~label.sk-toggleable__label {background-color: #d4ebff;}#sk-container-id-2 input.sk-hidden--visually {border: 0;clip: rect(1px 1px 1px 1px);clip: rect(1px, 1px, 1px, 1px);height: 1px;margin: -1px;overflow: hidden;padding: 0;position: absolute;width: 1px;}#sk-container-id-2 div.sk-estimator {font-family: monospace;background-color: #f0f8ff;border: 1px dotted black;border-radius: 0.25em;box-sizing: border-box;margin-bottom: 0.5em;}#sk-container-id-2 div.sk-estimator:hover {background-color: #d4ebff;}#sk-container-id-2 div.sk-parallel-item::after {content: \"\";width: 100%;border-bottom: 1px solid gray;flex-grow: 1;}#sk-container-id-2 div.sk-label:hover label.sk-toggleable__label {background-color: #d4ebff;}#sk-container-id-2 div.sk-serial::before {content: \"\";position: absolute;border-left: 1px solid gray;box-sizing: border-box;top: 0;bottom: 0;left: 50%;z-index: 0;}#sk-container-id-2 div.sk-serial {display: flex;flex-direction: column;align-items: center;background-color: white;padding-right: 0.2em;padding-left: 0.2em;position: relative;}#sk-container-id-2 div.sk-item {position: relative;z-index: 1;}#sk-container-id-2 div.sk-parallel {display: flex;align-items: stretch;justify-content: center;background-color: white;position: relative;}#sk-container-id-2 div.sk-item::before, #sk-container-id-2 div.sk-parallel-item::before {content: \"\";position: absolute;border-left: 1px solid gray;box-sizing: border-box;top: 0;bottom: 0;left: 50%;z-index: -1;}#sk-container-id-2 div.sk-parallel-item {display: flex;flex-direction: column;z-index: 1;position: relative;background-color: white;}#sk-container-id-2 div.sk-parallel-item:first-child::after {align-self: flex-end;width: 50%;}#sk-container-id-2 div.sk-parallel-item:last-child::after {align-self: flex-start;width: 50%;}#sk-container-id-2 div.sk-parallel-item:only-child::after {width: 0;}#sk-container-id-2 div.sk-dashed-wrapped {border: 1px dashed gray;margin: 0 0.4em 0.5em 0.4em;box-sizing: border-box;padding-bottom: 0.4em;background-color: white;}#sk-container-id-2 div.sk-label label {font-family: monospace;font-weight: bold;display: inline-block;line-height: 1.2em;}#sk-container-id-2 div.sk-label-container {text-align: center;}#sk-container-id-2 div.sk-container {/* jupyter's `normalize.less` sets `[hidden] { display: none; }` but bootstrap.min.css set `[hidden] { display: none !important; }` so we also need the `!important` here to be able to override the default hidden behavior on the sphinx rendered scikit-learn.org. See: https://github.com/scikit-learn/scikit-learn/issues/21755 */display: inline-block !important;position: relative;}#sk-container-id-2 div.sk-text-repr-fallback {display: none;}</style><div id=\"sk-container-id-2\" class=\"sk-top-container\"><div class=\"sk-text-repr-fallback\"><pre>RandomForestClassifier()</pre><b>In a Jupyter environment, please rerun this cell to show the HTML representation or trust the notebook. <br />On GitHub, the HTML representation is unable to render, please try loading this page with nbviewer.org.</b></div><div class=\"sk-container\" hidden><div class=\"sk-item\"><div class=\"sk-estimator sk-toggleable\"><input class=\"sk-toggleable__control sk-hidden--visually\" id=\"sk-estimator-id-2\" type=\"checkbox\" checked><label for=\"sk-estimator-id-2\" class=\"sk-toggleable__label sk-toggleable__label-arrow\">RandomForestClassifier</label><div class=\"sk-toggleable__content\"><pre>RandomForestClassifier()</pre></div></div></div></div></div>"
      ],
      "text/plain": [
       "RandomForestClassifier()"
      ]
     },
     "execution_count": 174,
     "metadata": {},
     "output_type": "execute_result"
    }
   ],
   "source": [
    "rf.fit(x_train,y_train)"
   ]
  },
  {
   "cell_type": "code",
   "execution_count": 175,
   "metadata": {},
   "outputs": [],
   "source": [
    "rf_pred = rf.predict(x_test)"
   ]
  },
  {
   "cell_type": "code",
   "execution_count": 176,
   "metadata": {},
   "outputs": [
    {
     "name": "stdout",
     "output_type": "stream",
     "text": [
      "              precision    recall  f1-score   support\n",
      "\n",
      "        Left       0.85      0.93      0.89       354\n",
      "      Stayed       0.92      0.84      0.88       358\n",
      "\n",
      "    accuracy                           0.89       712\n",
      "   macro avg       0.89      0.89      0.89       712\n",
      "weighted avg       0.89      0.89      0.89       712\n",
      "\n"
     ]
    }
   ],
   "source": [
    "target_names = ['Left','Stayed']\n",
    "print(classification_report(y_test, rf_pred, target_names=target_names))"
   ]
  },
  {
   "cell_type": "code",
   "execution_count": 179,
   "metadata": {},
   "outputs": [
    {
     "data": {
      "text/plain": [
       "0.9235474006116208"
      ]
     },
     "execution_count": 179,
     "metadata": {},
     "output_type": "execute_result"
    }
   ],
   "source": [
    "precision_score(y_test, rf_pred)"
   ]
  },
  {
   "cell_type": "code",
   "execution_count": 178,
   "metadata": {},
   "outputs": [
    {
     "data": {
      "text/plain": [
       "0.8435754189944135"
      ]
     },
     "execution_count": 178,
     "metadata": {},
     "output_type": "execute_result"
    }
   ],
   "source": [
    "recall_score(y_test, rf_pred)"
   ]
  },
  {
   "cell_type": "code",
   "execution_count": 177,
   "metadata": {},
   "outputs": [
    {
     "data": {
      "text/plain": [
       "Text(0, 0.5, 'True Positive Rate')"
      ]
     },
     "execution_count": 177,
     "metadata": {},
     "output_type": "execute_result"
    },
    {
     "data": {
      "image/png": "[encoded data removed]",
      "text/plain": [
       "<Figure size 432x288 with 1 Axes>"
      ]
     },
     "metadata": {
      "needs_background": "light"
     },
     "output_type": "display_data"
    }
   ],
   "source": [
    "fpr, tpr, thresholds = roc_curve(y_test, rf_pred)\n",
    "import matplotlib.pyplot as plt\n",
    "plt.plot(fpr,tpr)\n",
    "plt.xlabel('False Positive Rate')\n",
    "plt.ylabel('True Positive Rate')"
   ]
  },
  {
   "cell_type": "markdown",
   "metadata": {},
   "source": [
    "Much better. f1-score and accuracy of 0.90. ROC Curve also looks better as a result of higher recall"
   ]
  },
  {
   "cell_type": "markdown",
   "metadata": {},
   "source": [
    "Random Forest GridSearch"
   ]
  },
  {
   "cell_type": "markdown",
   "metadata": {},
   "source": [
    "GridSearch will test the different hyperparameters we set in the param grid and finds the best selection for the data"
   ]
  },
  {
   "cell_type": "code",
   "execution_count": 181,
   "metadata": {},
   "outputs": [],
   "source": [
    "param_grid = { \n",
    "    'max_features': ['auto', 'sqrt', 'log2'],\n",
    "    'max_depth' : [4,5,6,7,8],\n",
    "    'criterion' :['gini', 'entropy']\n",
    "}"
   ]
  },
  {
   "cell_type": "code",
   "execution_count": 182,
   "metadata": {},
   "outputs": [],
   "source": [
    "from sklearn.model_selection import GridSearchCV"
   ]
  },
  {
   "cell_type": "code",
   "execution_count": 183,
   "metadata": {},
   "outputs": [
    {
     "name": "stderr",
     "output_type": "stream",
     "text": [
      "c:\\Users\\chris\\anaconda3\\lib\\site-packages\\sklearn\\ensemble\\_forest.py:427: FutureWarning: `max_features='auto'` has been deprecated in 1.1 and will be removed in 1.3. To keep the past behaviour, explicitly set `max_features='sqrt'` or remove this parameter as it is also the default value for RandomForestClassifiers and ExtraTreesClassifiers.\n",
      "  warn(\n",
      "c:\\Users\\chris\\anaconda3\\lib\\site-packages\\sklearn\\ensemble\\_forest.py:427: FutureWarning: `max_features='auto'` has been deprecated in 1.1 and will be removed in 1.3. To keep the past behaviour, explicitly set `max_features='sqrt'` or remove this parameter as it is also the default value for RandomForestClassifiers and ExtraTreesClassifiers.\n",
      "  warn(\n",
      "c:\\Users\\chris\\anaconda3\\lib\\site-packages\\sklearn\\ensemble\\_forest.py:427: FutureWarning: `max_features='auto'` has been deprecated in 1.1 and will be removed in 1.3. To keep the past behaviour, explicitly set `max_features='sqrt'` or remove this parameter as it is also the default value for RandomForestClassifiers and ExtraTreesClassifiers.\n",
      "  warn(\n",
      "c:\\Users\\chris\\anaconda3\\lib\\site-packages\\sklearn\\ensemble\\_forest.py:427: FutureWarning: `max_features='auto'` has been deprecated in 1.1 and will be removed in 1.3. To keep the past behaviour, explicitly set `max_features='sqrt'` or remove this parameter as it is also the default value for RandomForestClassifiers and ExtraTreesClassifiers.\n",
      "  warn(\n",
      "c:\\Users\\chris\\anaconda3\\lib\\site-packages\\sklearn\\ensemble\\_forest.py:427: FutureWarning: `max_features='auto'` has been deprecated in 1.1 and will be removed in 1.3. To keep the past behaviour, explicitly set `max_features='sqrt'` or remove this parameter as it is also the default value for RandomForestClassifiers and ExtraTreesClassifiers.\n",
      "  warn(\n",
      "c:\\Users\\chris\\anaconda3\\lib\\site-packages\\sklearn\\ensemble\\_forest.py:427: FutureWarning: `max_features='auto'` has been deprecated in 1.1 and will be removed in 1.3. To keep the past behaviour, explicitly set `max_features='sqrt'` or remove this parameter as it is also the default value for RandomForestClassifiers and ExtraTreesClassifiers.\n",
      "  warn(\n",
      "c:\\Users\\chris\\anaconda3\\lib\\site-packages\\sklearn\\ensemble\\_forest.py:427: FutureWarning: `max_features='auto'` has been deprecated in 1.1 and will be removed in 1.3. To keep the past behaviour, explicitly set `max_features='sqrt'` or remove this parameter as it is also the default value for RandomForestClassifiers and ExtraTreesClassifiers.\n",
      "  warn(\n",
      "c:\\Users\\chris\\anaconda3\\lib\\site-packages\\sklearn\\ensemble\\_forest.py:427: FutureWarning: `max_features='auto'` has been deprecated in 1.1 and will be removed in 1.3. To keep the past behaviour, explicitly set `max_features='sqrt'` or remove this parameter as it is also the default value for RandomForestClassifiers and ExtraTreesClassifiers.\n",
      "  warn(\n",
      "c:\\Users\\chris\\anaconda3\\lib\\site-packages\\sklearn\\ensemble\\_forest.py:427: FutureWarning: `max_features='auto'` has been deprecated in 1.1 and will be removed in 1.3. To keep the past behaviour, explicitly set `max_features='sqrt'` or remove this parameter as it is also the default value for RandomForestClassifiers and ExtraTreesClassifiers.\n",
      "  warn(\n",
      "c:\\Users\\chris\\anaconda3\\lib\\site-packages\\sklearn\\ensemble\\_forest.py:427: FutureWarning: `max_features='auto'` has been deprecated in 1.1 and will be removed in 1.3. To keep the past behaviour, explicitly set `max_features='sqrt'` or remove this parameter as it is also the default value for RandomForestClassifiers and ExtraTreesClassifiers.\n",
      "  warn(\n",
      "c:\\Users\\chris\\anaconda3\\lib\\site-packages\\sklearn\\ensemble\\_forest.py:427: FutureWarning: `max_features='auto'` has been deprecated in 1.1 and will be removed in 1.3. To keep the past behaviour, explicitly set `max_features='sqrt'` or remove this parameter as it is also the default value for RandomForestClassifiers and ExtraTreesClassifiers.\n",
      "  warn(\n",
      "c:\\Users\\chris\\anaconda3\\lib\\site-packages\\sklearn\\ensemble\\_forest.py:427: FutureWarning: `max_features='auto'` has been deprecated in 1.1 and will be removed in 1.3. To keep the past behaviour, explicitly set `max_features='sqrt'` or remove this parameter as it is also the default value for RandomForestClassifiers and ExtraTreesClassifiers.\n",
      "  warn(\n",
      "c:\\Users\\chris\\anaconda3\\lib\\site-packages\\sklearn\\ensemble\\_forest.py:427: FutureWarning: `max_features='auto'` has been deprecated in 1.1 and will be removed in 1.3. To keep the past behaviour, explicitly set `max_features='sqrt'` or remove this parameter as it is also the default value for RandomForestClassifiers and ExtraTreesClassifiers.\n",
      "  warn(\n",
      "c:\\Users\\chris\\anaconda3\\lib\\site-packages\\sklearn\\ensemble\\_forest.py:427: FutureWarning: `max_features='auto'` has been deprecated in 1.1 and will be removed in 1.3. To keep the past behaviour, explicitly set `max_features='sqrt'` or remove this parameter as it is also the default value for RandomForestClassifiers and ExtraTreesClassifiers.\n",
      "  warn(\n",
      "c:\\Users\\chris\\anaconda3\\lib\\site-packages\\sklearn\\ensemble\\_forest.py:427: FutureWarning: `max_features='auto'` has been deprecated in 1.1 and will be removed in 1.3. To keep the past behaviour, explicitly set `max_features='sqrt'` or remove this parameter as it is also the default value for RandomForestClassifiers and ExtraTreesClassifiers.\n",
      "  warn(\n",
      "c:\\Users\\chris\\anaconda3\\lib\\site-packages\\sklearn\\ensemble\\_forest.py:427: FutureWarning: `max_features='auto'` has been deprecated in 1.1 and will be removed in 1.3. To keep the past behaviour, explicitly set `max_features='sqrt'` or remove this parameter as it is also the default value for RandomForestClassifiers and ExtraTreesClassifiers.\n",
      "  warn(\n",
      "c:\\Users\\chris\\anaconda3\\lib\\site-packages\\sklearn\\ensemble\\_forest.py:427: FutureWarning: `max_features='auto'` has been deprecated in 1.1 and will be removed in 1.3. To keep the past behaviour, explicitly set `max_features='sqrt'` or remove this parameter as it is also the default value for RandomForestClassifiers and ExtraTreesClassifiers.\n",
      "  warn(\n",
      "c:\\Users\\chris\\anaconda3\\lib\\site-packages\\sklearn\\ensemble\\_forest.py:427: FutureWarning: `max_features='auto'` has been deprecated in 1.1 and will be removed in 1.3. To keep the past behaviour, explicitly set `max_features='sqrt'` or remove this parameter as it is also the default value for RandomForestClassifiers and ExtraTreesClassifiers.\n",
      "  warn(\n",
      "c:\\Users\\chris\\anaconda3\\lib\\site-packages\\sklearn\\ensemble\\_forest.py:427: FutureWarning: `max_features='auto'` has been deprecated in 1.1 and will be removed in 1.3. To keep the past behaviour, explicitly set `max_features='sqrt'` or remove this parameter as it is also the default value for RandomForestClassifiers and ExtraTreesClassifiers.\n",
      "  warn(\n",
      "c:\\Users\\chris\\anaconda3\\lib\\site-packages\\sklearn\\ensemble\\_forest.py:427: FutureWarning: `max_features='auto'` has been deprecated in 1.1 and will be removed in 1.3. To keep the past behaviour, explicitly set `max_features='sqrt'` or remove this parameter as it is also the default value for RandomForestClassifiers and ExtraTreesClassifiers.\n",
      "  warn(\n",
      "c:\\Users\\chris\\anaconda3\\lib\\site-packages\\sklearn\\ensemble\\_forest.py:427: FutureWarning: `max_features='auto'` has been deprecated in 1.1 and will be removed in 1.3. To keep the past behaviour, explicitly set `max_features='sqrt'` or remove this parameter as it is also the default value for RandomForestClassifiers and ExtraTreesClassifiers.\n",
      "  warn(\n",
      "c:\\Users\\chris\\anaconda3\\lib\\site-packages\\sklearn\\ensemble\\_forest.py:427: FutureWarning: `max_features='auto'` has been deprecated in 1.1 and will be removed in 1.3. To keep the past behaviour, explicitly set `max_features='sqrt'` or remove this parameter as it is also the default value for RandomForestClassifiers and ExtraTreesClassifiers.\n",
      "  warn(\n",
      "c:\\Users\\chris\\anaconda3\\lib\\site-packages\\sklearn\\ensemble\\_forest.py:427: FutureWarning: `max_features='auto'` has been deprecated in 1.1 and will be removed in 1.3. To keep the past behaviour, explicitly set `max_features='sqrt'` or remove this parameter as it is also the default value for RandomForestClassifiers and ExtraTreesClassifiers.\n",
      "  warn(\n",
      "c:\\Users\\chris\\anaconda3\\lib\\site-packages\\sklearn\\ensemble\\_forest.py:427: FutureWarning: `max_features='auto'` has been deprecated in 1.1 and will be removed in 1.3. To keep the past behaviour, explicitly set `max_features='sqrt'` or remove this parameter as it is also the default value for RandomForestClassifiers and ExtraTreesClassifiers.\n",
      "  warn(\n",
      "c:\\Users\\chris\\anaconda3\\lib\\site-packages\\sklearn\\ensemble\\_forest.py:427: FutureWarning: `max_features='auto'` has been deprecated in 1.1 and will be removed in 1.3. To keep the past behaviour, explicitly set `max_features='sqrt'` or remove this parameter as it is also the default value for RandomForestClassifiers and ExtraTreesClassifiers.\n",
      "  warn(\n",
      "c:\\Users\\chris\\anaconda3\\lib\\site-packages\\sklearn\\ensemble\\_forest.py:427: FutureWarning: `max_features='auto'` has been deprecated in 1.1 and will be removed in 1.3. To keep the past behaviour, explicitly set `max_features='sqrt'` or remove this parameter as it is also the default value for RandomForestClassifiers and ExtraTreesClassifiers.\n",
      "  warn(\n",
      "c:\\Users\\chris\\anaconda3\\lib\\site-packages\\sklearn\\ensemble\\_forest.py:427: FutureWarning: `max_features='auto'` has been deprecated in 1.1 and will be removed in 1.3. To keep the past behaviour, explicitly set `max_features='sqrt'` or remove this parameter as it is also the default value for RandomForestClassifiers and ExtraTreesClassifiers.\n",
      "  warn(\n",
      "c:\\Users\\chris\\anaconda3\\lib\\site-packages\\sklearn\\ensemble\\_forest.py:427: FutureWarning: `max_features='auto'` has been deprecated in 1.1 and will be removed in 1.3. To keep the past behaviour, explicitly set `max_features='sqrt'` or remove this parameter as it is also the default value for RandomForestClassifiers and ExtraTreesClassifiers.\n",
      "  warn(\n",
      "c:\\Users\\chris\\anaconda3\\lib\\site-packages\\sklearn\\ensemble\\_forest.py:427: FutureWarning: `max_features='auto'` has been deprecated in 1.1 and will be removed in 1.3. To keep the past behaviour, explicitly set `max_features='sqrt'` or remove this parameter as it is also the default value for RandomForestClassifiers and ExtraTreesClassifiers.\n",
      "  warn(\n",
      "c:\\Users\\chris\\anaconda3\\lib\\site-packages\\sklearn\\ensemble\\_forest.py:427: FutureWarning: `max_features='auto'` has been deprecated in 1.1 and will be removed in 1.3. To keep the past behaviour, explicitly set `max_features='sqrt'` or remove this parameter as it is also the default value for RandomForestClassifiers and ExtraTreesClassifiers.\n",
      "  warn(\n",
      "c:\\Users\\chris\\anaconda3\\lib\\site-packages\\sklearn\\ensemble\\_forest.py:427: FutureWarning: `max_features='auto'` has been deprecated in 1.1 and will be removed in 1.3. To keep the past behaviour, explicitly set `max_features='sqrt'` or remove this parameter as it is also the default value for RandomForestClassifiers and ExtraTreesClassifiers.\n",
      "  warn(\n",
      "c:\\Users\\chris\\anaconda3\\lib\\site-packages\\sklearn\\ensemble\\_forest.py:427: FutureWarning: `max_features='auto'` has been deprecated in 1.1 and will be removed in 1.3. To keep the past behaviour, explicitly set `max_features='sqrt'` or remove this parameter as it is also the default value for RandomForestClassifiers and ExtraTreesClassifiers.\n",
      "  warn(\n",
      "c:\\Users\\chris\\anaconda3\\lib\\site-packages\\sklearn\\ensemble\\_forest.py:427: FutureWarning: `max_features='auto'` has been deprecated in 1.1 and will be removed in 1.3. To keep the past behaviour, explicitly set `max_features='sqrt'` or remove this parameter as it is also the default value for RandomForestClassifiers and ExtraTreesClassifiers.\n",
      "  warn(\n",
      "c:\\Users\\chris\\anaconda3\\lib\\site-packages\\sklearn\\ensemble\\_forest.py:427: FutureWarning: `max_features='auto'` has been deprecated in 1.1 and will be removed in 1.3. To keep the past behaviour, explicitly set `max_features='sqrt'` or remove this parameter as it is also the default value for RandomForestClassifiers and ExtraTreesClassifiers.\n",
      "  warn(\n",
      "c:\\Users\\chris\\anaconda3\\lib\\site-packages\\sklearn\\ensemble\\_forest.py:427: FutureWarning: `max_features='auto'` has been deprecated in 1.1 and will be removed in 1.3. To keep the past behaviour, explicitly set `max_features='sqrt'` or remove this parameter as it is also the default value for RandomForestClassifiers and ExtraTreesClassifiers.\n",
      "  warn(\n",
      "c:\\Users\\chris\\anaconda3\\lib\\site-packages\\sklearn\\ensemble\\_forest.py:427: FutureWarning: `max_features='auto'` has been deprecated in 1.1 and will be removed in 1.3. To keep the past behaviour, explicitly set `max_features='sqrt'` or remove this parameter as it is also the default value for RandomForestClassifiers and ExtraTreesClassifiers.\n",
      "  warn(\n",
      "c:\\Users\\chris\\anaconda3\\lib\\site-packages\\sklearn\\ensemble\\_forest.py:427: FutureWarning: `max_features='auto'` has been deprecated in 1.1 and will be removed in 1.3. To keep the past behaviour, explicitly set `max_features='sqrt'` or remove this parameter as it is also the default value for RandomForestClassifiers and ExtraTreesClassifiers.\n",
      "  warn(\n",
      "c:\\Users\\chris\\anaconda3\\lib\\site-packages\\sklearn\\ensemble\\_forest.py:427: FutureWarning: `max_features='auto'` has been deprecated in 1.1 and will be removed in 1.3. To keep the past behaviour, explicitly set `max_features='sqrt'` or remove this parameter as it is also the default value for RandomForestClassifiers and ExtraTreesClassifiers.\n",
      "  warn(\n",
      "c:\\Users\\chris\\anaconda3\\lib\\site-packages\\sklearn\\ensemble\\_forest.py:427: FutureWarning: `max_features='auto'` has been deprecated in 1.1 and will be removed in 1.3. To keep the past behaviour, explicitly set `max_features='sqrt'` or remove this parameter as it is also the default value for RandomForestClassifiers and ExtraTreesClassifiers.\n",
      "  warn(\n",
      "c:\\Users\\chris\\anaconda3\\lib\\site-packages\\sklearn\\ensemble\\_forest.py:427: FutureWarning: `max_features='auto'` has been deprecated in 1.1 and will be removed in 1.3. To keep the past behaviour, explicitly set `max_features='sqrt'` or remove this parameter as it is also the default value for RandomForestClassifiers and ExtraTreesClassifiers.\n",
      "  warn(\n",
      "c:\\Users\\chris\\anaconda3\\lib\\site-packages\\sklearn\\ensemble\\_forest.py:427: FutureWarning: `max_features='auto'` has been deprecated in 1.1 and will be removed in 1.3. To keep the past behaviour, explicitly set `max_features='sqrt'` or remove this parameter as it is also the default value for RandomForestClassifiers and ExtraTreesClassifiers.\n",
      "  warn(\n",
      "c:\\Users\\chris\\anaconda3\\lib\\site-packages\\sklearn\\ensemble\\_forest.py:427: FutureWarning: `max_features='auto'` has been deprecated in 1.1 and will be removed in 1.3. To keep the past behaviour, explicitly set `max_features='sqrt'` or remove this parameter as it is also the default value for RandomForestClassifiers and ExtraTreesClassifiers.\n",
      "  warn(\n",
      "c:\\Users\\chris\\anaconda3\\lib\\site-packages\\sklearn\\ensemble\\_forest.py:427: FutureWarning: `max_features='auto'` has been deprecated in 1.1 and will be removed in 1.3. To keep the past behaviour, explicitly set `max_features='sqrt'` or remove this parameter as it is also the default value for RandomForestClassifiers and ExtraTreesClassifiers.\n",
      "  warn(\n",
      "c:\\Users\\chris\\anaconda3\\lib\\site-packages\\sklearn\\ensemble\\_forest.py:427: FutureWarning: `max_features='auto'` has been deprecated in 1.1 and will be removed in 1.3. To keep the past behaviour, explicitly set `max_features='sqrt'` or remove this parameter as it is also the default value for RandomForestClassifiers and ExtraTreesClassifiers.\n",
      "  warn(\n",
      "c:\\Users\\chris\\anaconda3\\lib\\site-packages\\sklearn\\ensemble\\_forest.py:427: FutureWarning: `max_features='auto'` has been deprecated in 1.1 and will be removed in 1.3. To keep the past behaviour, explicitly set `max_features='sqrt'` or remove this parameter as it is also the default value for RandomForestClassifiers and ExtraTreesClassifiers.\n",
      "  warn(\n",
      "c:\\Users\\chris\\anaconda3\\lib\\site-packages\\sklearn\\ensemble\\_forest.py:427: FutureWarning: `max_features='auto'` has been deprecated in 1.1 and will be removed in 1.3. To keep the past behaviour, explicitly set `max_features='sqrt'` or remove this parameter as it is also the default value for RandomForestClassifiers and ExtraTreesClassifiers.\n",
      "  warn(\n",
      "c:\\Users\\chris\\anaconda3\\lib\\site-packages\\sklearn\\ensemble\\_forest.py:427: FutureWarning: `max_features='auto'` has been deprecated in 1.1 and will be removed in 1.3. To keep the past behaviour, explicitly set `max_features='sqrt'` or remove this parameter as it is also the default value for RandomForestClassifiers and ExtraTreesClassifiers.\n",
      "  warn(\n",
      "c:\\Users\\chris\\anaconda3\\lib\\site-packages\\sklearn\\ensemble\\_forest.py:427: FutureWarning: `max_features='auto'` has been deprecated in 1.1 and will be removed in 1.3. To keep the past behaviour, explicitly set `max_features='sqrt'` or remove this parameter as it is also the default value for RandomForestClassifiers and ExtraTreesClassifiers.\n",
      "  warn(\n",
      "c:\\Users\\chris\\anaconda3\\lib\\site-packages\\sklearn\\ensemble\\_forest.py:427: FutureWarning: `max_features='auto'` has been deprecated in 1.1 and will be removed in 1.3. To keep the past behaviour, explicitly set `max_features='sqrt'` or remove this parameter as it is also the default value for RandomForestClassifiers and ExtraTreesClassifiers.\n",
      "  warn(\n",
      "c:\\Users\\chris\\anaconda3\\lib\\site-packages\\sklearn\\ensemble\\_forest.py:427: FutureWarning: `max_features='auto'` has been deprecated in 1.1 and will be removed in 1.3. To keep the past behaviour, explicitly set `max_features='sqrt'` or remove this parameter as it is also the default value for RandomForestClassifiers and ExtraTreesClassifiers.\n",
      "  warn(\n"
     ]
    },
    {
     "data": {
      "text/html": [
       "<style>#sk-container-id-3 {color: black;background-color: white;}#sk-container-id-3 pre{padding: 0;}#sk-container-id-3 div.sk-toggleable {background-color: white;}#sk-container-id-3 label.sk-toggleable__label {cursor: pointer;display: block;width: 100%;margin-bottom: 0;padding: 0.3em;box-sizing: border-box;text-align: center;}#sk-container-id-3 label.sk-toggleable__label-arrow:before {content: \"▸\";float: left;margin-right: 0.25em;color: #696969;}#sk-container-id-3 label.sk-toggleable__label-arrow:hover:before {color: black;}#sk-container-id-3 div.sk-estimator:hover label.sk-toggleable__label-arrow:before {color: black;}#sk-container-id-3 div.sk-toggleable__content {max-height: 0;max-width: 0;overflow: hidden;text-align: left;background-color: #f0f8ff;}#sk-container-id-3 div.sk-toggleable__content pre {margin: 0.2em;color: black;border-radius: 0.25em;background-color: #f0f8ff;}#sk-container-id-3 input.sk-toggleable__control:checked~div.sk-toggleable__content {max-height: 200px;max-width: 100%;overflow: auto;}#sk-container-id-3 input.sk-toggleable__control:checked~label.sk-toggleable__label-arrow:before {content: \"▾\";}#sk-container-id-3 div.sk-estimator input.sk-toggleable__control:checked~label.sk-toggleable__label {background-color: #d4ebff;}#sk-container-id-3 div.sk-label input.sk-toggleable__control:checked~label.sk-toggleable__label {background-color: #d4ebff;}#sk-container-id-3 input.sk-hidden--visually {border: 0;clip: rect(1px 1px 1px 1px);clip: rect(1px, 1px, 1px, 1px);height: 1px;margin: -1px;overflow: hidden;padding: 0;position: absolute;width: 1px;}#sk-container-id-3 div.sk-estimator {font-family: monospace;background-color: #f0f8ff;border: 1px dotted black;border-radius: 0.25em;box-sizing: border-box;margin-bottom: 0.5em;}#sk-container-id-3 div.sk-estimator:hover {background-color: #d4ebff;}#sk-container-id-3 div.sk-parallel-item::after {content: \"\";width: 100%;border-bottom: 1px solid gray;flex-grow: 1;}#sk-container-id-3 div.sk-label:hover label.sk-toggleable__label {background-color: #d4ebff;}#sk-container-id-3 div.sk-serial::before {content: \"\";position: absolute;border-left: 1px solid gray;box-sizing: border-box;top: 0;bottom: 0;left: 50%;z-index: 0;}#sk-container-id-3 div.sk-serial {display: flex;flex-direction: column;align-items: center;background-color: white;padding-right: 0.2em;padding-left: 0.2em;position: relative;}#sk-container-id-3 div.sk-item {position: relative;z-index: 1;}#sk-container-id-3 div.sk-parallel {display: flex;align-items: stretch;justify-content: center;background-color: white;position: relative;}#sk-container-id-3 div.sk-item::before, #sk-container-id-3 div.sk-parallel-item::before {content: \"\";position: absolute;border-left: 1px solid gray;box-sizing: border-box;top: 0;bottom: 0;left: 50%;z-index: -1;}#sk-container-id-3 div.sk-parallel-item {display: flex;flex-direction: column;z-index: 1;position: relative;background-color: white;}#sk-container-id-3 div.sk-parallel-item:first-child::after {align-self: flex-end;width: 50%;}#sk-container-id-3 div.sk-parallel-item:last-child::after {align-self: flex-start;width: 50%;}#sk-container-id-3 div.sk-parallel-item:only-child::after {width: 0;}#sk-container-id-3 div.sk-dashed-wrapped {border: 1px dashed gray;margin: 0 0.4em 0.5em 0.4em;box-sizing: border-box;padding-bottom: 0.4em;background-color: white;}#sk-container-id-3 div.sk-label label {font-family: monospace;font-weight: bold;display: inline-block;line-height: 1.2em;}#sk-container-id-3 div.sk-label-container {text-align: center;}#sk-container-id-3 div.sk-container {/* jupyter's `normalize.less` sets `[hidden] { display: none; }` but bootstrap.min.css set `[hidden] { display: none !important; }` so we also need the `!important` here to be able to override the default hidden behavior on the sphinx rendered scikit-learn.org. See: https://github.com/scikit-learn/scikit-learn/issues/21755 */display: inline-block !important;position: relative;}#sk-container-id-3 div.sk-text-repr-fallback {display: none;}</style><div id=\"sk-container-id-3\" class=\"sk-top-container\"><div class=\"sk-text-repr-fallback\"><pre>GridSearchCV(cv=5, estimator=RandomForestClassifier(),\n",
       "             param_grid={&#x27;criterion&#x27;: [&#x27;gini&#x27;, &#x27;entropy&#x27;],\n",
       "                         &#x27;max_depth&#x27;: [4, 5, 6, 7, 8],\n",
       "                         &#x27;max_features&#x27;: [&#x27;auto&#x27;, &#x27;sqrt&#x27;, &#x27;log2&#x27;]})</pre><b>In a Jupyter environment, please rerun this cell to show the HTML representation or trust the notebook. <br />On GitHub, the HTML representation is unable to render, please try loading this page with nbviewer.org.</b></div><div class=\"sk-container\" hidden><div class=\"sk-item sk-dashed-wrapped\"><div class=\"sk-label-container\"><div class=\"sk-label sk-toggleable\"><input class=\"sk-toggleable__control sk-hidden--visually\" id=\"sk-estimator-id-3\" type=\"checkbox\" ><label for=\"sk-estimator-id-3\" class=\"sk-toggleable__label sk-toggleable__label-arrow\">GridSearchCV</label><div class=\"sk-toggleable__content\"><pre>GridSearchCV(cv=5, estimator=RandomForestClassifier(),\n",
       "             param_grid={&#x27;criterion&#x27;: [&#x27;gini&#x27;, &#x27;entropy&#x27;],\n",
       "                         &#x27;max_depth&#x27;: [4, 5, 6, 7, 8],\n",
       "                         &#x27;max_features&#x27;: [&#x27;auto&#x27;, &#x27;sqrt&#x27;, &#x27;log2&#x27;]})</pre></div></div></div><div class=\"sk-parallel\"><div class=\"sk-parallel-item\"><div class=\"sk-item\"><div class=\"sk-label-container\"><div class=\"sk-label sk-toggleable\"><input class=\"sk-toggleable__control sk-hidden--visually\" id=\"sk-estimator-id-4\" type=\"checkbox\" ><label for=\"sk-estimator-id-4\" class=\"sk-toggleable__label sk-toggleable__label-arrow\">estimator: RandomForestClassifier</label><div class=\"sk-toggleable__content\"><pre>RandomForestClassifier()</pre></div></div></div><div class=\"sk-serial\"><div class=\"sk-item\"><div class=\"sk-estimator sk-toggleable\"><input class=\"sk-toggleable__control sk-hidden--visually\" id=\"sk-estimator-id-5\" type=\"checkbox\" ><label for=\"sk-estimator-id-5\" class=\"sk-toggleable__label sk-toggleable__label-arrow\">RandomForestClassifier</label><div class=\"sk-toggleable__content\"><pre>RandomForestClassifier()</pre></div></div></div></div></div></div></div></div></div></div>"
      ],
      "text/plain": [
       "GridSearchCV(cv=5, estimator=RandomForestClassifier(),\n",
       "             param_grid={'criterion': ['gini', 'entropy'],\n",
       "                         'max_depth': [4, 5, 6, 7, 8],\n",
       "                         'max_features': ['auto', 'sqrt', 'log2']})"
      ]
     },
     "execution_count": 183,
     "metadata": {},
     "output_type": "execute_result"
    }
   ],
   "source": [
    "CV_rfc = GridSearchCV(estimator=rf, param_grid=param_grid, cv= 5)\n",
    "CV_rfc.fit(x_train, y_train)"
   ]
  },
  {
   "cell_type": "code",
   "execution_count": 184,
   "metadata": {},
   "outputs": [
    {
     "data": {
      "text/plain": [
       "{'criterion': 'entropy', 'max_depth': 8, 'max_features': 'log2'}"
      ]
     },
     "execution_count": 184,
     "metadata": {},
     "output_type": "execute_result"
    }
   ],
   "source": [
    "CV_rfc.best_params_"
   ]
  },
  {
   "cell_type": "code",
   "execution_count": 185,
   "metadata": {},
   "outputs": [],
   "source": [
    "rf2=RandomForestClassifier(max_features='log2', max_depth=8, criterion='entropy')"
   ]
  },
  {
   "cell_type": "code",
   "execution_count": 186,
   "metadata": {},
   "outputs": [
    {
     "data": {
      "text/html": [
       "<style>#sk-container-id-4 {color: black;background-color: white;}#sk-container-id-4 pre{padding: 0;}#sk-container-id-4 div.sk-toggleable {background-color: white;}#sk-container-id-4 label.sk-toggleable__label {cursor: pointer;display: block;width: 100%;margin-bottom: 0;padding: 0.3em;box-sizing: border-box;text-align: center;}#sk-container-id-4 label.sk-toggleable__label-arrow:before {content: \"▸\";float: left;margin-right: 0.25em;color: #696969;}#sk-container-id-4 label.sk-toggleable__label-arrow:hover:before {color: black;}#sk-container-id-4 div.sk-estimator:hover label.sk-toggleable__label-arrow:before {color: black;}#sk-container-id-4 div.sk-toggleable__content {max-height: 0;max-width: 0;overflow: hidden;text-align: left;background-color: #f0f8ff;}#sk-container-id-4 div.sk-toggleable__content pre {margin: 0.2em;color: black;border-radius: 0.25em;background-color: #f0f8ff;}#sk-container-id-4 input.sk-toggleable__control:checked~div.sk-toggleable__content {max-height: 200px;max-width: 100%;overflow: auto;}#sk-container-id-4 input.sk-toggleable__control:checked~label.sk-toggleable__label-arrow:before {content: \"▾\";}#sk-container-id-4 div.sk-estimator input.sk-toggleable__control:checked~label.sk-toggleable__label {background-color: #d4ebff;}#sk-container-id-4 div.sk-label input.sk-toggleable__control:checked~label.sk-toggleable__label {background-color: #d4ebff;}#sk-container-id-4 input.sk-hidden--visually {border: 0;clip: rect(1px 1px 1px 1px);clip: rect(1px, 1px, 1px, 1px);height: 1px;margin: -1px;overflow: hidden;padding: 0;position: absolute;width: 1px;}#sk-container-id-4 div.sk-estimator {font-family: monospace;background-color: #f0f8ff;border: 1px dotted black;border-radius: 0.25em;box-sizing: border-box;margin-bottom: 0.5em;}#sk-container-id-4 div.sk-estimator:hover {background-color: #d4ebff;}#sk-container-id-4 div.sk-parallel-item::after {content: \"\";width: 100%;border-bottom: 1px solid gray;flex-grow: 1;}#sk-container-id-4 div.sk-label:hover label.sk-toggleable__label {background-color: #d4ebff;}#sk-container-id-4 div.sk-serial::before {content: \"\";position: absolute;border-left: 1px solid gray;box-sizing: border-box;top: 0;bottom: 0;left: 50%;z-index: 0;}#sk-container-id-4 div.sk-serial {display: flex;flex-direction: column;align-items: center;background-color: white;padding-right: 0.2em;padding-left: 0.2em;position: relative;}#sk-container-id-4 div.sk-item {position: relative;z-index: 1;}#sk-container-id-4 div.sk-parallel {display: flex;align-items: stretch;justify-content: center;background-color: white;position: relative;}#sk-container-id-4 div.sk-item::before, #sk-container-id-4 div.sk-parallel-item::before {content: \"\";position: absolute;border-left: 1px solid gray;box-sizing: border-box;top: 0;bottom: 0;left: 50%;z-index: -1;}#sk-container-id-4 div.sk-parallel-item {display: flex;flex-direction: column;z-index: 1;position: relative;background-color: white;}#sk-container-id-4 div.sk-parallel-item:first-child::after {align-self: flex-end;width: 50%;}#sk-container-id-4 div.sk-parallel-item:last-child::after {align-self: flex-start;width: 50%;}#sk-container-id-4 div.sk-parallel-item:only-child::after {width: 0;}#sk-container-id-4 div.sk-dashed-wrapped {border: 1px dashed gray;margin: 0 0.4em 0.5em 0.4em;box-sizing: border-box;padding-bottom: 0.4em;background-color: white;}#sk-container-id-4 div.sk-label label {font-family: monospace;font-weight: bold;display: inline-block;line-height: 1.2em;}#sk-container-id-4 div.sk-label-container {text-align: center;}#sk-container-id-4 div.sk-container {/* jupyter's `normalize.less` sets `[hidden] { display: none; }` but bootstrap.min.css set `[hidden] { display: none !important; }` so we also need the `!important` here to be able to override the default hidden behavior on the sphinx rendered scikit-learn.org. See: https://github.com/scikit-learn/scikit-learn/issues/21755 */display: inline-block !important;position: relative;}#sk-container-id-4 div.sk-text-repr-fallback {display: none;}</style><div id=\"sk-container-id-4\" class=\"sk-top-container\"><div class=\"sk-text-repr-fallback\"><pre>RandomForestClassifier(criterion=&#x27;entropy&#x27;, max_depth=8, max_features=&#x27;log2&#x27;)</pre><b>In a Jupyter environment, please rerun this cell to show the HTML representation or trust the notebook. <br />On GitHub, the HTML representation is unable to render, please try loading this page with nbviewer.org.</b></div><div class=\"sk-container\" hidden><div class=\"sk-item\"><div class=\"sk-estimator sk-toggleable\"><input class=\"sk-toggleable__control sk-hidden--visually\" id=\"sk-estimator-id-6\" type=\"checkbox\" checked><label for=\"sk-estimator-id-6\" class=\"sk-toggleable__label sk-toggleable__label-arrow\">RandomForestClassifier</label><div class=\"sk-toggleable__content\"><pre>RandomForestClassifier(criterion=&#x27;entropy&#x27;, max_depth=8, max_features=&#x27;log2&#x27;)</pre></div></div></div></div></div>"
      ],
      "text/plain": [
       "RandomForestClassifier(criterion='entropy', max_depth=8, max_features='log2')"
      ]
     },
     "execution_count": 186,
     "metadata": {},
     "output_type": "execute_result"
    }
   ],
   "source": [
    "rf2.fit(x_train,y_train)"
   ]
  },
  {
   "cell_type": "code",
   "execution_count": 187,
   "metadata": {},
   "outputs": [],
   "source": [
    "rf2_pred = rf2.predict(x_test)"
   ]
  },
  {
   "cell_type": "code",
   "execution_count": 188,
   "metadata": {},
   "outputs": [
    {
     "name": "stdout",
     "output_type": "stream",
     "text": [
      "              precision    recall  f1-score   support\n",
      "\n",
      "        Left       0.83      0.94      0.88       354\n",
      "      Stayed       0.93      0.81      0.87       358\n",
      "\n",
      "    accuracy                           0.87       712\n",
      "   macro avg       0.88      0.87      0.87       712\n",
      "weighted avg       0.88      0.87      0.87       712\n",
      "\n"
     ]
    }
   ],
   "source": [
    "target_names = ['Left','Stayed']\n",
    "print(classification_report(y_test, rf2_pred, target_names=target_names))"
   ]
  },
  {
   "cell_type": "code",
   "execution_count": 191,
   "metadata": {},
   "outputs": [
    {
     "data": {
      "text/plain": [
       "0.9267515923566879"
      ]
     },
     "execution_count": 191,
     "metadata": {},
     "output_type": "execute_result"
    }
   ],
   "source": [
    "precision_score(y_test, rf2_pred)"
   ]
  },
  {
   "cell_type": "code",
   "execution_count": 192,
   "metadata": {},
   "outputs": [
    {
     "data": {
      "text/plain": [
       "0.8128491620111732"
      ]
     },
     "execution_count": 192,
     "metadata": {},
     "output_type": "execute_result"
    }
   ],
   "source": [
    "recall_score(y_test, rf2_pred)"
   ]
  },
  {
   "cell_type": "code",
   "execution_count": 189,
   "metadata": {},
   "outputs": [
    {
     "data": {
      "text/plain": [
       "Text(0, 0.5, 'True Positive Rate')"
      ]
     },
     "execution_count": 189,
     "metadata": {},
     "output_type": "execute_result"
    },
    {
     "data": {
      "image/png": "[encoded data removed]",
      "text/plain": [
       "<Figure size 432x288 with 1 Axes>"
      ]
     },
     "metadata": {
      "needs_background": "light"
     },
     "output_type": "display_data"
    }
   ],
   "source": [
    "fpr, tpr, thresholds = roc_curve(y_test, rf2_pred)\n",
    "import matplotlib.pyplot as plt\n",
    "plt.plot(fpr,tpr)\n",
    "plt.xlabel('False Positive Rate')\n",
    "plt.ylabel('True Positive Rate')"
   ]
  },
  {
   "cell_type": "markdown",
   "metadata": {},
   "source": [
    "Very similar results to original random forest"
   ]
  },
  {
   "cell_type": "code",
   "execution_count": 193,
   "metadata": {},
   "outputs": [
    {
     "data": {
      "image/png": "[encoded data removed]",
      "text/plain": [
       "<Figure size 432x288 with 1 Axes>"
      ]
     },
     "metadata": {
      "needs_background": "light"
     },
     "output_type": "display_data"
    }
   ],
   "source": [
    "importances =rf2.feature_importances_\n",
    "feature_names = [x for i,x in enumerate(data.columns) if i!=2]\n",
    "feature_names\n",
    "import matplotlib.pyplot as plt\n",
    "import numpy as np\n",
    "forest_importances = pd.Series(importances, index=feature_names)\n",
    "std = np.std([tree.feature_importances_ for tree in rf2.estimators_], axis=0)\n",
    "\n",
    "fig, ax = plt.subplots()\n",
    "forest_importances.plot.bar(yerr=std, ax=ax)\n",
    "ax.set_title(\"Feature importances using MDI\")\n",
    "ax.set_ylabel(\"Mean decrease in impurity\")\n",
    "fig.tight_layout()"
   ]
  },
  {
   "cell_type": "markdown",
   "metadata": {},
   "source": [
    "The feature importance graph identifies that Years at the company and years since last promotion were the most important factors in determining attrition."
   ]
  },
  {
   "cell_type": "markdown",
   "metadata": {},
   "source": [
    "SMOTE"
   ]
  },
  {
   "cell_type": "markdown",
   "metadata": {},
   "source": [
    "Lets Try Random Forest with balanced classes (Not really necessary since they were already fairly balanced, but lets give it a shot)"
   ]
  },
  {
   "cell_type": "code",
   "execution_count": 194,
   "metadata": {},
   "outputs": [],
   "source": [
    "from imblearn.over_sampling import SMOTE"
   ]
  },
  {
   "cell_type": "code",
   "execution_count": 195,
   "metadata": {},
   "outputs": [],
   "source": [
    "smote = SMOTE()"
   ]
  },
  {
   "cell_type": "code",
   "execution_count": 196,
   "metadata": {},
   "outputs": [],
   "source": [
    "x_train_smote, y_train_smote = smote.fit_resample(x_train, y_train)"
   ]
  },
  {
   "cell_type": "code",
   "execution_count": 197,
   "metadata": {},
   "outputs": [
    {
     "name": "stdout",
     "output_type": "stream",
     "text": [
      "Before: Counter({0: 847, 1: 812})\n",
      "After: Counter({0: 847, 1: 847})\n"
     ]
    }
   ],
   "source": [
    "from collections import Counter #balancing done \n",
    "print(\"Before:\", Counter(y_train))\n",
    "print(\"After:\", Counter(y_train_smote))"
   ]
  },
  {
   "cell_type": "code",
   "execution_count": 198,
   "metadata": {},
   "outputs": [
    {
     "data": {
      "text/plain": [
       "(array([847.,   0.,   0.,   0.,   0.,   0.,   0.,   0.,   0., 847.]),\n",
       " array([0. , 0.1, 0.2, 0.3, 0.4, 0.5, 0.6, 0.7, 0.8, 0.9, 1. ]),\n",
       " <BarContainer object of 10 artists>)"
      ]
     },
     "execution_count": 198,
     "metadata": {},
     "output_type": "execute_result"
    },
    {
     "data": {
      "image/png": "[encoded data removed]",
      "text/plain": [
       "<Figure size 432x288 with 1 Axes>"
      ]
     },
     "metadata": {
      "needs_background": "light"
     },
     "output_type": "display_data"
    }
   ],
   "source": [
    "plt.hist(y_train_smote)"
   ]
  },
  {
   "cell_type": "markdown",
   "metadata": {},
   "source": [
    "Random Forest with Balanced Data"
   ]
  },
  {
   "cell_type": "code",
   "execution_count": 199,
   "metadata": {},
   "outputs": [],
   "source": [
    "rf3=RandomForestClassifier(max_features='log2', max_depth=6, criterion='gini')"
   ]
  },
  {
   "cell_type": "code",
   "execution_count": 200,
   "metadata": {},
   "outputs": [
    {
     "data": {
      "text/html": [
       "<style>#sk-container-id-5 {color: black;background-color: white;}#sk-container-id-5 pre{padding: 0;}#sk-container-id-5 div.sk-toggleable {background-color: white;}#sk-container-id-5 label.sk-toggleable__label {cursor: pointer;display: block;width: 100%;margin-bottom: 0;padding: 0.3em;box-sizing: border-box;text-align: center;}#sk-container-id-5 label.sk-toggleable__label-arrow:before {content: \"▸\";float: left;margin-right: 0.25em;color: #696969;}#sk-container-id-5 label.sk-toggleable__label-arrow:hover:before {color: black;}#sk-container-id-5 div.sk-estimator:hover label.sk-toggleable__label-arrow:before {color: black;}#sk-container-id-5 div.sk-toggleable__content {max-height: 0;max-width: 0;overflow: hidden;text-align: left;background-color: #f0f8ff;}#sk-container-id-5 div.sk-toggleable__content pre {margin: 0.2em;color: black;border-radius: 0.25em;background-color: #f0f8ff;}#sk-container-id-5 input.sk-toggleable__control:checked~div.sk-toggleable__content {max-height: 200px;max-width: 100%;overflow: auto;}#sk-container-id-5 input.sk-toggleable__control:checked~label.sk-toggleable__label-arrow:before {content: \"▾\";}#sk-container-id-5 div.sk-estimator input.sk-toggleable__control:checked~label.sk-toggleable__label {background-color: #d4ebff;}#sk-container-id-5 div.sk-label input.sk-toggleable__control:checked~label.sk-toggleable__label {background-color: #d4ebff;}#sk-container-id-5 input.sk-hidden--visually {border: 0;clip: rect(1px 1px 1px 1px);clip: rect(1px, 1px, 1px, 1px);height: 1px;margin: -1px;overflow: hidden;padding: 0;position: absolute;width: 1px;}#sk-container-id-5 div.sk-estimator {font-family: monospace;background-color: #f0f8ff;border: 1px dotted black;border-radius: 0.25em;box-sizing: border-box;margin-bottom: 0.5em;}#sk-container-id-5 div.sk-estimator:hover {background-color: #d4ebff;}#sk-container-id-5 div.sk-parallel-item::after {content: \"\";width: 100%;border-bottom: 1px solid gray;flex-grow: 1;}#sk-container-id-5 div.sk-label:hover label.sk-toggleable__label {background-color: #d4ebff;}#sk-container-id-5 div.sk-serial::before {content: \"\";position: absolute;border-left: 1px solid gray;box-sizing: border-box;top: 0;bottom: 0;left: 50%;z-index: 0;}#sk-container-id-5 div.sk-serial {display: flex;flex-direction: column;align-items: center;background-color: white;padding-right: 0.2em;padding-left: 0.2em;position: relative;}#sk-container-id-5 div.sk-item {position: relative;z-index: 1;}#sk-container-id-5 div.sk-parallel {display: flex;align-items: stretch;justify-content: center;background-color: white;position: relative;}#sk-container-id-5 div.sk-item::before, #sk-container-id-5 div.sk-parallel-item::before {content: \"\";position: absolute;border-left: 1px solid gray;box-sizing: border-box;top: 0;bottom: 0;left: 50%;z-index: -1;}#sk-container-id-5 div.sk-parallel-item {display: flex;flex-direction: column;z-index: 1;position: relative;background-color: white;}#sk-container-id-5 div.sk-parallel-item:first-child::after {align-self: flex-end;width: 50%;}#sk-container-id-5 div.sk-parallel-item:last-child::after {align-self: flex-start;width: 50%;}#sk-container-id-5 div.sk-parallel-item:only-child::after {width: 0;}#sk-container-id-5 div.sk-dashed-wrapped {border: 1px dashed gray;margin: 0 0.4em 0.5em 0.4em;box-sizing: border-box;padding-bottom: 0.4em;background-color: white;}#sk-container-id-5 div.sk-label label {font-family: monospace;font-weight: bold;display: inline-block;line-height: 1.2em;}#sk-container-id-5 div.sk-label-container {text-align: center;}#sk-container-id-5 div.sk-container {/* jupyter's `normalize.less` sets `[hidden] { display: none; }` but bootstrap.min.css set `[hidden] { display: none !important; }` so we also need the `!important` here to be able to override the default hidden behavior on the sphinx rendered scikit-learn.org. See: https://github.com/scikit-learn/scikit-learn/issues/21755 */display: inline-block !important;position: relative;}#sk-container-id-5 div.sk-text-repr-fallback {display: none;}</style><div id=\"sk-container-id-5\" class=\"sk-top-container\"><div class=\"sk-text-repr-fallback\"><pre>RandomForestClassifier(max_depth=6, max_features=&#x27;log2&#x27;)</pre><b>In a Jupyter environment, please rerun this cell to show the HTML representation or trust the notebook. <br />On GitHub, the HTML representation is unable to render, please try loading this page with nbviewer.org.</b></div><div class=\"sk-container\" hidden><div class=\"sk-item\"><div class=\"sk-estimator sk-toggleable\"><input class=\"sk-toggleable__control sk-hidden--visually\" id=\"sk-estimator-id-7\" type=\"checkbox\" checked><label for=\"sk-estimator-id-7\" class=\"sk-toggleable__label sk-toggleable__label-arrow\">RandomForestClassifier</label><div class=\"sk-toggleable__content\"><pre>RandomForestClassifier(max_depth=6, max_features=&#x27;log2&#x27;)</pre></div></div></div></div></div>"
      ],
      "text/plain": [
       "RandomForestClassifier(max_depth=6, max_features='log2')"
      ]
     },
     "execution_count": 200,
     "metadata": {},
     "output_type": "execute_result"
    }
   ],
   "source": [
    "rf3.fit(x_train_smote,y_train_smote)"
   ]
  },
  {
   "cell_type": "code",
   "execution_count": 202,
   "metadata": {},
   "outputs": [],
   "source": [
    "rf3_pred = rf3.predict(x_test)"
   ]
  },
  {
   "cell_type": "code",
   "execution_count": 203,
   "metadata": {},
   "outputs": [
    {
     "name": "stdout",
     "output_type": "stream",
     "text": [
      "              precision    recall  f1-score   support\n",
      "\n",
      "        Left       0.82      0.92      0.87       354\n",
      "      Stayed       0.91      0.80      0.85       358\n",
      "\n",
      "    accuracy                           0.86       712\n",
      "   macro avg       0.86      0.86      0.86       712\n",
      "weighted avg       0.86      0.86      0.86       712\n",
      "\n"
     ]
    }
   ],
   "source": [
    "target_names = ['Left','Stayed']\n",
    "print(classification_report(y_test, rf3_pred, target_names=target_names))"
   ]
  },
  {
   "cell_type": "code",
   "execution_count": 205,
   "metadata": {},
   "outputs": [
    {
     "data": {
      "text/plain": [
       "0.9079365079365079"
      ]
     },
     "execution_count": 205,
     "metadata": {},
     "output_type": "execute_result"
    }
   ],
   "source": [
    "precision_score(y_test, rf3_pred)"
   ]
  },
  {
   "cell_type": "code",
   "execution_count": 206,
   "metadata": {},
   "outputs": [
    {
     "data": {
      "text/plain": [
       "0.7988826815642458"
      ]
     },
     "execution_count": 206,
     "metadata": {},
     "output_type": "execute_result"
    }
   ],
   "source": [
    "recall_score(y_test, rf3_pred)"
   ]
  },
  {
   "cell_type": "code",
   "execution_count": 207,
   "metadata": {},
   "outputs": [
    {
     "data": {
      "text/plain": [
       "Text(0, 0.5, 'True Positive Rate')"
      ]
     },
     "execution_count": 207,
     "metadata": {},
     "output_type": "execute_result"
    },
    {
     "data": {
      "image/png": "[encoded data removed]",
      "text/plain": [
       "<Figure size 432x288 with 1 Axes>"
      ]
     },
     "metadata": {
      "needs_background": "light"
     },
     "output_type": "display_data"
    }
   ],
   "source": [
    "fpr, tpr, thresholds = roc_curve(y_test, rf3_pred)\n",
    "import matplotlib.pyplot as plt\n",
    "plt.plot(fpr,tpr)\n",
    "plt.xlabel('False Positive Rate')\n",
    "plt.ylabel('True Positive Rate')"
   ]
  },
  {
   "cell_type": "markdown",
   "metadata": {},
   "source": [
    "Similar results as expected"
   ]
  },
  {
   "cell_type": "code",
   "execution_count": 208,
   "metadata": {},
   "outputs": [
    {
     "data": {
      "image/png": "[encoded data removed]",
      "text/plain": [
       "<Figure size 432x288 with 1 Axes>"
      ]
     },
     "metadata": {
      "needs_background": "light"
     },
     "output_type": "display_data"
    }
   ],
   "source": [
    "importances =rf2.feature_importances_\n",
    "feature_names = [x for i,x in enumerate(data.columns) if i!=2]\n",
    "feature_names\n",
    "import matplotlib.pyplot as plt\n",
    "import numpy as np\n",
    "forest_importances = pd.Series(importances, index=feature_names)\n",
    "std = np.std([tree.feature_importances_ for tree in rf2.estimators_], axis=0)\n",
    "\n",
    "fig, ax = plt.subplots()\n",
    "forest_importances.plot.bar(yerr=std, ax=ax)\n",
    "ax.set_title(\"Feature importances using MDI\")\n",
    "ax.set_ylabel(\"Mean decrease in impurity\")\n",
    "fig.tight_layout()"
   ]
  },
  {
   "cell_type": "markdown",
   "metadata": {},
   "source": [
    "AdaBoost Classifier"
   ]
  },
  {
   "cell_type": "markdown",
   "metadata": {},
   "source": [
    "Adaboost is a boosting ensemble method that is similar to random forest, but trees do not get equal votes like in random forest."
   ]
  },
  {
   "cell_type": "code",
   "execution_count": 209,
   "metadata": {},
   "outputs": [],
   "source": [
    "from sklearn.ensemble import AdaBoostClassifier"
   ]
  },
  {
   "cell_type": "code",
   "execution_count": 210,
   "metadata": {},
   "outputs": [],
   "source": [
    "adaBoost = AdaBoostClassifier(base_estimator=None,\n",
    "                              learning_rate=1.0,\n",
    "                              n_estimators=100)"
   ]
  },
  {
   "cell_type": "code",
   "execution_count": 211,
   "metadata": {},
   "outputs": [],
   "source": [
    "ada_model = adaBoost.fit(x_train, y_train)"
   ]
  },
  {
   "cell_type": "code",
   "execution_count": 212,
   "metadata": {},
   "outputs": [],
   "source": [
    "ada_pred = adaBoost.predict(x_test)"
   ]
  },
  {
   "cell_type": "code",
   "execution_count": 213,
   "metadata": {},
   "outputs": [],
   "source": [
    "ada_model2 = adaBoost.fit(x_train_smote, y_train_smote)"
   ]
  },
  {
   "cell_type": "code",
   "execution_count": 214,
   "metadata": {},
   "outputs": [],
   "source": [
    "ada_pred2 = adaBoost.predict(x_test)"
   ]
  },
  {
   "cell_type": "code",
   "execution_count": 215,
   "metadata": {},
   "outputs": [
    {
     "name": "stdout",
     "output_type": "stream",
     "text": [
      "              precision    recall  f1-score   support\n",
      "\n",
      "        Left       0.86      0.90      0.88       354\n",
      "      Stayed       0.89      0.85      0.87       358\n",
      "\n",
      "    accuracy                           0.88       712\n",
      "   macro avg       0.88      0.88      0.88       712\n",
      "weighted avg       0.88      0.88      0.88       712\n",
      "\n"
     ]
    }
   ],
   "source": [
    "target_names = ['Left','Stayed']\n",
    "print(classification_report(y_test, ada_pred, target_names=target_names))"
   ]
  },
  {
   "cell_type": "code",
   "execution_count": 216,
   "metadata": {},
   "outputs": [
    {
     "data": {
      "text/plain": [
       "0.8947368421052632"
      ]
     },
     "execution_count": 216,
     "metadata": {},
     "output_type": "execute_result"
    }
   ],
   "source": [
    "precision_score(y_test, ada_pred)"
   ]
  },
  {
   "cell_type": "code",
   "execution_count": 217,
   "metadata": {},
   "outputs": [
    {
     "data": {
      "text/plain": [
       "0.8547486033519553"
      ]
     },
     "execution_count": 217,
     "metadata": {},
     "output_type": "execute_result"
    }
   ],
   "source": [
    "recall_score(y_test, ada_pred)"
   ]
  },
  {
   "cell_type": "code",
   "execution_count": 218,
   "metadata": {},
   "outputs": [
    {
     "data": {
      "text/plain": [
       "Text(0, 0.5, 'True Positive Rate')"
      ]
     },
     "execution_count": 218,
     "metadata": {},
     "output_type": "execute_result"
    },
    {
     "data": {
      "image/png": "[encoded data removed]",
      "text/plain": [
       "<Figure size 432x288 with 1 Axes>"
      ]
     },
     "metadata": {
      "needs_background": "light"
     },
     "output_type": "display_data"
    }
   ],
   "source": [
    "fpr, tpr, thresholds = roc_curve(y_test, ada_pred)\n",
    "import matplotlib.pyplot as plt\n",
    "plt.plot(fpr,tpr)\n",
    "plt.xlabel('False Positive Rate')\n",
    "plt.ylabel('True Positive Rate')"
   ]
  },
  {
   "cell_type": "code",
   "execution_count": 219,
   "metadata": {},
   "outputs": [
    {
     "name": "stdout",
     "output_type": "stream",
     "text": [
      "              precision    recall  f1-score   support\n",
      "\n",
      "        Left       0.86      0.89      0.88       354\n",
      "      Stayed       0.89      0.86      0.87       358\n",
      "\n",
      "    accuracy                           0.87       712\n",
      "   macro avg       0.87      0.87      0.87       712\n",
      "weighted avg       0.87      0.87      0.87       712\n",
      "\n"
     ]
    }
   ],
   "source": [
    "target_names = ['Left','Stayed']\n",
    "print(classification_report(y_test, ada_pred2, target_names=target_names))"
   ]
  },
  {
   "cell_type": "code",
   "execution_count": 220,
   "metadata": {},
   "outputs": [
    {
     "data": {
      "text/plain": [
       "0.8872832369942196"
      ]
     },
     "execution_count": 220,
     "metadata": {},
     "output_type": "execute_result"
    }
   ],
   "source": [
    "precision_score(y_test, ada_pred2)"
   ]
  },
  {
   "cell_type": "code",
   "execution_count": 221,
   "metadata": {},
   "outputs": [
    {
     "data": {
      "text/plain": [
       "0.8575418994413407"
      ]
     },
     "execution_count": 221,
     "metadata": {},
     "output_type": "execute_result"
    }
   ],
   "source": [
    "recall_score(y_test, ada_pred2)"
   ]
  },
  {
   "cell_type": "code",
   "execution_count": 222,
   "metadata": {},
   "outputs": [
    {
     "data": {
      "text/plain": [
       "Text(0, 0.5, 'True Positive Rate')"
      ]
     },
     "execution_count": 222,
     "metadata": {},
     "output_type": "execute_result"
    },
    {
     "data": {
      "image/png": "[encoded data removed]",
      "text/plain": [
       "<Figure size 432x288 with 1 Axes>"
      ]
     },
     "metadata": {
      "needs_background": "light"
     },
     "output_type": "display_data"
    }
   ],
   "source": [
    "fpr, tpr, thresholds = roc_curve(y_test, ada_pred2)\n",
    "import matplotlib.pyplot as plt\n",
    "plt.plot(fpr,tpr)\n",
    "plt.xlabel('False Positive Rate')\n",
    "plt.ylabel('True Positive Rate')"
   ]
  },
  {
   "cell_type": "markdown",
   "metadata": {},
   "source": [
    "Adaboost performed somewhat similar to Random Forest, with balance and non-balanced fairly similar"
   ]
  },
  {
   "cell_type": "markdown",
   "metadata": {},
   "source": [
    "CatBoost Classifier"
   ]
  },
  {
   "cell_type": "markdown",
   "metadata": {},
   "source": [
    "Catboost Classifier has built in cross validation capability that should yield the best results"
   ]
  },
  {
   "cell_type": "code",
   "execution_count": 223,
   "metadata": {},
   "outputs": [],
   "source": [
    "from catboost import CatBoostClassifier"
   ]
  },
  {
   "cell_type": "code",
   "execution_count": 226,
   "metadata": {},
   "outputs": [],
   "source": [
    "#Eval metric is set to F1 to maximize the performance of the model\n",
    "cat_model = CatBoostClassifier(eval_metric='F1',use_best_model=True,random_seed=42)"
   ]
  },
  {
   "cell_type": "code",
   "execution_count": 227,
   "metadata": {},
   "outputs": [
    {
     "name": "stdout",
     "output_type": "stream",
     "text": [
      "Learning rate set to 0.03591\n",
      "0:\tlearn: 0.7953368\ttest: 0.7595712\tbest: 0.7595712 (0)\ttotal: 135ms\tremaining: 2m 15s\n",
      "1:\tlearn: 0.8015979\ttest: 0.7808642\tbest: 0.7808642 (1)\ttotal: 137ms\tremaining: 1m 8s\n",
      "2:\tlearn: 0.8215712\ttest: 0.8140244\tbest: 0.8140244 (2)\ttotal: 140ms\tremaining: 46.5s\n",
      "3:\tlearn: 0.8378557\ttest: 0.8265460\tbest: 0.8265460 (3)\ttotal: 142ms\tremaining: 35.3s\n",
      "4:\tlearn: 0.8465056\ttest: 0.8333333\tbest: 0.8333333 (4)\ttotal: 144ms\tremaining: 28.6s\n",
      "5:\tlearn: 0.8504246\ttest: 0.8372781\tbest: 0.8372781 (5)\ttotal: 146ms\tremaining: 24.2s\n",
      "6:\tlearn: 0.8543436\ttest: 0.8462665\tbest: 0.8462665 (6)\ttotal: 148ms\tremaining: 21s\n",
      "7:\tlearn: 0.8511749\ttest: 0.8445748\tbest: 0.8462665 (6)\ttotal: 149ms\tremaining: 18.5s\n",
      "8:\tlearn: 0.8506494\ttest: 0.8454810\tbest: 0.8462665 (6)\ttotal: 151ms\tremaining: 16.6s\n",
      "9:\tlearn: 0.8530559\ttest: 0.8454810\tbest: 0.8462665 (6)\ttotal: 152ms\tremaining: 15.1s\n",
      "10:\tlearn: 0.8569571\ttest: 0.8404100\tbest: 0.8462665 (6)\ttotal: 154ms\tremaining: 13.8s\n",
      "11:\tlearn: 0.8576998\ttest: 0.8387097\tbest: 0.8462665 (6)\ttotal: 156ms\tremaining: 12.8s\n",
      "12:\tlearn: 0.8586319\ttest: 0.8458150\tbest: 0.8462665 (6)\ttotal: 158ms\tremaining: 12s\n",
      "13:\tlearn: 0.8573290\ttest: 0.8416422\tbest: 0.8462665 (6)\ttotal: 160ms\tremaining: 11.2s\n",
      "14:\tlearn: 0.8603133\ttest: 0.8428781\tbest: 0.8462665 (6)\ttotal: 162ms\tremaining: 10.6s\n",
      "15:\tlearn: 0.8620013\ttest: 0.8458150\tbest: 0.8462665 (6)\ttotal: 164ms\tremaining: 10.1s\n",
      "16:\tlearn: 0.8627708\ttest: 0.8470588\tbest: 0.8470588 (16)\ttotal: 166ms\tremaining: 9.57s\n",
      "17:\tlearn: 0.8636959\ttest: 0.8466077\tbest: 0.8470588 (16)\ttotal: 168ms\tremaining: 9.16s\n",
      "18:\tlearn: 0.8648294\ttest: 0.8483063\tbest: 0.8483063 (18)\ttotal: 170ms\tremaining: 8.76s\n",
      "19:\tlearn: 0.8640840\ttest: 0.8483063\tbest: 0.8483063 (18)\ttotal: 171ms\tremaining: 8.39s\n",
      "20:\tlearn: 0.8672799\ttest: 0.8500000\tbest: 0.8500000 (20)\ttotal: 173ms\tremaining: 8.06s\n",
      "21:\tlearn: 0.8681967\ttest: 0.8533724\tbest: 0.8533724 (21)\ttotal: 175ms\tremaining: 7.77s\n",
      "22:\tlearn: 0.8719632\ttest: 0.8516887\tbest: 0.8533724 (21)\ttotal: 176ms\tremaining: 7.49s\n",
      "23:\tlearn: 0.8747541\ttest: 0.8541973\tbest: 0.8541973 (23)\ttotal: 178ms\tremaining: 7.24s\n",
      "24:\tlearn: 0.8753281\ttest: 0.8579882\tbest: 0.8579882 (24)\ttotal: 179ms\tremaining: 6.99s\n",
      "25:\tlearn: 0.8747541\ttest: 0.8579882\tbest: 0.8579882 (24)\ttotal: 181ms\tremaining: 6.78s\n",
      "26:\tlearn: 0.8744247\ttest: 0.8567208\tbest: 0.8579882 (24)\ttotal: 183ms\tremaining: 6.59s\n",
      "27:\tlearn: 0.8755760\ttest: 0.8562963\tbest: 0.8579882 (24)\ttotal: 184ms\tremaining: 6.4s\n",
      "28:\tlearn: 0.8748353\ttest: 0.8567208\tbest: 0.8579882 (24)\ttotal: 186ms\tremaining: 6.22s\n",
      "29:\tlearn: 0.8771466\ttest: 0.8579882\tbest: 0.8579882 (24)\ttotal: 187ms\tremaining: 6.06s\n",
      "30:\tlearn: 0.8793672\ttest: 0.8579882\tbest: 0.8579882 (24)\ttotal: 189ms\tremaining: 5.91s\n",
      "31:\tlearn: 0.8799472\ttest: 0.8592593\tbest: 0.8592593 (31)\ttotal: 191ms\tremaining: 5.77s\n",
      "32:\tlearn: 0.8816920\ttest: 0.8622222\tbest: 0.8622222 (32)\ttotal: 192ms\tremaining: 5.64s\n",
      "33:\tlearn: 0.8822751\ttest: 0.8605341\tbest: 0.8622222 (32)\ttotal: 194ms\tremaining: 5.52s\n",
      "34:\tlearn: 0.8815354\ttest: 0.8592593\tbest: 0.8622222 (32)\ttotal: 196ms\tremaining: 5.4s\n",
      "35:\tlearn: 0.8830139\ttest: 0.8605341\tbest: 0.8622222 (32)\ttotal: 197ms\tremaining: 5.28s\n",
      "36:\tlearn: 0.8841827\ttest: 0.8592593\tbest: 0.8622222 (32)\ttotal: 199ms\tremaining: 5.18s\n",
      "37:\tlearn: 0.8828590\ttest: 0.8618128\tbest: 0.8622222 (32)\ttotal: 200ms\tremaining: 5.07s\n",
      "38:\tlearn: 0.8846154\ttest: 0.8618128\tbest: 0.8622222 (32)\ttotal: 202ms\tremaining: 4.98s\n",
      "39:\tlearn: 0.8853545\ttest: 0.8618128\tbest: 0.8622222 (32)\ttotal: 204ms\tremaining: 4.89s\n",
      "40:\tlearn: 0.8866799\ttest: 0.8618128\tbest: 0.8622222 (32)\ttotal: 205ms\tremaining: 4.8s\n",
      "41:\tlearn: 0.8874172\ttest: 0.8630952\tbest: 0.8630952 (41)\ttotal: 207ms\tremaining: 4.72s\n",
      "42:\tlearn: 0.8880053\ttest: 0.8614009\tbest: 0.8630952 (41)\ttotal: 208ms\tremaining: 4.64s\n",
      "43:\tlearn: 0.8884462\ttest: 0.8630952\tbest: 0.8630952 (41)\ttotal: 210ms\tremaining: 4.56s\n",
      "44:\tlearn: 0.8872679\ttest: 0.8647845\tbest: 0.8647845 (44)\ttotal: 211ms\tremaining: 4.49s\n",
      "45:\tlearn: 0.8909451\ttest: 0.8660714\tbest: 0.8660714 (45)\ttotal: 213ms\tremaining: 4.41s\n",
      "46:\tlearn: 0.8915344\ttest: 0.8660714\tbest: 0.8660714 (45)\ttotal: 214ms\tremaining: 4.34s\n",
      "47:\tlearn: 0.8953642\ttest: 0.8677563\tbest: 0.8677563 (47)\ttotal: 216ms\tremaining: 4.28s\n",
      "48:\tlearn: 0.8976898\ttest: 0.8677563\tbest: 0.8677563 (47)\ttotal: 217ms\tremaining: 4.21s\n",
      "49:\tlearn: 0.8975545\ttest: 0.8694362\tbest: 0.8694362 (49)\ttotal: 219ms\tremaining: 4.15s\n",
      "50:\tlearn: 0.8982827\ttest: 0.8694362\tbest: 0.8694362 (49)\ttotal: 220ms\tremaining: 4.09s\n",
      "51:\tlearn: 0.8982827\ttest: 0.8694362\tbest: 0.8694362 (49)\ttotal: 221ms\tremaining: 4.04s\n",
      "52:\tlearn: 0.8982827\ttest: 0.8694362\tbest: 0.8694362 (49)\ttotal: 223ms\tremaining: 3.98s\n",
      "53:\tlearn: 0.8990099\ttest: 0.8677563\tbest: 0.8694362 (49)\ttotal: 224ms\tremaining: 3.93s\n",
      "54:\tlearn: 0.8996037\ttest: 0.8694362\tbest: 0.8694362 (49)\ttotal: 226ms\tremaining: 3.88s\n",
      "55:\tlearn: 0.9000662\ttest: 0.8694362\tbest: 0.8694362 (49)\ttotal: 227ms\tremaining: 3.83s\n",
      "56:\tlearn: 0.9012591\ttest: 0.8707281\tbest: 0.8707281 (56)\ttotal: 229ms\tremaining: 3.78s\n",
      "57:\tlearn: 0.9012591\ttest: 0.8707281\tbest: 0.8707281 (56)\ttotal: 230ms\tremaining: 3.74s\n",
      "58:\tlearn: 0.9012591\ttest: 0.8707281\tbest: 0.8707281 (56)\ttotal: 231ms\tremaining: 3.69s\n",
      "59:\tlearn: 0.9012591\ttest: 0.8694362\tbest: 0.8707281 (56)\ttotal: 233ms\tremaining: 3.65s\n",
      "60:\tlearn: 0.9033113\ttest: 0.8736999\tbest: 0.8736999 (60)\ttotal: 234ms\tremaining: 3.61s\n",
      "61:\tlearn: 0.9040371\ttest: 0.8733234\tbest: 0.8736999 (60)\ttotal: 236ms\tremaining: 3.57s\n",
      "62:\tlearn: 0.9033113\ttest: 0.8750000\tbest: 0.8750000 (62)\ttotal: 237ms\tremaining: 3.53s\n",
      "63:\tlearn: 0.9031830\ttest: 0.8750000\tbest: 0.8750000 (62)\ttotal: 239ms\tremaining: 3.49s\n",
      "64:\tlearn: 0.9059603\ttest: 0.8750000\tbest: 0.8750000 (62)\ttotal: 240ms\tremaining: 3.45s\n",
      "65:\tlearn: 0.9075297\ttest: 0.8750000\tbest: 0.8750000 (62)\ttotal: 241ms\tremaining: 3.42s\n",
      "66:\tlearn: 0.9068077\ttest: 0.8750000\tbest: 0.8750000 (62)\ttotal: 243ms\tremaining: 3.39s\n",
      "67:\tlearn: 0.9089710\ttest: 0.8786982\tbest: 0.8786982 (67)\ttotal: 245ms\tremaining: 3.35s\n",
      "68:\tlearn: 0.9095710\ttest: 0.8786982\tbest: 0.8786982 (67)\ttotal: 246ms\tremaining: 3.32s\n",
      "69:\tlearn: 0.9074074\ttest: 0.8786982\tbest: 0.8786982 (67)\ttotal: 248ms\tremaining: 3.29s\n",
      "70:\tlearn: 0.9068077\ttest: 0.8816568\tbest: 0.8816568 (70)\ttotal: 249ms\tremaining: 3.26s\n",
      "71:\tlearn: 0.9075297\ttest: 0.8800000\tbest: 0.8816568 (70)\ttotal: 251ms\tremaining: 3.23s\n",
      "72:\tlearn: 0.9075297\ttest: 0.8800000\tbest: 0.8816568 (70)\ttotal: 252ms\tremaining: 3.2s\n",
      "73:\tlearn: 0.9081295\ttest: 0.8813056\tbest: 0.8816568 (70)\ttotal: 253ms\tremaining: 3.17s\n",
      "74:\tlearn: 0.9088507\ttest: 0.8813056\tbest: 0.8816568 (70)\ttotal: 255ms\tremaining: 3.14s\n",
      "75:\tlearn: 0.9102902\ttest: 0.8779762\tbest: 0.8816568 (70)\ttotal: 256ms\tremaining: 3.11s\n",
      "76:\tlearn: 0.9122112\ttest: 0.8796434\tbest: 0.8816568 (70)\ttotal: 258ms\tremaining: 3.09s\n",
      "77:\tlearn: 0.9130435\ttest: 0.8796434\tbest: 0.8816568 (70)\ttotal: 259ms\tremaining: 3.06s\n",
      "78:\tlearn: 0.9144737\ttest: 0.8829630\tbest: 0.8829630 (78)\ttotal: 261ms\tremaining: 3.04s\n",
      "79:\tlearn: 0.9143610\ttest: 0.8813056\tbest: 0.8829630 (78)\ttotal: 262ms\tremaining: 3.01s\n",
      "80:\tlearn: 0.9136454\ttest: 0.8846154\tbest: 0.8846154 (80)\ttotal: 263ms\tremaining: 2.99s\n",
      "81:\tlearn: 0.9150757\ttest: 0.8846154\tbest: 0.8846154 (80)\ttotal: 265ms\tremaining: 2.96s\n",
      "82:\tlearn: 0.9156785\ttest: 0.8846154\tbest: 0.8846154 (80)\ttotal: 266ms\tremaining: 2.94s\n",
      "83:\tlearn: 0.9156785\ttest: 0.8829630\tbest: 0.8846154 (80)\ttotal: 268ms\tremaining: 2.92s\n",
      "84:\tlearn: 0.9156785\ttest: 0.8829630\tbest: 0.8846154 (80)\ttotal: 269ms\tremaining: 2.9s\n",
      "85:\tlearn: 0.9163924\ttest: 0.8829630\tbest: 0.8846154 (80)\ttotal: 271ms\tremaining: 2.88s\n",
      "86:\tlearn: 0.9163924\ttest: 0.8862629\tbest: 0.8862629 (86)\ttotal: 272ms\tremaining: 2.85s\n",
      "87:\tlearn: 0.9171053\ttest: 0.8846154\tbest: 0.8862629 (86)\ttotal: 273ms\tremaining: 2.83s\n",
      "88:\tlearn: 0.9157895\ttest: 0.8862629\tbest: 0.8862629 (86)\ttotal: 275ms\tremaining: 2.81s\n",
      "89:\tlearn: 0.9205515\ttest: 0.8879056\tbest: 0.8879056 (89)\ttotal: 276ms\tremaining: 2.79s\n",
      "90:\tlearn: 0.9205515\ttest: 0.8879056\tbest: 0.8879056 (89)\ttotal: 278ms\tremaining: 2.77s\n",
      "91:\tlearn: 0.9226737\ttest: 0.8879056\tbest: 0.8879056 (89)\ttotal: 279ms\tremaining: 2.76s\n",
      "92:\tlearn: 0.9226737\ttest: 0.8862629\tbest: 0.8879056 (89)\ttotal: 281ms\tremaining: 2.74s\n",
      "93:\tlearn: 0.9225722\ttest: 0.8879056\tbest: 0.8879056 (89)\ttotal: 282ms\tremaining: 2.72s\n",
      "94:\tlearn: 0.9239843\ttest: 0.8862629\tbest: 0.8879056 (89)\ttotal: 284ms\tremaining: 2.7s\n",
      "95:\tlearn: 0.9238845\ttest: 0.8862629\tbest: 0.8879056 (89)\ttotal: 285ms\tremaining: 2.68s\n",
      "96:\tlearn: 0.9245902\ttest: 0.8879056\tbest: 0.8879056 (89)\ttotal: 287ms\tremaining: 2.67s\n",
      "97:\tlearn: 0.9246889\ttest: 0.8879056\tbest: 0.8879056 (89)\ttotal: 288ms\tremaining: 2.65s\n",
      "98:\tlearn: 0.9239843\ttest: 0.8879056\tbest: 0.8879056 (89)\ttotal: 290ms\tremaining: 2.64s\n",
      "99:\tlearn: 0.9254902\ttest: 0.8879056\tbest: 0.8879056 (89)\ttotal: 291ms\tremaining: 2.62s\n",
      "100:\tlearn: 0.9254902\ttest: 0.8879056\tbest: 0.8879056 (89)\ttotal: 293ms\tremaining: 2.6s\n",
      "101:\tlearn: 0.9267974\ttest: 0.8879056\tbest: 0.8879056 (89)\ttotal: 294ms\tremaining: 2.59s\n",
      "102:\tlearn: 0.9267974\ttest: 0.8895434\tbest: 0.8895434 (102)\ttotal: 295ms\tremaining: 2.57s\n",
      "103:\tlearn: 0.9267016\ttest: 0.8879056\tbest: 0.8895434 (102)\ttotal: 297ms\tremaining: 2.56s\n",
      "104:\tlearn: 0.9274035\ttest: 0.8879056\tbest: 0.8895434 (102)\ttotal: 298ms\tremaining: 2.54s\n",
      "105:\tlearn: 0.9281046\ttest: 0.8879056\tbest: 0.8895434 (102)\ttotal: 300ms\tremaining: 2.53s\n",
      "106:\tlearn: 0.9288047\ttest: 0.8895434\tbest: 0.8895434 (102)\ttotal: 301ms\tremaining: 2.51s\n",
      "107:\tlearn: 0.9295039\ttest: 0.8879056\tbest: 0.8895434 (102)\ttotal: 303ms\tremaining: 2.5s\n",
      "108:\tlearn: 0.9295039\ttest: 0.8879056\tbest: 0.8895434 (102)\ttotal: 304ms\tremaining: 2.48s\n",
      "109:\tlearn: 0.9308996\ttest: 0.8879056\tbest: 0.8895434 (102)\ttotal: 306ms\tremaining: 2.47s\n",
      "110:\tlearn: 0.9302022\ttest: 0.8892171\tbest: 0.8895434 (102)\ttotal: 307ms\tremaining: 2.46s\n",
      "111:\tlearn: 0.9308996\ttest: 0.8892171\tbest: 0.8895434 (102)\ttotal: 308ms\tremaining: 2.44s\n",
      "112:\tlearn: 0.9322917\ttest: 0.8908555\tbest: 0.8908555 (112)\ttotal: 310ms\tremaining: 2.43s\n",
      "113:\tlearn: 0.9329863\ttest: 0.8882353\tbest: 0.8908555 (112)\ttotal: 311ms\tremaining: 2.42s\n",
      "114:\tlearn: 0.9343730\ttest: 0.8882353\tbest: 0.8908555 (112)\ttotal: 313ms\tremaining: 2.41s\n",
      "115:\tlearn: 0.9343730\ttest: 0.8882353\tbest: 0.8908555 (112)\ttotal: 314ms\tremaining: 2.39s\n",
      "116:\tlearn: 0.9343730\ttest: 0.8882353\tbest: 0.8908555 (112)\ttotal: 316ms\tremaining: 2.38s\n",
      "117:\tlearn: 0.9350649\ttest: 0.8882353\tbest: 0.8908555 (112)\ttotal: 317ms\tremaining: 2.37s\n",
      "118:\tlearn: 0.9357560\ttest: 0.8895434\tbest: 0.8908555 (112)\ttotal: 318ms\tremaining: 2.36s\n",
      "119:\tlearn: 0.9350649\ttest: 0.8895434\tbest: 0.8908555 (112)\ttotal: 320ms\tremaining: 2.34s\n",
      "120:\tlearn: 0.9357560\ttest: 0.8869310\tbest: 0.8908555 (112)\ttotal: 321ms\tremaining: 2.33s\n",
      "121:\tlearn: 0.9364462\ttest: 0.8865979\tbest: 0.8908555 (112)\ttotal: 323ms\tremaining: 2.32s\n",
      "122:\tlearn: 0.9371355\ttest: 0.8869310\tbest: 0.8908555 (112)\ttotal: 324ms\tremaining: 2.31s\n",
      "123:\tlearn: 0.9371355\ttest: 0.8869310\tbest: 0.8908555 (112)\ttotal: 325ms\tremaining: 2.3s\n",
      "124:\tlearn: 0.9371355\ttest: 0.8869310\tbest: 0.8908555 (112)\ttotal: 327ms\tremaining: 2.29s\n",
      "125:\tlearn: 0.9378238\ttest: 0.8856305\tbest: 0.8908555 (112)\ttotal: 328ms\tremaining: 2.27s\n",
      "126:\tlearn: 0.9385113\ttest: 0.8869310\tbest: 0.8908555 (112)\ttotal: 330ms\tremaining: 2.27s\n",
      "127:\tlearn: 0.9378238\ttest: 0.8895434\tbest: 0.8908555 (112)\ttotal: 331ms\tremaining: 2.25s\n",
      "128:\tlearn: 0.9371355\ttest: 0.8882353\tbest: 0.8908555 (112)\ttotal: 332ms\tremaining: 2.24s\n",
      "129:\tlearn: 0.9378238\ttest: 0.8882353\tbest: 0.8908555 (112)\ttotal: 334ms\tremaining: 2.23s\n",
      "130:\tlearn: 0.9378238\ttest: 0.8895434\tbest: 0.8908555 (112)\ttotal: 335ms\tremaining: 2.22s\n",
      "131:\tlearn: 0.9378238\ttest: 0.8882353\tbest: 0.8908555 (112)\ttotal: 337ms\tremaining: 2.21s\n",
      "132:\tlearn: 0.9378238\ttest: 0.8882353\tbest: 0.8908555 (112)\ttotal: 338ms\tremaining: 2.2s\n",
      "133:\tlearn: 0.9398058\ttest: 0.8865979\tbest: 0.8908555 (112)\ttotal: 339ms\tremaining: 2.19s\n",
      "134:\tlearn: 0.9398058\ttest: 0.8869310\tbest: 0.8908555 (112)\ttotal: 341ms\tremaining: 2.18s\n",
      "135:\tlearn: 0.9404916\ttest: 0.8895434\tbest: 0.8908555 (112)\ttotal: 342ms\tremaining: 2.17s\n",
      "136:\tlearn: 0.9398058\ttest: 0.8869310\tbest: 0.8908555 (112)\ttotal: 344ms\tremaining: 2.17s\n",
      "137:\tlearn: 0.9411765\ttest: 0.8898678\tbest: 0.8908555 (112)\ttotal: 345ms\tremaining: 2.16s\n",
      "138:\tlearn: 0.9404916\ttest: 0.8898678\tbest: 0.8908555 (112)\ttotal: 347ms\tremaining: 2.15s\n",
      "139:\tlearn: 0.9404916\ttest: 0.8914956\tbest: 0.8914956 (139)\ttotal: 348ms\tremaining: 2.14s\n",
      "140:\tlearn: 0.9411003\ttest: 0.8914956\tbest: 0.8914956 (139)\ttotal: 350ms\tremaining: 2.13s\n",
      "141:\tlearn: 0.9411003\ttest: 0.8914956\tbest: 0.8914956 (139)\ttotal: 351ms\tremaining: 2.12s\n",
      "142:\tlearn: 0.9417853\ttest: 0.8914956\tbest: 0.8914956 (139)\ttotal: 353ms\tremaining: 2.11s\n",
      "143:\tlearn: 0.9431525\ttest: 0.8901903\tbest: 0.8914956 (139)\ttotal: 354ms\tremaining: 2.1s\n",
      "144:\tlearn: 0.9424693\ttest: 0.8901903\tbest: 0.8914956 (139)\ttotal: 355ms\tremaining: 2.1s\n",
      "145:\tlearn: 0.9424693\ttest: 0.8888889\tbest: 0.8914956 (139)\ttotal: 357ms\tremaining: 2.09s\n",
      "146:\tlearn: 0.9438347\ttest: 0.8901903\tbest: 0.8914956 (139)\ttotal: 358ms\tremaining: 2.08s\n",
      "147:\tlearn: 0.9438347\ttest: 0.8901903\tbest: 0.8914956 (139)\ttotal: 360ms\tremaining: 2.07s\n",
      "148:\tlearn: 0.9438347\ttest: 0.8901903\tbest: 0.8914956 (139)\ttotal: 361ms\tremaining: 2.06s\n",
      "149:\tlearn: 0.9458763\ttest: 0.8901903\tbest: 0.8914956 (139)\ttotal: 363ms\tremaining: 2.06s\n",
      "150:\tlearn: 0.9472329\ttest: 0.8901903\tbest: 0.8914956 (139)\ttotal: 364ms\tremaining: 2.05s\n",
      "151:\tlearn: 0.9465551\ttest: 0.8901903\tbest: 0.8914956 (139)\ttotal: 366ms\tremaining: 2.04s\n",
      "152:\tlearn: 0.9479100\ttest: 0.8901903\tbest: 0.8914956 (139)\ttotal: 367ms\tremaining: 2.03s\n",
      "153:\tlearn: 0.9479100\ttest: 0.8888889\tbest: 0.8914956 (139)\ttotal: 369ms\tremaining: 2.03s\n",
      "154:\tlearn: 0.9485861\ttest: 0.8901903\tbest: 0.8914956 (139)\ttotal: 370ms\tremaining: 2.02s\n",
      "155:\tlearn: 0.9485861\ttest: 0.8901903\tbest: 0.8914956 (139)\ttotal: 372ms\tremaining: 2.01s\n",
      "156:\tlearn: 0.9485861\ttest: 0.8901903\tbest: 0.8914956 (139)\ttotal: 373ms\tremaining: 2s\n",
      "157:\tlearn: 0.9485861\ttest: 0.8914956\tbest: 0.8914956 (139)\ttotal: 375ms\tremaining: 2s\n",
      "158:\tlearn: 0.9485861\ttest: 0.8914956\tbest: 0.8914956 (139)\ttotal: 377ms\tremaining: 1.99s\n",
      "159:\tlearn: 0.9499358\ttest: 0.8914956\tbest: 0.8914956 (139)\ttotal: 378ms\tremaining: 1.99s\n",
      "160:\tlearn: 0.9505459\ttest: 0.8928047\tbest: 0.8928047 (160)\ttotal: 380ms\tremaining: 1.98s\n",
      "161:\tlearn: 0.9498715\ttest: 0.8928047\tbest: 0.8928047 (160)\ttotal: 381ms\tremaining: 1.97s\n",
      "162:\tlearn: 0.9498715\ttest: 0.8928047\tbest: 0.8928047 (160)\ttotal: 383ms\tremaining: 1.97s\n",
      "163:\tlearn: 0.9505459\ttest: 0.8898678\tbest: 0.8928047 (160)\ttotal: 384ms\tremaining: 1.96s\n",
      "164:\tlearn: 0.9518922\ttest: 0.8928047\tbest: 0.8928047 (160)\ttotal: 386ms\tremaining: 1.95s\n",
      "165:\tlearn: 0.9525641\ttest: 0.8928047\tbest: 0.8928047 (160)\ttotal: 388ms\tremaining: 1.95s\n",
      "166:\tlearn: 0.9525641\ttest: 0.8928047\tbest: 0.8928047 (160)\ttotal: 389ms\tremaining: 1.94s\n",
      "167:\tlearn: 0.9525641\ttest: 0.8928047\tbest: 0.8928047 (160)\ttotal: 391ms\tremaining: 1.94s\n",
      "168:\tlearn: 0.9525641\ttest: 0.8944282\tbest: 0.8944282 (168)\ttotal: 392ms\tremaining: 1.93s\n",
      "169:\tlearn: 0.9525641\ttest: 0.8931186\tbest: 0.8944282 (168)\ttotal: 394ms\tremaining: 1.92s\n",
      "170:\tlearn: 0.9525641\ttest: 0.8931186\tbest: 0.8944282 (168)\ttotal: 395ms\tremaining: 1.92s\n",
      "171:\tlearn: 0.9525641\ttest: 0.8931186\tbest: 0.8944282 (168)\ttotal: 397ms\tremaining: 1.91s\n",
      "172:\tlearn: 0.9525641\ttest: 0.8931186\tbest: 0.8944282 (168)\ttotal: 398ms\tremaining: 1.9s\n",
      "173:\tlearn: 0.9518922\ttest: 0.8931186\tbest: 0.8944282 (168)\ttotal: 400ms\tremaining: 1.9s\n",
      "174:\tlearn: 0.9525641\ttest: 0.8914956\tbest: 0.8944282 (168)\ttotal: 401ms\tremaining: 1.89s\n",
      "175:\tlearn: 0.9525641\ttest: 0.8931186\tbest: 0.8944282 (168)\ttotal: 403ms\tremaining: 1.89s\n",
      "176:\tlearn: 0.9525641\ttest: 0.8931186\tbest: 0.8944282 (168)\ttotal: 404ms\tremaining: 1.88s\n",
      "177:\tlearn: 0.9532351\ttest: 0.8914956\tbest: 0.8944282 (168)\ttotal: 406ms\tremaining: 1.87s\n",
      "178:\tlearn: 0.9525641\ttest: 0.8931186\tbest: 0.8944282 (168)\ttotal: 407ms\tremaining: 1.87s\n",
      "179:\tlearn: 0.9525641\ttest: 0.8960469\tbest: 0.8960469 (179)\ttotal: 409ms\tremaining: 1.86s\n",
      "180:\tlearn: 0.9525641\ttest: 0.8944282\tbest: 0.8960469 (179)\ttotal: 411ms\tremaining: 1.86s\n",
      "181:\tlearn: 0.9525641\ttest: 0.8914956\tbest: 0.8960469 (179)\ttotal: 412ms\tremaining: 1.85s\n",
      "182:\tlearn: 0.9532351\ttest: 0.8931186\tbest: 0.8960469 (179)\ttotal: 414ms\tremaining: 1.85s\n",
      "183:\tlearn: 0.9532351\ttest: 0.8931186\tbest: 0.8960469 (179)\ttotal: 415ms\tremaining: 1.84s\n",
      "184:\tlearn: 0.9539052\ttest: 0.8931186\tbest: 0.8960469 (179)\ttotal: 417ms\tremaining: 1.83s\n",
      "185:\tlearn: 0.9539052\ttest: 0.8947368\tbest: 0.8960469 (179)\ttotal: 418ms\tremaining: 1.83s\n",
      "186:\tlearn: 0.9539052\ttest: 0.8914956\tbest: 0.8960469 (179)\ttotal: 420ms\tremaining: 1.82s\n",
      "187:\tlearn: 0.9558541\ttest: 0.8914956\tbest: 0.8960469 (179)\ttotal: 421ms\tremaining: 1.82s\n",
      "188:\tlearn: 0.9570788\ttest: 0.8914956\tbest: 0.8960469 (179)\ttotal: 423ms\tremaining: 1.81s\n",
      "189:\tlearn: 0.9570788\ttest: 0.8898678\tbest: 0.8960469 (179)\ttotal: 424ms\tremaining: 1.81s\n",
      "190:\tlearn: 0.9564103\ttest: 0.8911765\tbest: 0.8960469 (179)\ttotal: 426ms\tremaining: 1.8s\n",
      "191:\tlearn: 0.9577465\ttest: 0.8911765\tbest: 0.8960469 (179)\ttotal: 427ms\tremaining: 1.8s\n",
      "192:\tlearn: 0.9577465\ttest: 0.8928047\tbest: 0.8960469 (179)\ttotal: 428ms\tremaining: 1.79s\n",
      "193:\tlearn: 0.9584133\ttest: 0.8928047\tbest: 0.8960469 (179)\ttotal: 430ms\tremaining: 1.79s\n",
      "194:\tlearn: 0.9590269\ttest: 0.8911765\tbest: 0.8960469 (179)\ttotal: 431ms\tremaining: 1.78s\n",
      "195:\tlearn: 0.9590269\ttest: 0.8895434\tbest: 0.8960469 (179)\ttotal: 433ms\tremaining: 1.77s\n",
      "196:\tlearn: 0.9590269\ttest: 0.8895434\tbest: 0.8960469 (179)\ttotal: 434ms\tremaining: 1.77s\n",
      "197:\tlearn: 0.9590269\ttest: 0.8898678\tbest: 0.8960469 (179)\ttotal: 436ms\tremaining: 1.76s\n",
      "198:\tlearn: 0.9590269\ttest: 0.8898678\tbest: 0.8960469 (179)\ttotal: 437ms\tremaining: 1.76s\n",
      "199:\tlearn: 0.9590269\ttest: 0.8898678\tbest: 0.8960469 (179)\ttotal: 439ms\tremaining: 1.75s\n",
      "200:\tlearn: 0.9590269\ttest: 0.8872621\tbest: 0.8960469 (179)\ttotal: 440ms\tremaining: 1.75s\n",
      "201:\tlearn: 0.9590269\ttest: 0.8901903\tbest: 0.8960469 (179)\ttotal: 441ms\tremaining: 1.74s\n",
      "202:\tlearn: 0.9590269\ttest: 0.8888889\tbest: 0.8960469 (179)\ttotal: 443ms\tremaining: 1.74s\n",
      "203:\tlearn: 0.9596929\ttest: 0.8888889\tbest: 0.8960469 (179)\ttotal: 444ms\tremaining: 1.73s\n",
      "204:\tlearn: 0.9610224\ttest: 0.8901903\tbest: 0.8960469 (179)\ttotal: 446ms\tremaining: 1.73s\n",
      "205:\tlearn: 0.9603581\ttest: 0.8885630\tbest: 0.8960469 (179)\ttotal: 447ms\tremaining: 1.72s\n",
      "206:\tlearn: 0.9610224\ttest: 0.8901903\tbest: 0.8960469 (179)\ttotal: 449ms\tremaining: 1.72s\n",
      "207:\tlearn: 0.9610224\ttest: 0.8856305\tbest: 0.8960469 (179)\ttotal: 450ms\tremaining: 1.71s\n",
      "208:\tlearn: 0.9616368\ttest: 0.8885630\tbest: 0.8960469 (179)\ttotal: 452ms\tremaining: 1.71s\n",
      "209:\tlearn: 0.9609725\ttest: 0.8859649\tbest: 0.8960469 (179)\ttotal: 453ms\tremaining: 1.7s\n",
      "210:\tlearn: 0.9616368\ttest: 0.8888889\tbest: 0.8960469 (179)\ttotal: 455ms\tremaining: 1.7s\n",
      "211:\tlearn: 0.9623003\ttest: 0.8888889\tbest: 0.8960469 (179)\ttotal: 456ms\tremaining: 1.7s\n",
      "212:\tlearn: 0.9629630\ttest: 0.8888889\tbest: 0.8960469 (179)\ttotal: 458ms\tremaining: 1.69s\n",
      "213:\tlearn: 0.9636248\ttest: 0.8901903\tbest: 0.8960469 (179)\ttotal: 459ms\tremaining: 1.69s\n",
      "214:\tlearn: 0.9642857\ttest: 0.8918129\tbest: 0.8960469 (179)\ttotal: 460ms\tremaining: 1.68s\n",
      "215:\tlearn: 0.9642857\ttest: 0.8918129\tbest: 0.8960469 (179)\ttotal: 462ms\tremaining: 1.68s\n",
      "216:\tlearn: 0.9649458\ttest: 0.8901903\tbest: 0.8960469 (179)\ttotal: 463ms\tremaining: 1.67s\n",
      "217:\tlearn: 0.9656051\ttest: 0.8901903\tbest: 0.8960469 (179)\ttotal: 465ms\tremaining: 1.67s\n",
      "218:\tlearn: 0.9656051\ttest: 0.8885630\tbest: 0.8960469 (179)\ttotal: 466ms\tremaining: 1.66s\n",
      "219:\tlearn: 0.9662635\ttest: 0.8872621\tbest: 0.8960469 (179)\ttotal: 468ms\tremaining: 1.66s\n",
      "220:\tlearn: 0.9662635\ttest: 0.8859649\tbest: 0.8960469 (179)\ttotal: 469ms\tremaining: 1.65s\n",
      "221:\tlearn: 0.9662635\ttest: 0.8846715\tbest: 0.8960469 (179)\ttotal: 471ms\tremaining: 1.65s\n",
      "222:\tlearn: 0.9662635\ttest: 0.8862974\tbest: 0.8960469 (179)\ttotal: 472ms\tremaining: 1.65s\n",
      "223:\tlearn: 0.9662635\ttest: 0.8875912\tbest: 0.8960469 (179)\ttotal: 474ms\tremaining: 1.64s\n",
      "224:\tlearn: 0.9662635\ttest: 0.8846715\tbest: 0.8960469 (179)\ttotal: 475ms\tremaining: 1.64s\n",
      "225:\tlearn: 0.9662635\ttest: 0.8846715\tbest: 0.8960469 (179)\ttotal: 477ms\tremaining: 1.63s\n",
      "226:\tlearn: 0.9662635\ttest: 0.8833819\tbest: 0.8960469 (179)\ttotal: 478ms\tremaining: 1.63s\n",
      "227:\tlearn: 0.9669211\ttest: 0.8833819\tbest: 0.8960469 (179)\ttotal: 480ms\tremaining: 1.62s\n",
      "228:\tlearn: 0.9662635\ttest: 0.8833819\tbest: 0.8960469 (179)\ttotal: 481ms\tremaining: 1.62s\n",
      "229:\tlearn: 0.9662635\ttest: 0.8833819\tbest: 0.8960469 (179)\ttotal: 483ms\tremaining: 1.61s\n",
      "230:\tlearn: 0.9662635\ttest: 0.8846715\tbest: 0.8960469 (179)\ttotal: 484ms\tremaining: 1.61s\n",
      "231:\tlearn: 0.9662635\ttest: 0.8859649\tbest: 0.8960469 (179)\ttotal: 486ms\tremaining: 1.61s\n",
      "232:\tlearn: 0.9662635\ttest: 0.8859649\tbest: 0.8960469 (179)\ttotal: 487ms\tremaining: 1.6s\n",
      "233:\tlearn: 0.9662635\ttest: 0.8859649\tbest: 0.8960469 (179)\ttotal: 489ms\tremaining: 1.6s\n",
      "234:\tlearn: 0.9675779\ttest: 0.8859649\tbest: 0.8960469 (179)\ttotal: 490ms\tremaining: 1.6s\n",
      "235:\tlearn: 0.9669211\ttest: 0.8905109\tbest: 0.8960469 (179)\ttotal: 492ms\tremaining: 1.59s\n",
      "236:\tlearn: 0.9675779\ttest: 0.8885630\tbest: 0.8960469 (179)\ttotal: 494ms\tremaining: 1.59s\n",
      "237:\tlearn: 0.9675779\ttest: 0.8901903\tbest: 0.8960469 (179)\ttotal: 495ms\tremaining: 1.58s\n",
      "238:\tlearn: 0.9688889\ttest: 0.8898678\tbest: 0.8960469 (179)\ttotal: 497ms\tremaining: 1.58s\n",
      "239:\tlearn: 0.9688889\ttest: 0.8898678\tbest: 0.8960469 (179)\ttotal: 498ms\tremaining: 1.58s\n",
      "240:\tlearn: 0.9688889\ttest: 0.8898678\tbest: 0.8960469 (179)\ttotal: 500ms\tremaining: 1.57s\n",
      "241:\tlearn: 0.9695431\ttest: 0.8885630\tbest: 0.8960469 (179)\ttotal: 501ms\tremaining: 1.57s\n",
      "242:\tlearn: 0.9688889\ttest: 0.8898678\tbest: 0.8960469 (179)\ttotal: 503ms\tremaining: 1.57s\n",
      "243:\tlearn: 0.9688889\ttest: 0.8885630\tbest: 0.8960469 (179)\ttotal: 504ms\tremaining: 1.56s\n",
      "244:\tlearn: 0.9688889\ttest: 0.8885630\tbest: 0.8960469 (179)\ttotal: 506ms\tremaining: 1.56s\n",
      "245:\tlearn: 0.9688889\ttest: 0.8898678\tbest: 0.8960469 (179)\ttotal: 508ms\tremaining: 1.55s\n",
      "246:\tlearn: 0.9688889\ttest: 0.8898678\tbest: 0.8960469 (179)\ttotal: 509ms\tremaining: 1.55s\n",
      "247:\tlearn: 0.9688889\ttest: 0.8898678\tbest: 0.8960469 (179)\ttotal: 511ms\tremaining: 1.55s\n",
      "248:\tlearn: 0.9695431\ttest: 0.8898678\tbest: 0.8960469 (179)\ttotal: 512ms\tremaining: 1.54s\n",
      "249:\tlearn: 0.9695431\ttest: 0.8911765\tbest: 0.8960469 (179)\ttotal: 514ms\tremaining: 1.54s\n",
      "250:\tlearn: 0.9688889\ttest: 0.8898678\tbest: 0.8960469 (179)\ttotal: 515ms\tremaining: 1.54s\n",
      "251:\tlearn: 0.9688889\ttest: 0.8911765\tbest: 0.8960469 (179)\ttotal: 517ms\tremaining: 1.53s\n",
      "252:\tlearn: 0.9695431\ttest: 0.8895434\tbest: 0.8960469 (179)\ttotal: 519ms\tremaining: 1.53s\n",
      "253:\tlearn: 0.9695431\ttest: 0.8895434\tbest: 0.8960469 (179)\ttotal: 520ms\tremaining: 1.53s\n",
      "254:\tlearn: 0.9701966\ttest: 0.8895434\tbest: 0.8960469 (179)\ttotal: 522ms\tremaining: 1.52s\n",
      "255:\tlearn: 0.9695431\ttest: 0.8869310\tbest: 0.8960469 (179)\ttotal: 524ms\tremaining: 1.52s\n",
      "256:\tlearn: 0.9701966\ttest: 0.8869310\tbest: 0.8960469 (179)\ttotal: 525ms\tremaining: 1.52s\n",
      "257:\tlearn: 0.9715009\ttest: 0.8885630\tbest: 0.8960469 (179)\ttotal: 527ms\tremaining: 1.51s\n",
      "258:\tlearn: 0.9715009\ttest: 0.8882353\tbest: 0.8960469 (179)\ttotal: 528ms\tremaining: 1.51s\n",
      "259:\tlearn: 0.9715009\ttest: 0.8901903\tbest: 0.8960469 (179)\ttotal: 530ms\tremaining: 1.51s\n",
      "260:\tlearn: 0.9715009\ttest: 0.8901903\tbest: 0.8960469 (179)\ttotal: 531ms\tremaining: 1.5s\n",
      "261:\tlearn: 0.9715009\ttest: 0.8888889\tbest: 0.8960469 (179)\ttotal: 533ms\tremaining: 1.5s\n",
      "262:\tlearn: 0.9715009\ttest: 0.8888889\tbest: 0.8960469 (179)\ttotal: 534ms\tremaining: 1.5s\n",
      "263:\tlearn: 0.9721519\ttest: 0.8901903\tbest: 0.8960469 (179)\ttotal: 536ms\tremaining: 1.49s\n",
      "264:\tlearn: 0.9728020\ttest: 0.8885630\tbest: 0.8960469 (179)\ttotal: 538ms\tremaining: 1.49s\n",
      "265:\tlearn: 0.9721519\ttest: 0.8859649\tbest: 0.8960469 (179)\ttotal: 539ms\tremaining: 1.49s\n",
      "266:\tlearn: 0.9721519\ttest: 0.8872621\tbest: 0.8960469 (179)\ttotal: 541ms\tremaining: 1.48s\n",
      "267:\tlearn: 0.9728020\ttest: 0.8882353\tbest: 0.8960469 (179)\ttotal: 542ms\tremaining: 1.48s\n",
      "268:\tlearn: 0.9728020\ttest: 0.8882353\tbest: 0.8960469 (179)\ttotal: 544ms\tremaining: 1.48s\n",
      "269:\tlearn: 0.9728020\ttest: 0.8882353\tbest: 0.8960469 (179)\ttotal: 546ms\tremaining: 1.48s\n",
      "270:\tlearn: 0.9728020\ttest: 0.8869310\tbest: 0.8960469 (179)\ttotal: 547ms\tremaining: 1.47s\n",
      "271:\tlearn: 0.9728020\ttest: 0.8869310\tbest: 0.8960469 (179)\ttotal: 549ms\tremaining: 1.47s\n",
      "272:\tlearn: 0.9728020\ttest: 0.8869310\tbest: 0.8960469 (179)\ttotal: 550ms\tremaining: 1.47s\n",
      "273:\tlearn: 0.9728020\ttest: 0.8869310\tbest: 0.8960469 (179)\ttotal: 552ms\tremaining: 1.46s\n",
      "274:\tlearn: 0.9721519\ttest: 0.8869310\tbest: 0.8960469 (179)\ttotal: 553ms\tremaining: 1.46s\n",
      "275:\tlearn: 0.9728020\ttest: 0.8869310\tbest: 0.8960469 (179)\ttotal: 555ms\tremaining: 1.46s\n",
      "276:\tlearn: 0.9721519\ttest: 0.8869310\tbest: 0.8960469 (179)\ttotal: 557ms\tremaining: 1.45s\n",
      "277:\tlearn: 0.9728020\ttest: 0.8869310\tbest: 0.8960469 (179)\ttotal: 558ms\tremaining: 1.45s\n",
      "278:\tlearn: 0.9734513\ttest: 0.8856305\tbest: 0.8960469 (179)\ttotal: 560ms\tremaining: 1.45s\n",
      "279:\tlearn: 0.9734513\ttest: 0.8843338\tbest: 0.8960469 (179)\ttotal: 561ms\tremaining: 1.44s\n",
      "280:\tlearn: 0.9734513\ttest: 0.8843338\tbest: 0.8960469 (179)\ttotal: 563ms\tremaining: 1.44s\n",
      "281:\tlearn: 0.9734513\ttest: 0.8872621\tbest: 0.8960469 (179)\ttotal: 564ms\tremaining: 1.44s\n",
      "282:\tlearn: 0.9734513\ttest: 0.8885630\tbest: 0.8960469 (179)\ttotal: 566ms\tremaining: 1.43s\n",
      "283:\tlearn: 0.9734513\ttest: 0.8872621\tbest: 0.8960469 (179)\ttotal: 567ms\tremaining: 1.43s\n",
      "284:\tlearn: 0.9734513\ttest: 0.8856305\tbest: 0.8960469 (179)\ttotal: 569ms\tremaining: 1.43s\n",
      "285:\tlearn: 0.9734513\ttest: 0.8856305\tbest: 0.8960469 (179)\ttotal: 570ms\tremaining: 1.42s\n",
      "286:\tlearn: 0.9740998\ttest: 0.8856305\tbest: 0.8960469 (179)\ttotal: 572ms\tremaining: 1.42s\n",
      "287:\tlearn: 0.9740998\ttest: 0.8869310\tbest: 0.8960469 (179)\ttotal: 573ms\tremaining: 1.42s\n",
      "288:\tlearn: 0.9734513\ttest: 0.8869310\tbest: 0.8960469 (179)\ttotal: 574ms\tremaining: 1.41s\n",
      "289:\tlearn: 0.9740998\ttest: 0.8869310\tbest: 0.8960469 (179)\ttotal: 576ms\tremaining: 1.41s\n",
      "290:\tlearn: 0.9747475\ttest: 0.8869310\tbest: 0.8960469 (179)\ttotal: 577ms\tremaining: 1.41s\n",
      "291:\tlearn: 0.9747475\ttest: 0.8869310\tbest: 0.8960469 (179)\ttotal: 579ms\tremaining: 1.4s\n",
      "292:\tlearn: 0.9753943\ttest: 0.8869310\tbest: 0.8960469 (179)\ttotal: 580ms\tremaining: 1.4s\n",
      "293:\tlearn: 0.9753943\ttest: 0.8882353\tbest: 0.8960469 (179)\ttotal: 582ms\tremaining: 1.4s\n",
      "294:\tlearn: 0.9747475\ttest: 0.8869310\tbest: 0.8960469 (179)\ttotal: 583ms\tremaining: 1.39s\n",
      "295:\tlearn: 0.9747475\ttest: 0.8869310\tbest: 0.8960469 (179)\ttotal: 585ms\tremaining: 1.39s\n",
      "296:\tlearn: 0.9753943\ttest: 0.8869310\tbest: 0.8960469 (179)\ttotal: 587ms\tremaining: 1.39s\n",
      "297:\tlearn: 0.9753943\ttest: 0.8882353\tbest: 0.8960469 (179)\ttotal: 589ms\tremaining: 1.39s\n",
      "298:\tlearn: 0.9753943\ttest: 0.8856305\tbest: 0.8960469 (179)\ttotal: 591ms\tremaining: 1.38s\n",
      "299:\tlearn: 0.9753943\ttest: 0.8869310\tbest: 0.8960469 (179)\ttotal: 593ms\tremaining: 1.38s\n",
      "300:\tlearn: 0.9753943\ttest: 0.8856305\tbest: 0.8960469 (179)\ttotal: 594ms\tremaining: 1.38s\n",
      "301:\tlearn: 0.9753943\ttest: 0.8856305\tbest: 0.8960469 (179)\ttotal: 596ms\tremaining: 1.38s\n",
      "302:\tlearn: 0.9753943\ttest: 0.8843338\tbest: 0.8960469 (179)\ttotal: 598ms\tremaining: 1.38s\n",
      "303:\tlearn: 0.9753943\ttest: 0.8830409\tbest: 0.8960469 (179)\ttotal: 600ms\tremaining: 1.37s\n",
      "304:\tlearn: 0.9753943\ttest: 0.8846715\tbest: 0.8960469 (179)\ttotal: 602ms\tremaining: 1.37s\n",
      "305:\tlearn: 0.9753943\ttest: 0.8872621\tbest: 0.8960469 (179)\ttotal: 603ms\tremaining: 1.37s\n",
      "306:\tlearn: 0.9753943\ttest: 0.8885630\tbest: 0.8960469 (179)\ttotal: 605ms\tremaining: 1.36s\n",
      "307:\tlearn: 0.9760404\ttest: 0.8859649\tbest: 0.8960469 (179)\ttotal: 607ms\tremaining: 1.36s\n",
      "308:\tlearn: 0.9766856\ttest: 0.8885630\tbest: 0.8960469 (179)\ttotal: 609ms\tremaining: 1.36s\n",
      "309:\tlearn: 0.9766856\ttest: 0.8872621\tbest: 0.8960469 (179)\ttotal: 611ms\tremaining: 1.36s\n",
      "310:\tlearn: 0.9773300\ttest: 0.8885630\tbest: 0.8960469 (179)\ttotal: 613ms\tremaining: 1.36s\n",
      "311:\tlearn: 0.9773300\ttest: 0.8885630\tbest: 0.8960469 (179)\ttotal: 614ms\tremaining: 1.35s\n",
      "312:\tlearn: 0.9773300\ttest: 0.8872621\tbest: 0.8960469 (179)\ttotal: 616ms\tremaining: 1.35s\n",
      "313:\tlearn: 0.9773300\ttest: 0.8872621\tbest: 0.8960469 (179)\ttotal: 618ms\tremaining: 1.35s\n",
      "314:\tlearn: 0.9773300\ttest: 0.8885630\tbest: 0.8960469 (179)\ttotal: 619ms\tremaining: 1.35s\n",
      "315:\tlearn: 0.9779736\ttest: 0.8885630\tbest: 0.8960469 (179)\ttotal: 621ms\tremaining: 1.34s\n",
      "316:\tlearn: 0.9779736\ttest: 0.8885630\tbest: 0.8960469 (179)\ttotal: 623ms\tremaining: 1.34s\n",
      "317:\tlearn: 0.9786164\ttest: 0.8898678\tbest: 0.8960469 (179)\ttotal: 625ms\tremaining: 1.34s\n",
      "318:\tlearn: 0.9786164\ttest: 0.8898678\tbest: 0.8960469 (179)\ttotal: 627ms\tremaining: 1.34s\n",
      "319:\tlearn: 0.9792583\ttest: 0.8898678\tbest: 0.8960469 (179)\ttotal: 628ms\tremaining: 1.33s\n",
      "320:\tlearn: 0.9786164\ttest: 0.8898678\tbest: 0.8960469 (179)\ttotal: 630ms\tremaining: 1.33s\n",
      "321:\tlearn: 0.9792583\ttest: 0.8898678\tbest: 0.8960469 (179)\ttotal: 632ms\tremaining: 1.33s\n",
      "322:\tlearn: 0.9792583\ttest: 0.8898678\tbest: 0.8960469 (179)\ttotal: 634ms\tremaining: 1.33s\n",
      "323:\tlearn: 0.9779736\ttest: 0.8885630\tbest: 0.8960469 (179)\ttotal: 635ms\tremaining: 1.32s\n",
      "324:\tlearn: 0.9792583\ttest: 0.8872621\tbest: 0.8960469 (179)\ttotal: 637ms\tremaining: 1.32s\n",
      "325:\tlearn: 0.9798995\ttest: 0.8888889\tbest: 0.8960469 (179)\ttotal: 639ms\tremaining: 1.32s\n",
      "326:\tlearn: 0.9792583\ttest: 0.8875912\tbest: 0.8960469 (179)\ttotal: 640ms\tremaining: 1.32s\n",
      "327:\tlearn: 0.9805399\ttest: 0.8875912\tbest: 0.8960469 (179)\ttotal: 642ms\tremaining: 1.31s\n",
      "328:\tlearn: 0.9798995\ttest: 0.8875912\tbest: 0.8960469 (179)\ttotal: 644ms\tremaining: 1.31s\n",
      "329:\tlearn: 0.9798995\ttest: 0.8862974\tbest: 0.8960469 (179)\ttotal: 646ms\tremaining: 1.31s\n",
      "330:\tlearn: 0.9798995\ttest: 0.8862974\tbest: 0.8960469 (179)\ttotal: 648ms\tremaining: 1.31s\n",
      "331:\tlearn: 0.9798995\ttest: 0.8862974\tbest: 0.8960469 (179)\ttotal: 650ms\tremaining: 1.31s\n",
      "332:\tlearn: 0.9805399\ttest: 0.8862974\tbest: 0.8960469 (179)\ttotal: 651ms\tremaining: 1.3s\n",
      "333:\tlearn: 0.9811794\ttest: 0.8862974\tbest: 0.8960469 (179)\ttotal: 653ms\tremaining: 1.3s\n",
      "334:\tlearn: 0.9824561\ttest: 0.8892128\tbest: 0.8960469 (179)\ttotal: 655ms\tremaining: 1.3s\n",
      "335:\tlearn: 0.9824561\ttest: 0.8892128\tbest: 0.8960469 (179)\ttotal: 657ms\tremaining: 1.3s\n",
      "336:\tlearn: 0.9843652\ttest: 0.8908297\tbest: 0.8960469 (179)\ttotal: 658ms\tremaining: 1.29s\n",
      "337:\tlearn: 0.9843652\ttest: 0.8908297\tbest: 0.8960469 (179)\ttotal: 660ms\tremaining: 1.29s\n",
      "338:\tlearn: 0.9843652\ttest: 0.8908297\tbest: 0.8960469 (179)\ttotal: 662ms\tremaining: 1.29s\n",
      "339:\tlearn: 0.9843652\ttest: 0.8908297\tbest: 0.8960469 (179)\ttotal: 664ms\tremaining: 1.29s\n",
      "340:\tlearn: 0.9843652\ttest: 0.8892128\tbest: 0.8960469 (179)\ttotal: 665ms\tremaining: 1.28s\n",
      "341:\tlearn: 0.9843652\ttest: 0.8892128\tbest: 0.8960469 (179)\ttotal: 667ms\tremaining: 1.28s\n",
      "342:\tlearn: 0.9843652\ttest: 0.8905109\tbest: 0.8960469 (179)\ttotal: 669ms\tremaining: 1.28s\n",
      "343:\tlearn: 0.9843652\ttest: 0.8905109\tbest: 0.8960469 (179)\ttotal: 670ms\tremaining: 1.28s\n",
      "344:\tlearn: 0.9843652\ttest: 0.8888889\tbest: 0.8960469 (179)\ttotal: 672ms\tremaining: 1.27s\n",
      "345:\tlearn: 0.9843652\ttest: 0.8905109\tbest: 0.8960469 (179)\ttotal: 674ms\tremaining: 1.27s\n",
      "346:\tlearn: 0.9843652\ttest: 0.8921283\tbest: 0.8960469 (179)\ttotal: 675ms\tremaining: 1.27s\n",
      "347:\tlearn: 0.9843652\ttest: 0.8937409\tbest: 0.8960469 (179)\ttotal: 677ms\tremaining: 1.27s\n",
      "348:\tlearn: 0.9850000\ttest: 0.8937409\tbest: 0.8960469 (179)\ttotal: 679ms\tremaining: 1.26s\n",
      "349:\tlearn: 0.9843652\ttest: 0.8921283\tbest: 0.8960469 (179)\ttotal: 680ms\tremaining: 1.26s\n",
      "350:\tlearn: 0.9850000\ttest: 0.8937409\tbest: 0.8960469 (179)\ttotal: 682ms\tremaining: 1.26s\n",
      "351:\tlearn: 0.9856340\ttest: 0.8921283\tbest: 0.8960469 (179)\ttotal: 683ms\tremaining: 1.26s\n",
      "352:\tlearn: 0.9856340\ttest: 0.8934307\tbest: 0.8960469 (179)\ttotal: 685ms\tremaining: 1.25s\n",
      "353:\tlearn: 0.9856340\ttest: 0.8934307\tbest: 0.8960469 (179)\ttotal: 686ms\tremaining: 1.25s\n",
      "354:\tlearn: 0.9856340\ttest: 0.8918129\tbest: 0.8960469 (179)\ttotal: 688ms\tremaining: 1.25s\n",
      "355:\tlearn: 0.9856340\ttest: 0.8901903\tbest: 0.8960469 (179)\ttotal: 690ms\tremaining: 1.25s\n",
      "356:\tlearn: 0.9856340\ttest: 0.8918129\tbest: 0.8960469 (179)\ttotal: 692ms\tremaining: 1.25s\n",
      "357:\tlearn: 0.9856340\ttest: 0.8901903\tbest: 0.8960469 (179)\ttotal: 709ms\tremaining: 1.27s\n",
      "358:\tlearn: 0.9856340\ttest: 0.8901903\tbest: 0.8960469 (179)\ttotal: 711ms\tremaining: 1.27s\n",
      "359:\tlearn: 0.9862672\ttest: 0.8918129\tbest: 0.8960469 (179)\ttotal: 712ms\tremaining: 1.27s\n",
      "360:\tlearn: 0.9862672\ttest: 0.8901903\tbest: 0.8960469 (179)\ttotal: 714ms\tremaining: 1.26s\n",
      "361:\tlearn: 0.9862672\ttest: 0.8885630\tbest: 0.8960469 (179)\ttotal: 716ms\tremaining: 1.26s\n",
      "362:\tlearn: 0.9862672\ttest: 0.8885630\tbest: 0.8960469 (179)\ttotal: 717ms\tremaining: 1.26s\n",
      "363:\tlearn: 0.9862672\ttest: 0.8872621\tbest: 0.8960469 (179)\ttotal: 719ms\tremaining: 1.26s\n",
      "364:\tlearn: 0.9862672\ttest: 0.8872621\tbest: 0.8960469 (179)\ttotal: 721ms\tremaining: 1.25s\n",
      "365:\tlearn: 0.9862672\ttest: 0.8901903\tbest: 0.8960469 (179)\ttotal: 722ms\tremaining: 1.25s\n",
      "366:\tlearn: 0.9862672\ttest: 0.8901903\tbest: 0.8960469 (179)\ttotal: 724ms\tremaining: 1.25s\n",
      "367:\tlearn: 0.9868996\ttest: 0.8885630\tbest: 0.8960469 (179)\ttotal: 726ms\tremaining: 1.25s\n",
      "368:\tlearn: 0.9868996\ttest: 0.8885630\tbest: 0.8960469 (179)\ttotal: 727ms\tremaining: 1.24s\n",
      "369:\tlearn: 0.9868996\ttest: 0.8875912\tbest: 0.8960469 (179)\ttotal: 729ms\tremaining: 1.24s\n",
      "370:\tlearn: 0.9875312\ttest: 0.8875912\tbest: 0.8960469 (179)\ttotal: 730ms\tremaining: 1.24s\n",
      "371:\tlearn: 0.9868996\ttest: 0.8892128\tbest: 0.8960469 (179)\ttotal: 732ms\tremaining: 1.24s\n",
      "372:\tlearn: 0.9868996\ttest: 0.8875912\tbest: 0.8960469 (179)\ttotal: 734ms\tremaining: 1.23s\n",
      "373:\tlearn: 0.9875312\ttest: 0.8875912\tbest: 0.8960469 (179)\ttotal: 735ms\tremaining: 1.23s\n",
      "374:\tlearn: 0.9875312\ttest: 0.8875912\tbest: 0.8960469 (179)\ttotal: 737ms\tremaining: 1.23s\n",
      "375:\tlearn: 0.9881620\ttest: 0.8892128\tbest: 0.8960469 (179)\ttotal: 739ms\tremaining: 1.23s\n",
      "376:\tlearn: 0.9881620\ttest: 0.8875912\tbest: 0.8960469 (179)\ttotal: 740ms\tremaining: 1.22s\n",
      "377:\tlearn: 0.9881620\ttest: 0.8892128\tbest: 0.8960469 (179)\ttotal: 742ms\tremaining: 1.22s\n",
      "378:\tlearn: 0.9881620\ttest: 0.8892128\tbest: 0.8960469 (179)\ttotal: 743ms\tremaining: 1.22s\n",
      "379:\tlearn: 0.9875312\ttest: 0.8892128\tbest: 0.8960469 (179)\ttotal: 745ms\tremaining: 1.21s\n",
      "380:\tlearn: 0.9875312\ttest: 0.8892128\tbest: 0.8960469 (179)\ttotal: 746ms\tremaining: 1.21s\n",
      "381:\tlearn: 0.9875312\ttest: 0.8892128\tbest: 0.8960469 (179)\ttotal: 748ms\tremaining: 1.21s\n",
      "382:\tlearn: 0.9875312\ttest: 0.8918129\tbest: 0.8960469 (179)\ttotal: 749ms\tremaining: 1.21s\n",
      "383:\tlearn: 0.9881620\ttest: 0.8918129\tbest: 0.8960469 (179)\ttotal: 751ms\tremaining: 1.2s\n",
      "384:\tlearn: 0.9881620\ttest: 0.8918129\tbest: 0.8960469 (179)\ttotal: 752ms\tremaining: 1.2s\n",
      "385:\tlearn: 0.9881620\ttest: 0.8892128\tbest: 0.8960469 (179)\ttotal: 754ms\tremaining: 1.2s\n",
      "386:\tlearn: 0.9881620\ttest: 0.8918129\tbest: 0.8960469 (179)\ttotal: 755ms\tremaining: 1.2s\n",
      "387:\tlearn: 0.9881620\ttest: 0.8918129\tbest: 0.8960469 (179)\ttotal: 757ms\tremaining: 1.19s\n",
      "388:\tlearn: 0.9881620\ttest: 0.8918129\tbest: 0.8960469 (179)\ttotal: 758ms\tremaining: 1.19s\n",
      "389:\tlearn: 0.9881620\ttest: 0.8918129\tbest: 0.8960469 (179)\ttotal: 760ms\tremaining: 1.19s\n",
      "390:\tlearn: 0.9881620\ttest: 0.8918129\tbest: 0.8960469 (179)\ttotal: 761ms\tremaining: 1.19s\n",
      "391:\tlearn: 0.9881620\ttest: 0.8918129\tbest: 0.8960469 (179)\ttotal: 763ms\tremaining: 1.18s\n",
      "392:\tlearn: 0.9881620\ttest: 0.8918129\tbest: 0.8960469 (179)\ttotal: 765ms\tremaining: 1.18s\n",
      "393:\tlearn: 0.9881620\ttest: 0.8918129\tbest: 0.8960469 (179)\ttotal: 767ms\tremaining: 1.18s\n",
      "394:\tlearn: 0.9881620\ttest: 0.8918129\tbest: 0.8960469 (179)\ttotal: 769ms\tremaining: 1.18s\n",
      "395:\tlearn: 0.9881620\ttest: 0.8918129\tbest: 0.8960469 (179)\ttotal: 770ms\tremaining: 1.17s\n",
      "396:\tlearn: 0.9881620\ttest: 0.8931186\tbest: 0.8960469 (179)\ttotal: 772ms\tremaining: 1.17s\n",
      "397:\tlearn: 0.9881620\ttest: 0.8918129\tbest: 0.8960469 (179)\ttotal: 773ms\tremaining: 1.17s\n",
      "398:\tlearn: 0.9881620\ttest: 0.8918129\tbest: 0.8960469 (179)\ttotal: 775ms\tremaining: 1.17s\n",
      "399:\tlearn: 0.9881620\ttest: 0.8918129\tbest: 0.8960469 (179)\ttotal: 776ms\tremaining: 1.16s\n",
      "400:\tlearn: 0.9881620\ttest: 0.8918129\tbest: 0.8960469 (179)\ttotal: 778ms\tremaining: 1.16s\n",
      "401:\tlearn: 0.9881620\ttest: 0.8918129\tbest: 0.8960469 (179)\ttotal: 779ms\tremaining: 1.16s\n",
      "402:\tlearn: 0.9887920\ttest: 0.8931186\tbest: 0.8960469 (179)\ttotal: 781ms\tremaining: 1.16s\n",
      "403:\tlearn: 0.9887920\ttest: 0.8931186\tbest: 0.8960469 (179)\ttotal: 782ms\tremaining: 1.15s\n",
      "404:\tlearn: 0.9887920\ttest: 0.8918129\tbest: 0.8960469 (179)\ttotal: 784ms\tremaining: 1.15s\n",
      "405:\tlearn: 0.9894213\ttest: 0.8918129\tbest: 0.8960469 (179)\ttotal: 785ms\tremaining: 1.15s\n",
      "406:\tlearn: 0.9900498\ttest: 0.8918129\tbest: 0.8960469 (179)\ttotal: 787ms\tremaining: 1.15s\n",
      "407:\tlearn: 0.9894213\ttest: 0.8931186\tbest: 0.8960469 (179)\ttotal: 789ms\tremaining: 1.14s\n",
      "408:\tlearn: 0.9894213\ttest: 0.8931186\tbest: 0.8960469 (179)\ttotal: 790ms\tremaining: 1.14s\n",
      "409:\tlearn: 0.9894213\ttest: 0.8931186\tbest: 0.8960469 (179)\ttotal: 791ms\tremaining: 1.14s\n",
      "410:\tlearn: 0.9900498\ttest: 0.8931186\tbest: 0.8960469 (179)\ttotal: 793ms\tremaining: 1.14s\n",
      "411:\tlearn: 0.9906774\ttest: 0.8931186\tbest: 0.8960469 (179)\ttotal: 795ms\tremaining: 1.13s\n",
      "412:\tlearn: 0.9906774\ttest: 0.8931186\tbest: 0.8960469 (179)\ttotal: 796ms\tremaining: 1.13s\n",
      "413:\tlearn: 0.9906774\ttest: 0.8918129\tbest: 0.8960469 (179)\ttotal: 798ms\tremaining: 1.13s\n",
      "414:\tlearn: 0.9906774\ttest: 0.8918129\tbest: 0.8960469 (179)\ttotal: 799ms\tremaining: 1.13s\n",
      "415:\tlearn: 0.9913043\ttest: 0.8918129\tbest: 0.8960469 (179)\ttotal: 801ms\tremaining: 1.12s\n",
      "416:\tlearn: 0.9906774\ttest: 0.8918129\tbest: 0.8960469 (179)\ttotal: 803ms\tremaining: 1.12s\n",
      "417:\tlearn: 0.9906774\ttest: 0.8918129\tbest: 0.8960469 (179)\ttotal: 804ms\tremaining: 1.12s\n",
      "418:\tlearn: 0.9906774\ttest: 0.8918129\tbest: 0.8960469 (179)\ttotal: 806ms\tremaining: 1.12s\n",
      "419:\tlearn: 0.9919305\ttest: 0.8918129\tbest: 0.8960469 (179)\ttotal: 807ms\tremaining: 1.11s\n",
      "420:\tlearn: 0.9919305\ttest: 0.8918129\tbest: 0.8960469 (179)\ttotal: 808ms\tremaining: 1.11s\n",
      "421:\tlearn: 0.9913043\ttest: 0.8918129\tbest: 0.8960469 (179)\ttotal: 810ms\tremaining: 1.11s\n",
      "422:\tlearn: 0.9913043\ttest: 0.8918129\tbest: 0.8960469 (179)\ttotal: 812ms\tremaining: 1.11s\n",
      "423:\tlearn: 0.9913043\ttest: 0.8918129\tbest: 0.8960469 (179)\ttotal: 813ms\tremaining: 1.1s\n",
      "424:\tlearn: 0.9919305\ttest: 0.8918129\tbest: 0.8960469 (179)\ttotal: 814ms\tremaining: 1.1s\n",
      "425:\tlearn: 0.9925558\ttest: 0.8918129\tbest: 0.8960469 (179)\ttotal: 816ms\tremaining: 1.1s\n",
      "426:\tlearn: 0.9931804\ttest: 0.8918129\tbest: 0.8960469 (179)\ttotal: 817ms\tremaining: 1.1s\n",
      "427:\tlearn: 0.9931804\ttest: 0.8918129\tbest: 0.8960469 (179)\ttotal: 819ms\tremaining: 1.09s\n",
      "428:\tlearn: 0.9931804\ttest: 0.8901903\tbest: 0.8960469 (179)\ttotal: 820ms\tremaining: 1.09s\n",
      "429:\tlearn: 0.9931804\ttest: 0.8918129\tbest: 0.8960469 (179)\ttotal: 822ms\tremaining: 1.09s\n",
      "430:\tlearn: 0.9931804\ttest: 0.8918129\tbest: 0.8960469 (179)\ttotal: 823ms\tremaining: 1.09s\n",
      "431:\tlearn: 0.9938042\ttest: 0.8918129\tbest: 0.8960469 (179)\ttotal: 825ms\tremaining: 1.08s\n",
      "432:\tlearn: 0.9938042\ttest: 0.8918129\tbest: 0.8960469 (179)\ttotal: 827ms\tremaining: 1.08s\n",
      "433:\tlearn: 0.9938042\ttest: 0.8918129\tbest: 0.8960469 (179)\ttotal: 828ms\tremaining: 1.08s\n",
      "434:\tlearn: 0.9938042\ttest: 0.8905109\tbest: 0.8960469 (179)\ttotal: 830ms\tremaining: 1.08s\n",
      "435:\tlearn: 0.9944272\ttest: 0.8905109\tbest: 0.8960469 (179)\ttotal: 831ms\tremaining: 1.07s\n",
      "436:\tlearn: 0.9944272\ttest: 0.8905109\tbest: 0.8960469 (179)\ttotal: 833ms\tremaining: 1.07s\n",
      "437:\tlearn: 0.9938042\ttest: 0.8892128\tbest: 0.8960469 (179)\ttotal: 834ms\tremaining: 1.07s\n",
      "438:\tlearn: 0.9938042\ttest: 0.8905109\tbest: 0.8960469 (179)\ttotal: 836ms\tremaining: 1.07s\n",
      "439:\tlearn: 0.9938042\ttest: 0.8921283\tbest: 0.8960469 (179)\ttotal: 837ms\tremaining: 1.06s\n",
      "440:\tlearn: 0.9950495\ttest: 0.8908297\tbest: 0.8960469 (179)\ttotal: 839ms\tremaining: 1.06s\n",
      "441:\tlearn: 0.9956710\ttest: 0.8908297\tbest: 0.8960469 (179)\ttotal: 840ms\tremaining: 1.06s\n",
      "442:\tlearn: 0.9956710\ttest: 0.8908297\tbest: 0.8960469 (179)\ttotal: 842ms\tremaining: 1.06s\n",
      "443:\tlearn: 0.9956710\ttest: 0.8908297\tbest: 0.8960469 (179)\ttotal: 843ms\tremaining: 1.06s\n",
      "444:\tlearn: 0.9950495\ttest: 0.8908297\tbest: 0.8960469 (179)\ttotal: 845ms\tremaining: 1.05s\n",
      "445:\tlearn: 0.9956710\ttest: 0.8921283\tbest: 0.8960469 (179)\ttotal: 846ms\tremaining: 1.05s\n",
      "446:\tlearn: 0.9956710\ttest: 0.8921283\tbest: 0.8960469 (179)\ttotal: 848ms\tremaining: 1.05s\n",
      "447:\tlearn: 0.9944272\ttest: 0.8908297\tbest: 0.8960469 (179)\ttotal: 849ms\tremaining: 1.05s\n",
      "448:\tlearn: 0.9944272\ttest: 0.8921283\tbest: 0.8960469 (179)\ttotal: 851ms\tremaining: 1.04s\n",
      "449:\tlearn: 0.9944272\ttest: 0.8921283\tbest: 0.8960469 (179)\ttotal: 852ms\tremaining: 1.04s\n",
      "450:\tlearn: 0.9950495\ttest: 0.8921283\tbest: 0.8960469 (179)\ttotal: 854ms\tremaining: 1.04s\n",
      "451:\tlearn: 0.9950495\ttest: 0.8921283\tbest: 0.8960469 (179)\ttotal: 855ms\tremaining: 1.04s\n",
      "452:\tlearn: 0.9950495\ttest: 0.8921283\tbest: 0.8960469 (179)\ttotal: 857ms\tremaining: 1.03s\n",
      "453:\tlearn: 0.9950495\ttest: 0.8921283\tbest: 0.8960469 (179)\ttotal: 858ms\tremaining: 1.03s\n",
      "454:\tlearn: 0.9950495\ttest: 0.8921283\tbest: 0.8960469 (179)\ttotal: 860ms\tremaining: 1.03s\n",
      "455:\tlearn: 0.9950495\ttest: 0.8921283\tbest: 0.8960469 (179)\ttotal: 861ms\tremaining: 1.03s\n",
      "456:\tlearn: 0.9950495\ttest: 0.8921283\tbest: 0.8960469 (179)\ttotal: 863ms\tremaining: 1.02s\n",
      "457:\tlearn: 0.9950495\ttest: 0.8921283\tbest: 0.8960469 (179)\ttotal: 864ms\tremaining: 1.02s\n",
      "458:\tlearn: 0.9950495\ttest: 0.8905109\tbest: 0.8960469 (179)\ttotal: 866ms\tremaining: 1.02s\n",
      "459:\tlearn: 0.9950495\ttest: 0.8905109\tbest: 0.8960469 (179)\ttotal: 868ms\tremaining: 1.02s\n",
      "460:\tlearn: 0.9950495\ttest: 0.8905109\tbest: 0.8960469 (179)\ttotal: 869ms\tremaining: 1.02s\n",
      "461:\tlearn: 0.9950495\ttest: 0.8905109\tbest: 0.8960469 (179)\ttotal: 871ms\tremaining: 1.01s\n",
      "462:\tlearn: 0.9950495\ttest: 0.8905109\tbest: 0.8960469 (179)\ttotal: 872ms\tremaining: 1.01s\n",
      "463:\tlearn: 0.9950495\ttest: 0.8905109\tbest: 0.8960469 (179)\ttotal: 874ms\tremaining: 1.01s\n",
      "464:\tlearn: 0.9950495\ttest: 0.8905109\tbest: 0.8960469 (179)\ttotal: 875ms\tremaining: 1.01s\n",
      "465:\tlearn: 0.9950495\ttest: 0.8888889\tbest: 0.8960469 (179)\ttotal: 877ms\tremaining: 1s\n",
      "466:\tlearn: 0.9950495\ttest: 0.8888889\tbest: 0.8960469 (179)\ttotal: 878ms\tremaining: 1s\n",
      "467:\tlearn: 0.9950495\ttest: 0.8888889\tbest: 0.8960469 (179)\ttotal: 880ms\tremaining: 1000ms\n",
      "468:\tlearn: 0.9956710\ttest: 0.8888889\tbest: 0.8960469 (179)\ttotal: 881ms\tremaining: 998ms\n",
      "469:\tlearn: 0.9956710\ttest: 0.8888889\tbest: 0.8960469 (179)\ttotal: 883ms\tremaining: 996ms\n",
      "470:\tlearn: 0.9956710\ttest: 0.8888889\tbest: 0.8960469 (179)\ttotal: 885ms\tremaining: 994ms\n",
      "471:\tlearn: 0.9950495\ttest: 0.8921283\tbest: 0.8960469 (179)\ttotal: 886ms\tremaining: 991ms\n",
      "472:\tlearn: 0.9962917\ttest: 0.8905109\tbest: 0.8960469 (179)\ttotal: 888ms\tremaining: 989ms\n",
      "473:\tlearn: 0.9962917\ttest: 0.8905109\tbest: 0.8960469 (179)\ttotal: 889ms\tremaining: 987ms\n",
      "474:\tlearn: 0.9962917\ttest: 0.8905109\tbest: 0.8960469 (179)\ttotal: 891ms\tremaining: 985ms\n",
      "475:\tlearn: 0.9962917\ttest: 0.8905109\tbest: 0.8960469 (179)\ttotal: 892ms\tremaining: 982ms\n",
      "476:\tlearn: 0.9962917\ttest: 0.8905109\tbest: 0.8960469 (179)\ttotal: 894ms\tremaining: 980ms\n",
      "477:\tlearn: 0.9962917\ttest: 0.8905109\tbest: 0.8960469 (179)\ttotal: 895ms\tremaining: 978ms\n",
      "478:\tlearn: 0.9969117\ttest: 0.8905109\tbest: 0.8960469 (179)\ttotal: 897ms\tremaining: 975ms\n",
      "479:\tlearn: 0.9969117\ttest: 0.8905109\tbest: 0.8960469 (179)\ttotal: 898ms\tremaining: 973ms\n",
      "480:\tlearn: 0.9969117\ttest: 0.8905109\tbest: 0.8960469 (179)\ttotal: 900ms\tremaining: 971ms\n",
      "481:\tlearn: 0.9969117\ttest: 0.8921283\tbest: 0.8960469 (179)\ttotal: 901ms\tremaining: 968ms\n",
      "482:\tlearn: 0.9969117\ttest: 0.8921283\tbest: 0.8960469 (179)\ttotal: 903ms\tremaining: 966ms\n",
      "483:\tlearn: 0.9969117\ttest: 0.8921283\tbest: 0.8960469 (179)\ttotal: 904ms\tremaining: 964ms\n",
      "484:\tlearn: 0.9969117\ttest: 0.8921283\tbest: 0.8960469 (179)\ttotal: 906ms\tremaining: 962ms\n",
      "485:\tlearn: 0.9969117\ttest: 0.8921283\tbest: 0.8960469 (179)\ttotal: 907ms\tremaining: 959ms\n",
      "486:\tlearn: 0.9969117\ttest: 0.8921283\tbest: 0.8960469 (179)\ttotal: 908ms\tremaining: 957ms\n",
      "487:\tlearn: 0.9969117\ttest: 0.8905109\tbest: 0.8960469 (179)\ttotal: 910ms\tremaining: 955ms\n",
      "488:\tlearn: 0.9969117\ttest: 0.8918129\tbest: 0.8960469 (179)\ttotal: 912ms\tremaining: 953ms\n",
      "489:\tlearn: 0.9969117\ttest: 0.8918129\tbest: 0.8960469 (179)\ttotal: 913ms\tremaining: 950ms\n",
      "490:\tlearn: 0.9969117\ttest: 0.8918129\tbest: 0.8960469 (179)\ttotal: 914ms\tremaining: 948ms\n",
      "491:\tlearn: 0.9969117\ttest: 0.8918129\tbest: 0.8960469 (179)\ttotal: 916ms\tremaining: 946ms\n",
      "492:\tlearn: 0.9969117\ttest: 0.8918129\tbest: 0.8960469 (179)\ttotal: 917ms\tremaining: 943ms\n",
      "493:\tlearn: 0.9975309\ttest: 0.8918129\tbest: 0.8960469 (179)\ttotal: 919ms\tremaining: 941ms\n",
      "494:\tlearn: 0.9975309\ttest: 0.8918129\tbest: 0.8960469 (179)\ttotal: 920ms\tremaining: 939ms\n",
      "495:\tlearn: 0.9975309\ttest: 0.8918129\tbest: 0.8960469 (179)\ttotal: 922ms\tremaining: 937ms\n",
      "496:\tlearn: 0.9975309\ttest: 0.8918129\tbest: 0.8960469 (179)\ttotal: 923ms\tremaining: 934ms\n",
      "497:\tlearn: 0.9975309\ttest: 0.8934307\tbest: 0.8960469 (179)\ttotal: 925ms\tremaining: 932ms\n",
      "498:\tlearn: 0.9975309\ttest: 0.8934307\tbest: 0.8960469 (179)\ttotal: 926ms\tremaining: 930ms\n",
      "499:\tlearn: 0.9975309\ttest: 0.8921283\tbest: 0.8960469 (179)\ttotal: 928ms\tremaining: 928ms\n",
      "500:\tlearn: 0.9975309\ttest: 0.8908297\tbest: 0.8960469 (179)\ttotal: 929ms\tremaining: 925ms\n",
      "501:\tlearn: 0.9975309\ttest: 0.8921283\tbest: 0.8960469 (179)\ttotal: 930ms\tremaining: 923ms\n",
      "502:\tlearn: 0.9975309\ttest: 0.8921283\tbest: 0.8960469 (179)\ttotal: 932ms\tremaining: 921ms\n",
      "503:\tlearn: 0.9975309\ttest: 0.8921283\tbest: 0.8960469 (179)\ttotal: 933ms\tremaining: 919ms\n",
      "504:\tlearn: 0.9975309\ttest: 0.8921283\tbest: 0.8960469 (179)\ttotal: 935ms\tremaining: 916ms\n",
      "505:\tlearn: 0.9975309\ttest: 0.8921283\tbest: 0.8960469 (179)\ttotal: 936ms\tremaining: 914ms\n",
      "506:\tlearn: 0.9975309\ttest: 0.8921283\tbest: 0.8960469 (179)\ttotal: 938ms\tremaining: 912ms\n",
      "507:\tlearn: 0.9975309\ttest: 0.8921283\tbest: 0.8960469 (179)\ttotal: 939ms\tremaining: 910ms\n",
      "508:\tlearn: 0.9975309\ttest: 0.8921283\tbest: 0.8960469 (179)\ttotal: 941ms\tremaining: 908ms\n",
      "509:\tlearn: 0.9975309\ttest: 0.8908297\tbest: 0.8960469 (179)\ttotal: 943ms\tremaining: 906ms\n",
      "510:\tlearn: 0.9975309\ttest: 0.8908297\tbest: 0.8960469 (179)\ttotal: 944ms\tremaining: 903ms\n",
      "511:\tlearn: 0.9975309\ttest: 0.8908297\tbest: 0.8960469 (179)\ttotal: 946ms\tremaining: 901ms\n",
      "512:\tlearn: 0.9975309\ttest: 0.8908297\tbest: 0.8960469 (179)\ttotal: 947ms\tremaining: 899ms\n",
      "513:\tlearn: 0.9975309\ttest: 0.8908297\tbest: 0.8960469 (179)\ttotal: 949ms\tremaining: 897ms\n",
      "514:\tlearn: 0.9975309\ttest: 0.8921283\tbest: 0.8960469 (179)\ttotal: 950ms\tremaining: 895ms\n",
      "515:\tlearn: 0.9975309\ttest: 0.8921283\tbest: 0.8960469 (179)\ttotal: 952ms\tremaining: 893ms\n",
      "516:\tlearn: 0.9975309\ttest: 0.8921283\tbest: 0.8960469 (179)\ttotal: 953ms\tremaining: 890ms\n",
      "517:\tlearn: 0.9975309\ttest: 0.8934307\tbest: 0.8960469 (179)\ttotal: 955ms\tremaining: 888ms\n",
      "518:\tlearn: 0.9975309\ttest: 0.8934307\tbest: 0.8960469 (179)\ttotal: 956ms\tremaining: 886ms\n",
      "519:\tlearn: 0.9975309\ttest: 0.8934307\tbest: 0.8960469 (179)\ttotal: 958ms\tremaining: 884ms\n",
      "520:\tlearn: 0.9975309\ttest: 0.8934307\tbest: 0.8960469 (179)\ttotal: 960ms\tremaining: 882ms\n",
      "521:\tlearn: 0.9975309\ttest: 0.8934307\tbest: 0.8960469 (179)\ttotal: 961ms\tremaining: 880ms\n",
      "522:\tlearn: 0.9975309\ttest: 0.8934307\tbest: 0.8960469 (179)\ttotal: 962ms\tremaining: 878ms\n",
      "523:\tlearn: 0.9975309\ttest: 0.8934307\tbest: 0.8960469 (179)\ttotal: 964ms\tremaining: 876ms\n",
      "524:\tlearn: 0.9975309\ttest: 0.8934307\tbest: 0.8960469 (179)\ttotal: 965ms\tremaining: 873ms\n",
      "525:\tlearn: 0.9975309\ttest: 0.8921283\tbest: 0.8960469 (179)\ttotal: 967ms\tremaining: 871ms\n",
      "526:\tlearn: 0.9975309\ttest: 0.8921283\tbest: 0.8960469 (179)\ttotal: 968ms\tremaining: 869ms\n",
      "527:\tlearn: 0.9975309\ttest: 0.8921283\tbest: 0.8960469 (179)\ttotal: 970ms\tremaining: 867ms\n",
      "528:\tlearn: 0.9975309\ttest: 0.8921283\tbest: 0.8960469 (179)\ttotal: 971ms\tremaining: 865ms\n",
      "529:\tlearn: 0.9975309\ttest: 0.8921283\tbest: 0.8960469 (179)\ttotal: 973ms\tremaining: 863ms\n",
      "530:\tlearn: 0.9975309\ttest: 0.8921283\tbest: 0.8960469 (179)\ttotal: 974ms\tremaining: 861ms\n",
      "531:\tlearn: 0.9975309\ttest: 0.8921283\tbest: 0.8960469 (179)\ttotal: 976ms\tremaining: 858ms\n",
      "532:\tlearn: 0.9975309\ttest: 0.8934307\tbest: 0.8960469 (179)\ttotal: 977ms\tremaining: 856ms\n",
      "533:\tlearn: 0.9975309\ttest: 0.8934307\tbest: 0.8960469 (179)\ttotal: 979ms\tremaining: 854ms\n",
      "534:\tlearn: 0.9975309\ttest: 0.8934307\tbest: 0.8960469 (179)\ttotal: 980ms\tremaining: 852ms\n",
      "535:\tlearn: 0.9975309\ttest: 0.8934307\tbest: 0.8960469 (179)\ttotal: 982ms\tremaining: 850ms\n",
      "536:\tlearn: 0.9975309\ttest: 0.8934307\tbest: 0.8960469 (179)\ttotal: 983ms\tremaining: 848ms\n",
      "537:\tlearn: 0.9975309\ttest: 0.8921283\tbest: 0.8960469 (179)\ttotal: 985ms\tremaining: 846ms\n",
      "538:\tlearn: 0.9981493\ttest: 0.8921283\tbest: 0.8960469 (179)\ttotal: 986ms\tremaining: 843ms\n",
      "539:\tlearn: 0.9981493\ttest: 0.8921283\tbest: 0.8960469 (179)\ttotal: 988ms\tremaining: 841ms\n",
      "540:\tlearn: 0.9981493\ttest: 0.8921283\tbest: 0.8960469 (179)\ttotal: 989ms\tremaining: 839ms\n",
      "541:\tlearn: 0.9981493\ttest: 0.8921283\tbest: 0.8960469 (179)\ttotal: 991ms\tremaining: 837ms\n",
      "542:\tlearn: 0.9981493\ttest: 0.8921283\tbest: 0.8960469 (179)\ttotal: 992ms\tremaining: 835ms\n",
      "543:\tlearn: 0.9981493\ttest: 0.8921283\tbest: 0.8960469 (179)\ttotal: 994ms\tremaining: 833ms\n",
      "544:\tlearn: 0.9981493\ttest: 0.8921283\tbest: 0.8960469 (179)\ttotal: 995ms\tremaining: 831ms\n",
      "545:\tlearn: 0.9981493\ttest: 0.8921283\tbest: 0.8960469 (179)\ttotal: 997ms\tremaining: 829ms\n",
      "546:\tlearn: 0.9981493\ttest: 0.8921283\tbest: 0.8960469 (179)\ttotal: 998ms\tremaining: 827ms\n",
      "547:\tlearn: 0.9981493\ttest: 0.8905109\tbest: 0.8960469 (179)\ttotal: 1000ms\tremaining: 825ms\n",
      "548:\tlearn: 0.9981493\ttest: 0.8905109\tbest: 0.8960469 (179)\ttotal: 1s\tremaining: 823ms\n",
      "549:\tlearn: 0.9981493\ttest: 0.8905109\tbest: 0.8960469 (179)\ttotal: 1s\tremaining: 820ms\n",
      "550:\tlearn: 0.9981493\ttest: 0.8892128\tbest: 0.8960469 (179)\ttotal: 1s\tremaining: 818ms\n",
      "551:\tlearn: 0.9981493\ttest: 0.8892128\tbest: 0.8960469 (179)\ttotal: 1s\tremaining: 816ms\n",
      "552:\tlearn: 0.9981493\ttest: 0.8892128\tbest: 0.8960469 (179)\ttotal: 1.01s\tremaining: 814ms\n",
      "553:\tlearn: 0.9981493\ttest: 0.8892128\tbest: 0.8960469 (179)\ttotal: 1.01s\tremaining: 812ms\n",
      "554:\tlearn: 0.9981493\ttest: 0.8892128\tbest: 0.8960469 (179)\ttotal: 1.01s\tremaining: 810ms\n",
      "555:\tlearn: 0.9981493\ttest: 0.8892128\tbest: 0.8960469 (179)\ttotal: 1.01s\tremaining: 808ms\n",
      "556:\tlearn: 0.9981493\ttest: 0.8892128\tbest: 0.8960469 (179)\ttotal: 1.01s\tremaining: 806ms\n",
      "557:\tlearn: 0.9981493\ttest: 0.8892128\tbest: 0.8960469 (179)\ttotal: 1.01s\tremaining: 804ms\n",
      "558:\tlearn: 0.9981493\ttest: 0.8892128\tbest: 0.8960469 (179)\ttotal: 1.02s\tremaining: 802ms\n",
      "559:\tlearn: 0.9981493\ttest: 0.8892128\tbest: 0.8960469 (179)\ttotal: 1.02s\tremaining: 799ms\n",
      "560:\tlearn: 0.9981493\ttest: 0.8892128\tbest: 0.8960469 (179)\ttotal: 1.02s\tremaining: 798ms\n",
      "561:\tlearn: 0.9981493\ttest: 0.8905109\tbest: 0.8960469 (179)\ttotal: 1.02s\tremaining: 795ms\n",
      "562:\tlearn: 0.9981493\ttest: 0.8905109\tbest: 0.8960469 (179)\ttotal: 1.02s\tremaining: 793ms\n",
      "563:\tlearn: 0.9981493\ttest: 0.8905109\tbest: 0.8960469 (179)\ttotal: 1.02s\tremaining: 791ms\n",
      "564:\tlearn: 0.9981493\ttest: 0.8905109\tbest: 0.8960469 (179)\ttotal: 1.02s\tremaining: 789ms\n",
      "565:\tlearn: 0.9981493\ttest: 0.8905109\tbest: 0.8960469 (179)\ttotal: 1.03s\tremaining: 787ms\n",
      "566:\tlearn: 0.9981493\ttest: 0.8905109\tbest: 0.8960469 (179)\ttotal: 1.03s\tremaining: 785ms\n",
      "567:\tlearn: 0.9981493\ttest: 0.8918129\tbest: 0.8960469 (179)\ttotal: 1.03s\tremaining: 783ms\n",
      "568:\tlearn: 0.9981493\ttest: 0.8905109\tbest: 0.8960469 (179)\ttotal: 1.03s\tremaining: 781ms\n",
      "569:\tlearn: 0.9981493\ttest: 0.8905109\tbest: 0.8960469 (179)\ttotal: 1.03s\tremaining: 779ms\n",
      "570:\tlearn: 0.9981493\ttest: 0.8905109\tbest: 0.8960469 (179)\ttotal: 1.03s\tremaining: 777ms\n",
      "571:\tlearn: 0.9981493\ttest: 0.8905109\tbest: 0.8960469 (179)\ttotal: 1.03s\tremaining: 775ms\n",
      "572:\tlearn: 0.9981493\ttest: 0.8905109\tbest: 0.8960469 (179)\ttotal: 1.04s\tremaining: 773ms\n",
      "573:\tlearn: 0.9981493\ttest: 0.8905109\tbest: 0.8960469 (179)\ttotal: 1.04s\tremaining: 771ms\n",
      "574:\tlearn: 0.9981493\ttest: 0.8905109\tbest: 0.8960469 (179)\ttotal: 1.04s\tremaining: 769ms\n",
      "575:\tlearn: 0.9981493\ttest: 0.8905109\tbest: 0.8960469 (179)\ttotal: 1.04s\tremaining: 767ms\n",
      "576:\tlearn: 0.9987670\ttest: 0.8905109\tbest: 0.8960469 (179)\ttotal: 1.04s\tremaining: 765ms\n",
      "577:\tlearn: 0.9987670\ttest: 0.8888889\tbest: 0.8960469 (179)\ttotal: 1.04s\tremaining: 763ms\n",
      "578:\tlearn: 0.9987670\ttest: 0.8888889\tbest: 0.8960469 (179)\ttotal: 1.05s\tremaining: 761ms\n",
      "579:\tlearn: 0.9987670\ttest: 0.8888889\tbest: 0.8960469 (179)\ttotal: 1.05s\tremaining: 759ms\n",
      "580:\tlearn: 0.9987670\ttest: 0.8888889\tbest: 0.8960469 (179)\ttotal: 1.05s\tremaining: 757ms\n",
      "581:\tlearn: 0.9987670\ttest: 0.8888889\tbest: 0.8960469 (179)\ttotal: 1.05s\tremaining: 755ms\n",
      "582:\tlearn: 0.9987670\ttest: 0.8888889\tbest: 0.8960469 (179)\ttotal: 1.05s\tremaining: 755ms\n",
      "583:\tlearn: 0.9987670\ttest: 0.8875912\tbest: 0.8960469 (179)\ttotal: 1.06s\tremaining: 753ms\n",
      "584:\tlearn: 0.9987670\ttest: 0.8875912\tbest: 0.8960469 (179)\ttotal: 1.06s\tremaining: 751ms\n",
      "585:\tlearn: 0.9987670\ttest: 0.8875912\tbest: 0.8960469 (179)\ttotal: 1.06s\tremaining: 749ms\n",
      "586:\tlearn: 0.9987670\ttest: 0.8875912\tbest: 0.8960469 (179)\ttotal: 1.06s\tremaining: 747ms\n",
      "587:\tlearn: 0.9987670\ttest: 0.8875912\tbest: 0.8960469 (179)\ttotal: 1.06s\tremaining: 745ms\n",
      "588:\tlearn: 0.9987670\ttest: 0.8875912\tbest: 0.8960469 (179)\ttotal: 1.06s\tremaining: 743ms\n",
      "589:\tlearn: 0.9987670\ttest: 0.8875912\tbest: 0.8960469 (179)\ttotal: 1.07s\tremaining: 741ms\n",
      "590:\tlearn: 0.9987670\ttest: 0.8875912\tbest: 0.8960469 (179)\ttotal: 1.07s\tremaining: 739ms\n",
      "591:\tlearn: 0.9987670\ttest: 0.8875912\tbest: 0.8960469 (179)\ttotal: 1.07s\tremaining: 737ms\n",
      "592:\tlearn: 0.9987670\ttest: 0.8875912\tbest: 0.8960469 (179)\ttotal: 1.07s\tremaining: 735ms\n",
      "593:\tlearn: 0.9987670\ttest: 0.8892128\tbest: 0.8960469 (179)\ttotal: 1.07s\tremaining: 733ms\n",
      "594:\tlearn: 0.9987670\ttest: 0.8892128\tbest: 0.8960469 (179)\ttotal: 1.07s\tremaining: 731ms\n",
      "595:\tlearn: 0.9987670\ttest: 0.8892128\tbest: 0.8960469 (179)\ttotal: 1.07s\tremaining: 729ms\n",
      "596:\tlearn: 0.9987670\ttest: 0.8875912\tbest: 0.8960469 (179)\ttotal: 1.08s\tremaining: 727ms\n",
      "597:\tlearn: 0.9987670\ttest: 0.8875912\tbest: 0.8960469 (179)\ttotal: 1.08s\tremaining: 725ms\n",
      "598:\tlearn: 0.9987670\ttest: 0.8875912\tbest: 0.8960469 (179)\ttotal: 1.08s\tremaining: 723ms\n",
      "599:\tlearn: 0.9987670\ttest: 0.8875912\tbest: 0.8960469 (179)\ttotal: 1.08s\tremaining: 721ms\n",
      "600:\tlearn: 0.9987670\ttest: 0.8888889\tbest: 0.8960469 (179)\ttotal: 1.08s\tremaining: 719ms\n",
      "601:\tlearn: 0.9987670\ttest: 0.8875912\tbest: 0.8960469 (179)\ttotal: 1.08s\tremaining: 717ms\n",
      "602:\tlearn: 0.9987670\ttest: 0.8888889\tbest: 0.8960469 (179)\ttotal: 1.08s\tremaining: 715ms\n",
      "603:\tlearn: 0.9987670\ttest: 0.8888889\tbest: 0.8960469 (179)\ttotal: 1.09s\tremaining: 713ms\n",
      "604:\tlearn: 0.9987670\ttest: 0.8888889\tbest: 0.8960469 (179)\ttotal: 1.09s\tremaining: 711ms\n",
      "605:\tlearn: 0.9987670\ttest: 0.8888889\tbest: 0.8960469 (179)\ttotal: 1.09s\tremaining: 709ms\n",
      "606:\tlearn: 0.9987670\ttest: 0.8888889\tbest: 0.8960469 (179)\ttotal: 1.09s\tremaining: 707ms\n",
      "607:\tlearn: 0.9987670\ttest: 0.8888889\tbest: 0.8960469 (179)\ttotal: 1.09s\tremaining: 705ms\n",
      "608:\tlearn: 0.9987670\ttest: 0.8901903\tbest: 0.8960469 (179)\ttotal: 1.09s\tremaining: 703ms\n",
      "609:\tlearn: 0.9987670\ttest: 0.8901903\tbest: 0.8960469 (179)\ttotal: 1.09s\tremaining: 701ms\n",
      "610:\tlearn: 0.9987670\ttest: 0.8901903\tbest: 0.8960469 (179)\ttotal: 1.1s\tremaining: 699ms\n",
      "611:\tlearn: 0.9987670\ttest: 0.8901903\tbest: 0.8960469 (179)\ttotal: 1.1s\tremaining: 697ms\n",
      "612:\tlearn: 0.9987670\ttest: 0.8901903\tbest: 0.8960469 (179)\ttotal: 1.1s\tremaining: 695ms\n",
      "613:\tlearn: 0.9987670\ttest: 0.8901903\tbest: 0.8960469 (179)\ttotal: 1.1s\tremaining: 693ms\n",
      "614:\tlearn: 0.9987670\ttest: 0.8901903\tbest: 0.8960469 (179)\ttotal: 1.1s\tremaining: 691ms\n",
      "615:\tlearn: 0.9987670\ttest: 0.8901903\tbest: 0.8960469 (179)\ttotal: 1.1s\tremaining: 689ms\n",
      "616:\tlearn: 0.9987670\ttest: 0.8901903\tbest: 0.8960469 (179)\ttotal: 1.11s\tremaining: 687ms\n",
      "617:\tlearn: 0.9987670\ttest: 0.8901903\tbest: 0.8960469 (179)\ttotal: 1.11s\tremaining: 685ms\n",
      "618:\tlearn: 0.9987670\ttest: 0.8901903\tbest: 0.8960469 (179)\ttotal: 1.11s\tremaining: 683ms\n",
      "619:\tlearn: 0.9987670\ttest: 0.8901903\tbest: 0.8960469 (179)\ttotal: 1.11s\tremaining: 681ms\n",
      "620:\tlearn: 0.9987670\ttest: 0.8901903\tbest: 0.8960469 (179)\ttotal: 1.11s\tremaining: 679ms\n",
      "621:\tlearn: 0.9987670\ttest: 0.8901903\tbest: 0.8960469 (179)\ttotal: 1.11s\tremaining: 677ms\n",
      "622:\tlearn: 0.9987670\ttest: 0.8901903\tbest: 0.8960469 (179)\ttotal: 1.11s\tremaining: 675ms\n",
      "623:\tlearn: 0.9987670\ttest: 0.8914956\tbest: 0.8960469 (179)\ttotal: 1.12s\tremaining: 673ms\n",
      "624:\tlearn: 0.9987670\ttest: 0.8914956\tbest: 0.8960469 (179)\ttotal: 1.12s\tremaining: 671ms\n",
      "625:\tlearn: 0.9987670\ttest: 0.8914956\tbest: 0.8960469 (179)\ttotal: 1.12s\tremaining: 669ms\n",
      "626:\tlearn: 0.9987670\ttest: 0.8931186\tbest: 0.8960469 (179)\ttotal: 1.12s\tremaining: 668ms\n",
      "627:\tlearn: 0.9987670\ttest: 0.8931186\tbest: 0.8960469 (179)\ttotal: 1.12s\tremaining: 666ms\n",
      "628:\tlearn: 0.9987670\ttest: 0.8914956\tbest: 0.8960469 (179)\ttotal: 1.12s\tremaining: 664ms\n",
      "629:\tlearn: 0.9993839\ttest: 0.8931186\tbest: 0.8960469 (179)\ttotal: 1.13s\tremaining: 662ms\n",
      "630:\tlearn: 0.9993839\ttest: 0.8914956\tbest: 0.8960469 (179)\ttotal: 1.13s\tremaining: 660ms\n",
      "631:\tlearn: 0.9993839\ttest: 0.8931186\tbest: 0.8960469 (179)\ttotal: 1.13s\tremaining: 658ms\n",
      "632:\tlearn: 0.9993839\ttest: 0.8914956\tbest: 0.8960469 (179)\ttotal: 1.13s\tremaining: 656ms\n",
      "633:\tlearn: 0.9993839\ttest: 0.8914956\tbest: 0.8960469 (179)\ttotal: 1.13s\tremaining: 654ms\n",
      "634:\tlearn: 0.9993839\ttest: 0.8914956\tbest: 0.8960469 (179)\ttotal: 1.13s\tremaining: 652ms\n",
      "635:\tlearn: 0.9993839\ttest: 0.8901903\tbest: 0.8960469 (179)\ttotal: 1.14s\tremaining: 650ms\n",
      "636:\tlearn: 0.9993839\ttest: 0.8901903\tbest: 0.8960469 (179)\ttotal: 1.14s\tremaining: 648ms\n",
      "637:\tlearn: 0.9993839\ttest: 0.8914956\tbest: 0.8960469 (179)\ttotal: 1.14s\tremaining: 646ms\n",
      "638:\tlearn: 0.9993839\ttest: 0.8914956\tbest: 0.8960469 (179)\ttotal: 1.14s\tremaining: 644ms\n",
      "639:\tlearn: 0.9993839\ttest: 0.8901903\tbest: 0.8960469 (179)\ttotal: 1.14s\tremaining: 642ms\n",
      "640:\tlearn: 0.9993839\ttest: 0.8901903\tbest: 0.8960469 (179)\ttotal: 1.14s\tremaining: 640ms\n",
      "641:\tlearn: 0.9993839\ttest: 0.8901903\tbest: 0.8960469 (179)\ttotal: 1.14s\tremaining: 638ms\n",
      "642:\tlearn: 0.9993839\ttest: 0.8901903\tbest: 0.8960469 (179)\ttotal: 1.15s\tremaining: 636ms\n",
      "643:\tlearn: 0.9993839\ttest: 0.8914956\tbest: 0.8960469 (179)\ttotal: 1.15s\tremaining: 634ms\n",
      "644:\tlearn: 0.9993839\ttest: 0.8901903\tbest: 0.8960469 (179)\ttotal: 1.15s\tremaining: 632ms\n",
      "645:\tlearn: 0.9993839\ttest: 0.8914956\tbest: 0.8960469 (179)\ttotal: 1.15s\tremaining: 630ms\n",
      "646:\tlearn: 0.9993839\ttest: 0.8914956\tbest: 0.8960469 (179)\ttotal: 1.15s\tremaining: 629ms\n",
      "647:\tlearn: 0.9993839\ttest: 0.8914956\tbest: 0.8960469 (179)\ttotal: 1.15s\tremaining: 627ms\n",
      "648:\tlearn: 0.9993839\ttest: 0.8914956\tbest: 0.8960469 (179)\ttotal: 1.16s\tremaining: 625ms\n",
      "649:\tlearn: 0.9993839\ttest: 0.8931186\tbest: 0.8960469 (179)\ttotal: 1.16s\tremaining: 623ms\n",
      "650:\tlearn: 1.0000000\ttest: 0.8931186\tbest: 0.8960469 (179)\ttotal: 1.16s\tremaining: 621ms\n",
      "651:\tlearn: 1.0000000\ttest: 0.8914956\tbest: 0.8960469 (179)\ttotal: 1.16s\tremaining: 619ms\n",
      "652:\tlearn: 1.0000000\ttest: 0.8914956\tbest: 0.8960469 (179)\ttotal: 1.16s\tremaining: 617ms\n",
      "653:\tlearn: 1.0000000\ttest: 0.8931186\tbest: 0.8960469 (179)\ttotal: 1.16s\tremaining: 615ms\n",
      "654:\tlearn: 1.0000000\ttest: 0.8914956\tbest: 0.8960469 (179)\ttotal: 1.16s\tremaining: 613ms\n",
      "655:\tlearn: 1.0000000\ttest: 0.8914956\tbest: 0.8960469 (179)\ttotal: 1.17s\tremaining: 611ms\n",
      "656:\tlearn: 1.0000000\ttest: 0.8931186\tbest: 0.8960469 (179)\ttotal: 1.17s\tremaining: 609ms\n",
      "657:\tlearn: 1.0000000\ttest: 0.8931186\tbest: 0.8960469 (179)\ttotal: 1.17s\tremaining: 607ms\n",
      "658:\tlearn: 1.0000000\ttest: 0.8931186\tbest: 0.8960469 (179)\ttotal: 1.17s\tremaining: 606ms\n",
      "659:\tlearn: 1.0000000\ttest: 0.8931186\tbest: 0.8960469 (179)\ttotal: 1.17s\tremaining: 604ms\n",
      "660:\tlearn: 1.0000000\ttest: 0.8931186\tbest: 0.8960469 (179)\ttotal: 1.17s\tremaining: 602ms\n",
      "661:\tlearn: 1.0000000\ttest: 0.8931186\tbest: 0.8960469 (179)\ttotal: 1.17s\tremaining: 600ms\n",
      "662:\tlearn: 1.0000000\ttest: 0.8931186\tbest: 0.8960469 (179)\ttotal: 1.18s\tremaining: 598ms\n",
      "663:\tlearn: 1.0000000\ttest: 0.8931186\tbest: 0.8960469 (179)\ttotal: 1.18s\tremaining: 596ms\n",
      "664:\tlearn: 1.0000000\ttest: 0.8931186\tbest: 0.8960469 (179)\ttotal: 1.18s\tremaining: 594ms\n",
      "665:\tlearn: 1.0000000\ttest: 0.8931186\tbest: 0.8960469 (179)\ttotal: 1.18s\tremaining: 592ms\n",
      "666:\tlearn: 1.0000000\ttest: 0.8931186\tbest: 0.8960469 (179)\ttotal: 1.18s\tremaining: 590ms\n",
      "667:\tlearn: 1.0000000\ttest: 0.8931186\tbest: 0.8960469 (179)\ttotal: 1.18s\tremaining: 588ms\n",
      "668:\tlearn: 1.0000000\ttest: 0.8931186\tbest: 0.8960469 (179)\ttotal: 1.18s\tremaining: 586ms\n",
      "669:\tlearn: 1.0000000\ttest: 0.8918129\tbest: 0.8960469 (179)\ttotal: 1.19s\tremaining: 584ms\n",
      "670:\tlearn: 1.0000000\ttest: 0.8918129\tbest: 0.8960469 (179)\ttotal: 1.19s\tremaining: 582ms\n",
      "671:\tlearn: 1.0000000\ttest: 0.8905109\tbest: 0.8960469 (179)\ttotal: 1.19s\tremaining: 580ms\n",
      "672:\tlearn: 1.0000000\ttest: 0.8918129\tbest: 0.8960469 (179)\ttotal: 1.19s\tremaining: 578ms\n",
      "673:\tlearn: 1.0000000\ttest: 0.8901903\tbest: 0.8960469 (179)\ttotal: 1.19s\tremaining: 577ms\n",
      "674:\tlearn: 1.0000000\ttest: 0.8918129\tbest: 0.8960469 (179)\ttotal: 1.19s\tremaining: 575ms\n",
      "675:\tlearn: 1.0000000\ttest: 0.8901903\tbest: 0.8960469 (179)\ttotal: 1.19s\tremaining: 573ms\n",
      "676:\tlearn: 1.0000000\ttest: 0.8901903\tbest: 0.8960469 (179)\ttotal: 1.2s\tremaining: 571ms\n",
      "677:\tlearn: 1.0000000\ttest: 0.8901903\tbest: 0.8960469 (179)\ttotal: 1.2s\tremaining: 569ms\n",
      "678:\tlearn: 1.0000000\ttest: 0.8901903\tbest: 0.8960469 (179)\ttotal: 1.2s\tremaining: 567ms\n",
      "679:\tlearn: 1.0000000\ttest: 0.8901903\tbest: 0.8960469 (179)\ttotal: 1.2s\tremaining: 565ms\n",
      "680:\tlearn: 1.0000000\ttest: 0.8901903\tbest: 0.8960469 (179)\ttotal: 1.2s\tremaining: 563ms\n",
      "681:\tlearn: 1.0000000\ttest: 0.8901903\tbest: 0.8960469 (179)\ttotal: 1.2s\tremaining: 561ms\n",
      "682:\tlearn: 1.0000000\ttest: 0.8901903\tbest: 0.8960469 (179)\ttotal: 1.21s\tremaining: 559ms\n",
      "683:\tlearn: 1.0000000\ttest: 0.8901903\tbest: 0.8960469 (179)\ttotal: 1.21s\tremaining: 557ms\n",
      "684:\tlearn: 1.0000000\ttest: 0.8914956\tbest: 0.8960469 (179)\ttotal: 1.21s\tremaining: 556ms\n",
      "685:\tlearn: 1.0000000\ttest: 0.8914956\tbest: 0.8960469 (179)\ttotal: 1.21s\tremaining: 554ms\n",
      "686:\tlearn: 1.0000000\ttest: 0.8914956\tbest: 0.8960469 (179)\ttotal: 1.21s\tremaining: 552ms\n",
      "687:\tlearn: 1.0000000\ttest: 0.8914956\tbest: 0.8960469 (179)\ttotal: 1.21s\tremaining: 550ms\n",
      "688:\tlearn: 1.0000000\ttest: 0.8914956\tbest: 0.8960469 (179)\ttotal: 1.21s\tremaining: 548ms\n",
      "689:\tlearn: 1.0000000\ttest: 0.8914956\tbest: 0.8960469 (179)\ttotal: 1.22s\tremaining: 546ms\n",
      "690:\tlearn: 1.0000000\ttest: 0.8914956\tbest: 0.8960469 (179)\ttotal: 1.22s\tremaining: 544ms\n",
      "691:\tlearn: 1.0000000\ttest: 0.8914956\tbest: 0.8960469 (179)\ttotal: 1.22s\tremaining: 542ms\n",
      "692:\tlearn: 1.0000000\ttest: 0.8914956\tbest: 0.8960469 (179)\ttotal: 1.22s\tremaining: 540ms\n",
      "693:\tlearn: 1.0000000\ttest: 0.8914956\tbest: 0.8960469 (179)\ttotal: 1.22s\tremaining: 538ms\n",
      "694:\tlearn: 1.0000000\ttest: 0.8914956\tbest: 0.8960469 (179)\ttotal: 1.22s\tremaining: 537ms\n",
      "695:\tlearn: 1.0000000\ttest: 0.8914956\tbest: 0.8960469 (179)\ttotal: 1.22s\tremaining: 535ms\n",
      "696:\tlearn: 1.0000000\ttest: 0.8914956\tbest: 0.8960469 (179)\ttotal: 1.23s\tremaining: 533ms\n",
      "697:\tlearn: 1.0000000\ttest: 0.8914956\tbest: 0.8960469 (179)\ttotal: 1.23s\tremaining: 531ms\n",
      "698:\tlearn: 1.0000000\ttest: 0.8914956\tbest: 0.8960469 (179)\ttotal: 1.23s\tremaining: 529ms\n",
      "699:\tlearn: 1.0000000\ttest: 0.8914956\tbest: 0.8960469 (179)\ttotal: 1.23s\tremaining: 527ms\n",
      "700:\tlearn: 1.0000000\ttest: 0.8914956\tbest: 0.8960469 (179)\ttotal: 1.23s\tremaining: 525ms\n",
      "701:\tlearn: 1.0000000\ttest: 0.8914956\tbest: 0.8960469 (179)\ttotal: 1.23s\tremaining: 524ms\n",
      "702:\tlearn: 1.0000000\ttest: 0.8914956\tbest: 0.8960469 (179)\ttotal: 1.23s\tremaining: 522ms\n",
      "703:\tlearn: 1.0000000\ttest: 0.8914956\tbest: 0.8960469 (179)\ttotal: 1.24s\tremaining: 520ms\n",
      "704:\tlearn: 1.0000000\ttest: 0.8914956\tbest: 0.8960469 (179)\ttotal: 1.24s\tremaining: 518ms\n",
      "705:\tlearn: 1.0000000\ttest: 0.8914956\tbest: 0.8960469 (179)\ttotal: 1.24s\tremaining: 516ms\n",
      "706:\tlearn: 1.0000000\ttest: 0.8914956\tbest: 0.8960469 (179)\ttotal: 1.24s\tremaining: 514ms\n",
      "707:\tlearn: 1.0000000\ttest: 0.8931186\tbest: 0.8960469 (179)\ttotal: 1.24s\tremaining: 512ms\n",
      "708:\tlearn: 1.0000000\ttest: 0.8931186\tbest: 0.8960469 (179)\ttotal: 1.24s\tremaining: 510ms\n",
      "709:\tlearn: 1.0000000\ttest: 0.8931186\tbest: 0.8960469 (179)\ttotal: 1.25s\tremaining: 509ms\n",
      "710:\tlearn: 1.0000000\ttest: 0.8931186\tbest: 0.8960469 (179)\ttotal: 1.25s\tremaining: 507ms\n",
      "711:\tlearn: 1.0000000\ttest: 0.8931186\tbest: 0.8960469 (179)\ttotal: 1.25s\tremaining: 505ms\n",
      "712:\tlearn: 1.0000000\ttest: 0.8931186\tbest: 0.8960469 (179)\ttotal: 1.25s\tremaining: 503ms\n",
      "713:\tlearn: 1.0000000\ttest: 0.8931186\tbest: 0.8960469 (179)\ttotal: 1.25s\tremaining: 501ms\n",
      "714:\tlearn: 1.0000000\ttest: 0.8931186\tbest: 0.8960469 (179)\ttotal: 1.25s\tremaining: 499ms\n",
      "715:\tlearn: 1.0000000\ttest: 0.8931186\tbest: 0.8960469 (179)\ttotal: 1.25s\tremaining: 497ms\n",
      "716:\tlearn: 1.0000000\ttest: 0.8931186\tbest: 0.8960469 (179)\ttotal: 1.25s\tremaining: 496ms\n",
      "717:\tlearn: 1.0000000\ttest: 0.8931186\tbest: 0.8960469 (179)\ttotal: 1.26s\tremaining: 494ms\n",
      "718:\tlearn: 1.0000000\ttest: 0.8931186\tbest: 0.8960469 (179)\ttotal: 1.26s\tremaining: 492ms\n",
      "719:\tlearn: 1.0000000\ttest: 0.8931186\tbest: 0.8960469 (179)\ttotal: 1.26s\tremaining: 490ms\n",
      "720:\tlearn: 1.0000000\ttest: 0.8931186\tbest: 0.8960469 (179)\ttotal: 1.26s\tremaining: 488ms\n",
      "721:\tlearn: 1.0000000\ttest: 0.8931186\tbest: 0.8960469 (179)\ttotal: 1.26s\tremaining: 486ms\n",
      "722:\tlearn: 1.0000000\ttest: 0.8931186\tbest: 0.8960469 (179)\ttotal: 1.26s\tremaining: 484ms\n",
      "723:\tlearn: 1.0000000\ttest: 0.8931186\tbest: 0.8960469 (179)\ttotal: 1.26s\tremaining: 483ms\n",
      "724:\tlearn: 1.0000000\ttest: 0.8931186\tbest: 0.8960469 (179)\ttotal: 1.27s\tremaining: 481ms\n",
      "725:\tlearn: 1.0000000\ttest: 0.8931186\tbest: 0.8960469 (179)\ttotal: 1.27s\tremaining: 479ms\n",
      "726:\tlearn: 1.0000000\ttest: 0.8931186\tbest: 0.8960469 (179)\ttotal: 1.27s\tremaining: 477ms\n",
      "727:\tlearn: 1.0000000\ttest: 0.8931186\tbest: 0.8960469 (179)\ttotal: 1.27s\tremaining: 475ms\n",
      "728:\tlearn: 1.0000000\ttest: 0.8931186\tbest: 0.8960469 (179)\ttotal: 1.27s\tremaining: 473ms\n",
      "729:\tlearn: 1.0000000\ttest: 0.8931186\tbest: 0.8960469 (179)\ttotal: 1.27s\tremaining: 472ms\n",
      "730:\tlearn: 1.0000000\ttest: 0.8931186\tbest: 0.8960469 (179)\ttotal: 1.28s\tremaining: 470ms\n",
      "731:\tlearn: 1.0000000\ttest: 0.8931186\tbest: 0.8960469 (179)\ttotal: 1.28s\tremaining: 468ms\n",
      "732:\tlearn: 1.0000000\ttest: 0.8931186\tbest: 0.8960469 (179)\ttotal: 1.28s\tremaining: 466ms\n",
      "733:\tlearn: 1.0000000\ttest: 0.8931186\tbest: 0.8960469 (179)\ttotal: 1.28s\tremaining: 464ms\n",
      "734:\tlearn: 1.0000000\ttest: 0.8931186\tbest: 0.8960469 (179)\ttotal: 1.28s\tremaining: 463ms\n",
      "735:\tlearn: 1.0000000\ttest: 0.8931186\tbest: 0.8960469 (179)\ttotal: 1.28s\tremaining: 461ms\n",
      "736:\tlearn: 1.0000000\ttest: 0.8931186\tbest: 0.8960469 (179)\ttotal: 1.28s\tremaining: 459ms\n",
      "737:\tlearn: 1.0000000\ttest: 0.8931186\tbest: 0.8960469 (179)\ttotal: 1.29s\tremaining: 457ms\n",
      "738:\tlearn: 1.0000000\ttest: 0.8931186\tbest: 0.8960469 (179)\ttotal: 1.29s\tremaining: 455ms\n",
      "739:\tlearn: 1.0000000\ttest: 0.8931186\tbest: 0.8960469 (179)\ttotal: 1.29s\tremaining: 453ms\n",
      "740:\tlearn: 1.0000000\ttest: 0.8931186\tbest: 0.8960469 (179)\ttotal: 1.29s\tremaining: 452ms\n",
      "741:\tlearn: 1.0000000\ttest: 0.8914956\tbest: 0.8960469 (179)\ttotal: 1.29s\tremaining: 450ms\n",
      "742:\tlearn: 1.0000000\ttest: 0.8914956\tbest: 0.8960469 (179)\ttotal: 1.29s\tremaining: 448ms\n",
      "743:\tlearn: 1.0000000\ttest: 0.8914956\tbest: 0.8960469 (179)\ttotal: 1.3s\tremaining: 446ms\n",
      "744:\tlearn: 1.0000000\ttest: 0.8914956\tbest: 0.8960469 (179)\ttotal: 1.3s\tremaining: 444ms\n",
      "745:\tlearn: 1.0000000\ttest: 0.8914956\tbest: 0.8960469 (179)\ttotal: 1.3s\tremaining: 443ms\n",
      "746:\tlearn: 1.0000000\ttest: 0.8914956\tbest: 0.8960469 (179)\ttotal: 1.3s\tremaining: 441ms\n",
      "747:\tlearn: 1.0000000\ttest: 0.8914956\tbest: 0.8960469 (179)\ttotal: 1.3s\tremaining: 439ms\n",
      "748:\tlearn: 1.0000000\ttest: 0.8914956\tbest: 0.8960469 (179)\ttotal: 1.3s\tremaining: 437ms\n",
      "749:\tlearn: 1.0000000\ttest: 0.8914956\tbest: 0.8960469 (179)\ttotal: 1.3s\tremaining: 435ms\n",
      "750:\tlearn: 1.0000000\ttest: 0.8914956\tbest: 0.8960469 (179)\ttotal: 1.31s\tremaining: 433ms\n",
      "751:\tlearn: 1.0000000\ttest: 0.8928047\tbest: 0.8960469 (179)\ttotal: 1.31s\tremaining: 432ms\n",
      "752:\tlearn: 1.0000000\ttest: 0.8928047\tbest: 0.8960469 (179)\ttotal: 1.31s\tremaining: 430ms\n",
      "753:\tlearn: 1.0000000\ttest: 0.8914956\tbest: 0.8960469 (179)\ttotal: 1.31s\tremaining: 428ms\n",
      "754:\tlearn: 1.0000000\ttest: 0.8931186\tbest: 0.8960469 (179)\ttotal: 1.31s\tremaining: 426ms\n",
      "755:\tlearn: 1.0000000\ttest: 0.8931186\tbest: 0.8960469 (179)\ttotal: 1.31s\tremaining: 424ms\n",
      "756:\tlearn: 1.0000000\ttest: 0.8931186\tbest: 0.8960469 (179)\ttotal: 1.32s\tremaining: 423ms\n",
      "757:\tlearn: 1.0000000\ttest: 0.8931186\tbest: 0.8960469 (179)\ttotal: 1.32s\tremaining: 421ms\n",
      "758:\tlearn: 1.0000000\ttest: 0.8944282\tbest: 0.8960469 (179)\ttotal: 1.32s\tremaining: 419ms\n",
      "759:\tlearn: 1.0000000\ttest: 0.8931186\tbest: 0.8960469 (179)\ttotal: 1.32s\tremaining: 417ms\n",
      "760:\tlearn: 1.0000000\ttest: 0.8928047\tbest: 0.8960469 (179)\ttotal: 1.32s\tremaining: 415ms\n",
      "761:\tlearn: 1.0000000\ttest: 0.8931186\tbest: 0.8960469 (179)\ttotal: 1.32s\tremaining: 413ms\n",
      "762:\tlearn: 1.0000000\ttest: 0.8914956\tbest: 0.8960469 (179)\ttotal: 1.32s\tremaining: 412ms\n",
      "763:\tlearn: 1.0000000\ttest: 0.8914956\tbest: 0.8960469 (179)\ttotal: 1.33s\tremaining: 410ms\n",
      "764:\tlearn: 1.0000000\ttest: 0.8914956\tbest: 0.8960469 (179)\ttotal: 1.33s\tremaining: 408ms\n",
      "765:\tlearn: 1.0000000\ttest: 0.8914956\tbest: 0.8960469 (179)\ttotal: 1.33s\tremaining: 406ms\n",
      "766:\tlearn: 1.0000000\ttest: 0.8914956\tbest: 0.8960469 (179)\ttotal: 1.33s\tremaining: 404ms\n",
      "767:\tlearn: 1.0000000\ttest: 0.8914956\tbest: 0.8960469 (179)\ttotal: 1.33s\tremaining: 402ms\n",
      "768:\tlearn: 1.0000000\ttest: 0.8914956\tbest: 0.8960469 (179)\ttotal: 1.33s\tremaining: 401ms\n",
      "769:\tlearn: 1.0000000\ttest: 0.8914956\tbest: 0.8960469 (179)\ttotal: 1.33s\tremaining: 399ms\n",
      "770:\tlearn: 1.0000000\ttest: 0.8914956\tbest: 0.8960469 (179)\ttotal: 1.34s\tremaining: 397ms\n",
      "771:\tlearn: 1.0000000\ttest: 0.8914956\tbest: 0.8960469 (179)\ttotal: 1.34s\tremaining: 395ms\n",
      "772:\tlearn: 1.0000000\ttest: 0.8914956\tbest: 0.8960469 (179)\ttotal: 1.34s\tremaining: 393ms\n",
      "773:\tlearn: 1.0000000\ttest: 0.8914956\tbest: 0.8960469 (179)\ttotal: 1.34s\tremaining: 391ms\n",
      "774:\tlearn: 1.0000000\ttest: 0.8914956\tbest: 0.8960469 (179)\ttotal: 1.34s\tremaining: 390ms\n",
      "775:\tlearn: 1.0000000\ttest: 0.8914956\tbest: 0.8960469 (179)\ttotal: 1.34s\tremaining: 388ms\n",
      "776:\tlearn: 1.0000000\ttest: 0.8914956\tbest: 0.8960469 (179)\ttotal: 1.34s\tremaining: 386ms\n",
      "777:\tlearn: 1.0000000\ttest: 0.8914956\tbest: 0.8960469 (179)\ttotal: 1.35s\tremaining: 384ms\n",
      "778:\tlearn: 1.0000000\ttest: 0.8914956\tbest: 0.8960469 (179)\ttotal: 1.35s\tremaining: 382ms\n",
      "779:\tlearn: 1.0000000\ttest: 0.8914956\tbest: 0.8960469 (179)\ttotal: 1.35s\tremaining: 381ms\n",
      "780:\tlearn: 1.0000000\ttest: 0.8914956\tbest: 0.8960469 (179)\ttotal: 1.35s\tremaining: 379ms\n",
      "781:\tlearn: 1.0000000\ttest: 0.8914956\tbest: 0.8960469 (179)\ttotal: 1.35s\tremaining: 377ms\n",
      "782:\tlearn: 1.0000000\ttest: 0.8914956\tbest: 0.8960469 (179)\ttotal: 1.35s\tremaining: 375ms\n",
      "783:\tlearn: 1.0000000\ttest: 0.8914956\tbest: 0.8960469 (179)\ttotal: 1.35s\tremaining: 374ms\n",
      "784:\tlearn: 1.0000000\ttest: 0.8914956\tbest: 0.8960469 (179)\ttotal: 1.36s\tremaining: 372ms\n",
      "785:\tlearn: 1.0000000\ttest: 0.8914956\tbest: 0.8960469 (179)\ttotal: 1.36s\tremaining: 370ms\n",
      "786:\tlearn: 1.0000000\ttest: 0.8914956\tbest: 0.8960469 (179)\ttotal: 1.36s\tremaining: 368ms\n",
      "787:\tlearn: 1.0000000\ttest: 0.8914956\tbest: 0.8960469 (179)\ttotal: 1.36s\tremaining: 366ms\n",
      "788:\tlearn: 1.0000000\ttest: 0.8914956\tbest: 0.8960469 (179)\ttotal: 1.36s\tremaining: 365ms\n",
      "789:\tlearn: 1.0000000\ttest: 0.8914956\tbest: 0.8960469 (179)\ttotal: 1.36s\tremaining: 363ms\n",
      "790:\tlearn: 1.0000000\ttest: 0.8914956\tbest: 0.8960469 (179)\ttotal: 1.36s\tremaining: 361ms\n",
      "791:\tlearn: 1.0000000\ttest: 0.8914956\tbest: 0.8960469 (179)\ttotal: 1.37s\tremaining: 359ms\n",
      "792:\tlearn: 1.0000000\ttest: 0.8914956\tbest: 0.8960469 (179)\ttotal: 1.37s\tremaining: 357ms\n",
      "793:\tlearn: 1.0000000\ttest: 0.8914956\tbest: 0.8960469 (179)\ttotal: 1.37s\tremaining: 356ms\n",
      "794:\tlearn: 1.0000000\ttest: 0.8914956\tbest: 0.8960469 (179)\ttotal: 1.37s\tremaining: 354ms\n",
      "795:\tlearn: 1.0000000\ttest: 0.8914956\tbest: 0.8960469 (179)\ttotal: 1.37s\tremaining: 352ms\n",
      "796:\tlearn: 1.0000000\ttest: 0.8914956\tbest: 0.8960469 (179)\ttotal: 1.37s\tremaining: 350ms\n",
      "797:\tlearn: 1.0000000\ttest: 0.8914956\tbest: 0.8960469 (179)\ttotal: 1.38s\tremaining: 348ms\n",
      "798:\tlearn: 1.0000000\ttest: 0.8914956\tbest: 0.8960469 (179)\ttotal: 1.38s\tremaining: 347ms\n",
      "799:\tlearn: 1.0000000\ttest: 0.8914956\tbest: 0.8960469 (179)\ttotal: 1.38s\tremaining: 345ms\n",
      "800:\tlearn: 1.0000000\ttest: 0.8914956\tbest: 0.8960469 (179)\ttotal: 1.38s\tremaining: 343ms\n",
      "801:\tlearn: 1.0000000\ttest: 0.8914956\tbest: 0.8960469 (179)\ttotal: 1.38s\tremaining: 341ms\n",
      "802:\tlearn: 1.0000000\ttest: 0.8914956\tbest: 0.8960469 (179)\ttotal: 1.38s\tremaining: 340ms\n",
      "803:\tlearn: 1.0000000\ttest: 0.8914956\tbest: 0.8960469 (179)\ttotal: 1.39s\tremaining: 338ms\n",
      "804:\tlearn: 1.0000000\ttest: 0.8914956\tbest: 0.8960469 (179)\ttotal: 1.39s\tremaining: 336ms\n",
      "805:\tlearn: 1.0000000\ttest: 0.8914956\tbest: 0.8960469 (179)\ttotal: 1.39s\tremaining: 334ms\n",
      "806:\tlearn: 1.0000000\ttest: 0.8898678\tbest: 0.8960469 (179)\ttotal: 1.39s\tremaining: 333ms\n",
      "807:\tlearn: 1.0000000\ttest: 0.8882353\tbest: 0.8960469 (179)\ttotal: 1.39s\tremaining: 331ms\n",
      "808:\tlearn: 1.0000000\ttest: 0.8898678\tbest: 0.8960469 (179)\ttotal: 1.39s\tremaining: 329ms\n",
      "809:\tlearn: 1.0000000\ttest: 0.8882353\tbest: 0.8960469 (179)\ttotal: 1.4s\tremaining: 327ms\n",
      "810:\tlearn: 1.0000000\ttest: 0.8898678\tbest: 0.8960469 (179)\ttotal: 1.4s\tremaining: 326ms\n",
      "811:\tlearn: 1.0000000\ttest: 0.8898678\tbest: 0.8960469 (179)\ttotal: 1.4s\tremaining: 324ms\n",
      "812:\tlearn: 1.0000000\ttest: 0.8898678\tbest: 0.8960469 (179)\ttotal: 1.4s\tremaining: 322ms\n",
      "813:\tlearn: 1.0000000\ttest: 0.8882353\tbest: 0.8960469 (179)\ttotal: 1.4s\tremaining: 320ms\n",
      "814:\tlearn: 1.0000000\ttest: 0.8882353\tbest: 0.8960469 (179)\ttotal: 1.4s\tremaining: 319ms\n",
      "815:\tlearn: 1.0000000\ttest: 0.8882353\tbest: 0.8960469 (179)\ttotal: 1.41s\tremaining: 317ms\n",
      "816:\tlearn: 1.0000000\ttest: 0.8856305\tbest: 0.8960469 (179)\ttotal: 1.41s\tremaining: 315ms\n",
      "817:\tlearn: 1.0000000\ttest: 0.8901903\tbest: 0.8960469 (179)\ttotal: 1.41s\tremaining: 313ms\n",
      "818:\tlearn: 1.0000000\ttest: 0.8905109\tbest: 0.8960469 (179)\ttotal: 1.41s\tremaining: 311ms\n",
      "819:\tlearn: 1.0000000\ttest: 0.8905109\tbest: 0.8960469 (179)\ttotal: 1.41s\tremaining: 310ms\n",
      "820:\tlearn: 1.0000000\ttest: 0.8888889\tbest: 0.8960469 (179)\ttotal: 1.41s\tremaining: 308ms\n",
      "821:\tlearn: 1.0000000\ttest: 0.8918129\tbest: 0.8960469 (179)\ttotal: 1.41s\tremaining: 306ms\n",
      "822:\tlearn: 1.0000000\ttest: 0.8918129\tbest: 0.8960469 (179)\ttotal: 1.42s\tremaining: 304ms\n",
      "823:\tlearn: 1.0000000\ttest: 0.8918129\tbest: 0.8960469 (179)\ttotal: 1.42s\tremaining: 303ms\n",
      "824:\tlearn: 1.0000000\ttest: 0.8885630\tbest: 0.8960469 (179)\ttotal: 1.42s\tremaining: 301ms\n",
      "825:\tlearn: 1.0000000\ttest: 0.8885630\tbest: 0.8960469 (179)\ttotal: 1.42s\tremaining: 299ms\n",
      "826:\tlearn: 1.0000000\ttest: 0.8901903\tbest: 0.8960469 (179)\ttotal: 1.42s\tremaining: 297ms\n",
      "827:\tlearn: 1.0000000\ttest: 0.8885630\tbest: 0.8960469 (179)\ttotal: 1.42s\tremaining: 296ms\n",
      "828:\tlearn: 1.0000000\ttest: 0.8885630\tbest: 0.8960469 (179)\ttotal: 1.43s\tremaining: 294ms\n",
      "829:\tlearn: 1.0000000\ttest: 0.8885630\tbest: 0.8960469 (179)\ttotal: 1.43s\tremaining: 292ms\n",
      "830:\tlearn: 1.0000000\ttest: 0.8885630\tbest: 0.8960469 (179)\ttotal: 1.43s\tremaining: 290ms\n",
      "831:\tlearn: 1.0000000\ttest: 0.8901903\tbest: 0.8960469 (179)\ttotal: 1.43s\tremaining: 289ms\n",
      "832:\tlearn: 1.0000000\ttest: 0.8901903\tbest: 0.8960469 (179)\ttotal: 1.43s\tremaining: 287ms\n",
      "833:\tlearn: 1.0000000\ttest: 0.8885630\tbest: 0.8960469 (179)\ttotal: 1.43s\tremaining: 285ms\n",
      "834:\tlearn: 1.0000000\ttest: 0.8869310\tbest: 0.8960469 (179)\ttotal: 1.43s\tremaining: 283ms\n",
      "835:\tlearn: 1.0000000\ttest: 0.8869310\tbest: 0.8960469 (179)\ttotal: 1.44s\tremaining: 282ms\n",
      "836:\tlearn: 1.0000000\ttest: 0.8885630\tbest: 0.8960469 (179)\ttotal: 1.44s\tremaining: 280ms\n",
      "837:\tlearn: 1.0000000\ttest: 0.8885630\tbest: 0.8960469 (179)\ttotal: 1.44s\tremaining: 278ms\n",
      "838:\tlearn: 1.0000000\ttest: 0.8885630\tbest: 0.8960469 (179)\ttotal: 1.44s\tremaining: 276ms\n",
      "839:\tlearn: 1.0000000\ttest: 0.8869310\tbest: 0.8960469 (179)\ttotal: 1.44s\tremaining: 275ms\n",
      "840:\tlearn: 1.0000000\ttest: 0.8869310\tbest: 0.8960469 (179)\ttotal: 1.44s\tremaining: 273ms\n",
      "841:\tlearn: 1.0000000\ttest: 0.8869310\tbest: 0.8960469 (179)\ttotal: 1.44s\tremaining: 271ms\n",
      "842:\tlearn: 1.0000000\ttest: 0.8869310\tbest: 0.8960469 (179)\ttotal: 1.45s\tremaining: 269ms\n",
      "843:\tlearn: 1.0000000\ttest: 0.8869310\tbest: 0.8960469 (179)\ttotal: 1.45s\tremaining: 268ms\n",
      "844:\tlearn: 1.0000000\ttest: 0.8869310\tbest: 0.8960469 (179)\ttotal: 1.45s\tremaining: 266ms\n",
      "845:\tlearn: 1.0000000\ttest: 0.8869310\tbest: 0.8960469 (179)\ttotal: 1.45s\tremaining: 264ms\n",
      "846:\tlearn: 1.0000000\ttest: 0.8869310\tbest: 0.8960469 (179)\ttotal: 1.45s\tremaining: 262ms\n",
      "847:\tlearn: 1.0000000\ttest: 0.8885630\tbest: 0.8960469 (179)\ttotal: 1.45s\tremaining: 261ms\n",
      "848:\tlearn: 1.0000000\ttest: 0.8852941\tbest: 0.8960469 (179)\ttotal: 1.46s\tremaining: 259ms\n",
      "849:\tlearn: 1.0000000\ttest: 0.8852941\tbest: 0.8960469 (179)\ttotal: 1.46s\tremaining: 257ms\n",
      "850:\tlearn: 1.0000000\ttest: 0.8852941\tbest: 0.8960469 (179)\ttotal: 1.46s\tremaining: 255ms\n",
      "851:\tlearn: 1.0000000\ttest: 0.8852941\tbest: 0.8960469 (179)\ttotal: 1.46s\tremaining: 254ms\n",
      "852:\tlearn: 1.0000000\ttest: 0.8869310\tbest: 0.8960469 (179)\ttotal: 1.46s\tremaining: 252ms\n",
      "853:\tlearn: 1.0000000\ttest: 0.8869310\tbest: 0.8960469 (179)\ttotal: 1.46s\tremaining: 250ms\n",
      "854:\tlearn: 1.0000000\ttest: 0.8869310\tbest: 0.8960469 (179)\ttotal: 1.46s\tremaining: 248ms\n",
      "855:\tlearn: 1.0000000\ttest: 0.8885630\tbest: 0.8960469 (179)\ttotal: 1.47s\tremaining: 247ms\n",
      "856:\tlearn: 1.0000000\ttest: 0.8885630\tbest: 0.8960469 (179)\ttotal: 1.47s\tremaining: 245ms\n",
      "857:\tlearn: 1.0000000\ttest: 0.8885630\tbest: 0.8960469 (179)\ttotal: 1.47s\tremaining: 243ms\n",
      "858:\tlearn: 1.0000000\ttest: 0.8885630\tbest: 0.8960469 (179)\ttotal: 1.47s\tremaining: 241ms\n",
      "859:\tlearn: 1.0000000\ttest: 0.8869310\tbest: 0.8960469 (179)\ttotal: 1.47s\tremaining: 240ms\n",
      "860:\tlearn: 1.0000000\ttest: 0.8869310\tbest: 0.8960469 (179)\ttotal: 1.47s\tremaining: 238ms\n",
      "861:\tlearn: 1.0000000\ttest: 0.8869310\tbest: 0.8960469 (179)\ttotal: 1.47s\tremaining: 236ms\n",
      "862:\tlearn: 1.0000000\ttest: 0.8869310\tbest: 0.8960469 (179)\ttotal: 1.48s\tremaining: 234ms\n",
      "863:\tlearn: 1.0000000\ttest: 0.8869310\tbest: 0.8960469 (179)\ttotal: 1.48s\tremaining: 233ms\n",
      "864:\tlearn: 1.0000000\ttest: 0.8869310\tbest: 0.8960469 (179)\ttotal: 1.48s\tremaining: 231ms\n",
      "865:\tlearn: 1.0000000\ttest: 0.8885630\tbest: 0.8960469 (179)\ttotal: 1.48s\tremaining: 229ms\n",
      "866:\tlearn: 1.0000000\ttest: 0.8885630\tbest: 0.8960469 (179)\ttotal: 1.48s\tremaining: 227ms\n",
      "867:\tlearn: 1.0000000\ttest: 0.8885630\tbest: 0.8960469 (179)\ttotal: 1.48s\tremaining: 226ms\n",
      "868:\tlearn: 1.0000000\ttest: 0.8885630\tbest: 0.8960469 (179)\ttotal: 1.49s\tremaining: 224ms\n",
      "869:\tlearn: 1.0000000\ttest: 0.8885630\tbest: 0.8960469 (179)\ttotal: 1.49s\tremaining: 222ms\n",
      "870:\tlearn: 1.0000000\ttest: 0.8885630\tbest: 0.8960469 (179)\ttotal: 1.49s\tremaining: 220ms\n",
      "871:\tlearn: 1.0000000\ttest: 0.8885630\tbest: 0.8960469 (179)\ttotal: 1.49s\tremaining: 219ms\n",
      "872:\tlearn: 1.0000000\ttest: 0.8885630\tbest: 0.8960469 (179)\ttotal: 1.49s\tremaining: 217ms\n",
      "873:\tlearn: 1.0000000\ttest: 0.8885630\tbest: 0.8960469 (179)\ttotal: 1.49s\tremaining: 215ms\n",
      "874:\tlearn: 1.0000000\ttest: 0.8885630\tbest: 0.8960469 (179)\ttotal: 1.5s\tremaining: 214ms\n",
      "875:\tlearn: 1.0000000\ttest: 0.8885630\tbest: 0.8960469 (179)\ttotal: 1.5s\tremaining: 212ms\n",
      "876:\tlearn: 1.0000000\ttest: 0.8885630\tbest: 0.8960469 (179)\ttotal: 1.5s\tremaining: 210ms\n",
      "877:\tlearn: 1.0000000\ttest: 0.8885630\tbest: 0.8960469 (179)\ttotal: 1.5s\tremaining: 208ms\n",
      "878:\tlearn: 1.0000000\ttest: 0.8885630\tbest: 0.8960469 (179)\ttotal: 1.5s\tremaining: 207ms\n",
      "879:\tlearn: 1.0000000\ttest: 0.8885630\tbest: 0.8960469 (179)\ttotal: 1.5s\tremaining: 205ms\n",
      "880:\tlearn: 1.0000000\ttest: 0.8882353\tbest: 0.8960469 (179)\ttotal: 1.5s\tremaining: 203ms\n",
      "881:\tlearn: 1.0000000\ttest: 0.8885630\tbest: 0.8960469 (179)\ttotal: 1.51s\tremaining: 202ms\n",
      "882:\tlearn: 1.0000000\ttest: 0.8898678\tbest: 0.8960469 (179)\ttotal: 1.51s\tremaining: 200ms\n",
      "883:\tlearn: 1.0000000\ttest: 0.8898678\tbest: 0.8960469 (179)\ttotal: 1.51s\tremaining: 198ms\n",
      "884:\tlearn: 1.0000000\ttest: 0.8882353\tbest: 0.8960469 (179)\ttotal: 1.51s\tremaining: 196ms\n",
      "885:\tlearn: 1.0000000\ttest: 0.8882353\tbest: 0.8960469 (179)\ttotal: 1.51s\tremaining: 195ms\n",
      "886:\tlearn: 1.0000000\ttest: 0.8882353\tbest: 0.8960469 (179)\ttotal: 1.51s\tremaining: 193ms\n",
      "887:\tlearn: 1.0000000\ttest: 0.8882353\tbest: 0.8960469 (179)\ttotal: 1.51s\tremaining: 191ms\n",
      "888:\tlearn: 1.0000000\ttest: 0.8898678\tbest: 0.8960469 (179)\ttotal: 1.52s\tremaining: 189ms\n",
      "889:\tlearn: 1.0000000\ttest: 0.8898678\tbest: 0.8960469 (179)\ttotal: 1.52s\tremaining: 188ms\n",
      "890:\tlearn: 1.0000000\ttest: 0.8914956\tbest: 0.8960469 (179)\ttotal: 1.52s\tremaining: 186ms\n",
      "891:\tlearn: 1.0000000\ttest: 0.8914956\tbest: 0.8960469 (179)\ttotal: 1.52s\tremaining: 184ms\n",
      "892:\tlearn: 1.0000000\ttest: 0.8901903\tbest: 0.8960469 (179)\ttotal: 1.52s\tremaining: 182ms\n",
      "893:\tlearn: 1.0000000\ttest: 0.8901903\tbest: 0.8960469 (179)\ttotal: 1.52s\tremaining: 181ms\n",
      "894:\tlearn: 1.0000000\ttest: 0.8901903\tbest: 0.8960469 (179)\ttotal: 1.52s\tremaining: 179ms\n",
      "895:\tlearn: 1.0000000\ttest: 0.8901903\tbest: 0.8960469 (179)\ttotal: 1.53s\tremaining: 177ms\n",
      "896:\tlearn: 1.0000000\ttest: 0.8901903\tbest: 0.8960469 (179)\ttotal: 1.53s\tremaining: 176ms\n",
      "897:\tlearn: 1.0000000\ttest: 0.8901903\tbest: 0.8960469 (179)\ttotal: 1.53s\tremaining: 174ms\n",
      "898:\tlearn: 1.0000000\ttest: 0.8901903\tbest: 0.8960469 (179)\ttotal: 1.53s\tremaining: 172ms\n",
      "899:\tlearn: 1.0000000\ttest: 0.8901903\tbest: 0.8960469 (179)\ttotal: 1.53s\tremaining: 170ms\n",
      "900:\tlearn: 1.0000000\ttest: 0.8901903\tbest: 0.8960469 (179)\ttotal: 1.53s\tremaining: 169ms\n",
      "901:\tlearn: 1.0000000\ttest: 0.8901903\tbest: 0.8960469 (179)\ttotal: 1.53s\tremaining: 167ms\n",
      "902:\tlearn: 1.0000000\ttest: 0.8901903\tbest: 0.8960469 (179)\ttotal: 1.54s\tremaining: 165ms\n",
      "903:\tlearn: 1.0000000\ttest: 0.8901903\tbest: 0.8960469 (179)\ttotal: 1.54s\tremaining: 163ms\n",
      "904:\tlearn: 1.0000000\ttest: 0.8901903\tbest: 0.8960469 (179)\ttotal: 1.54s\tremaining: 162ms\n",
      "905:\tlearn: 1.0000000\ttest: 0.8901903\tbest: 0.8960469 (179)\ttotal: 1.54s\tremaining: 160ms\n",
      "906:\tlearn: 1.0000000\ttest: 0.8901903\tbest: 0.8960469 (179)\ttotal: 1.54s\tremaining: 158ms\n",
      "907:\tlearn: 1.0000000\ttest: 0.8901903\tbest: 0.8960469 (179)\ttotal: 1.54s\tremaining: 156ms\n",
      "908:\tlearn: 1.0000000\ttest: 0.8888889\tbest: 0.8960469 (179)\ttotal: 1.54s\tremaining: 155ms\n",
      "909:\tlearn: 1.0000000\ttest: 0.8901903\tbest: 0.8960469 (179)\ttotal: 1.55s\tremaining: 153ms\n",
      "910:\tlearn: 1.0000000\ttest: 0.8901903\tbest: 0.8960469 (179)\ttotal: 1.55s\tremaining: 151ms\n",
      "911:\tlearn: 1.0000000\ttest: 0.8901903\tbest: 0.8960469 (179)\ttotal: 1.55s\tremaining: 150ms\n",
      "912:\tlearn: 1.0000000\ttest: 0.8901903\tbest: 0.8960469 (179)\ttotal: 1.55s\tremaining: 148ms\n",
      "913:\tlearn: 1.0000000\ttest: 0.8901903\tbest: 0.8960469 (179)\ttotal: 1.55s\tremaining: 146ms\n",
      "914:\tlearn: 1.0000000\ttest: 0.8901903\tbest: 0.8960469 (179)\ttotal: 1.55s\tremaining: 144ms\n",
      "915:\tlearn: 1.0000000\ttest: 0.8901903\tbest: 0.8960469 (179)\ttotal: 1.55s\tremaining: 143ms\n",
      "916:\tlearn: 1.0000000\ttest: 0.8901903\tbest: 0.8960469 (179)\ttotal: 1.56s\tremaining: 141ms\n",
      "917:\tlearn: 1.0000000\ttest: 0.8901903\tbest: 0.8960469 (179)\ttotal: 1.56s\tremaining: 139ms\n",
      "918:\tlearn: 1.0000000\ttest: 0.8901903\tbest: 0.8960469 (179)\ttotal: 1.56s\tremaining: 137ms\n",
      "919:\tlearn: 1.0000000\ttest: 0.8901903\tbest: 0.8960469 (179)\ttotal: 1.56s\tremaining: 136ms\n",
      "920:\tlearn: 1.0000000\ttest: 0.8901903\tbest: 0.8960469 (179)\ttotal: 1.56s\tremaining: 134ms\n",
      "921:\tlearn: 1.0000000\ttest: 0.8914956\tbest: 0.8960469 (179)\ttotal: 1.56s\tremaining: 132ms\n",
      "922:\tlearn: 1.0000000\ttest: 0.8901903\tbest: 0.8960469 (179)\ttotal: 1.56s\tremaining: 131ms\n",
      "923:\tlearn: 1.0000000\ttest: 0.8901903\tbest: 0.8960469 (179)\ttotal: 1.57s\tremaining: 129ms\n",
      "924:\tlearn: 1.0000000\ttest: 0.8901903\tbest: 0.8960469 (179)\ttotal: 1.57s\tremaining: 127ms\n",
      "925:\tlearn: 1.0000000\ttest: 0.8901903\tbest: 0.8960469 (179)\ttotal: 1.57s\tremaining: 125ms\n",
      "926:\tlearn: 1.0000000\ttest: 0.8888889\tbest: 0.8960469 (179)\ttotal: 1.57s\tremaining: 124ms\n",
      "927:\tlearn: 1.0000000\ttest: 0.8888889\tbest: 0.8960469 (179)\ttotal: 1.57s\tremaining: 122ms\n",
      "928:\tlearn: 1.0000000\ttest: 0.8888889\tbest: 0.8960469 (179)\ttotal: 1.57s\tremaining: 120ms\n",
      "929:\tlearn: 1.0000000\ttest: 0.8888889\tbest: 0.8960469 (179)\ttotal: 1.58s\tremaining: 119ms\n",
      "930:\tlearn: 1.0000000\ttest: 0.8888889\tbest: 0.8960469 (179)\ttotal: 1.58s\tremaining: 117ms\n",
      "931:\tlearn: 1.0000000\ttest: 0.8888889\tbest: 0.8960469 (179)\ttotal: 1.58s\tremaining: 115ms\n",
      "932:\tlearn: 1.0000000\ttest: 0.8888889\tbest: 0.8960469 (179)\ttotal: 1.58s\tremaining: 113ms\n",
      "933:\tlearn: 1.0000000\ttest: 0.8888889\tbest: 0.8960469 (179)\ttotal: 1.58s\tremaining: 112ms\n",
      "934:\tlearn: 1.0000000\ttest: 0.8888889\tbest: 0.8960469 (179)\ttotal: 1.58s\tremaining: 110ms\n",
      "935:\tlearn: 1.0000000\ttest: 0.8875912\tbest: 0.8960469 (179)\ttotal: 1.58s\tremaining: 108ms\n",
      "936:\tlearn: 1.0000000\ttest: 0.8901903\tbest: 0.8960469 (179)\ttotal: 1.59s\tremaining: 107ms\n",
      "937:\tlearn: 1.0000000\ttest: 0.8901903\tbest: 0.8960469 (179)\ttotal: 1.59s\tremaining: 105ms\n",
      "938:\tlearn: 1.0000000\ttest: 0.8901903\tbest: 0.8960469 (179)\ttotal: 1.59s\tremaining: 103ms\n",
      "939:\tlearn: 1.0000000\ttest: 0.8901903\tbest: 0.8960469 (179)\ttotal: 1.59s\tremaining: 102ms\n",
      "940:\tlearn: 1.0000000\ttest: 0.8901903\tbest: 0.8960469 (179)\ttotal: 1.59s\tremaining: 99.8ms\n",
      "941:\tlearn: 1.0000000\ttest: 0.8888889\tbest: 0.8960469 (179)\ttotal: 1.59s\tremaining: 98.1ms\n",
      "942:\tlearn: 1.0000000\ttest: 0.8888889\tbest: 0.8960469 (179)\ttotal: 1.59s\tremaining: 96.4ms\n",
      "943:\tlearn: 1.0000000\ttest: 0.8901903\tbest: 0.8960469 (179)\ttotal: 1.6s\tremaining: 94.7ms\n",
      "944:\tlearn: 1.0000000\ttest: 0.8901903\tbest: 0.8960469 (179)\ttotal: 1.6s\tremaining: 93ms\n",
      "945:\tlearn: 1.0000000\ttest: 0.8901903\tbest: 0.8960469 (179)\ttotal: 1.6s\tremaining: 91.3ms\n",
      "946:\tlearn: 1.0000000\ttest: 0.8901903\tbest: 0.8960469 (179)\ttotal: 1.6s\tremaining: 89.6ms\n",
      "947:\tlearn: 1.0000000\ttest: 0.8901903\tbest: 0.8960469 (179)\ttotal: 1.6s\tremaining: 87.9ms\n",
      "948:\tlearn: 1.0000000\ttest: 0.8885630\tbest: 0.8960469 (179)\ttotal: 1.6s\tremaining: 86.2ms\n",
      "949:\tlearn: 1.0000000\ttest: 0.8885630\tbest: 0.8960469 (179)\ttotal: 1.6s\tremaining: 84.5ms\n",
      "950:\tlearn: 1.0000000\ttest: 0.8885630\tbest: 0.8960469 (179)\ttotal: 1.61s\tremaining: 82.8ms\n",
      "951:\tlearn: 1.0000000\ttest: 0.8885630\tbest: 0.8960469 (179)\ttotal: 1.61s\tremaining: 81.1ms\n",
      "952:\tlearn: 1.0000000\ttest: 0.8885630\tbest: 0.8960469 (179)\ttotal: 1.61s\tremaining: 79.4ms\n",
      "953:\tlearn: 1.0000000\ttest: 0.8898678\tbest: 0.8960469 (179)\ttotal: 1.61s\tremaining: 77.7ms\n",
      "954:\tlearn: 1.0000000\ttest: 0.8898678\tbest: 0.8960469 (179)\ttotal: 1.61s\tremaining: 76ms\n",
      "955:\tlearn: 1.0000000\ttest: 0.8898678\tbest: 0.8960469 (179)\ttotal: 1.61s\tremaining: 74.3ms\n",
      "956:\tlearn: 1.0000000\ttest: 0.8898678\tbest: 0.8960469 (179)\ttotal: 1.62s\tremaining: 72.6ms\n",
      "957:\tlearn: 1.0000000\ttest: 0.8898678\tbest: 0.8960469 (179)\ttotal: 1.62s\tremaining: 70.9ms\n",
      "958:\tlearn: 1.0000000\ttest: 0.8898678\tbest: 0.8960469 (179)\ttotal: 1.62s\tremaining: 69.2ms\n",
      "959:\tlearn: 1.0000000\ttest: 0.8898678\tbest: 0.8960469 (179)\ttotal: 1.62s\tremaining: 67.5ms\n",
      "960:\tlearn: 1.0000000\ttest: 0.8898678\tbest: 0.8960469 (179)\ttotal: 1.62s\tremaining: 65.9ms\n",
      "961:\tlearn: 1.0000000\ttest: 0.8898678\tbest: 0.8960469 (179)\ttotal: 1.62s\tremaining: 64.2ms\n",
      "962:\tlearn: 1.0000000\ttest: 0.8898678\tbest: 0.8960469 (179)\ttotal: 1.63s\tremaining: 62.5ms\n",
      "963:\tlearn: 1.0000000\ttest: 0.8885630\tbest: 0.8960469 (179)\ttotal: 1.63s\tremaining: 60.8ms\n",
      "964:\tlearn: 1.0000000\ttest: 0.8898678\tbest: 0.8960469 (179)\ttotal: 1.63s\tremaining: 59.1ms\n",
      "965:\tlearn: 1.0000000\ttest: 0.8885630\tbest: 0.8960469 (179)\ttotal: 1.63s\tremaining: 57.4ms\n",
      "966:\tlearn: 1.0000000\ttest: 0.8885630\tbest: 0.8960469 (179)\ttotal: 1.63s\tremaining: 55.7ms\n",
      "967:\tlearn: 1.0000000\ttest: 0.8898678\tbest: 0.8960469 (179)\ttotal: 1.63s\tremaining: 54ms\n",
      "968:\tlearn: 1.0000000\ttest: 0.8898678\tbest: 0.8960469 (179)\ttotal: 1.63s\tremaining: 52.3ms\n",
      "969:\tlearn: 1.0000000\ttest: 0.8885630\tbest: 0.8960469 (179)\ttotal: 1.64s\tremaining: 50.6ms\n",
      "970:\tlearn: 1.0000000\ttest: 0.8885630\tbest: 0.8960469 (179)\ttotal: 1.64s\tremaining: 48.9ms\n",
      "971:\tlearn: 1.0000000\ttest: 0.8885630\tbest: 0.8960469 (179)\ttotal: 1.64s\tremaining: 47.2ms\n",
      "972:\tlearn: 1.0000000\ttest: 0.8898678\tbest: 0.8960469 (179)\ttotal: 1.64s\tremaining: 45.5ms\n",
      "973:\tlearn: 1.0000000\ttest: 0.8898678\tbest: 0.8960469 (179)\ttotal: 1.64s\tremaining: 43.8ms\n",
      "974:\tlearn: 1.0000000\ttest: 0.8898678\tbest: 0.8960469 (179)\ttotal: 1.64s\tremaining: 42.1ms\n",
      "975:\tlearn: 1.0000000\ttest: 0.8898678\tbest: 0.8960469 (179)\ttotal: 1.64s\tremaining: 40.4ms\n",
      "976:\tlearn: 1.0000000\ttest: 0.8898678\tbest: 0.8960469 (179)\ttotal: 1.65s\tremaining: 38.7ms\n",
      "977:\tlearn: 1.0000000\ttest: 0.8898678\tbest: 0.8960469 (179)\ttotal: 1.65s\tremaining: 37ms\n",
      "978:\tlearn: 1.0000000\ttest: 0.8898678\tbest: 0.8960469 (179)\ttotal: 1.65s\tremaining: 35.4ms\n",
      "979:\tlearn: 1.0000000\ttest: 0.8898678\tbest: 0.8960469 (179)\ttotal: 1.65s\tremaining: 33.7ms\n",
      "980:\tlearn: 1.0000000\ttest: 0.8898678\tbest: 0.8960469 (179)\ttotal: 1.65s\tremaining: 32ms\n",
      "981:\tlearn: 1.0000000\ttest: 0.8898678\tbest: 0.8960469 (179)\ttotal: 1.65s\tremaining: 30.3ms\n",
      "982:\tlearn: 1.0000000\ttest: 0.8898678\tbest: 0.8960469 (179)\ttotal: 1.65s\tremaining: 28.6ms\n",
      "983:\tlearn: 1.0000000\ttest: 0.8898678\tbest: 0.8960469 (179)\ttotal: 1.66s\tremaining: 26.9ms\n",
      "984:\tlearn: 1.0000000\ttest: 0.8898678\tbest: 0.8960469 (179)\ttotal: 1.66s\tremaining: 25.2ms\n",
      "985:\tlearn: 1.0000000\ttest: 0.8898678\tbest: 0.8960469 (179)\ttotal: 1.66s\tremaining: 23.5ms\n",
      "986:\tlearn: 1.0000000\ttest: 0.8898678\tbest: 0.8960469 (179)\ttotal: 1.66s\tremaining: 21.9ms\n",
      "987:\tlearn: 1.0000000\ttest: 0.8911765\tbest: 0.8960469 (179)\ttotal: 1.66s\tremaining: 20.2ms\n",
      "988:\tlearn: 1.0000000\ttest: 0.8911765\tbest: 0.8960469 (179)\ttotal: 1.66s\tremaining: 18.5ms\n",
      "989:\tlearn: 1.0000000\ttest: 0.8911765\tbest: 0.8960469 (179)\ttotal: 1.66s\tremaining: 16.8ms\n",
      "990:\tlearn: 1.0000000\ttest: 0.8911765\tbest: 0.8960469 (179)\ttotal: 1.67s\tremaining: 15.1ms\n",
      "991:\tlearn: 1.0000000\ttest: 0.8911765\tbest: 0.8960469 (179)\ttotal: 1.67s\tremaining: 13.4ms\n",
      "992:\tlearn: 1.0000000\ttest: 0.8911765\tbest: 0.8960469 (179)\ttotal: 1.67s\tremaining: 11.8ms\n",
      "993:\tlearn: 1.0000000\ttest: 0.8911765\tbest: 0.8960469 (179)\ttotal: 1.67s\tremaining: 10.1ms\n",
      "994:\tlearn: 1.0000000\ttest: 0.8911765\tbest: 0.8960469 (179)\ttotal: 1.67s\tremaining: 8.4ms\n",
      "995:\tlearn: 1.0000000\ttest: 0.8911765\tbest: 0.8960469 (179)\ttotal: 1.67s\tremaining: 6.72ms\n",
      "996:\tlearn: 1.0000000\ttest: 0.8911765\tbest: 0.8960469 (179)\ttotal: 1.67s\tremaining: 5.04ms\n",
      "997:\tlearn: 1.0000000\ttest: 0.8898678\tbest: 0.8960469 (179)\ttotal: 1.68s\tremaining: 3.36ms\n",
      "998:\tlearn: 1.0000000\ttest: 0.8898678\tbest: 0.8960469 (179)\ttotal: 1.68s\tremaining: 1.68ms\n",
      "999:\tlearn: 1.0000000\ttest: 0.8898678\tbest: 0.8960469 (179)\ttotal: 1.68s\tremaining: 0us\n",
      "\n",
      "bestTest = 0.8960468521\n",
      "bestIteration = 179\n",
      "\n",
      "Shrink model to first 180 iterations.\n"
     ]
    },
    {
     "data": {
      "text/plain": [
       "<catboost.core.CatBoostClassifier at 0x1dd2acaa340>"
      ]
     },
     "execution_count": 227,
     "metadata": {},
     "output_type": "execute_result"
    }
   ],
   "source": [
    "cat_model.fit(x_train,y_train,eval_set=(x_test,y_test))"
   ]
  },
  {
   "cell_type": "code",
   "execution_count": 228,
   "metadata": {},
   "outputs": [],
   "source": [
    "catpred = cat_model.predict(x_test)"
   ]
  },
  {
   "cell_type": "code",
   "execution_count": 229,
   "metadata": {},
   "outputs": [
    {
     "name": "stdout",
     "output_type": "stream",
     "text": [
      "              precision    recall  f1-score   support\n",
      "\n",
      "        Left       0.87      0.95      0.90       354\n",
      "      Stayed       0.94      0.85      0.90       358\n",
      "\n",
      "    accuracy                           0.90       712\n",
      "   macro avg       0.90      0.90      0.90       712\n",
      "weighted avg       0.90      0.90      0.90       712\n",
      "\n"
     ]
    }
   ],
   "source": [
    "target_names = ['Left','Stayed']\n",
    "print(classification_report(y_test, catpred, target_names=target_names))"
   ]
  },
  {
   "cell_type": "code",
   "execution_count": 230,
   "metadata": {},
   "outputs": [
    {
     "data": {
      "text/plain": [
       "0.9415384615384615"
      ]
     },
     "execution_count": 230,
     "metadata": {},
     "output_type": "execute_result"
    }
   ],
   "source": [
    "precision_score(y_test, catpred)"
   ]
  },
  {
   "cell_type": "code",
   "execution_count": 231,
   "metadata": {},
   "outputs": [
    {
     "data": {
      "text/plain": [
       "0.8547486033519553"
      ]
     },
     "execution_count": 231,
     "metadata": {},
     "output_type": "execute_result"
    }
   ],
   "source": [
    "recall_score(y_test, catpred)"
   ]
  },
  {
   "cell_type": "code",
   "execution_count": 232,
   "metadata": {},
   "outputs": [
    {
     "data": {
      "text/plain": [
       "Text(0, 0.5, 'True Positive Rate')"
      ]
     },
     "execution_count": 232,
     "metadata": {},
     "output_type": "execute_result"
    },
    {
     "data": {
      "image/png": "[encoded data removed]",
      "text/plain": [
       "<Figure size 432x288 with 1 Axes>"
      ]
     },
     "metadata": {
      "needs_background": "light"
     },
     "output_type": "display_data"
    }
   ],
   "source": [
    "fpr, tpr, thresholds = roc_curve(y_test, catpred)\n",
    "import matplotlib.pyplot as plt\n",
    "plt.plot(fpr,tpr)\n",
    "plt.xlabel('False Positive Rate')\n",
    "plt.ylabel('True Positive Rate')"
   ]
  },
  {
   "cell_type": "code",
   "execution_count": 233,
   "metadata": {},
   "outputs": [
    {
     "name": "stdout",
     "output_type": "stream",
     "text": [
      "Learning rate set to 0.036095\n",
      "0:\tlearn: 0.7896774\ttest: 0.7675841\tbest: 0.7675841 (0)\ttotal: 2.44ms\tremaining: 2.44s\n",
      "1:\tlearn: 0.8196517\ttest: 0.7851852\tbest: 0.7851852 (1)\ttotal: 4.44ms\tremaining: 2.22s\n",
      "2:\tlearn: 0.8369769\ttest: 0.8281938\tbest: 0.8281938 (2)\ttotal: 6.43ms\tremaining: 2.14s\n",
      "3:\tlearn: 0.8484092\ttest: 0.8367953\tbest: 0.8367953 (3)\ttotal: 8.1ms\tremaining: 2.02s\n",
      "4:\tlearn: 0.8551896\ttest: 0.8491124\tbest: 0.8491124 (4)\ttotal: 10.2ms\tremaining: 2.04s\n",
      "5:\tlearn: 0.8523364\ttest: 0.8458150\tbest: 0.8491124 (4)\ttotal: 12.1ms\tremaining: 2.01s\n",
      "6:\tlearn: 0.8583905\ttest: 0.8466077\tbest: 0.8491124 (4)\ttotal: 14.1ms\tremaining: 2s\n",
      "7:\tlearn: 0.8548287\ttest: 0.8529412\tbest: 0.8529412 (7)\ttotal: 15.7ms\tremaining: 1.95s\n",
      "8:\tlearn: 0.8503741\ttest: 0.8466077\tbest: 0.8529412 (7)\ttotal: 17.4ms\tremaining: 1.91s\n",
      "9:\tlearn: 0.8477315\ttest: 0.8475073\tbest: 0.8529412 (7)\ttotal: 19.1ms\tremaining: 1.89s\n",
      "10:\tlearn: 0.8461538\ttest: 0.8462665\tbest: 0.8529412 (7)\ttotal: 20.8ms\tremaining: 1.87s\n",
      "11:\tlearn: 0.8502175\ttest: 0.8479532\tbest: 0.8529412 (7)\ttotal: 22.5ms\tremaining: 1.85s\n",
      "12:\tlearn: 0.8518289\ttest: 0.8458150\tbest: 0.8529412 (7)\ttotal: 24.2ms\tremaining: 1.83s\n",
      "13:\tlearn: 0.8535826\ttest: 0.8441176\tbest: 0.8529412 (7)\ttotal: 25.7ms\tremaining: 1.81s\n",
      "14:\tlearn: 0.8583905\ttest: 0.8445748\tbest: 0.8529412 (7)\ttotal: 27.5ms\tremaining: 1.8s\n",
      "15:\tlearn: 0.8646288\ttest: 0.8487518\tbest: 0.8529412 (7)\ttotal: 29ms\tremaining: 1.78s\n",
      "16:\tlearn: 0.8653011\ttest: 0.8512518\tbest: 0.8529412 (7)\ttotal: 30.8ms\tremaining: 1.78s\n",
      "17:\tlearn: 0.8651685\ttest: 0.8537666\tbest: 0.8537666 (17)\ttotal: 32.6ms\tremaining: 1.78s\n",
      "18:\tlearn: 0.8675000\ttest: 0.8546256\tbest: 0.8546256 (18)\ttotal: 34.3ms\tremaining: 1.77s\n",
      "19:\tlearn: 0.8671679\ttest: 0.8546256\tbest: 0.8546256 (18)\ttotal: 35.9ms\tremaining: 1.76s\n",
      "20:\tlearn: 0.8707654\ttest: 0.8571429\tbest: 0.8571429 (20)\ttotal: 37.8ms\tremaining: 1.76s\n",
      "21:\tlearn: 0.8707654\ttest: 0.8571429\tbest: 0.8571429 (20)\ttotal: 39.4ms\tremaining: 1.75s\n",
      "22:\tlearn: 0.8761785\ttest: 0.8584071\tbest: 0.8584071 (22)\ttotal: 41ms\tremaining: 1.74s\n",
      "23:\tlearn: 0.8754717\ttest: 0.8571429\tbest: 0.8584071 (22)\ttotal: 42.6ms\tremaining: 1.73s\n",
      "24:\tlearn: 0.8765743\ttest: 0.8575624\tbest: 0.8584071 (22)\ttotal: 44.1ms\tremaining: 1.72s\n",
      "25:\tlearn: 0.8765743\ttest: 0.8588235\tbest: 0.8588235 (25)\ttotal: 45.7ms\tremaining: 1.71s\n",
      "26:\tlearn: 0.8765743\ttest: 0.8600884\tbest: 0.8600884 (26)\ttotal: 47.2ms\tremaining: 1.7s\n",
      "27:\tlearn: 0.8774356\ttest: 0.8588235\tbest: 0.8600884 (26)\ttotal: 48.6ms\tremaining: 1.69s\n",
      "28:\tlearn: 0.8772813\ttest: 0.8584071\tbest: 0.8600884 (26)\ttotal: 50ms\tremaining: 1.67s\n",
      "29:\tlearn: 0.8772813\ttest: 0.8571429\tbest: 0.8600884 (26)\ttotal: 51.4ms\tremaining: 1.66s\n",
      "30:\tlearn: 0.8792453\ttest: 0.8588235\tbest: 0.8600884 (26)\ttotal: 52.8ms\tremaining: 1.65s\n",
      "31:\tlearn: 0.8803526\ttest: 0.8584071\tbest: 0.8600884 (26)\ttotal: 54.2ms\tremaining: 1.64s\n",
      "32:\tlearn: 0.8834279\ttest: 0.8596750\tbest: 0.8600884 (26)\ttotal: 55.6ms\tremaining: 1.63s\n",
      "33:\tlearn: 0.8813131\ttest: 0.8622222\tbest: 0.8622222 (33)\ttotal: 57ms\tremaining: 1.62s\n",
      "34:\tlearn: 0.8811631\ttest: 0.8622222\tbest: 0.8622222 (33)\ttotal: 58.3ms\tremaining: 1.61s\n",
      "35:\tlearn: 0.8851010\ttest: 0.8618128\tbest: 0.8622222 (33)\ttotal: 59.7ms\tremaining: 1.6s\n",
      "36:\tlearn: 0.8848101\ttest: 0.8592593\tbest: 0.8622222 (33)\ttotal: 61.5ms\tremaining: 1.6s\n",
      "37:\tlearn: 0.8886076\ttest: 0.8609467\tbest: 0.8622222 (33)\ttotal: 62.9ms\tremaining: 1.59s\n",
      "38:\tlearn: 0.8904370\ttest: 0.8630952\tbest: 0.8630952 (38)\ttotal: 64.3ms\tremaining: 1.58s\n",
      "39:\tlearn: 0.8917036\ttest: 0.8630952\tbest: 0.8630952 (38)\ttotal: 65.7ms\tremaining: 1.57s\n",
      "40:\tlearn: 0.8915663\ttest: 0.8630952\tbest: 0.8630952 (38)\ttotal: 67ms\tremaining: 1.57s\n",
      "41:\tlearn: 0.8935361\ttest: 0.8630952\tbest: 0.8630952 (38)\ttotal: 68.4ms\tremaining: 1.56s\n",
      "42:\tlearn: 0.8935361\ttest: 0.8643815\tbest: 0.8643815 (42)\ttotal: 69.8ms\tremaining: 1.55s\n",
      "43:\tlearn: 0.8948035\ttest: 0.8643815\tbest: 0.8643815 (42)\ttotal: 71.2ms\tremaining: 1.55s\n",
      "44:\tlearn: 0.8956357\ttest: 0.8656716\tbest: 0.8656716 (44)\ttotal: 72.6ms\tremaining: 1.54s\n",
      "45:\tlearn: 0.8981657\ttest: 0.8690476\tbest: 0.8690476 (45)\ttotal: 74ms\tremaining: 1.53s\n",
      "46:\tlearn: 0.8980367\ttest: 0.8703428\tbest: 0.8703428 (46)\ttotal: 75.4ms\tremaining: 1.53s\n",
      "47:\tlearn: 0.8987342\ttest: 0.8703428\tbest: 0.8703428 (46)\ttotal: 76.8ms\tremaining: 1.52s\n",
      "48:\tlearn: 0.8988622\ttest: 0.8703428\tbest: 0.8703428 (46)\ttotal: 78.2ms\tremaining: 1.52s\n",
      "49:\tlearn: 0.8988622\ttest: 0.8686567\tbest: 0.8703428 (46)\ttotal: 79.5ms\tremaining: 1.51s\n",
      "50:\tlearn: 0.8995578\ttest: 0.8686567\tbest: 0.8703428 (46)\ttotal: 80.9ms\tremaining: 1.5s\n",
      "51:\tlearn: 0.9008212\ttest: 0.8703428\tbest: 0.8703428 (46)\ttotal: 82.2ms\tremaining: 1.5s\n",
      "52:\tlearn: 0.9008212\ttest: 0.8673621\tbest: 0.8703428 (46)\ttotal: 83.6ms\tremaining: 1.49s\n",
      "53:\tlearn: 0.9008212\ttest: 0.8720238\tbest: 0.8720238 (53)\ttotal: 85.1ms\tremaining: 1.49s\n",
      "54:\tlearn: 0.9015152\ttest: 0.8736999\tbest: 0.8736999 (54)\ttotal: 86.5ms\tremaining: 1.49s\n",
      "55:\tlearn: 0.9020846\ttest: 0.8733234\tbest: 0.8736999 (54)\ttotal: 87.9ms\tremaining: 1.48s\n",
      "56:\tlearn: 0.9020846\ttest: 0.8746269\tbest: 0.8746269 (56)\ttotal: 89.3ms\tremaining: 1.48s\n",
      "57:\tlearn: 0.9033481\ttest: 0.8746269\tbest: 0.8746269 (56)\ttotal: 90.7ms\tremaining: 1.47s\n",
      "58:\tlearn: 0.9046115\ttest: 0.8796434\tbest: 0.8796434 (58)\ttotal: 92.1ms\tremaining: 1.47s\n",
      "59:\tlearn: 0.9033481\ttest: 0.8763040\tbest: 0.8796434 (58)\ttotal: 93.6ms\tremaining: 1.47s\n",
      "60:\tlearn: 0.9033481\ttest: 0.8779762\tbest: 0.8796434 (58)\ttotal: 95.1ms\tremaining: 1.46s\n",
      "61:\tlearn: 0.9039191\ttest: 0.8779762\tbest: 0.8796434 (58)\ttotal: 96.6ms\tremaining: 1.46s\n",
      "62:\tlearn: 0.9044908\ttest: 0.8783383\tbest: 0.8796434 (58)\ttotal: 98ms\tremaining: 1.46s\n",
      "63:\tlearn: 0.9051833\ttest: 0.8783383\tbest: 0.8796434 (58)\ttotal: 99.5ms\tremaining: 1.46s\n",
      "64:\tlearn: 0.9070209\ttest: 0.8796434\tbest: 0.8796434 (58)\ttotal: 101ms\tremaining: 1.46s\n",
      "65:\tlearn: 0.9078283\ttest: 0.8813056\tbest: 0.8813056 (65)\ttotal: 103ms\tremaining: 1.46s\n",
      "66:\tlearn: 0.9085174\ttest: 0.8826152\tbest: 0.8826152 (66)\ttotal: 105ms\tremaining: 1.47s\n",
      "67:\tlearn: 0.9090909\ttest: 0.8826152\tbest: 0.8826152 (66)\ttotal: 108ms\tremaining: 1.48s\n",
      "68:\tlearn: 0.9089760\ttest: 0.8826152\tbest: 0.8826152 (66)\ttotal: 109ms\tremaining: 1.48s\n",
      "69:\tlearn: 0.9109286\ttest: 0.8813056\tbest: 0.8826152 (66)\ttotal: 111ms\tremaining: 1.48s\n",
      "70:\tlearn: 0.9109286\ttest: 0.8829630\tbest: 0.8829630 (70)\ttotal: 113ms\tremaining: 1.48s\n",
      "71:\tlearn: 0.9121920\ttest: 0.8813056\tbest: 0.8829630 (70)\ttotal: 115ms\tremaining: 1.48s\n",
      "72:\tlearn: 0.9110410\ttest: 0.8813056\tbest: 0.8829630 (70)\ttotal: 116ms\tremaining: 1.48s\n",
      "73:\tlearn: 0.9117276\ttest: 0.8829630\tbest: 0.8829630 (70)\ttotal: 118ms\tremaining: 1.47s\n",
      "74:\tlearn: 0.9117276\ttest: 0.8829630\tbest: 0.8829630 (70)\ttotal: 119ms\tremaining: 1.47s\n",
      "75:\tlearn: 0.9129887\ttest: 0.8829630\tbest: 0.8829630 (70)\ttotal: 121ms\tremaining: 1.47s\n",
      "76:\tlearn: 0.9129887\ttest: 0.8829630\tbest: 0.8829630 (70)\ttotal: 123ms\tremaining: 1.47s\n",
      "77:\tlearn: 0.9137823\ttest: 0.8813056\tbest: 0.8829630 (70)\ttotal: 124ms\tremaining: 1.47s\n",
      "78:\tlearn: 0.9137823\ttest: 0.8846154\tbest: 0.8846154 (78)\ttotal: 126ms\tremaining: 1.47s\n",
      "79:\tlearn: 0.9138906\ttest: 0.8833087\tbest: 0.8846154 (78)\ttotal: 128ms\tremaining: 1.47s\n",
      "80:\tlearn: 0.9150409\ttest: 0.8833087\tbest: 0.8846154 (78)\ttotal: 129ms\tremaining: 1.47s\n",
      "81:\tlearn: 0.9156171\ttest: 0.8833087\tbest: 0.8846154 (78)\ttotal: 131ms\tremaining: 1.47s\n",
      "82:\tlearn: 0.9162996\ttest: 0.8833087\tbest: 0.8846154 (78)\ttotal: 133ms\tremaining: 1.47s\n",
      "83:\tlearn: 0.9175582\ttest: 0.8833087\tbest: 0.8846154 (78)\ttotal: 135ms\tremaining: 1.47s\n",
      "84:\tlearn: 0.9175582\ttest: 0.8820059\tbest: 0.8846154 (78)\ttotal: 136ms\tremaining: 1.47s\n",
      "85:\tlearn: 0.9181360\ttest: 0.8820059\tbest: 0.8846154 (78)\ttotal: 138ms\tremaining: 1.47s\n",
      "86:\tlearn: 0.9187146\ttest: 0.8836524\tbest: 0.8846154 (78)\ttotal: 139ms\tremaining: 1.46s\n",
      "87:\tlearn: 0.9187146\ttest: 0.8869310\tbest: 0.8869310 (87)\ttotal: 141ms\tremaining: 1.46s\n",
      "88:\tlearn: 0.9193955\ttest: 0.8882353\tbest: 0.8882353 (88)\ttotal: 142ms\tremaining: 1.46s\n",
      "89:\tlearn: 0.9207547\ttest: 0.8865979\tbest: 0.8882353 (88)\ttotal: 144ms\tremaining: 1.45s\n",
      "90:\tlearn: 0.9221106\ttest: 0.8879056\tbest: 0.8882353 (88)\ttotal: 145ms\tremaining: 1.45s\n",
      "91:\tlearn: 0.9233668\ttest: 0.8879056\tbest: 0.8882353 (88)\ttotal: 147ms\tremaining: 1.45s\n",
      "92:\tlearn: 0.9227872\ttest: 0.8865979\tbest: 0.8882353 (88)\ttotal: 148ms\tremaining: 1.45s\n",
      "93:\tlearn: 0.9233668\ttest: 0.8879056\tbest: 0.8882353 (88)\ttotal: 150ms\tremaining: 1.44s\n",
      "94:\tlearn: 0.9248120\ttest: 0.8879056\tbest: 0.8882353 (88)\ttotal: 151ms\tremaining: 1.44s\n",
      "95:\tlearn: 0.9246231\ttest: 0.8862629\tbest: 0.8882353 (88)\ttotal: 153ms\tremaining: 1.44s\n",
      "96:\tlearn: 0.9240427\ttest: 0.8892171\tbest: 0.8892171 (96)\ttotal: 154ms\tremaining: 1.43s\n",
      "97:\tlearn: 0.9246231\ttest: 0.8875740\tbest: 0.8892171 (96)\ttotal: 156ms\tremaining: 1.43s\n",
      "98:\tlearn: 0.9247177\ttest: 0.8875740\tbest: 0.8892171 (96)\ttotal: 157ms\tremaining: 1.43s\n",
      "99:\tlearn: 0.9260652\ttest: 0.8875740\tbest: 0.8892171 (96)\ttotal: 158ms\tremaining: 1.42s\n",
      "100:\tlearn: 0.9266458\ttest: 0.8879056\tbest: 0.8892171 (96)\ttotal: 160ms\tremaining: 1.42s\n",
      "101:\tlearn: 0.9279900\ttest: 0.8879056\tbest: 0.8892171 (96)\ttotal: 161ms\tremaining: 1.42s\n",
      "102:\tlearn: 0.9286608\ttest: 0.8905325\tbest: 0.8905325 (102)\ttotal: 163ms\tremaining: 1.42s\n",
      "103:\tlearn: 0.9300000\ttest: 0.8905325\tbest: 0.8905325 (102)\ttotal: 165ms\tremaining: 1.42s\n",
      "104:\tlearn: 0.9306683\ttest: 0.8888889\tbest: 0.8905325 (102)\ttotal: 166ms\tremaining: 1.42s\n",
      "105:\tlearn: 0.9306683\ttest: 0.8888889\tbest: 0.8905325 (102)\ttotal: 168ms\tremaining: 1.41s\n",
      "106:\tlearn: 0.9300000\ttest: 0.8888889\tbest: 0.8905325 (102)\ttotal: 169ms\tremaining: 1.41s\n",
      "107:\tlearn: 0.9313358\ttest: 0.8888889\tbest: 0.8905325 (102)\ttotal: 170ms\tremaining: 1.41s\n",
      "108:\tlearn: 0.9313358\ttest: 0.8875740\tbest: 0.8905325 (102)\ttotal: 172ms\tremaining: 1.41s\n",
      "109:\tlearn: 0.9326683\ttest: 0.8875740\tbest: 0.8905325 (102)\ttotal: 173ms\tremaining: 1.4s\n",
      "110:\tlearn: 0.9339975\ttest: 0.8875740\tbest: 0.8905325 (102)\ttotal: 175ms\tremaining: 1.4s\n",
      "111:\tlearn: 0.9346609\ttest: 0.8862629\tbest: 0.8905325 (102)\ttotal: 177ms\tremaining: 1.4s\n",
      "112:\tlearn: 0.9339975\ttest: 0.8879056\tbest: 0.8905325 (102)\ttotal: 178ms\tremaining: 1.4s\n",
      "113:\tlearn: 0.9345794\ttest: 0.8862629\tbest: 0.8905325 (102)\ttotal: 180ms\tremaining: 1.4s\n",
      "114:\tlearn: 0.9352428\ttest: 0.8862629\tbest: 0.8905325 (102)\ttotal: 182ms\tremaining: 1.4s\n",
      "115:\tlearn: 0.9359054\ttest: 0.8862629\tbest: 0.8905325 (102)\ttotal: 183ms\tremaining: 1.4s\n",
      "116:\tlearn: 0.9353234\ttest: 0.8862629\tbest: 0.8905325 (102)\ttotal: 185ms\tremaining: 1.39s\n",
      "117:\tlearn: 0.9353234\ttest: 0.8879056\tbest: 0.8905325 (102)\ttotal: 186ms\tremaining: 1.39s\n",
      "118:\tlearn: 0.9359851\ttest: 0.8879056\tbest: 0.8905325 (102)\ttotal: 188ms\tremaining: 1.39s\n",
      "119:\tlearn: 0.9373060\ttest: 0.8892171\tbest: 0.8905325 (102)\ttotal: 189ms\tremaining: 1.39s\n",
      "120:\tlearn: 0.9373060\ttest: 0.8892171\tbest: 0.8905325 (102)\ttotal: 191ms\tremaining: 1.39s\n",
      "121:\tlearn: 0.9373060\ttest: 0.8865979\tbest: 0.8905325 (102)\ttotal: 193ms\tremaining: 1.39s\n",
      "122:\tlearn: 0.9378882\ttest: 0.8892171\tbest: 0.8905325 (102)\ttotal: 194ms\tremaining: 1.39s\n",
      "123:\tlearn: 0.9379653\ttest: 0.8892171\tbest: 0.8905325 (102)\ttotal: 196ms\tremaining: 1.38s\n",
      "124:\tlearn: 0.9378882\ttest: 0.8892171\tbest: 0.8905325 (102)\ttotal: 197ms\tremaining: 1.38s\n",
      "125:\tlearn: 0.9385475\ttest: 0.8892171\tbest: 0.8905325 (102)\ttotal: 199ms\tremaining: 1.38s\n",
      "126:\tlearn: 0.9378882\ttest: 0.8892171\tbest: 0.8905325 (102)\ttotal: 201ms\tremaining: 1.38s\n",
      "127:\tlearn: 0.9385475\ttest: 0.8905325\tbest: 0.8905325 (102)\ttotal: 202ms\tremaining: 1.38s\n",
      "128:\tlearn: 0.9385475\ttest: 0.8905325\tbest: 0.8905325 (102)\ttotal: 204ms\tremaining: 1.38s\n",
      "129:\tlearn: 0.9385475\ttest: 0.8905325\tbest: 0.8905325 (102)\ttotal: 205ms\tremaining: 1.37s\n",
      "130:\tlearn: 0.9385475\ttest: 0.8918519\tbest: 0.8918519 (130)\ttotal: 207ms\tremaining: 1.37s\n",
      "131:\tlearn: 0.9392060\ttest: 0.8918519\tbest: 0.8918519 (130)\ttotal: 208ms\tremaining: 1.37s\n",
      "132:\tlearn: 0.9385475\ttest: 0.8918519\tbest: 0.8918519 (130)\ttotal: 210ms\tremaining: 1.37s\n",
      "133:\tlearn: 0.9398636\ttest: 0.8918519\tbest: 0.8918519 (130)\ttotal: 211ms\tremaining: 1.36s\n",
      "134:\tlearn: 0.9398636\ttest: 0.8934911\tbest: 0.8934911 (134)\ttotal: 212ms\tremaining: 1.36s\n",
      "135:\tlearn: 0.9398636\ttest: 0.8951256\tbest: 0.8951256 (135)\ttotal: 214ms\tremaining: 1.36s\n",
      "136:\tlearn: 0.9405204\ttest: 0.8924890\tbest: 0.8951256 (135)\ttotal: 215ms\tremaining: 1.35s\n",
      "137:\tlearn: 0.9405204\ttest: 0.8924890\tbest: 0.8951256 (135)\ttotal: 217ms\tremaining: 1.35s\n",
      "138:\tlearn: 0.9411765\ttest: 0.8924890\tbest: 0.8951256 (135)\ttotal: 218ms\tremaining: 1.35s\n",
      "139:\tlearn: 0.9418317\ttest: 0.8924890\tbest: 0.8951256 (135)\ttotal: 220ms\tremaining: 1.35s\n",
      "140:\tlearn: 0.9405204\ttest: 0.8924890\tbest: 0.8951256 (135)\ttotal: 221ms\tremaining: 1.35s\n",
      "141:\tlearn: 0.9411765\ttest: 0.8911765\tbest: 0.8951256 (135)\ttotal: 222ms\tremaining: 1.34s\n",
      "142:\tlearn: 0.9418317\ttest: 0.8941176\tbest: 0.8951256 (135)\ttotal: 224ms\tremaining: 1.34s\n",
      "143:\tlearn: 0.9437925\ttest: 0.8941176\tbest: 0.8951256 (135)\ttotal: 225ms\tremaining: 1.34s\n",
      "144:\tlearn: 0.9437925\ttest: 0.8928047\tbest: 0.8951256 (135)\ttotal: 227ms\tremaining: 1.34s\n",
      "145:\tlearn: 0.9437925\ttest: 0.8914956\tbest: 0.8951256 (135)\ttotal: 228ms\tremaining: 1.33s\n",
      "146:\tlearn: 0.9444444\ttest: 0.8928047\tbest: 0.8951256 (135)\ttotal: 230ms\tremaining: 1.33s\n",
      "147:\tlearn: 0.9469790\ttest: 0.8928047\tbest: 0.8951256 (135)\ttotal: 231ms\tremaining: 1.33s\n",
      "148:\tlearn: 0.9469790\ttest: 0.8928047\tbest: 0.8951256 (135)\ttotal: 233ms\tremaining: 1.33s\n",
      "149:\tlearn: 0.9476278\ttest: 0.8928047\tbest: 0.8951256 (135)\ttotal: 234ms\tremaining: 1.33s\n",
      "150:\tlearn: 0.9476278\ttest: 0.8924890\tbest: 0.8951256 (135)\ttotal: 236ms\tremaining: 1.32s\n",
      "151:\tlearn: 0.9476278\ttest: 0.8941176\tbest: 0.8951256 (135)\ttotal: 237ms\tremaining: 1.32s\n",
      "152:\tlearn: 0.9482759\ttest: 0.8924890\tbest: 0.8951256 (135)\ttotal: 239ms\tremaining: 1.32s\n",
      "153:\tlearn: 0.9469790\ttest: 0.8924890\tbest: 0.8951256 (135)\ttotal: 240ms\tremaining: 1.32s\n",
      "154:\tlearn: 0.9482759\ttest: 0.8928047\tbest: 0.8951256 (135)\ttotal: 242ms\tremaining: 1.32s\n",
      "155:\tlearn: 0.9495074\ttest: 0.8898678\tbest: 0.8951256 (135)\ttotal: 243ms\tremaining: 1.31s\n",
      "156:\tlearn: 0.9495074\ttest: 0.8911765\tbest: 0.8951256 (135)\ttotal: 245ms\tremaining: 1.31s\n",
      "157:\tlearn: 0.9495074\ttest: 0.8911765\tbest: 0.8951256 (135)\ttotal: 246ms\tremaining: 1.31s\n",
      "158:\tlearn: 0.9495074\ttest: 0.8928047\tbest: 0.8951256 (135)\ttotal: 247ms\tremaining: 1.31s\n",
      "159:\tlearn: 0.9495074\ttest: 0.8928047\tbest: 0.8951256 (135)\ttotal: 249ms\tremaining: 1.31s\n",
      "160:\tlearn: 0.9495074\ttest: 0.8928047\tbest: 0.8951256 (135)\ttotal: 250ms\tremaining: 1.3s\n",
      "161:\tlearn: 0.9495074\ttest: 0.8928047\tbest: 0.8951256 (135)\ttotal: 252ms\tremaining: 1.3s\n",
      "162:\tlearn: 0.9500924\ttest: 0.8928047\tbest: 0.8951256 (135)\ttotal: 253ms\tremaining: 1.3s\n",
      "163:\tlearn: 0.9495074\ttest: 0.8928047\tbest: 0.8951256 (135)\ttotal: 255ms\tremaining: 1.3s\n",
      "164:\tlearn: 0.9500924\ttest: 0.8928047\tbest: 0.8951256 (135)\ttotal: 256ms\tremaining: 1.29s\n",
      "165:\tlearn: 0.9500924\ttest: 0.8911765\tbest: 0.8951256 (135)\ttotal: 257ms\tremaining: 1.29s\n",
      "166:\tlearn: 0.9494451\ttest: 0.8924890\tbest: 0.8951256 (135)\ttotal: 259ms\tremaining: 1.29s\n",
      "167:\tlearn: 0.9494451\ttest: 0.8924890\tbest: 0.8951256 (135)\ttotal: 260ms\tremaining: 1.29s\n",
      "168:\tlearn: 0.9500924\ttest: 0.8911765\tbest: 0.8951256 (135)\ttotal: 262ms\tremaining: 1.29s\n",
      "169:\tlearn: 0.9500924\ttest: 0.8898678\tbest: 0.8951256 (135)\ttotal: 263ms\tremaining: 1.28s\n",
      "170:\tlearn: 0.9500924\ttest: 0.8924890\tbest: 0.8951256 (135)\ttotal: 265ms\tremaining: 1.28s\n",
      "171:\tlearn: 0.9500924\ttest: 0.8898678\tbest: 0.8951256 (135)\ttotal: 266ms\tremaining: 1.28s\n",
      "172:\tlearn: 0.9500924\ttest: 0.8911765\tbest: 0.8951256 (135)\ttotal: 267ms\tremaining: 1.28s\n",
      "173:\tlearn: 0.9500924\ttest: 0.8911765\tbest: 0.8951256 (135)\ttotal: 269ms\tremaining: 1.28s\n",
      "174:\tlearn: 0.9513846\ttest: 0.8911765\tbest: 0.8951256 (135)\ttotal: 270ms\tremaining: 1.27s\n",
      "175:\tlearn: 0.9520295\ttest: 0.8911765\tbest: 0.8951256 (135)\ttotal: 272ms\tremaining: 1.27s\n",
      "176:\tlearn: 0.9513846\ttest: 0.8911765\tbest: 0.8951256 (135)\ttotal: 273ms\tremaining: 1.27s\n",
      "177:\tlearn: 0.9520295\ttest: 0.8911765\tbest: 0.8951256 (135)\ttotal: 275ms\tremaining: 1.27s\n",
      "178:\tlearn: 0.9507389\ttest: 0.8898678\tbest: 0.8951256 (135)\ttotal: 276ms\tremaining: 1.27s\n",
      "179:\tlearn: 0.9507389\ttest: 0.8898678\tbest: 0.8951256 (135)\ttotal: 278ms\tremaining: 1.26s\n",
      "180:\tlearn: 0.9526736\ttest: 0.8898678\tbest: 0.8951256 (135)\ttotal: 279ms\tremaining: 1.26s\n",
      "181:\tlearn: 0.9526736\ttest: 0.8898678\tbest: 0.8951256 (135)\ttotal: 281ms\tremaining: 1.26s\n",
      "182:\tlearn: 0.9533170\ttest: 0.8898678\tbest: 0.8951256 (135)\ttotal: 282ms\tremaining: 1.26s\n",
      "183:\tlearn: 0.9539595\ttest: 0.8898678\tbest: 0.8951256 (135)\ttotal: 284ms\tremaining: 1.26s\n",
      "184:\tlearn: 0.9533170\ttest: 0.8898678\tbest: 0.8951256 (135)\ttotal: 285ms\tremaining: 1.26s\n",
      "185:\tlearn: 0.9539029\ttest: 0.8914956\tbest: 0.8951256 (135)\ttotal: 287ms\tremaining: 1.25s\n",
      "186:\tlearn: 0.9539029\ttest: 0.8914956\tbest: 0.8951256 (135)\ttotal: 288ms\tremaining: 1.25s\n",
      "187:\tlearn: 0.9545455\ttest: 0.8914956\tbest: 0.8951256 (135)\ttotal: 289ms\tremaining: 1.25s\n",
      "188:\tlearn: 0.9551872\ttest: 0.8914956\tbest: 0.8951256 (135)\ttotal: 291ms\tremaining: 1.25s\n",
      "189:\tlearn: 0.9551872\ttest: 0.8914956\tbest: 0.8951256 (135)\ttotal: 292ms\tremaining: 1.25s\n",
      "190:\tlearn: 0.9564150\ttest: 0.8914956\tbest: 0.8951256 (135)\ttotal: 294ms\tremaining: 1.24s\n",
      "191:\tlearn: 0.9570552\ttest: 0.8914956\tbest: 0.8951256 (135)\ttotal: 295ms\tremaining: 1.24s\n",
      "192:\tlearn: 0.9570552\ttest: 0.8914956\tbest: 0.8951256 (135)\ttotal: 297ms\tremaining: 1.24s\n",
      "193:\tlearn: 0.9576947\ttest: 0.8898678\tbest: 0.8951256 (135)\ttotal: 298ms\tremaining: 1.24s\n",
      "194:\tlearn: 0.9571078\ttest: 0.8898678\tbest: 0.8951256 (135)\ttotal: 300ms\tremaining: 1.24s\n",
      "195:\tlearn: 0.9564684\ttest: 0.8898678\tbest: 0.8951256 (135)\ttotal: 301ms\tremaining: 1.23s\n",
      "196:\tlearn: 0.9576427\ttest: 0.8898678\tbest: 0.8951256 (135)\ttotal: 302ms\tremaining: 1.23s\n",
      "197:\tlearn: 0.9589209\ttest: 0.8898678\tbest: 0.8951256 (135)\ttotal: 304ms\tremaining: 1.23s\n",
      "198:\tlearn: 0.9595588\ttest: 0.8898678\tbest: 0.8951256 (135)\ttotal: 305ms\tremaining: 1.23s\n",
      "199:\tlearn: 0.9601960\ttest: 0.8898678\tbest: 0.8951256 (135)\ttotal: 307ms\tremaining: 1.23s\n",
      "200:\tlearn: 0.9601960\ttest: 0.8898678\tbest: 0.8951256 (135)\ttotal: 308ms\tremaining: 1.23s\n",
      "201:\tlearn: 0.9608323\ttest: 0.8898678\tbest: 0.8951256 (135)\ttotal: 310ms\tremaining: 1.22s\n",
      "202:\tlearn: 0.9614679\ttest: 0.8898678\tbest: 0.8951256 (135)\ttotal: 311ms\tremaining: 1.22s\n",
      "203:\tlearn: 0.9614679\ttest: 0.8911765\tbest: 0.8951256 (135)\ttotal: 313ms\tremaining: 1.22s\n",
      "204:\tlearn: 0.9614679\ttest: 0.8928047\tbest: 0.8951256 (135)\ttotal: 314ms\tremaining: 1.22s\n",
      "205:\tlearn: 0.9614679\ttest: 0.8924890\tbest: 0.8951256 (135)\ttotal: 315ms\tremaining: 1.22s\n",
      "206:\tlearn: 0.9614679\ttest: 0.8928047\tbest: 0.8951256 (135)\ttotal: 317ms\tremaining: 1.21s\n",
      "207:\tlearn: 0.9608323\ttest: 0.8914956\tbest: 0.8951256 (135)\ttotal: 318ms\tremaining: 1.21s\n",
      "208:\tlearn: 0.9614679\ttest: 0.8914956\tbest: 0.8951256 (135)\ttotal: 320ms\tremaining: 1.21s\n",
      "209:\tlearn: 0.9614679\ttest: 0.8914956\tbest: 0.8951256 (135)\ttotal: 321ms\tremaining: 1.21s\n",
      "210:\tlearn: 0.9608323\ttest: 0.8931186\tbest: 0.8951256 (135)\ttotal: 322ms\tremaining: 1.21s\n",
      "211:\tlearn: 0.9614679\ttest: 0.8931186\tbest: 0.8951256 (135)\ttotal: 324ms\tremaining: 1.2s\n",
      "212:\tlearn: 0.9614679\ttest: 0.8931186\tbest: 0.8951256 (135)\ttotal: 325ms\tremaining: 1.2s\n",
      "213:\tlearn: 0.9621027\ttest: 0.8944282\tbest: 0.8951256 (135)\ttotal: 327ms\tremaining: 1.2s\n",
      "214:\tlearn: 0.9621027\ttest: 0.8928047\tbest: 0.8951256 (135)\ttotal: 328ms\tremaining: 1.2s\n",
      "215:\tlearn: 0.9633700\ttest: 0.8944282\tbest: 0.8951256 (135)\ttotal: 330ms\tremaining: 1.2s\n",
      "216:\tlearn: 0.9640024\ttest: 0.8944282\tbest: 0.8951256 (135)\ttotal: 331ms\tremaining: 1.19s\n",
      "217:\tlearn: 0.9640024\ttest: 0.8931186\tbest: 0.8951256 (135)\ttotal: 333ms\tremaining: 1.19s\n",
      "218:\tlearn: 0.9640024\ttest: 0.8914956\tbest: 0.8951256 (135)\ttotal: 334ms\tremaining: 1.19s\n",
      "219:\tlearn: 0.9640024\ttest: 0.8928047\tbest: 0.8951256 (135)\ttotal: 336ms\tremaining: 1.19s\n",
      "220:\tlearn: 0.9640024\ttest: 0.8928047\tbest: 0.8951256 (135)\ttotal: 337ms\tremaining: 1.19s\n",
      "221:\tlearn: 0.9640024\ttest: 0.8928047\tbest: 0.8951256 (135)\ttotal: 338ms\tremaining: 1.19s\n",
      "222:\tlearn: 0.9640024\ttest: 0.8928047\tbest: 0.8951256 (135)\ttotal: 340ms\tremaining: 1.19s\n",
      "223:\tlearn: 0.9640024\ttest: 0.8928047\tbest: 0.8951256 (135)\ttotal: 342ms\tremaining: 1.18s\n",
      "224:\tlearn: 0.9640024\ttest: 0.8898678\tbest: 0.8951256 (135)\ttotal: 343ms\tremaining: 1.18s\n",
      "225:\tlearn: 0.9646341\ttest: 0.8911765\tbest: 0.8951256 (135)\ttotal: 345ms\tremaining: 1.18s\n",
      "226:\tlearn: 0.9646341\ttest: 0.8898678\tbest: 0.8951256 (135)\ttotal: 346ms\tremaining: 1.18s\n",
      "227:\tlearn: 0.9646341\ttest: 0.8898678\tbest: 0.8951256 (135)\ttotal: 348ms\tremaining: 1.18s\n",
      "228:\tlearn: 0.9646341\ttest: 0.8898678\tbest: 0.8951256 (135)\ttotal: 349ms\tremaining: 1.18s\n",
      "229:\tlearn: 0.9646341\ttest: 0.8898678\tbest: 0.8951256 (135)\ttotal: 351ms\tremaining: 1.17s\n",
      "230:\tlearn: 0.9646341\ttest: 0.8898678\tbest: 0.8951256 (135)\ttotal: 352ms\tremaining: 1.17s\n",
      "231:\tlearn: 0.9640024\ttest: 0.8914956\tbest: 0.8951256 (135)\ttotal: 354ms\tremaining: 1.17s\n",
      "232:\tlearn: 0.9640024\ttest: 0.8914956\tbest: 0.8951256 (135)\ttotal: 355ms\tremaining: 1.17s\n",
      "233:\tlearn: 0.9640024\ttest: 0.8914956\tbest: 0.8951256 (135)\ttotal: 357ms\tremaining: 1.17s\n",
      "234:\tlearn: 0.9640024\ttest: 0.8914956\tbest: 0.8951256 (135)\ttotal: 358ms\tremaining: 1.17s\n",
      "235:\tlearn: 0.9646341\ttest: 0.8914956\tbest: 0.8951256 (135)\ttotal: 360ms\tremaining: 1.16s\n",
      "236:\tlearn: 0.9652651\ttest: 0.8901903\tbest: 0.8951256 (135)\ttotal: 361ms\tremaining: 1.16s\n",
      "237:\tlearn: 0.9646341\ttest: 0.8901903\tbest: 0.8951256 (135)\ttotal: 362ms\tremaining: 1.16s\n",
      "238:\tlearn: 0.9646341\ttest: 0.8901903\tbest: 0.8951256 (135)\ttotal: 364ms\tremaining: 1.16s\n",
      "239:\tlearn: 0.9652651\ttest: 0.8931186\tbest: 0.8951256 (135)\ttotal: 366ms\tremaining: 1.16s\n",
      "240:\tlearn: 0.9646341\ttest: 0.8931186\tbest: 0.8951256 (135)\ttotal: 367ms\tremaining: 1.16s\n",
      "241:\tlearn: 0.9658952\ttest: 0.8931186\tbest: 0.8951256 (135)\ttotal: 369ms\tremaining: 1.16s\n",
      "242:\tlearn: 0.9652651\ttest: 0.8931186\tbest: 0.8951256 (135)\ttotal: 371ms\tremaining: 1.15s\n",
      "243:\tlearn: 0.9658952\ttest: 0.8931186\tbest: 0.8951256 (135)\ttotal: 372ms\tremaining: 1.15s\n",
      "244:\tlearn: 0.9665247\ttest: 0.8963504\tbest: 0.8963504 (244)\ttotal: 374ms\tremaining: 1.15s\n",
      "245:\tlearn: 0.9665247\ttest: 0.8947368\tbest: 0.8963504 (244)\ttotal: 375ms\tremaining: 1.15s\n",
      "246:\tlearn: 0.9671533\ttest: 0.8947368\tbest: 0.8963504 (244)\ttotal: 377ms\tremaining: 1.15s\n",
      "247:\tlearn: 0.9665247\ttest: 0.8947368\tbest: 0.8963504 (244)\ttotal: 379ms\tremaining: 1.15s\n",
      "248:\tlearn: 0.9665247\ttest: 0.8947368\tbest: 0.8963504 (244)\ttotal: 380ms\tremaining: 1.15s\n",
      "249:\tlearn: 0.9671533\ttest: 0.8947368\tbest: 0.8963504 (244)\ttotal: 382ms\tremaining: 1.15s\n",
      "250:\tlearn: 0.9671533\ttest: 0.8947368\tbest: 0.8963504 (244)\ttotal: 383ms\tremaining: 1.14s\n",
      "251:\tlearn: 0.9677419\ttest: 0.8947368\tbest: 0.8963504 (244)\ttotal: 385ms\tremaining: 1.14s\n",
      "252:\tlearn: 0.9683698\ttest: 0.8931186\tbest: 0.8963504 (244)\ttotal: 386ms\tremaining: 1.14s\n",
      "253:\tlearn: 0.9684083\ttest: 0.8947368\tbest: 0.8963504 (244)\ttotal: 387ms\tremaining: 1.14s\n",
      "254:\tlearn: 0.9689970\ttest: 0.8947368\tbest: 0.8963504 (244)\ttotal: 389ms\tremaining: 1.14s\n",
      "255:\tlearn: 0.9696233\ttest: 0.8931186\tbest: 0.8963504 (244)\ttotal: 390ms\tremaining: 1.13s\n",
      "256:\tlearn: 0.9696233\ttest: 0.8947368\tbest: 0.8963504 (244)\ttotal: 392ms\tremaining: 1.13s\n",
      "257:\tlearn: 0.9683698\ttest: 0.8931186\tbest: 0.8963504 (244)\ttotal: 393ms\tremaining: 1.13s\n",
      "258:\tlearn: 0.9689970\ttest: 0.8950437\tbest: 0.8963504 (244)\ttotal: 395ms\tremaining: 1.13s\n",
      "259:\tlearn: 0.9689970\ttest: 0.8934307\tbest: 0.8963504 (244)\ttotal: 397ms\tremaining: 1.13s\n",
      "260:\tlearn: 0.9696233\ttest: 0.8934307\tbest: 0.8963504 (244)\ttotal: 398ms\tremaining: 1.13s\n",
      "261:\tlearn: 0.9696233\ttest: 0.8950437\tbest: 0.8963504 (244)\ttotal: 399ms\tremaining: 1.13s\n",
      "262:\tlearn: 0.9696233\ttest: 0.8950437\tbest: 0.8963504 (244)\ttotal: 401ms\tremaining: 1.12s\n",
      "263:\tlearn: 0.9689970\ttest: 0.8950437\tbest: 0.8963504 (244)\ttotal: 402ms\tremaining: 1.12s\n",
      "264:\tlearn: 0.9696233\ttest: 0.8947368\tbest: 0.8963504 (244)\ttotal: 404ms\tremaining: 1.12s\n",
      "265:\tlearn: 0.9696233\ttest: 0.8947368\tbest: 0.8963504 (244)\ttotal: 405ms\tremaining: 1.12s\n",
      "266:\tlearn: 0.9696233\ttest: 0.8947368\tbest: 0.8963504 (244)\ttotal: 407ms\tremaining: 1.12s\n",
      "267:\tlearn: 0.9702128\ttest: 0.8947368\tbest: 0.8963504 (244)\ttotal: 408ms\tremaining: 1.11s\n",
      "268:\tlearn: 0.9702128\ttest: 0.8947368\tbest: 0.8963504 (244)\ttotal: 409ms\tremaining: 1.11s\n",
      "269:\tlearn: 0.9702128\ttest: 0.8963504\tbest: 0.8963504 (244)\ttotal: 411ms\tremaining: 1.11s\n",
      "270:\tlearn: 0.9695864\ttest: 0.8963504\tbest: 0.8963504 (244)\ttotal: 412ms\tremaining: 1.11s\n",
      "271:\tlearn: 0.9695864\ttest: 0.8979592\tbest: 0.8979592 (271)\ttotal: 414ms\tremaining: 1.11s\n",
      "272:\tlearn: 0.9708384\ttest: 0.8979592\tbest: 0.8979592 (271)\ttotal: 415ms\tremaining: 1.1s\n",
      "273:\tlearn: 0.9702128\ttest: 0.8979592\tbest: 0.8979592 (271)\ttotal: 417ms\tremaining: 1.1s\n",
      "274:\tlearn: 0.9702128\ttest: 0.8979592\tbest: 0.8979592 (271)\ttotal: 418ms\tremaining: 1.1s\n",
      "275:\tlearn: 0.9702128\ttest: 0.8979592\tbest: 0.8979592 (271)\ttotal: 419ms\tremaining: 1.1s\n",
      "276:\tlearn: 0.9702128\ttest: 0.8979592\tbest: 0.8979592 (271)\ttotal: 421ms\tremaining: 1.1s\n",
      "277:\tlearn: 0.9702128\ttest: 0.8979592\tbest: 0.8979592 (271)\ttotal: 422ms\tremaining: 1.1s\n",
      "278:\tlearn: 0.9702128\ttest: 0.8979592\tbest: 0.8979592 (271)\ttotal: 424ms\tremaining: 1.09s\n",
      "279:\tlearn: 0.9702128\ttest: 0.8979592\tbest: 0.8979592 (271)\ttotal: 425ms\tremaining: 1.09s\n",
      "280:\tlearn: 0.9702128\ttest: 0.8979592\tbest: 0.8979592 (271)\ttotal: 427ms\tremaining: 1.09s\n",
      "281:\tlearn: 0.9702128\ttest: 0.8979592\tbest: 0.8979592 (271)\ttotal: 428ms\tremaining: 1.09s\n",
      "282:\tlearn: 0.9708384\ttest: 0.8979592\tbest: 0.8979592 (271)\ttotal: 430ms\tremaining: 1.09s\n",
      "283:\tlearn: 0.9708384\ttest: 0.8979592\tbest: 0.8979592 (271)\ttotal: 431ms\tremaining: 1.09s\n",
      "284:\tlearn: 0.9708384\ttest: 0.8979592\tbest: 0.8979592 (271)\ttotal: 433ms\tremaining: 1.08s\n",
      "285:\tlearn: 0.9708384\ttest: 0.8979592\tbest: 0.8979592 (271)\ttotal: 434ms\tremaining: 1.08s\n",
      "286:\tlearn: 0.9708384\ttest: 0.8979592\tbest: 0.8979592 (271)\ttotal: 436ms\tremaining: 1.08s\n",
      "287:\tlearn: 0.9708384\ttest: 0.8979592\tbest: 0.8979592 (271)\ttotal: 438ms\tremaining: 1.08s\n",
      "288:\tlearn: 0.9714633\ttest: 0.8979592\tbest: 0.8979592 (271)\ttotal: 439ms\tremaining: 1.08s\n",
      "289:\tlearn: 0.9714633\ttest: 0.8979592\tbest: 0.8979592 (271)\ttotal: 441ms\tremaining: 1.08s\n",
      "290:\tlearn: 0.9720874\ttest: 0.8979592\tbest: 0.8979592 (271)\ttotal: 442ms\tremaining: 1.08s\n",
      "291:\tlearn: 0.9720874\ttest: 0.8979592\tbest: 0.8979592 (271)\ttotal: 444ms\tremaining: 1.07s\n",
      "292:\tlearn: 0.9720874\ttest: 0.8979592\tbest: 0.8979592 (271)\ttotal: 445ms\tremaining: 1.07s\n",
      "293:\tlearn: 0.9714633\ttest: 0.8979592\tbest: 0.8979592 (271)\ttotal: 447ms\tremaining: 1.07s\n",
      "294:\tlearn: 0.9714633\ttest: 0.8979592\tbest: 0.8979592 (271)\ttotal: 448ms\tremaining: 1.07s\n",
      "295:\tlearn: 0.9714633\ttest: 0.8979592\tbest: 0.8979592 (271)\ttotal: 450ms\tremaining: 1.07s\n",
      "296:\tlearn: 0.9714633\ttest: 0.8950437\tbest: 0.8979592 (271)\ttotal: 451ms\tremaining: 1.07s\n",
      "297:\tlearn: 0.9714633\ttest: 0.8950437\tbest: 0.8979592 (271)\ttotal: 453ms\tremaining: 1.07s\n",
      "298:\tlearn: 0.9720874\ttest: 0.8976608\tbest: 0.8979592 (271)\ttotal: 454ms\tremaining: 1.06s\n",
      "299:\tlearn: 0.9720874\ttest: 0.8947368\tbest: 0.8979592 (271)\ttotal: 456ms\tremaining: 1.06s\n",
      "300:\tlearn: 0.9727107\ttest: 0.8947368\tbest: 0.8979592 (271)\ttotal: 457ms\tremaining: 1.06s\n",
      "301:\tlearn: 0.9727107\ttest: 0.8947368\tbest: 0.8979592 (271)\ttotal: 459ms\tremaining: 1.06s\n",
      "302:\tlearn: 0.9727107\ttest: 0.8947368\tbest: 0.8979592 (271)\ttotal: 461ms\tremaining: 1.06s\n",
      "303:\tlearn: 0.9733333\ttest: 0.8947368\tbest: 0.8979592 (271)\ttotal: 462ms\tremaining: 1.06s\n",
      "304:\tlearn: 0.9739552\ttest: 0.8934307\tbest: 0.8979592 (271)\ttotal: 464ms\tremaining: 1.06s\n",
      "305:\tlearn: 0.9739552\ttest: 0.8937409\tbest: 0.8979592 (271)\ttotal: 466ms\tremaining: 1.06s\n",
      "306:\tlearn: 0.9739552\ttest: 0.8924419\tbest: 0.8979592 (271)\ttotal: 467ms\tremaining: 1.05s\n",
      "307:\tlearn: 0.9739552\ttest: 0.8908297\tbest: 0.8979592 (271)\ttotal: 469ms\tremaining: 1.05s\n",
      "308:\tlearn: 0.9751966\ttest: 0.8934307\tbest: 0.8979592 (271)\ttotal: 470ms\tremaining: 1.05s\n",
      "309:\tlearn: 0.9758162\ttest: 0.8921283\tbest: 0.8979592 (271)\ttotal: 472ms\tremaining: 1.05s\n",
      "310:\tlearn: 0.9758162\ttest: 0.8921283\tbest: 0.8979592 (271)\ttotal: 473ms\tremaining: 1.05s\n",
      "311:\tlearn: 0.9758162\ttest: 0.8921283\tbest: 0.8979592 (271)\ttotal: 475ms\tremaining: 1.05s\n",
      "312:\tlearn: 0.9758162\ttest: 0.8921283\tbest: 0.8979592 (271)\ttotal: 476ms\tremaining: 1.04s\n",
      "313:\tlearn: 0.9758162\ttest: 0.8921283\tbest: 0.8979592 (271)\ttotal: 478ms\tremaining: 1.04s\n",
      "314:\tlearn: 0.9751966\ttest: 0.8921283\tbest: 0.8979592 (271)\ttotal: 479ms\tremaining: 1.04s\n",
      "315:\tlearn: 0.9758162\ttest: 0.8908297\tbest: 0.8979592 (271)\ttotal: 481ms\tremaining: 1.04s\n",
      "316:\tlearn: 0.9758162\ttest: 0.8908297\tbest: 0.8979592 (271)\ttotal: 483ms\tremaining: 1.04s\n",
      "317:\tlearn: 0.9751966\ttest: 0.8908297\tbest: 0.8979592 (271)\ttotal: 484ms\tremaining: 1.04s\n",
      "318:\tlearn: 0.9751966\ttest: 0.8895349\tbest: 0.8979592 (271)\ttotal: 485ms\tremaining: 1.04s\n",
      "319:\tlearn: 0.9751966\ttest: 0.8895349\tbest: 0.8979592 (271)\ttotal: 487ms\tremaining: 1.03s\n",
      "320:\tlearn: 0.9751966\ttest: 0.8908297\tbest: 0.8979592 (271)\ttotal: 488ms\tremaining: 1.03s\n",
      "321:\tlearn: 0.9758162\ttest: 0.8895349\tbest: 0.8979592 (271)\ttotal: 490ms\tremaining: 1.03s\n",
      "322:\tlearn: 0.9776705\ttest: 0.8911466\tbest: 0.8979592 (271)\ttotal: 491ms\tremaining: 1.03s\n",
      "323:\tlearn: 0.9764350\ttest: 0.8927536\tbest: 0.8979592 (271)\ttotal: 493ms\tremaining: 1.03s\n",
      "324:\tlearn: 0.9770531\ttest: 0.8927536\tbest: 0.8979592 (271)\ttotal: 494ms\tremaining: 1.03s\n",
      "325:\tlearn: 0.9770531\ttest: 0.8911466\tbest: 0.8979592 (271)\ttotal: 496ms\tremaining: 1.02s\n",
      "326:\tlearn: 0.9770531\ttest: 0.8895349\tbest: 0.8979592 (271)\ttotal: 497ms\tremaining: 1.02s\n",
      "327:\tlearn: 0.9770531\ttest: 0.8895349\tbest: 0.8979592 (271)\ttotal: 499ms\tremaining: 1.02s\n",
      "328:\tlearn: 0.9776705\ttest: 0.8895349\tbest: 0.8979592 (271)\ttotal: 500ms\tremaining: 1.02s\n",
      "329:\tlearn: 0.9770531\ttest: 0.8908297\tbest: 0.8979592 (271)\ttotal: 501ms\tremaining: 1.02s\n",
      "330:\tlearn: 0.9789030\ttest: 0.8895349\tbest: 0.8979592 (271)\ttotal: 503ms\tremaining: 1.02s\n",
      "331:\tlearn: 0.9789030\ttest: 0.8895349\tbest: 0.8979592 (271)\ttotal: 504ms\tremaining: 1.01s\n",
      "332:\tlearn: 0.9776705\ttest: 0.8924419\tbest: 0.8979592 (271)\ttotal: 506ms\tremaining: 1.01s\n",
      "333:\tlearn: 0.9776705\ttest: 0.8924419\tbest: 0.8979592 (271)\ttotal: 508ms\tremaining: 1.01s\n",
      "334:\tlearn: 0.9782871\ttest: 0.8921283\tbest: 0.8979592 (271)\ttotal: 509ms\tremaining: 1.01s\n",
      "335:\tlearn: 0.9789030\ttest: 0.8908297\tbest: 0.8979592 (271)\ttotal: 511ms\tremaining: 1.01s\n",
      "336:\tlearn: 0.9795181\ttest: 0.8921283\tbest: 0.8979592 (271)\ttotal: 512ms\tremaining: 1.01s\n",
      "337:\tlearn: 0.9795181\ttest: 0.8937409\tbest: 0.8979592 (271)\ttotal: 513ms\tremaining: 1s\n",
      "338:\tlearn: 0.9801325\ttest: 0.8921283\tbest: 0.8979592 (271)\ttotal: 516ms\tremaining: 1s\n",
      "339:\tlearn: 0.9801325\ttest: 0.8905109\tbest: 0.8979592 (271)\ttotal: 517ms\tremaining: 1s\n",
      "340:\tlearn: 0.9801325\ttest: 0.8905109\tbest: 0.8979592 (271)\ttotal: 519ms\tremaining: 1s\n",
      "341:\tlearn: 0.9807461\ttest: 0.8905109\tbest: 0.8979592 (271)\ttotal: 520ms\tremaining: 1s\n",
      "342:\tlearn: 0.9825826\ttest: 0.8905109\tbest: 0.8979592 (271)\ttotal: 522ms\tremaining: 999ms\n",
      "343:\tlearn: 0.9825826\ttest: 0.8892128\tbest: 0.8979592 (271)\ttotal: 523ms\tremaining: 998ms\n",
      "344:\tlearn: 0.9825826\ttest: 0.8892128\tbest: 0.8979592 (271)\ttotal: 525ms\tremaining: 996ms\n",
      "345:\tlearn: 0.9825826\ttest: 0.8892128\tbest: 0.8979592 (271)\ttotal: 526ms\tremaining: 995ms\n",
      "346:\tlearn: 0.9831933\ttest: 0.8908297\tbest: 0.8979592 (271)\ttotal: 528ms\tremaining: 993ms\n",
      "347:\tlearn: 0.9831933\ttest: 0.8905109\tbest: 0.8979592 (271)\ttotal: 529ms\tremaining: 991ms\n",
      "348:\tlearn: 0.9831933\ttest: 0.8905109\tbest: 0.8979592 (271)\ttotal: 531ms\tremaining: 990ms\n",
      "349:\tlearn: 0.9831933\ttest: 0.8918129\tbest: 0.8979592 (271)\ttotal: 532ms\tremaining: 988ms\n",
      "350:\tlearn: 0.9838032\ttest: 0.8918129\tbest: 0.8979592 (271)\ttotal: 533ms\tremaining: 986ms\n",
      "351:\tlearn: 0.9838032\ttest: 0.8905109\tbest: 0.8979592 (271)\ttotal: 535ms\tremaining: 984ms\n",
      "352:\tlearn: 0.9850210\ttest: 0.8934307\tbest: 0.8979592 (271)\ttotal: 536ms\tremaining: 983ms\n",
      "353:\tlearn: 0.9844125\ttest: 0.8921283\tbest: 0.8979592 (271)\ttotal: 539ms\tremaining: 983ms\n",
      "354:\tlearn: 0.9850210\ttest: 0.8934307\tbest: 0.8979592 (271)\ttotal: 540ms\tremaining: 982ms\n",
      "355:\tlearn: 0.9856287\ttest: 0.8934307\tbest: 0.8979592 (271)\ttotal: 542ms\tremaining: 980ms\n",
      "356:\tlearn: 0.9862358\ttest: 0.8934307\tbest: 0.8979592 (271)\ttotal: 543ms\tremaining: 979ms\n",
      "357:\tlearn: 0.9868421\ttest: 0.8963504\tbest: 0.8979592 (271)\ttotal: 545ms\tremaining: 978ms\n",
      "358:\tlearn: 0.9868421\ttest: 0.8963504\tbest: 0.8979592 (271)\ttotal: 547ms\tremaining: 977ms\n",
      "359:\tlearn: 0.9862358\ttest: 0.8934307\tbest: 0.8979592 (271)\ttotal: 549ms\tremaining: 975ms\n",
      "360:\tlearn: 0.9862358\ttest: 0.8934307\tbest: 0.8979592 (271)\ttotal: 550ms\tremaining: 974ms\n",
      "361:\tlearn: 0.9862358\ttest: 0.8934307\tbest: 0.8979592 (271)\ttotal: 551ms\tremaining: 972ms\n",
      "362:\tlearn: 0.9868421\ttest: 0.8934307\tbest: 0.8979592 (271)\ttotal: 553ms\tremaining: 971ms\n",
      "363:\tlearn: 0.9862358\ttest: 0.8934307\tbest: 0.8979592 (271)\ttotal: 555ms\tremaining: 969ms\n",
      "364:\tlearn: 0.9874477\ttest: 0.8934307\tbest: 0.8979592 (271)\ttotal: 556ms\tremaining: 968ms\n",
      "365:\tlearn: 0.9874477\ttest: 0.8934307\tbest: 0.8979592 (271)\ttotal: 558ms\tremaining: 966ms\n",
      "366:\tlearn: 0.9868421\ttest: 0.8934307\tbest: 0.8979592 (271)\ttotal: 560ms\tremaining: 965ms\n",
      "367:\tlearn: 0.9874477\ttest: 0.8934307\tbest: 0.8979592 (271)\ttotal: 561ms\tremaining: 964ms\n",
      "368:\tlearn: 0.9874477\ttest: 0.8934307\tbest: 0.8979592 (271)\ttotal: 563ms\tremaining: 963ms\n",
      "369:\tlearn: 0.9880526\ttest: 0.8934307\tbest: 0.8979592 (271)\ttotal: 565ms\tremaining: 961ms\n",
      "370:\tlearn: 0.9880526\ttest: 0.8934307\tbest: 0.8979592 (271)\ttotal: 566ms\tremaining: 960ms\n",
      "371:\tlearn: 0.9880526\ttest: 0.8934307\tbest: 0.8979592 (271)\ttotal: 568ms\tremaining: 958ms\n",
      "372:\tlearn: 0.9880526\ttest: 0.8934307\tbest: 0.8979592 (271)\ttotal: 569ms\tremaining: 957ms\n",
      "373:\tlearn: 0.9880526\ttest: 0.8934307\tbest: 0.8979592 (271)\ttotal: 571ms\tremaining: 956ms\n",
      "374:\tlearn: 0.9880526\ttest: 0.8934307\tbest: 0.8979592 (271)\ttotal: 573ms\tremaining: 954ms\n",
      "375:\tlearn: 0.9880526\ttest: 0.8947368\tbest: 0.8979592 (271)\ttotal: 574ms\tremaining: 953ms\n",
      "376:\tlearn: 0.9880526\ttest: 0.8947368\tbest: 0.8979592 (271)\ttotal: 576ms\tremaining: 951ms\n",
      "377:\tlearn: 0.9880526\ttest: 0.8947368\tbest: 0.8979592 (271)\ttotal: 577ms\tremaining: 950ms\n",
      "378:\tlearn: 0.9880526\ttest: 0.8960469\tbest: 0.8979592 (271)\ttotal: 579ms\tremaining: 948ms\n",
      "379:\tlearn: 0.9880526\ttest: 0.8960469\tbest: 0.8979592 (271)\ttotal: 580ms\tremaining: 947ms\n",
      "380:\tlearn: 0.9880526\ttest: 0.8960469\tbest: 0.8979592 (271)\ttotal: 582ms\tremaining: 945ms\n",
      "381:\tlearn: 0.9880526\ttest: 0.8960469\tbest: 0.8979592 (271)\ttotal: 583ms\tremaining: 943ms\n",
      "382:\tlearn: 0.9886567\ttest: 0.8947368\tbest: 0.8979592 (271)\ttotal: 585ms\tremaining: 942ms\n",
      "383:\tlearn: 0.9886567\ttest: 0.8947368\tbest: 0.8979592 (271)\ttotal: 586ms\tremaining: 941ms\n",
      "384:\tlearn: 0.9886567\ttest: 0.8947368\tbest: 0.8979592 (271)\ttotal: 588ms\tremaining: 939ms\n",
      "385:\tlearn: 0.9886567\ttest: 0.8947368\tbest: 0.8979592 (271)\ttotal: 589ms\tremaining: 937ms\n",
      "386:\tlearn: 0.9886567\ttest: 0.8947368\tbest: 0.8979592 (271)\ttotal: 591ms\tremaining: 936ms\n",
      "387:\tlearn: 0.9892601\ttest: 0.8947368\tbest: 0.8979592 (271)\ttotal: 592ms\tremaining: 934ms\n",
      "388:\tlearn: 0.9892601\ttest: 0.8947368\tbest: 0.8979592 (271)\ttotal: 594ms\tremaining: 933ms\n",
      "389:\tlearn: 0.9898629\ttest: 0.8947368\tbest: 0.8979592 (271)\ttotal: 595ms\tremaining: 931ms\n",
      "390:\tlearn: 0.9898629\ttest: 0.8947368\tbest: 0.8979592 (271)\ttotal: 597ms\tremaining: 930ms\n",
      "391:\tlearn: 0.9898629\ttest: 0.8947368\tbest: 0.8979592 (271)\ttotal: 598ms\tremaining: 928ms\n",
      "392:\tlearn: 0.9904648\ttest: 0.8947368\tbest: 0.8979592 (271)\ttotal: 600ms\tremaining: 927ms\n",
      "393:\tlearn: 0.9904648\ttest: 0.8947368\tbest: 0.8979592 (271)\ttotal: 602ms\tremaining: 926ms\n",
      "394:\tlearn: 0.9904648\ttest: 0.8947368\tbest: 0.8979592 (271)\ttotal: 603ms\tremaining: 924ms\n",
      "395:\tlearn: 0.9904648\ttest: 0.8947368\tbest: 0.8979592 (271)\ttotal: 605ms\tremaining: 922ms\n",
      "396:\tlearn: 0.9904648\ttest: 0.8947368\tbest: 0.8979592 (271)\ttotal: 606ms\tremaining: 921ms\n",
      "397:\tlearn: 0.9904648\ttest: 0.8947368\tbest: 0.8979592 (271)\ttotal: 608ms\tremaining: 919ms\n",
      "398:\tlearn: 0.9904648\ttest: 0.8947368\tbest: 0.8979592 (271)\ttotal: 609ms\tremaining: 918ms\n",
      "399:\tlearn: 0.9910661\ttest: 0.8947368\tbest: 0.8979592 (271)\ttotal: 611ms\tremaining: 916ms\n",
      "400:\tlearn: 0.9910661\ttest: 0.8947368\tbest: 0.8979592 (271)\ttotal: 612ms\tremaining: 914ms\n",
      "401:\tlearn: 0.9910661\ttest: 0.8947368\tbest: 0.8979592 (271)\ttotal: 613ms\tremaining: 913ms\n",
      "402:\tlearn: 0.9910661\ttest: 0.8947368\tbest: 0.8979592 (271)\ttotal: 615ms\tremaining: 911ms\n",
      "403:\tlearn: 0.9910661\ttest: 0.8947368\tbest: 0.8979592 (271)\ttotal: 617ms\tremaining: 910ms\n",
      "404:\tlearn: 0.9910661\ttest: 0.8963504\tbest: 0.8979592 (271)\ttotal: 618ms\tremaining: 908ms\n",
      "405:\tlearn: 0.9910661\ttest: 0.8976608\tbest: 0.8979592 (271)\ttotal: 620ms\tremaining: 907ms\n",
      "406:\tlearn: 0.9910661\ttest: 0.8963504\tbest: 0.8979592 (271)\ttotal: 622ms\tremaining: 906ms\n",
      "407:\tlearn: 0.9910661\ttest: 0.8976608\tbest: 0.8979592 (271)\ttotal: 623ms\tremaining: 904ms\n",
      "408:\tlearn: 0.9910661\ttest: 0.8976608\tbest: 0.8979592 (271)\ttotal: 625ms\tremaining: 903ms\n",
      "409:\tlearn: 0.9910661\ttest: 0.8963504\tbest: 0.8979592 (271)\ttotal: 627ms\tremaining: 902ms\n",
      "410:\tlearn: 0.9910661\ttest: 0.8963504\tbest: 0.8979592 (271)\ttotal: 628ms\tremaining: 900ms\n",
      "411:\tlearn: 0.9916667\ttest: 0.8976608\tbest: 0.8979592 (271)\ttotal: 630ms\tremaining: 899ms\n",
      "412:\tlearn: 0.9916667\ttest: 0.8963504\tbest: 0.8979592 (271)\ttotal: 631ms\tremaining: 897ms\n",
      "413:\tlearn: 0.9916667\ttest: 0.8947368\tbest: 0.8979592 (271)\ttotal: 633ms\tremaining: 896ms\n",
      "414:\tlearn: 0.9922665\ttest: 0.8960469\tbest: 0.8979592 (271)\ttotal: 634ms\tremaining: 894ms\n",
      "415:\tlearn: 0.9922665\ttest: 0.8963504\tbest: 0.8979592 (271)\ttotal: 636ms\tremaining: 893ms\n",
      "416:\tlearn: 0.9928656\ttest: 0.8976608\tbest: 0.8979592 (271)\ttotal: 637ms\tremaining: 891ms\n",
      "417:\tlearn: 0.9934641\ttest: 0.8976608\tbest: 0.8979592 (271)\ttotal: 639ms\tremaining: 890ms\n",
      "418:\tlearn: 0.9934641\ttest: 0.8976608\tbest: 0.8979592 (271)\ttotal: 641ms\tremaining: 888ms\n",
      "419:\tlearn: 0.9934641\ttest: 0.8976608\tbest: 0.8979592 (271)\ttotal: 642ms\tremaining: 887ms\n",
      "420:\tlearn: 0.9934641\ttest: 0.8963504\tbest: 0.8979592 (271)\ttotal: 644ms\tremaining: 885ms\n",
      "421:\tlearn: 0.9934641\ttest: 0.8963504\tbest: 0.8979592 (271)\ttotal: 645ms\tremaining: 884ms\n",
      "422:\tlearn: 0.9934641\ttest: 0.8963504\tbest: 0.8979592 (271)\ttotal: 647ms\tremaining: 882ms\n",
      "423:\tlearn: 0.9934641\ttest: 0.8976608\tbest: 0.8979592 (271)\ttotal: 648ms\tremaining: 881ms\n",
      "424:\tlearn: 0.9934641\ttest: 0.8976608\tbest: 0.8979592 (271)\ttotal: 650ms\tremaining: 879ms\n",
      "425:\tlearn: 0.9934641\ttest: 0.8963504\tbest: 0.8979592 (271)\ttotal: 651ms\tremaining: 878ms\n",
      "426:\tlearn: 0.9934641\ttest: 0.8963504\tbest: 0.8979592 (271)\ttotal: 653ms\tremaining: 876ms\n",
      "427:\tlearn: 0.9934641\ttest: 0.8963504\tbest: 0.8979592 (271)\ttotal: 655ms\tremaining: 875ms\n",
      "428:\tlearn: 0.9934641\ttest: 0.8963504\tbest: 0.8979592 (271)\ttotal: 656ms\tremaining: 874ms\n",
      "429:\tlearn: 0.9934641\ttest: 0.8963504\tbest: 0.8979592 (271)\ttotal: 658ms\tremaining: 872ms\n",
      "430:\tlearn: 0.9934641\ttest: 0.8963504\tbest: 0.8979592 (271)\ttotal: 659ms\tremaining: 870ms\n",
      "431:\tlearn: 0.9934641\ttest: 0.8963504\tbest: 0.8979592 (271)\ttotal: 661ms\tremaining: 869ms\n",
      "432:\tlearn: 0.9934641\ttest: 0.8963504\tbest: 0.8979592 (271)\ttotal: 663ms\tremaining: 868ms\n",
      "433:\tlearn: 0.9934641\ttest: 0.8963504\tbest: 0.8979592 (271)\ttotal: 665ms\tremaining: 867ms\n",
      "434:\tlearn: 0.9940618\ttest: 0.8963504\tbest: 0.8979592 (271)\ttotal: 666ms\tremaining: 865ms\n",
      "435:\tlearn: 0.9940618\ttest: 0.8950437\tbest: 0.8979592 (271)\ttotal: 668ms\tremaining: 864ms\n",
      "436:\tlearn: 0.9934641\ttest: 0.8950437\tbest: 0.8979592 (271)\ttotal: 670ms\tremaining: 863ms\n",
      "437:\tlearn: 0.9940618\ttest: 0.8950437\tbest: 0.8979592 (271)\ttotal: 671ms\tremaining: 861ms\n",
      "438:\tlearn: 0.9940618\ttest: 0.8963504\tbest: 0.8979592 (271)\ttotal: 673ms\tremaining: 860ms\n",
      "439:\tlearn: 0.9940618\ttest: 0.8963504\tbest: 0.8979592 (271)\ttotal: 674ms\tremaining: 858ms\n",
      "440:\tlearn: 0.9946588\ttest: 0.8963504\tbest: 0.8979592 (271)\ttotal: 676ms\tremaining: 857ms\n",
      "441:\tlearn: 0.9946588\ttest: 0.8963504\tbest: 0.8979592 (271)\ttotal: 678ms\tremaining: 855ms\n",
      "442:\tlearn: 0.9946588\ttest: 0.8963504\tbest: 0.8979592 (271)\ttotal: 679ms\tremaining: 854ms\n",
      "443:\tlearn: 0.9946588\ttest: 0.8963504\tbest: 0.8979592 (271)\ttotal: 681ms\tremaining: 853ms\n",
      "444:\tlearn: 0.9946588\ttest: 0.8963504\tbest: 0.8979592 (271)\ttotal: 683ms\tremaining: 851ms\n",
      "445:\tlearn: 0.9946588\ttest: 0.8963504\tbest: 0.8979592 (271)\ttotal: 684ms\tremaining: 850ms\n",
      "446:\tlearn: 0.9946588\ttest: 0.8963504\tbest: 0.8979592 (271)\ttotal: 686ms\tremaining: 849ms\n",
      "447:\tlearn: 0.9946588\ttest: 0.8963504\tbest: 0.8979592 (271)\ttotal: 688ms\tremaining: 847ms\n",
      "448:\tlearn: 0.9946588\ttest: 0.8963504\tbest: 0.8979592 (271)\ttotal: 689ms\tremaining: 846ms\n",
      "449:\tlearn: 0.9946588\ttest: 0.8963504\tbest: 0.8979592 (271)\ttotal: 691ms\tremaining: 844ms\n",
      "450:\tlearn: 0.9946588\ttest: 0.8950437\tbest: 0.8979592 (271)\ttotal: 693ms\tremaining: 843ms\n",
      "451:\tlearn: 0.9946588\ttest: 0.8950437\tbest: 0.8979592 (271)\ttotal: 694ms\tremaining: 842ms\n",
      "452:\tlearn: 0.9946588\ttest: 0.8950437\tbest: 0.8979592 (271)\ttotal: 696ms\tremaining: 840ms\n",
      "453:\tlearn: 0.9946588\ttest: 0.8950437\tbest: 0.8979592 (271)\ttotal: 697ms\tremaining: 838ms\n",
      "454:\tlearn: 0.9946588\ttest: 0.8950437\tbest: 0.8979592 (271)\ttotal: 699ms\tremaining: 837ms\n",
      "455:\tlearn: 0.9952550\ttest: 0.8963504\tbest: 0.8979592 (271)\ttotal: 700ms\tremaining: 835ms\n",
      "456:\tlearn: 0.9952550\ttest: 0.8950437\tbest: 0.8979592 (271)\ttotal: 702ms\tremaining: 834ms\n",
      "457:\tlearn: 0.9952550\ttest: 0.8963504\tbest: 0.8979592 (271)\ttotal: 703ms\tremaining: 832ms\n",
      "458:\tlearn: 0.9952550\ttest: 0.8950437\tbest: 0.8979592 (271)\ttotal: 705ms\tremaining: 830ms\n",
      "459:\tlearn: 0.9952550\ttest: 0.8963504\tbest: 0.8979592 (271)\ttotal: 706ms\tremaining: 829ms\n",
      "460:\tlearn: 0.9952550\ttest: 0.8937409\tbest: 0.8979592 (271)\ttotal: 708ms\tremaining: 828ms\n",
      "461:\tlearn: 0.9952550\ttest: 0.8950437\tbest: 0.8979592 (271)\ttotal: 709ms\tremaining: 826ms\n",
      "462:\tlearn: 0.9958506\ttest: 0.8950437\tbest: 0.8979592 (271)\ttotal: 711ms\tremaining: 825ms\n",
      "463:\tlearn: 0.9958506\ttest: 0.8950437\tbest: 0.8979592 (271)\ttotal: 712ms\tremaining: 823ms\n",
      "464:\tlearn: 0.9958506\ttest: 0.8950437\tbest: 0.8979592 (271)\ttotal: 714ms\tremaining: 821ms\n",
      "465:\tlearn: 0.9958506\ttest: 0.8950437\tbest: 0.8979592 (271)\ttotal: 716ms\tremaining: 820ms\n",
      "466:\tlearn: 0.9958506\ttest: 0.8934307\tbest: 0.8979592 (271)\ttotal: 717ms\tremaining: 819ms\n",
      "467:\tlearn: 0.9958506\ttest: 0.8934307\tbest: 0.8979592 (271)\ttotal: 719ms\tremaining: 817ms\n",
      "468:\tlearn: 0.9958506\ttest: 0.8934307\tbest: 0.8979592 (271)\ttotal: 721ms\tremaining: 816ms\n",
      "469:\tlearn: 0.9958506\ttest: 0.8934307\tbest: 0.8979592 (271)\ttotal: 722ms\tremaining: 815ms\n",
      "470:\tlearn: 0.9958506\ttest: 0.8921283\tbest: 0.8979592 (271)\ttotal: 724ms\tremaining: 813ms\n",
      "471:\tlearn: 0.9958506\ttest: 0.8921283\tbest: 0.8979592 (271)\ttotal: 726ms\tremaining: 812ms\n",
      "472:\tlearn: 0.9958506\ttest: 0.8905109\tbest: 0.8979592 (271)\ttotal: 727ms\tremaining: 810ms\n",
      "473:\tlearn: 0.9958506\ttest: 0.8921283\tbest: 0.8979592 (271)\ttotal: 729ms\tremaining: 808ms\n",
      "474:\tlearn: 0.9964455\ttest: 0.8905109\tbest: 0.8979592 (271)\ttotal: 730ms\tremaining: 807ms\n",
      "475:\tlearn: 0.9964455\ttest: 0.8905109\tbest: 0.8979592 (271)\ttotal: 732ms\tremaining: 805ms\n",
      "476:\tlearn: 0.9964455\ttest: 0.8905109\tbest: 0.8979592 (271)\ttotal: 733ms\tremaining: 804ms\n",
      "477:\tlearn: 0.9964455\ttest: 0.8892128\tbest: 0.8979592 (271)\ttotal: 735ms\tremaining: 802ms\n",
      "478:\tlearn: 0.9964455\ttest: 0.8892128\tbest: 0.8979592 (271)\ttotal: 736ms\tremaining: 801ms\n",
      "479:\tlearn: 0.9958506\ttest: 0.8892128\tbest: 0.8979592 (271)\ttotal: 738ms\tremaining: 799ms\n",
      "480:\tlearn: 0.9958506\ttest: 0.8905109\tbest: 0.8979592 (271)\ttotal: 739ms\tremaining: 798ms\n",
      "481:\tlearn: 0.9958506\ttest: 0.8905109\tbest: 0.8979592 (271)\ttotal: 741ms\tremaining: 796ms\n",
      "482:\tlearn: 0.9958506\ttest: 0.8905109\tbest: 0.8979592 (271)\ttotal: 742ms\tremaining: 794ms\n",
      "483:\tlearn: 0.9964455\ttest: 0.8905109\tbest: 0.8979592 (271)\ttotal: 744ms\tremaining: 793ms\n",
      "484:\tlearn: 0.9964455\ttest: 0.8892128\tbest: 0.8979592 (271)\ttotal: 745ms\tremaining: 791ms\n",
      "485:\tlearn: 0.9964455\ttest: 0.8905109\tbest: 0.8979592 (271)\ttotal: 747ms\tremaining: 790ms\n",
      "486:\tlearn: 0.9964455\ttest: 0.8905109\tbest: 0.8979592 (271)\ttotal: 748ms\tremaining: 788ms\n",
      "487:\tlearn: 0.9964455\ttest: 0.8905109\tbest: 0.8979592 (271)\ttotal: 750ms\tremaining: 787ms\n",
      "488:\tlearn: 0.9964455\ttest: 0.8905109\tbest: 0.8979592 (271)\ttotal: 751ms\tremaining: 785ms\n",
      "489:\tlearn: 0.9964455\ttest: 0.8905109\tbest: 0.8979592 (271)\ttotal: 753ms\tremaining: 783ms\n",
      "490:\tlearn: 0.9964455\ttest: 0.8892128\tbest: 0.8979592 (271)\ttotal: 754ms\tremaining: 782ms\n",
      "491:\tlearn: 0.9964455\ttest: 0.8905109\tbest: 0.8979592 (271)\ttotal: 756ms\tremaining: 780ms\n",
      "492:\tlearn: 0.9964455\ttest: 0.8905109\tbest: 0.8979592 (271)\ttotal: 757ms\tremaining: 779ms\n",
      "493:\tlearn: 0.9970397\ttest: 0.8905109\tbest: 0.8979592 (271)\ttotal: 759ms\tremaining: 777ms\n",
      "494:\tlearn: 0.9970397\ttest: 0.8918129\tbest: 0.8979592 (271)\ttotal: 760ms\tremaining: 776ms\n",
      "495:\tlearn: 0.9970397\ttest: 0.8921283\tbest: 0.8979592 (271)\ttotal: 762ms\tremaining: 774ms\n",
      "496:\tlearn: 0.9970397\ttest: 0.8921283\tbest: 0.8979592 (271)\ttotal: 763ms\tremaining: 773ms\n",
      "497:\tlearn: 0.9970397\ttest: 0.8921283\tbest: 0.8979592 (271)\ttotal: 765ms\tremaining: 771ms\n",
      "498:\tlearn: 0.9970397\ttest: 0.8921283\tbest: 0.8979592 (271)\ttotal: 766ms\tremaining: 769ms\n",
      "499:\tlearn: 0.9970397\ttest: 0.8921283\tbest: 0.8979592 (271)\ttotal: 768ms\tremaining: 768ms\n",
      "500:\tlearn: 0.9970397\ttest: 0.8905109\tbest: 0.8979592 (271)\ttotal: 769ms\tremaining: 766ms\n",
      "501:\tlearn: 0.9970397\ttest: 0.8905109\tbest: 0.8979592 (271)\ttotal: 771ms\tremaining: 765ms\n",
      "502:\tlearn: 0.9970397\ttest: 0.8905109\tbest: 0.8979592 (271)\ttotal: 772ms\tremaining: 763ms\n",
      "503:\tlearn: 0.9970397\ttest: 0.8905109\tbest: 0.8979592 (271)\ttotal: 774ms\tremaining: 762ms\n",
      "504:\tlearn: 0.9970397\ttest: 0.8905109\tbest: 0.8979592 (271)\ttotal: 775ms\tremaining: 760ms\n",
      "505:\tlearn: 0.9970397\ttest: 0.8905109\tbest: 0.8979592 (271)\ttotal: 777ms\tremaining: 758ms\n",
      "506:\tlearn: 0.9970397\ttest: 0.8905109\tbest: 0.8979592 (271)\ttotal: 778ms\tremaining: 757ms\n",
      "507:\tlearn: 0.9970397\ttest: 0.8905109\tbest: 0.8979592 (271)\ttotal: 780ms\tremaining: 755ms\n",
      "508:\tlearn: 0.9970397\ttest: 0.8905109\tbest: 0.8979592 (271)\ttotal: 781ms\tremaining: 754ms\n",
      "509:\tlearn: 0.9970397\ttest: 0.8905109\tbest: 0.8979592 (271)\ttotal: 783ms\tremaining: 752ms\n",
      "510:\tlearn: 0.9970397\ttest: 0.8905109\tbest: 0.8979592 (271)\ttotal: 784ms\tremaining: 750ms\n",
      "511:\tlearn: 0.9970397\ttest: 0.8905109\tbest: 0.8979592 (271)\ttotal: 786ms\tremaining: 749ms\n",
      "512:\tlearn: 0.9970397\ttest: 0.8905109\tbest: 0.8979592 (271)\ttotal: 787ms\tremaining: 747ms\n",
      "513:\tlearn: 0.9970397\ttest: 0.8905109\tbest: 0.8979592 (271)\ttotal: 789ms\tremaining: 746ms\n",
      "514:\tlearn: 0.9970397\ttest: 0.8905109\tbest: 0.8979592 (271)\ttotal: 790ms\tremaining: 744ms\n",
      "515:\tlearn: 0.9970397\ttest: 0.8905109\tbest: 0.8979592 (271)\ttotal: 792ms\tremaining: 743ms\n",
      "516:\tlearn: 0.9970397\ttest: 0.8905109\tbest: 0.8979592 (271)\ttotal: 793ms\tremaining: 741ms\n",
      "517:\tlearn: 0.9970397\ttest: 0.8905109\tbest: 0.8979592 (271)\ttotal: 795ms\tremaining: 740ms\n",
      "518:\tlearn: 0.9970397\ttest: 0.8905109\tbest: 0.8979592 (271)\ttotal: 796ms\tremaining: 738ms\n",
      "519:\tlearn: 0.9970397\ttest: 0.8888889\tbest: 0.8979592 (271)\ttotal: 798ms\tremaining: 736ms\n",
      "520:\tlearn: 0.9970397\ttest: 0.8888889\tbest: 0.8979592 (271)\ttotal: 799ms\tremaining: 735ms\n",
      "521:\tlearn: 0.9970397\ttest: 0.8888889\tbest: 0.8979592 (271)\ttotal: 801ms\tremaining: 733ms\n",
      "522:\tlearn: 0.9970397\ttest: 0.8888889\tbest: 0.8979592 (271)\ttotal: 802ms\tremaining: 732ms\n",
      "523:\tlearn: 0.9970397\ttest: 0.8888889\tbest: 0.8979592 (271)\ttotal: 804ms\tremaining: 730ms\n",
      "524:\tlearn: 0.9970397\ttest: 0.8888889\tbest: 0.8979592 (271)\ttotal: 805ms\tremaining: 729ms\n",
      "525:\tlearn: 0.9970397\ttest: 0.8888889\tbest: 0.8979592 (271)\ttotal: 807ms\tremaining: 727ms\n",
      "526:\tlearn: 0.9970397\ttest: 0.8888889\tbest: 0.8979592 (271)\ttotal: 808ms\tremaining: 725ms\n",
      "527:\tlearn: 0.9970397\ttest: 0.8905109\tbest: 0.8979592 (271)\ttotal: 810ms\tremaining: 724ms\n",
      "528:\tlearn: 0.9970397\ttest: 0.8888889\tbest: 0.8979592 (271)\ttotal: 811ms\tremaining: 722ms\n",
      "529:\tlearn: 0.9970397\ttest: 0.8888889\tbest: 0.8979592 (271)\ttotal: 813ms\tremaining: 721ms\n",
      "530:\tlearn: 0.9976331\ttest: 0.8888889\tbest: 0.8979592 (271)\ttotal: 814ms\tremaining: 719ms\n",
      "531:\tlearn: 0.9976331\ttest: 0.8888889\tbest: 0.8979592 (271)\ttotal: 816ms\tremaining: 718ms\n",
      "532:\tlearn: 0.9970397\ttest: 0.8888889\tbest: 0.8979592 (271)\ttotal: 818ms\tremaining: 716ms\n",
      "533:\tlearn: 0.9976331\ttest: 0.8905109\tbest: 0.8979592 (271)\ttotal: 819ms\tremaining: 715ms\n",
      "534:\tlearn: 0.9982259\ttest: 0.8905109\tbest: 0.8979592 (271)\ttotal: 821ms\tremaining: 713ms\n",
      "535:\tlearn: 0.9976331\ttest: 0.8905109\tbest: 0.8979592 (271)\ttotal: 822ms\tremaining: 712ms\n",
      "536:\tlearn: 0.9976331\ttest: 0.8905109\tbest: 0.8979592 (271)\ttotal: 824ms\tremaining: 710ms\n",
      "537:\tlearn: 0.9976331\ttest: 0.8905109\tbest: 0.8979592 (271)\ttotal: 825ms\tremaining: 709ms\n",
      "538:\tlearn: 0.9982259\ttest: 0.8905109\tbest: 0.8979592 (271)\ttotal: 827ms\tremaining: 707ms\n",
      "539:\tlearn: 0.9982259\ttest: 0.8905109\tbest: 0.8979592 (271)\ttotal: 828ms\tremaining: 706ms\n",
      "540:\tlearn: 0.9982259\ttest: 0.8905109\tbest: 0.8979592 (271)\ttotal: 830ms\tremaining: 704ms\n",
      "541:\tlearn: 0.9976331\ttest: 0.8905109\tbest: 0.8979592 (271)\ttotal: 831ms\tremaining: 702ms\n",
      "542:\tlearn: 0.9976331\ttest: 0.8905109\tbest: 0.8979592 (271)\ttotal: 833ms\tremaining: 701ms\n",
      "543:\tlearn: 0.9976331\ttest: 0.8905109\tbest: 0.8979592 (271)\ttotal: 834ms\tremaining: 699ms\n",
      "544:\tlearn: 0.9976331\ttest: 0.8905109\tbest: 0.8979592 (271)\ttotal: 836ms\tremaining: 698ms\n",
      "545:\tlearn: 0.9982259\ttest: 0.8905109\tbest: 0.8979592 (271)\ttotal: 838ms\tremaining: 697ms\n",
      "546:\tlearn: 0.9982259\ttest: 0.8905109\tbest: 0.8979592 (271)\ttotal: 839ms\tremaining: 695ms\n",
      "547:\tlearn: 0.9982259\ttest: 0.8905109\tbest: 0.8979592 (271)\ttotal: 841ms\tremaining: 694ms\n",
      "548:\tlearn: 0.9982259\ttest: 0.8905109\tbest: 0.8979592 (271)\ttotal: 842ms\tremaining: 692ms\n",
      "549:\tlearn: 0.9982259\ttest: 0.8905109\tbest: 0.8979592 (271)\ttotal: 844ms\tremaining: 690ms\n",
      "550:\tlearn: 0.9982259\ttest: 0.8905109\tbest: 0.8979592 (271)\ttotal: 845ms\tremaining: 689ms\n",
      "551:\tlearn: 0.9976331\ttest: 0.8905109\tbest: 0.8979592 (271)\ttotal: 847ms\tremaining: 687ms\n",
      "552:\tlearn: 0.9982259\ttest: 0.8888889\tbest: 0.8979592 (271)\ttotal: 848ms\tremaining: 686ms\n",
      "553:\tlearn: 0.9982259\ttest: 0.8888889\tbest: 0.8979592 (271)\ttotal: 850ms\tremaining: 684ms\n",
      "554:\tlearn: 0.9988180\ttest: 0.8888889\tbest: 0.8979592 (271)\ttotal: 851ms\tremaining: 683ms\n",
      "555:\tlearn: 0.9988180\ttest: 0.8905109\tbest: 0.8979592 (271)\ttotal: 853ms\tremaining: 681ms\n",
      "556:\tlearn: 0.9988180\ttest: 0.8888889\tbest: 0.8979592 (271)\ttotal: 854ms\tremaining: 679ms\n",
      "557:\tlearn: 0.9988180\ttest: 0.8888889\tbest: 0.8979592 (271)\ttotal: 856ms\tremaining: 678ms\n",
      "558:\tlearn: 0.9988180\ttest: 0.8888889\tbest: 0.8979592 (271)\ttotal: 857ms\tremaining: 676ms\n",
      "559:\tlearn: 0.9988180\ttest: 0.8905109\tbest: 0.8979592 (271)\ttotal: 859ms\tremaining: 675ms\n",
      "560:\tlearn: 0.9988180\ttest: 0.8905109\tbest: 0.8979592 (271)\ttotal: 860ms\tremaining: 673ms\n",
      "561:\tlearn: 0.9988180\ttest: 0.8905109\tbest: 0.8979592 (271)\ttotal: 862ms\tremaining: 672ms\n",
      "562:\tlearn: 0.9988180\ttest: 0.8905109\tbest: 0.8979592 (271)\ttotal: 863ms\tremaining: 670ms\n",
      "563:\tlearn: 0.9988180\ttest: 0.8921283\tbest: 0.8979592 (271)\ttotal: 865ms\tremaining: 669ms\n",
      "564:\tlearn: 0.9988180\ttest: 0.8921283\tbest: 0.8979592 (271)\ttotal: 867ms\tremaining: 667ms\n",
      "565:\tlearn: 0.9988180\ttest: 0.8905109\tbest: 0.8979592 (271)\ttotal: 868ms\tremaining: 666ms\n",
      "566:\tlearn: 0.9988180\ttest: 0.8905109\tbest: 0.8979592 (271)\ttotal: 870ms\tremaining: 664ms\n",
      "567:\tlearn: 0.9988180\ttest: 0.8905109\tbest: 0.8979592 (271)\ttotal: 871ms\tremaining: 663ms\n",
      "568:\tlearn: 0.9994093\ttest: 0.8905109\tbest: 0.8979592 (271)\ttotal: 873ms\tremaining: 661ms\n",
      "569:\tlearn: 0.9994093\ttest: 0.8905109\tbest: 0.8979592 (271)\ttotal: 874ms\tremaining: 660ms\n",
      "570:\tlearn: 1.0000000\ttest: 0.8905109\tbest: 0.8979592 (271)\ttotal: 876ms\tremaining: 658ms\n",
      "571:\tlearn: 1.0000000\ttest: 0.8905109\tbest: 0.8979592 (271)\ttotal: 877ms\tremaining: 656ms\n",
      "572:\tlearn: 1.0000000\ttest: 0.8905109\tbest: 0.8979592 (271)\ttotal: 879ms\tremaining: 655ms\n",
      "573:\tlearn: 1.0000000\ttest: 0.8905109\tbest: 0.8979592 (271)\ttotal: 881ms\tremaining: 654ms\n",
      "574:\tlearn: 1.0000000\ttest: 0.8905109\tbest: 0.8979592 (271)\ttotal: 882ms\tremaining: 652ms\n",
      "575:\tlearn: 0.9994093\ttest: 0.8905109\tbest: 0.8979592 (271)\ttotal: 884ms\tremaining: 651ms\n",
      "576:\tlearn: 0.9994093\ttest: 0.8905109\tbest: 0.8979592 (271)\ttotal: 886ms\tremaining: 649ms\n",
      "577:\tlearn: 0.9994093\ttest: 0.8905109\tbest: 0.8979592 (271)\ttotal: 887ms\tremaining: 648ms\n",
      "578:\tlearn: 0.9994093\ttest: 0.8905109\tbest: 0.8979592 (271)\ttotal: 889ms\tremaining: 646ms\n",
      "579:\tlearn: 0.9994093\ttest: 0.8905109\tbest: 0.8979592 (271)\ttotal: 890ms\tremaining: 645ms\n",
      "580:\tlearn: 0.9994093\ttest: 0.8905109\tbest: 0.8979592 (271)\ttotal: 892ms\tremaining: 643ms\n",
      "581:\tlearn: 0.9994093\ttest: 0.8905109\tbest: 0.8979592 (271)\ttotal: 893ms\tremaining: 642ms\n",
      "582:\tlearn: 0.9994093\ttest: 0.8905109\tbest: 0.8979592 (271)\ttotal: 895ms\tremaining: 640ms\n",
      "583:\tlearn: 0.9994093\ttest: 0.8905109\tbest: 0.8979592 (271)\ttotal: 896ms\tremaining: 638ms\n",
      "584:\tlearn: 0.9994093\ttest: 0.8905109\tbest: 0.8979592 (271)\ttotal: 898ms\tremaining: 637ms\n",
      "585:\tlearn: 0.9994093\ttest: 0.8905109\tbest: 0.8979592 (271)\ttotal: 899ms\tremaining: 635ms\n",
      "586:\tlearn: 0.9994093\ttest: 0.8905109\tbest: 0.8979592 (271)\ttotal: 901ms\tremaining: 634ms\n",
      "587:\tlearn: 0.9994093\ttest: 0.8905109\tbest: 0.8979592 (271)\ttotal: 902ms\tremaining: 632ms\n",
      "588:\tlearn: 0.9994093\ttest: 0.8905109\tbest: 0.8979592 (271)\ttotal: 904ms\tremaining: 631ms\n",
      "589:\tlearn: 0.9994093\ttest: 0.8905109\tbest: 0.8979592 (271)\ttotal: 906ms\tremaining: 629ms\n",
      "590:\tlearn: 0.9994093\ttest: 0.8905109\tbest: 0.8979592 (271)\ttotal: 907ms\tremaining: 628ms\n",
      "591:\tlearn: 0.9994093\ttest: 0.8905109\tbest: 0.8979592 (271)\ttotal: 908ms\tremaining: 626ms\n",
      "592:\tlearn: 0.9994093\ttest: 0.8905109\tbest: 0.8979592 (271)\ttotal: 910ms\tremaining: 625ms\n",
      "593:\tlearn: 0.9994093\ttest: 0.8905109\tbest: 0.8979592 (271)\ttotal: 912ms\tremaining: 623ms\n",
      "594:\tlearn: 0.9994093\ttest: 0.8905109\tbest: 0.8979592 (271)\ttotal: 914ms\tremaining: 622ms\n",
      "595:\tlearn: 0.9994093\ttest: 0.8905109\tbest: 0.8979592 (271)\ttotal: 915ms\tremaining: 620ms\n",
      "596:\tlearn: 0.9994093\ttest: 0.8905109\tbest: 0.8979592 (271)\ttotal: 916ms\tremaining: 619ms\n",
      "597:\tlearn: 0.9994093\ttest: 0.8905109\tbest: 0.8979592 (271)\ttotal: 918ms\tremaining: 617ms\n",
      "598:\tlearn: 1.0000000\ttest: 0.8905109\tbest: 0.8979592 (271)\ttotal: 920ms\tremaining: 616ms\n",
      "599:\tlearn: 1.0000000\ttest: 0.8905109\tbest: 0.8979592 (271)\ttotal: 921ms\tremaining: 614ms\n",
      "600:\tlearn: 1.0000000\ttest: 0.8905109\tbest: 0.8979592 (271)\ttotal: 923ms\tremaining: 613ms\n",
      "601:\tlearn: 1.0000000\ttest: 0.8905109\tbest: 0.8979592 (271)\ttotal: 924ms\tremaining: 611ms\n",
      "602:\tlearn: 1.0000000\ttest: 0.8905109\tbest: 0.8979592 (271)\ttotal: 926ms\tremaining: 609ms\n",
      "603:\tlearn: 1.0000000\ttest: 0.8905109\tbest: 0.8979592 (271)\ttotal: 927ms\tremaining: 608ms\n",
      "604:\tlearn: 1.0000000\ttest: 0.8905109\tbest: 0.8979592 (271)\ttotal: 929ms\tremaining: 606ms\n",
      "605:\tlearn: 1.0000000\ttest: 0.8905109\tbest: 0.8979592 (271)\ttotal: 930ms\tremaining: 605ms\n",
      "606:\tlearn: 1.0000000\ttest: 0.8905109\tbest: 0.8979592 (271)\ttotal: 931ms\tremaining: 603ms\n",
      "607:\tlearn: 1.0000000\ttest: 0.8905109\tbest: 0.8979592 (271)\ttotal: 933ms\tremaining: 601ms\n",
      "608:\tlearn: 1.0000000\ttest: 0.8905109\tbest: 0.8979592 (271)\ttotal: 934ms\tremaining: 600ms\n",
      "609:\tlearn: 1.0000000\ttest: 0.8905109\tbest: 0.8979592 (271)\ttotal: 936ms\tremaining: 598ms\n",
      "610:\tlearn: 1.0000000\ttest: 0.8905109\tbest: 0.8979592 (271)\ttotal: 937ms\tremaining: 597ms\n",
      "611:\tlearn: 1.0000000\ttest: 0.8905109\tbest: 0.8979592 (271)\ttotal: 939ms\tremaining: 595ms\n",
      "612:\tlearn: 1.0000000\ttest: 0.8905109\tbest: 0.8979592 (271)\ttotal: 940ms\tremaining: 594ms\n",
      "613:\tlearn: 1.0000000\ttest: 0.8905109\tbest: 0.8979592 (271)\ttotal: 942ms\tremaining: 592ms\n",
      "614:\tlearn: 1.0000000\ttest: 0.8905109\tbest: 0.8979592 (271)\ttotal: 944ms\tremaining: 591ms\n",
      "615:\tlearn: 1.0000000\ttest: 0.8905109\tbest: 0.8979592 (271)\ttotal: 945ms\tremaining: 589ms\n",
      "616:\tlearn: 1.0000000\ttest: 0.8905109\tbest: 0.8979592 (271)\ttotal: 946ms\tremaining: 588ms\n",
      "617:\tlearn: 1.0000000\ttest: 0.8905109\tbest: 0.8979592 (271)\ttotal: 948ms\tremaining: 586ms\n",
      "618:\tlearn: 1.0000000\ttest: 0.8905109\tbest: 0.8979592 (271)\ttotal: 950ms\tremaining: 585ms\n",
      "619:\tlearn: 1.0000000\ttest: 0.8905109\tbest: 0.8979592 (271)\ttotal: 951ms\tremaining: 583ms\n",
      "620:\tlearn: 1.0000000\ttest: 0.8905109\tbest: 0.8979592 (271)\ttotal: 953ms\tremaining: 581ms\n",
      "621:\tlearn: 1.0000000\ttest: 0.8905109\tbest: 0.8979592 (271)\ttotal: 954ms\tremaining: 580ms\n",
      "622:\tlearn: 1.0000000\ttest: 0.8905109\tbest: 0.8979592 (271)\ttotal: 956ms\tremaining: 578ms\n",
      "623:\tlearn: 1.0000000\ttest: 0.8905109\tbest: 0.8979592 (271)\ttotal: 957ms\tremaining: 577ms\n",
      "624:\tlearn: 1.0000000\ttest: 0.8905109\tbest: 0.8979592 (271)\ttotal: 959ms\tremaining: 575ms\n",
      "625:\tlearn: 1.0000000\ttest: 0.8905109\tbest: 0.8979592 (271)\ttotal: 960ms\tremaining: 574ms\n",
      "626:\tlearn: 1.0000000\ttest: 0.8905109\tbest: 0.8979592 (271)\ttotal: 962ms\tremaining: 572ms\n",
      "627:\tlearn: 1.0000000\ttest: 0.8905109\tbest: 0.8979592 (271)\ttotal: 963ms\tremaining: 571ms\n",
      "628:\tlearn: 1.0000000\ttest: 0.8905109\tbest: 0.8979592 (271)\ttotal: 965ms\tremaining: 569ms\n",
      "629:\tlearn: 1.0000000\ttest: 0.8905109\tbest: 0.8979592 (271)\ttotal: 967ms\tremaining: 568ms\n",
      "630:\tlearn: 1.0000000\ttest: 0.8905109\tbest: 0.8979592 (271)\ttotal: 969ms\tremaining: 566ms\n",
      "631:\tlearn: 1.0000000\ttest: 0.8905109\tbest: 0.8979592 (271)\ttotal: 970ms\tremaining: 565ms\n",
      "632:\tlearn: 1.0000000\ttest: 0.8905109\tbest: 0.8979592 (271)\ttotal: 971ms\tremaining: 563ms\n",
      "633:\tlearn: 1.0000000\ttest: 0.8905109\tbest: 0.8979592 (271)\ttotal: 973ms\tremaining: 562ms\n",
      "634:\tlearn: 1.0000000\ttest: 0.8921283\tbest: 0.8979592 (271)\ttotal: 975ms\tremaining: 560ms\n",
      "635:\tlearn: 1.0000000\ttest: 0.8905109\tbest: 0.8979592 (271)\ttotal: 976ms\tremaining: 559ms\n",
      "636:\tlearn: 1.0000000\ttest: 0.8921283\tbest: 0.8979592 (271)\ttotal: 978ms\tremaining: 557ms\n",
      "637:\tlearn: 1.0000000\ttest: 0.8921283\tbest: 0.8979592 (271)\ttotal: 979ms\tremaining: 556ms\n",
      "638:\tlearn: 1.0000000\ttest: 0.8921283\tbest: 0.8979592 (271)\ttotal: 981ms\tremaining: 554ms\n",
      "639:\tlearn: 1.0000000\ttest: 0.8905109\tbest: 0.8979592 (271)\ttotal: 983ms\tremaining: 553ms\n",
      "640:\tlearn: 1.0000000\ttest: 0.8921283\tbest: 0.8979592 (271)\ttotal: 984ms\tremaining: 551ms\n",
      "641:\tlearn: 1.0000000\ttest: 0.8905109\tbest: 0.8979592 (271)\ttotal: 986ms\tremaining: 550ms\n",
      "642:\tlearn: 1.0000000\ttest: 0.8905109\tbest: 0.8979592 (271)\ttotal: 987ms\tremaining: 548ms\n",
      "643:\tlearn: 1.0000000\ttest: 0.8905109\tbest: 0.8979592 (271)\ttotal: 989ms\tremaining: 547ms\n",
      "644:\tlearn: 1.0000000\ttest: 0.8905109\tbest: 0.8979592 (271)\ttotal: 990ms\tremaining: 545ms\n",
      "645:\tlearn: 1.0000000\ttest: 0.8905109\tbest: 0.8979592 (271)\ttotal: 992ms\tremaining: 544ms\n",
      "646:\tlearn: 1.0000000\ttest: 0.8905109\tbest: 0.8979592 (271)\ttotal: 993ms\tremaining: 542ms\n",
      "647:\tlearn: 1.0000000\ttest: 0.8905109\tbest: 0.8979592 (271)\ttotal: 995ms\tremaining: 540ms\n",
      "648:\tlearn: 1.0000000\ttest: 0.8905109\tbest: 0.8979592 (271)\ttotal: 997ms\tremaining: 539ms\n",
      "649:\tlearn: 1.0000000\ttest: 0.8905109\tbest: 0.8979592 (271)\ttotal: 999ms\tremaining: 538ms\n",
      "650:\tlearn: 1.0000000\ttest: 0.8905109\tbest: 0.8979592 (271)\ttotal: 1s\tremaining: 536ms\n",
      "651:\tlearn: 1.0000000\ttest: 0.8905109\tbest: 0.8979592 (271)\ttotal: 1s\tremaining: 535ms\n",
      "652:\tlearn: 1.0000000\ttest: 0.8905109\tbest: 0.8979592 (271)\ttotal: 1s\tremaining: 533ms\n",
      "653:\tlearn: 1.0000000\ttest: 0.8921283\tbest: 0.8979592 (271)\ttotal: 1s\tremaining: 532ms\n",
      "654:\tlearn: 1.0000000\ttest: 0.8905109\tbest: 0.8979592 (271)\ttotal: 1.01s\tremaining: 530ms\n",
      "655:\tlearn: 1.0000000\ttest: 0.8905109\tbest: 0.8979592 (271)\ttotal: 1.01s\tremaining: 529ms\n",
      "656:\tlearn: 1.0000000\ttest: 0.8921283\tbest: 0.8979592 (271)\ttotal: 1.01s\tremaining: 527ms\n",
      "657:\tlearn: 1.0000000\ttest: 0.8921283\tbest: 0.8979592 (271)\ttotal: 1.01s\tremaining: 526ms\n",
      "658:\tlearn: 1.0000000\ttest: 0.8921283\tbest: 0.8979592 (271)\ttotal: 1.01s\tremaining: 524ms\n",
      "659:\tlearn: 1.0000000\ttest: 0.8921283\tbest: 0.8979592 (271)\ttotal: 1.01s\tremaining: 523ms\n",
      "660:\tlearn: 1.0000000\ttest: 0.8921283\tbest: 0.8979592 (271)\ttotal: 1.02s\tremaining: 521ms\n",
      "661:\tlearn: 1.0000000\ttest: 0.8921283\tbest: 0.8979592 (271)\ttotal: 1.02s\tremaining: 520ms\n",
      "662:\tlearn: 1.0000000\ttest: 0.8921283\tbest: 0.8979592 (271)\ttotal: 1.02s\tremaining: 518ms\n",
      "663:\tlearn: 1.0000000\ttest: 0.8921283\tbest: 0.8979592 (271)\ttotal: 1.02s\tremaining: 517ms\n",
      "664:\tlearn: 1.0000000\ttest: 0.8921283\tbest: 0.8979592 (271)\ttotal: 1.02s\tremaining: 515ms\n",
      "665:\tlearn: 1.0000000\ttest: 0.8921283\tbest: 0.8979592 (271)\ttotal: 1.02s\tremaining: 513ms\n",
      "666:\tlearn: 1.0000000\ttest: 0.8921283\tbest: 0.8979592 (271)\ttotal: 1.02s\tremaining: 512ms\n",
      "667:\tlearn: 1.0000000\ttest: 0.8921283\tbest: 0.8979592 (271)\ttotal: 1.03s\tremaining: 511ms\n",
      "668:\tlearn: 1.0000000\ttest: 0.8921283\tbest: 0.8979592 (271)\ttotal: 1.03s\tremaining: 509ms\n",
      "669:\tlearn: 1.0000000\ttest: 0.8921283\tbest: 0.8979592 (271)\ttotal: 1.03s\tremaining: 507ms\n",
      "670:\tlearn: 1.0000000\ttest: 0.8921283\tbest: 0.8979592 (271)\ttotal: 1.03s\tremaining: 506ms\n",
      "671:\tlearn: 1.0000000\ttest: 0.8921283\tbest: 0.8979592 (271)\ttotal: 1.03s\tremaining: 504ms\n",
      "672:\tlearn: 1.0000000\ttest: 0.8921283\tbest: 0.8979592 (271)\ttotal: 1.03s\tremaining: 503ms\n",
      "673:\tlearn: 1.0000000\ttest: 0.8921283\tbest: 0.8979592 (271)\ttotal: 1.04s\tremaining: 501ms\n",
      "674:\tlearn: 1.0000000\ttest: 0.8921283\tbest: 0.8979592 (271)\ttotal: 1.04s\tremaining: 500ms\n",
      "675:\tlearn: 1.0000000\ttest: 0.8921283\tbest: 0.8979592 (271)\ttotal: 1.04s\tremaining: 498ms\n",
      "676:\tlearn: 1.0000000\ttest: 0.8921283\tbest: 0.8979592 (271)\ttotal: 1.04s\tremaining: 497ms\n",
      "677:\tlearn: 1.0000000\ttest: 0.8921283\tbest: 0.8979592 (271)\ttotal: 1.04s\tremaining: 495ms\n",
      "678:\tlearn: 1.0000000\ttest: 0.8921283\tbest: 0.8979592 (271)\ttotal: 1.04s\tremaining: 494ms\n",
      "679:\tlearn: 1.0000000\ttest: 0.8921283\tbest: 0.8979592 (271)\ttotal: 1.04s\tremaining: 492ms\n",
      "680:\tlearn: 1.0000000\ttest: 0.8921283\tbest: 0.8979592 (271)\ttotal: 1.05s\tremaining: 491ms\n",
      "681:\tlearn: 1.0000000\ttest: 0.8921283\tbest: 0.8979592 (271)\ttotal: 1.05s\tremaining: 489ms\n",
      "682:\tlearn: 1.0000000\ttest: 0.8921283\tbest: 0.8979592 (271)\ttotal: 1.05s\tremaining: 487ms\n",
      "683:\tlearn: 1.0000000\ttest: 0.8921283\tbest: 0.8979592 (271)\ttotal: 1.05s\tremaining: 486ms\n",
      "684:\tlearn: 1.0000000\ttest: 0.8921283\tbest: 0.8979592 (271)\ttotal: 1.05s\tremaining: 485ms\n",
      "685:\tlearn: 1.0000000\ttest: 0.8905109\tbest: 0.8979592 (271)\ttotal: 1.05s\tremaining: 483ms\n",
      "686:\tlearn: 1.0000000\ttest: 0.8905109\tbest: 0.8979592 (271)\ttotal: 1.06s\tremaining: 482ms\n",
      "687:\tlearn: 1.0000000\ttest: 0.8905109\tbest: 0.8979592 (271)\ttotal: 1.06s\tremaining: 480ms\n",
      "688:\tlearn: 1.0000000\ttest: 0.8905109\tbest: 0.8979592 (271)\ttotal: 1.06s\tremaining: 478ms\n",
      "689:\tlearn: 1.0000000\ttest: 0.8905109\tbest: 0.8979592 (271)\ttotal: 1.06s\tremaining: 477ms\n",
      "690:\tlearn: 1.0000000\ttest: 0.8905109\tbest: 0.8979592 (271)\ttotal: 1.06s\tremaining: 475ms\n",
      "691:\tlearn: 1.0000000\ttest: 0.8905109\tbest: 0.8979592 (271)\ttotal: 1.06s\tremaining: 474ms\n",
      "692:\tlearn: 1.0000000\ttest: 0.8905109\tbest: 0.8979592 (271)\ttotal: 1.07s\tremaining: 472ms\n",
      "693:\tlearn: 1.0000000\ttest: 0.8905109\tbest: 0.8979592 (271)\ttotal: 1.07s\tremaining: 471ms\n",
      "694:\tlearn: 1.0000000\ttest: 0.8905109\tbest: 0.8979592 (271)\ttotal: 1.07s\tremaining: 469ms\n",
      "695:\tlearn: 1.0000000\ttest: 0.8921283\tbest: 0.8979592 (271)\ttotal: 1.07s\tremaining: 468ms\n",
      "696:\tlearn: 1.0000000\ttest: 0.8921283\tbest: 0.8979592 (271)\ttotal: 1.07s\tremaining: 466ms\n",
      "697:\tlearn: 1.0000000\ttest: 0.8905109\tbest: 0.8979592 (271)\ttotal: 1.07s\tremaining: 465ms\n",
      "698:\tlearn: 1.0000000\ttest: 0.8905109\tbest: 0.8979592 (271)\ttotal: 1.07s\tremaining: 463ms\n",
      "699:\tlearn: 1.0000000\ttest: 0.8905109\tbest: 0.8979592 (271)\ttotal: 1.08s\tremaining: 461ms\n",
      "700:\tlearn: 1.0000000\ttest: 0.8905109\tbest: 0.8979592 (271)\ttotal: 1.08s\tremaining: 460ms\n",
      "701:\tlearn: 1.0000000\ttest: 0.8888889\tbest: 0.8979592 (271)\ttotal: 1.08s\tremaining: 458ms\n",
      "702:\tlearn: 1.0000000\ttest: 0.8888889\tbest: 0.8979592 (271)\ttotal: 1.08s\tremaining: 457ms\n",
      "703:\tlearn: 1.0000000\ttest: 0.8905109\tbest: 0.8979592 (271)\ttotal: 1.08s\tremaining: 455ms\n",
      "704:\tlearn: 1.0000000\ttest: 0.8905109\tbest: 0.8979592 (271)\ttotal: 1.08s\tremaining: 454ms\n",
      "705:\tlearn: 1.0000000\ttest: 0.8905109\tbest: 0.8979592 (271)\ttotal: 1.08s\tremaining: 452ms\n",
      "706:\tlearn: 1.0000000\ttest: 0.8905109\tbest: 0.8979592 (271)\ttotal: 1.09s\tremaining: 451ms\n",
      "707:\tlearn: 1.0000000\ttest: 0.8905109\tbest: 0.8979592 (271)\ttotal: 1.09s\tremaining: 449ms\n",
      "708:\tlearn: 1.0000000\ttest: 0.8905109\tbest: 0.8979592 (271)\ttotal: 1.09s\tremaining: 447ms\n",
      "709:\tlearn: 1.0000000\ttest: 0.8905109\tbest: 0.8979592 (271)\ttotal: 1.09s\tremaining: 446ms\n",
      "710:\tlearn: 1.0000000\ttest: 0.8905109\tbest: 0.8979592 (271)\ttotal: 1.09s\tremaining: 444ms\n",
      "711:\tlearn: 1.0000000\ttest: 0.8905109\tbest: 0.8979592 (271)\ttotal: 1.09s\tremaining: 443ms\n",
      "712:\tlearn: 1.0000000\ttest: 0.8905109\tbest: 0.8979592 (271)\ttotal: 1.1s\tremaining: 441ms\n",
      "713:\tlearn: 1.0000000\ttest: 0.8905109\tbest: 0.8979592 (271)\ttotal: 1.1s\tremaining: 440ms\n",
      "714:\tlearn: 1.0000000\ttest: 0.8905109\tbest: 0.8979592 (271)\ttotal: 1.1s\tremaining: 438ms\n",
      "715:\tlearn: 1.0000000\ttest: 0.8905109\tbest: 0.8979592 (271)\ttotal: 1.1s\tremaining: 437ms\n",
      "716:\tlearn: 1.0000000\ttest: 0.8905109\tbest: 0.8979592 (271)\ttotal: 1.1s\tremaining: 435ms\n",
      "717:\tlearn: 1.0000000\ttest: 0.8905109\tbest: 0.8979592 (271)\ttotal: 1.1s\tremaining: 434ms\n",
      "718:\tlearn: 1.0000000\ttest: 0.8905109\tbest: 0.8979592 (271)\ttotal: 1.1s\tremaining: 432ms\n",
      "719:\tlearn: 1.0000000\ttest: 0.8905109\tbest: 0.8979592 (271)\ttotal: 1.11s\tremaining: 430ms\n",
      "720:\tlearn: 1.0000000\ttest: 0.8905109\tbest: 0.8979592 (271)\ttotal: 1.11s\tremaining: 429ms\n",
      "721:\tlearn: 1.0000000\ttest: 0.8905109\tbest: 0.8979592 (271)\ttotal: 1.11s\tremaining: 427ms\n",
      "722:\tlearn: 1.0000000\ttest: 0.8905109\tbest: 0.8979592 (271)\ttotal: 1.11s\tremaining: 426ms\n",
      "723:\tlearn: 1.0000000\ttest: 0.8905109\tbest: 0.8979592 (271)\ttotal: 1.11s\tremaining: 424ms\n",
      "724:\tlearn: 1.0000000\ttest: 0.8905109\tbest: 0.8979592 (271)\ttotal: 1.11s\tremaining: 423ms\n",
      "725:\tlearn: 1.0000000\ttest: 0.8905109\tbest: 0.8979592 (271)\ttotal: 1.12s\tremaining: 421ms\n",
      "726:\tlearn: 1.0000000\ttest: 0.8905109\tbest: 0.8979592 (271)\ttotal: 1.12s\tremaining: 420ms\n",
      "727:\tlearn: 1.0000000\ttest: 0.8905109\tbest: 0.8979592 (271)\ttotal: 1.12s\tremaining: 418ms\n",
      "728:\tlearn: 1.0000000\ttest: 0.8905109\tbest: 0.8979592 (271)\ttotal: 1.12s\tremaining: 416ms\n",
      "729:\tlearn: 1.0000000\ttest: 0.8905109\tbest: 0.8979592 (271)\ttotal: 1.12s\tremaining: 415ms\n",
      "730:\tlearn: 1.0000000\ttest: 0.8905109\tbest: 0.8979592 (271)\ttotal: 1.12s\tremaining: 413ms\n",
      "731:\tlearn: 1.0000000\ttest: 0.8905109\tbest: 0.8979592 (271)\ttotal: 1.12s\tremaining: 412ms\n",
      "732:\tlearn: 1.0000000\ttest: 0.8905109\tbest: 0.8979592 (271)\ttotal: 1.13s\tremaining: 410ms\n",
      "733:\tlearn: 1.0000000\ttest: 0.8905109\tbest: 0.8979592 (271)\ttotal: 1.13s\tremaining: 409ms\n",
      "734:\tlearn: 1.0000000\ttest: 0.8905109\tbest: 0.8979592 (271)\ttotal: 1.13s\tremaining: 407ms\n",
      "735:\tlearn: 1.0000000\ttest: 0.8892128\tbest: 0.8979592 (271)\ttotal: 1.13s\tremaining: 406ms\n",
      "736:\tlearn: 1.0000000\ttest: 0.8905109\tbest: 0.8979592 (271)\ttotal: 1.13s\tremaining: 404ms\n",
      "737:\tlearn: 1.0000000\ttest: 0.8905109\tbest: 0.8979592 (271)\ttotal: 1.13s\tremaining: 403ms\n",
      "738:\tlearn: 1.0000000\ttest: 0.8905109\tbest: 0.8979592 (271)\ttotal: 1.14s\tremaining: 401ms\n",
      "739:\tlearn: 1.0000000\ttest: 0.8905109\tbest: 0.8979592 (271)\ttotal: 1.14s\tremaining: 400ms\n",
      "740:\tlearn: 1.0000000\ttest: 0.8905109\tbest: 0.8979592 (271)\ttotal: 1.14s\tremaining: 398ms\n",
      "741:\tlearn: 1.0000000\ttest: 0.8892128\tbest: 0.8979592 (271)\ttotal: 1.14s\tremaining: 397ms\n",
      "742:\tlearn: 1.0000000\ttest: 0.8905109\tbest: 0.8979592 (271)\ttotal: 1.14s\tremaining: 395ms\n",
      "743:\tlearn: 1.0000000\ttest: 0.8892128\tbest: 0.8979592 (271)\ttotal: 1.14s\tremaining: 394ms\n",
      "744:\tlearn: 1.0000000\ttest: 0.8892128\tbest: 0.8979592 (271)\ttotal: 1.15s\tremaining: 392ms\n",
      "745:\tlearn: 1.0000000\ttest: 0.8905109\tbest: 0.8979592 (271)\ttotal: 1.15s\tremaining: 390ms\n",
      "746:\tlearn: 1.0000000\ttest: 0.8892128\tbest: 0.8979592 (271)\ttotal: 1.15s\tremaining: 389ms\n",
      "747:\tlearn: 1.0000000\ttest: 0.8892128\tbest: 0.8979592 (271)\ttotal: 1.15s\tremaining: 387ms\n",
      "748:\tlearn: 1.0000000\ttest: 0.8892128\tbest: 0.8979592 (271)\ttotal: 1.15s\tremaining: 386ms\n",
      "749:\tlearn: 1.0000000\ttest: 0.8892128\tbest: 0.8979592 (271)\ttotal: 1.15s\tremaining: 384ms\n",
      "750:\tlearn: 1.0000000\ttest: 0.8892128\tbest: 0.8979592 (271)\ttotal: 1.15s\tremaining: 383ms\n",
      "751:\tlearn: 1.0000000\ttest: 0.8892128\tbest: 0.8979592 (271)\ttotal: 1.16s\tremaining: 381ms\n",
      "752:\tlearn: 1.0000000\ttest: 0.8892128\tbest: 0.8979592 (271)\ttotal: 1.16s\tremaining: 380ms\n",
      "753:\tlearn: 1.0000000\ttest: 0.8892128\tbest: 0.8979592 (271)\ttotal: 1.16s\tremaining: 378ms\n",
      "754:\tlearn: 1.0000000\ttest: 0.8892128\tbest: 0.8979592 (271)\ttotal: 1.16s\tremaining: 377ms\n",
      "755:\tlearn: 1.0000000\ttest: 0.8892128\tbest: 0.8979592 (271)\ttotal: 1.16s\tremaining: 375ms\n",
      "756:\tlearn: 1.0000000\ttest: 0.8905109\tbest: 0.8979592 (271)\ttotal: 1.16s\tremaining: 373ms\n",
      "757:\tlearn: 1.0000000\ttest: 0.8905109\tbest: 0.8979592 (271)\ttotal: 1.16s\tremaining: 372ms\n",
      "758:\tlearn: 1.0000000\ttest: 0.8905109\tbest: 0.8979592 (271)\ttotal: 1.17s\tremaining: 370ms\n",
      "759:\tlearn: 1.0000000\ttest: 0.8905109\tbest: 0.8979592 (271)\ttotal: 1.17s\tremaining: 369ms\n",
      "760:\tlearn: 1.0000000\ttest: 0.8905109\tbest: 0.8979592 (271)\ttotal: 1.17s\tremaining: 367ms\n",
      "761:\tlearn: 1.0000000\ttest: 0.8905109\tbest: 0.8979592 (271)\ttotal: 1.17s\tremaining: 366ms\n",
      "762:\tlearn: 1.0000000\ttest: 0.8905109\tbest: 0.8979592 (271)\ttotal: 1.17s\tremaining: 364ms\n",
      "763:\tlearn: 1.0000000\ttest: 0.8905109\tbest: 0.8979592 (271)\ttotal: 1.17s\tremaining: 363ms\n",
      "764:\tlearn: 1.0000000\ttest: 0.8905109\tbest: 0.8979592 (271)\ttotal: 1.17s\tremaining: 361ms\n",
      "765:\tlearn: 1.0000000\ttest: 0.8905109\tbest: 0.8979592 (271)\ttotal: 1.18s\tremaining: 359ms\n",
      "766:\tlearn: 1.0000000\ttest: 0.8905109\tbest: 0.8979592 (271)\ttotal: 1.18s\tremaining: 358ms\n",
      "767:\tlearn: 1.0000000\ttest: 0.8905109\tbest: 0.8979592 (271)\ttotal: 1.18s\tremaining: 356ms\n",
      "768:\tlearn: 1.0000000\ttest: 0.8905109\tbest: 0.8979592 (271)\ttotal: 1.18s\tremaining: 355ms\n",
      "769:\tlearn: 1.0000000\ttest: 0.8905109\tbest: 0.8979592 (271)\ttotal: 1.18s\tremaining: 353ms\n",
      "770:\tlearn: 1.0000000\ttest: 0.8905109\tbest: 0.8979592 (271)\ttotal: 1.18s\tremaining: 352ms\n",
      "771:\tlearn: 1.0000000\ttest: 0.8905109\tbest: 0.8979592 (271)\ttotal: 1.19s\tremaining: 350ms\n",
      "772:\tlearn: 1.0000000\ttest: 0.8905109\tbest: 0.8979592 (271)\ttotal: 1.19s\tremaining: 349ms\n",
      "773:\tlearn: 1.0000000\ttest: 0.8905109\tbest: 0.8979592 (271)\ttotal: 1.19s\tremaining: 347ms\n",
      "774:\tlearn: 1.0000000\ttest: 0.8905109\tbest: 0.8979592 (271)\ttotal: 1.19s\tremaining: 346ms\n",
      "775:\tlearn: 1.0000000\ttest: 0.8905109\tbest: 0.8979592 (271)\ttotal: 1.19s\tremaining: 344ms\n",
      "776:\tlearn: 1.0000000\ttest: 0.8905109\tbest: 0.8979592 (271)\ttotal: 1.19s\tremaining: 342ms\n",
      "777:\tlearn: 1.0000000\ttest: 0.8905109\tbest: 0.8979592 (271)\ttotal: 1.19s\tremaining: 341ms\n",
      "778:\tlearn: 1.0000000\ttest: 0.8905109\tbest: 0.8979592 (271)\ttotal: 1.2s\tremaining: 339ms\n",
      "779:\tlearn: 1.0000000\ttest: 0.8905109\tbest: 0.8979592 (271)\ttotal: 1.2s\tremaining: 338ms\n",
      "780:\tlearn: 1.0000000\ttest: 0.8905109\tbest: 0.8979592 (271)\ttotal: 1.2s\tremaining: 336ms\n",
      "781:\tlearn: 1.0000000\ttest: 0.8905109\tbest: 0.8979592 (271)\ttotal: 1.2s\tremaining: 335ms\n",
      "782:\tlearn: 1.0000000\ttest: 0.8905109\tbest: 0.8979592 (271)\ttotal: 1.2s\tremaining: 333ms\n",
      "783:\tlearn: 1.0000000\ttest: 0.8905109\tbest: 0.8979592 (271)\ttotal: 1.2s\tremaining: 332ms\n",
      "784:\tlearn: 1.0000000\ttest: 0.8905109\tbest: 0.8979592 (271)\ttotal: 1.21s\tremaining: 330ms\n",
      "785:\tlearn: 1.0000000\ttest: 0.8905109\tbest: 0.8979592 (271)\ttotal: 1.21s\tremaining: 329ms\n",
      "786:\tlearn: 1.0000000\ttest: 0.8905109\tbest: 0.8979592 (271)\ttotal: 1.21s\tremaining: 327ms\n",
      "787:\tlearn: 1.0000000\ttest: 0.8905109\tbest: 0.8979592 (271)\ttotal: 1.21s\tremaining: 325ms\n",
      "788:\tlearn: 1.0000000\ttest: 0.8892128\tbest: 0.8979592 (271)\ttotal: 1.21s\tremaining: 324ms\n",
      "789:\tlearn: 1.0000000\ttest: 0.8905109\tbest: 0.8979592 (271)\ttotal: 1.21s\tremaining: 322ms\n",
      "790:\tlearn: 1.0000000\ttest: 0.8892128\tbest: 0.8979592 (271)\ttotal: 1.21s\tremaining: 321ms\n",
      "791:\tlearn: 1.0000000\ttest: 0.8892128\tbest: 0.8979592 (271)\ttotal: 1.22s\tremaining: 319ms\n",
      "792:\tlearn: 1.0000000\ttest: 0.8892128\tbest: 0.8979592 (271)\ttotal: 1.22s\tremaining: 318ms\n",
      "793:\tlearn: 1.0000000\ttest: 0.8892128\tbest: 0.8979592 (271)\ttotal: 1.22s\tremaining: 316ms\n",
      "794:\tlearn: 1.0000000\ttest: 0.8892128\tbest: 0.8979592 (271)\ttotal: 1.22s\tremaining: 315ms\n",
      "795:\tlearn: 1.0000000\ttest: 0.8892128\tbest: 0.8979592 (271)\ttotal: 1.22s\tremaining: 313ms\n",
      "796:\tlearn: 1.0000000\ttest: 0.8892128\tbest: 0.8979592 (271)\ttotal: 1.22s\tremaining: 312ms\n",
      "797:\tlearn: 1.0000000\ttest: 0.8892128\tbest: 0.8979592 (271)\ttotal: 1.23s\tremaining: 310ms\n",
      "798:\tlearn: 1.0000000\ttest: 0.8892128\tbest: 0.8979592 (271)\ttotal: 1.23s\tremaining: 309ms\n",
      "799:\tlearn: 1.0000000\ttest: 0.8892128\tbest: 0.8979592 (271)\ttotal: 1.23s\tremaining: 307ms\n",
      "800:\tlearn: 1.0000000\ttest: 0.8892128\tbest: 0.8979592 (271)\ttotal: 1.23s\tremaining: 306ms\n",
      "801:\tlearn: 1.0000000\ttest: 0.8892128\tbest: 0.8979592 (271)\ttotal: 1.23s\tremaining: 304ms\n",
      "802:\tlearn: 1.0000000\ttest: 0.8892128\tbest: 0.8979592 (271)\ttotal: 1.23s\tremaining: 303ms\n",
      "803:\tlearn: 1.0000000\ttest: 0.8892128\tbest: 0.8979592 (271)\ttotal: 1.24s\tremaining: 301ms\n",
      "804:\tlearn: 1.0000000\ttest: 0.8892128\tbest: 0.8979592 (271)\ttotal: 1.24s\tremaining: 300ms\n",
      "805:\tlearn: 1.0000000\ttest: 0.8892128\tbest: 0.8979592 (271)\ttotal: 1.24s\tremaining: 298ms\n",
      "806:\tlearn: 1.0000000\ttest: 0.8892128\tbest: 0.8979592 (271)\ttotal: 1.24s\tremaining: 297ms\n",
      "807:\tlearn: 1.0000000\ttest: 0.8892128\tbest: 0.8979592 (271)\ttotal: 1.24s\tremaining: 295ms\n",
      "808:\tlearn: 1.0000000\ttest: 0.8892128\tbest: 0.8979592 (271)\ttotal: 1.24s\tremaining: 294ms\n",
      "809:\tlearn: 1.0000000\ttest: 0.8892128\tbest: 0.8979592 (271)\ttotal: 1.25s\tremaining: 292ms\n",
      "810:\tlearn: 1.0000000\ttest: 0.8892128\tbest: 0.8979592 (271)\ttotal: 1.25s\tremaining: 291ms\n",
      "811:\tlearn: 1.0000000\ttest: 0.8892128\tbest: 0.8979592 (271)\ttotal: 1.25s\tremaining: 289ms\n",
      "812:\tlearn: 1.0000000\ttest: 0.8892128\tbest: 0.8979592 (271)\ttotal: 1.25s\tremaining: 288ms\n",
      "813:\tlearn: 1.0000000\ttest: 0.8892128\tbest: 0.8979592 (271)\ttotal: 1.25s\tremaining: 286ms\n",
      "814:\tlearn: 1.0000000\ttest: 0.8892128\tbest: 0.8979592 (271)\ttotal: 1.25s\tremaining: 285ms\n",
      "815:\tlearn: 1.0000000\ttest: 0.8892128\tbest: 0.8979592 (271)\ttotal: 1.25s\tremaining: 283ms\n",
      "816:\tlearn: 1.0000000\ttest: 0.8892128\tbest: 0.8979592 (271)\ttotal: 1.26s\tremaining: 281ms\n",
      "817:\tlearn: 1.0000000\ttest: 0.8892128\tbest: 0.8979592 (271)\ttotal: 1.26s\tremaining: 280ms\n",
      "818:\tlearn: 1.0000000\ttest: 0.8892128\tbest: 0.8979592 (271)\ttotal: 1.26s\tremaining: 278ms\n",
      "819:\tlearn: 1.0000000\ttest: 0.8892128\tbest: 0.8979592 (271)\ttotal: 1.26s\tremaining: 277ms\n",
      "820:\tlearn: 1.0000000\ttest: 0.8892128\tbest: 0.8979592 (271)\ttotal: 1.26s\tremaining: 275ms\n",
      "821:\tlearn: 1.0000000\ttest: 0.8892128\tbest: 0.8979592 (271)\ttotal: 1.26s\tremaining: 274ms\n",
      "822:\tlearn: 1.0000000\ttest: 0.8892128\tbest: 0.8979592 (271)\ttotal: 1.27s\tremaining: 272ms\n",
      "823:\tlearn: 1.0000000\ttest: 0.8892128\tbest: 0.8979592 (271)\ttotal: 1.27s\tremaining: 271ms\n",
      "824:\tlearn: 1.0000000\ttest: 0.8892128\tbest: 0.8979592 (271)\ttotal: 1.27s\tremaining: 269ms\n",
      "825:\tlearn: 1.0000000\ttest: 0.8892128\tbest: 0.8979592 (271)\ttotal: 1.27s\tremaining: 268ms\n",
      "826:\tlearn: 1.0000000\ttest: 0.8892128\tbest: 0.8979592 (271)\ttotal: 1.27s\tremaining: 266ms\n",
      "827:\tlearn: 1.0000000\ttest: 0.8892128\tbest: 0.8979592 (271)\ttotal: 1.27s\tremaining: 265ms\n",
      "828:\tlearn: 1.0000000\ttest: 0.8892128\tbest: 0.8979592 (271)\ttotal: 1.27s\tremaining: 263ms\n",
      "829:\tlearn: 1.0000000\ttest: 0.8892128\tbest: 0.8979592 (271)\ttotal: 1.28s\tremaining: 261ms\n",
      "830:\tlearn: 1.0000000\ttest: 0.8892128\tbest: 0.8979592 (271)\ttotal: 1.28s\tremaining: 260ms\n",
      "831:\tlearn: 1.0000000\ttest: 0.8892128\tbest: 0.8979592 (271)\ttotal: 1.28s\tremaining: 258ms\n",
      "832:\tlearn: 1.0000000\ttest: 0.8892128\tbest: 0.8979592 (271)\ttotal: 1.28s\tremaining: 257ms\n",
      "833:\tlearn: 1.0000000\ttest: 0.8892128\tbest: 0.8979592 (271)\ttotal: 1.28s\tremaining: 255ms\n",
      "834:\tlearn: 1.0000000\ttest: 0.8892128\tbest: 0.8979592 (271)\ttotal: 1.28s\tremaining: 254ms\n",
      "835:\tlearn: 1.0000000\ttest: 0.8892128\tbest: 0.8979592 (271)\ttotal: 1.28s\tremaining: 252ms\n",
      "836:\tlearn: 1.0000000\ttest: 0.8892128\tbest: 0.8979592 (271)\ttotal: 1.29s\tremaining: 251ms\n",
      "837:\tlearn: 1.0000000\ttest: 0.8892128\tbest: 0.8979592 (271)\ttotal: 1.29s\tremaining: 249ms\n",
      "838:\tlearn: 1.0000000\ttest: 0.8892128\tbest: 0.8979592 (271)\ttotal: 1.29s\tremaining: 248ms\n",
      "839:\tlearn: 1.0000000\ttest: 0.8892128\tbest: 0.8979592 (271)\ttotal: 1.29s\tremaining: 246ms\n",
      "840:\tlearn: 1.0000000\ttest: 0.8892128\tbest: 0.8979592 (271)\ttotal: 1.29s\tremaining: 244ms\n",
      "841:\tlearn: 1.0000000\ttest: 0.8892128\tbest: 0.8979592 (271)\ttotal: 1.29s\tremaining: 243ms\n",
      "842:\tlearn: 1.0000000\ttest: 0.8892128\tbest: 0.8979592 (271)\ttotal: 1.3s\tremaining: 241ms\n",
      "843:\tlearn: 1.0000000\ttest: 0.8892128\tbest: 0.8979592 (271)\ttotal: 1.3s\tremaining: 240ms\n",
      "844:\tlearn: 1.0000000\ttest: 0.8892128\tbest: 0.8979592 (271)\ttotal: 1.3s\tremaining: 238ms\n",
      "845:\tlearn: 1.0000000\ttest: 0.8892128\tbest: 0.8979592 (271)\ttotal: 1.3s\tremaining: 237ms\n",
      "846:\tlearn: 1.0000000\ttest: 0.8892128\tbest: 0.8979592 (271)\ttotal: 1.3s\tremaining: 235ms\n",
      "847:\tlearn: 1.0000000\ttest: 0.8892128\tbest: 0.8979592 (271)\ttotal: 1.3s\tremaining: 234ms\n",
      "848:\tlearn: 1.0000000\ttest: 0.8892128\tbest: 0.8979592 (271)\ttotal: 1.3s\tremaining: 232ms\n",
      "849:\tlearn: 1.0000000\ttest: 0.8892128\tbest: 0.8979592 (271)\ttotal: 1.31s\tremaining: 231ms\n",
      "850:\tlearn: 1.0000000\ttest: 0.8892128\tbest: 0.8979592 (271)\ttotal: 1.31s\tremaining: 229ms\n",
      "851:\tlearn: 1.0000000\ttest: 0.8892128\tbest: 0.8979592 (271)\ttotal: 1.31s\tremaining: 227ms\n",
      "852:\tlearn: 1.0000000\ttest: 0.8892128\tbest: 0.8979592 (271)\ttotal: 1.31s\tremaining: 226ms\n",
      "853:\tlearn: 1.0000000\ttest: 0.8892128\tbest: 0.8979592 (271)\ttotal: 1.31s\tremaining: 224ms\n",
      "854:\tlearn: 1.0000000\ttest: 0.8892128\tbest: 0.8979592 (271)\ttotal: 1.31s\tremaining: 223ms\n",
      "855:\tlearn: 1.0000000\ttest: 0.8892128\tbest: 0.8979592 (271)\ttotal: 1.31s\tremaining: 221ms\n",
      "856:\tlearn: 1.0000000\ttest: 0.8892128\tbest: 0.8979592 (271)\ttotal: 1.32s\tremaining: 220ms\n",
      "857:\tlearn: 1.0000000\ttest: 0.8892128\tbest: 0.8979592 (271)\ttotal: 1.32s\tremaining: 218ms\n",
      "858:\tlearn: 1.0000000\ttest: 0.8892128\tbest: 0.8979592 (271)\ttotal: 1.32s\tremaining: 217ms\n",
      "859:\tlearn: 1.0000000\ttest: 0.8892128\tbest: 0.8979592 (271)\ttotal: 1.32s\tremaining: 215ms\n",
      "860:\tlearn: 1.0000000\ttest: 0.8892128\tbest: 0.8979592 (271)\ttotal: 1.32s\tremaining: 214ms\n",
      "861:\tlearn: 1.0000000\ttest: 0.8892128\tbest: 0.8979592 (271)\ttotal: 1.32s\tremaining: 212ms\n",
      "862:\tlearn: 1.0000000\ttest: 0.8892128\tbest: 0.8979592 (271)\ttotal: 1.33s\tremaining: 211ms\n",
      "863:\tlearn: 1.0000000\ttest: 0.8892128\tbest: 0.8979592 (271)\ttotal: 1.33s\tremaining: 209ms\n",
      "864:\tlearn: 1.0000000\ttest: 0.8892128\tbest: 0.8979592 (271)\ttotal: 1.33s\tremaining: 208ms\n",
      "865:\tlearn: 1.0000000\ttest: 0.8892128\tbest: 0.8979592 (271)\ttotal: 1.33s\tremaining: 206ms\n",
      "866:\tlearn: 1.0000000\ttest: 0.8892128\tbest: 0.8979592 (271)\ttotal: 1.33s\tremaining: 204ms\n",
      "867:\tlearn: 1.0000000\ttest: 0.8892128\tbest: 0.8979592 (271)\ttotal: 1.33s\tremaining: 203ms\n",
      "868:\tlearn: 1.0000000\ttest: 0.8892128\tbest: 0.8979592 (271)\ttotal: 1.34s\tremaining: 201ms\n",
      "869:\tlearn: 1.0000000\ttest: 0.8892128\tbest: 0.8979592 (271)\ttotal: 1.34s\tremaining: 200ms\n",
      "870:\tlearn: 1.0000000\ttest: 0.8892128\tbest: 0.8979592 (271)\ttotal: 1.34s\tremaining: 198ms\n",
      "871:\tlearn: 1.0000000\ttest: 0.8892128\tbest: 0.8979592 (271)\ttotal: 1.34s\tremaining: 197ms\n",
      "872:\tlearn: 1.0000000\ttest: 0.8892128\tbest: 0.8979592 (271)\ttotal: 1.34s\tremaining: 195ms\n",
      "873:\tlearn: 1.0000000\ttest: 0.8892128\tbest: 0.8979592 (271)\ttotal: 1.34s\tremaining: 194ms\n",
      "874:\tlearn: 1.0000000\ttest: 0.8892128\tbest: 0.8979592 (271)\ttotal: 1.34s\tremaining: 192ms\n",
      "875:\tlearn: 1.0000000\ttest: 0.8892128\tbest: 0.8979592 (271)\ttotal: 1.35s\tremaining: 191ms\n",
      "876:\tlearn: 1.0000000\ttest: 0.8892128\tbest: 0.8979592 (271)\ttotal: 1.35s\tremaining: 189ms\n",
      "877:\tlearn: 1.0000000\ttest: 0.8892128\tbest: 0.8979592 (271)\ttotal: 1.35s\tremaining: 188ms\n",
      "878:\tlearn: 1.0000000\ttest: 0.8892128\tbest: 0.8979592 (271)\ttotal: 1.35s\tremaining: 186ms\n",
      "879:\tlearn: 1.0000000\ttest: 0.8892128\tbest: 0.8979592 (271)\ttotal: 1.35s\tremaining: 185ms\n",
      "880:\tlearn: 1.0000000\ttest: 0.8892128\tbest: 0.8979592 (271)\ttotal: 1.36s\tremaining: 183ms\n",
      "881:\tlearn: 1.0000000\ttest: 0.8892128\tbest: 0.8979592 (271)\ttotal: 1.36s\tremaining: 182ms\n",
      "882:\tlearn: 1.0000000\ttest: 0.8892128\tbest: 0.8979592 (271)\ttotal: 1.36s\tremaining: 180ms\n",
      "883:\tlearn: 1.0000000\ttest: 0.8892128\tbest: 0.8979592 (271)\ttotal: 1.36s\tremaining: 179ms\n",
      "884:\tlearn: 1.0000000\ttest: 0.8892128\tbest: 0.8979592 (271)\ttotal: 1.36s\tremaining: 177ms\n",
      "885:\tlearn: 1.0000000\ttest: 0.8892128\tbest: 0.8979592 (271)\ttotal: 1.36s\tremaining: 176ms\n",
      "886:\tlearn: 1.0000000\ttest: 0.8892128\tbest: 0.8979592 (271)\ttotal: 1.36s\tremaining: 174ms\n",
      "887:\tlearn: 1.0000000\ttest: 0.8892128\tbest: 0.8979592 (271)\ttotal: 1.37s\tremaining: 172ms\n",
      "888:\tlearn: 1.0000000\ttest: 0.8892128\tbest: 0.8979592 (271)\ttotal: 1.37s\tremaining: 171ms\n",
      "889:\tlearn: 1.0000000\ttest: 0.8892128\tbest: 0.8979592 (271)\ttotal: 1.37s\tremaining: 169ms\n",
      "890:\tlearn: 1.0000000\ttest: 0.8892128\tbest: 0.8979592 (271)\ttotal: 1.37s\tremaining: 168ms\n",
      "891:\tlearn: 1.0000000\ttest: 0.8892128\tbest: 0.8979592 (271)\ttotal: 1.37s\tremaining: 166ms\n",
      "892:\tlearn: 1.0000000\ttest: 0.8892128\tbest: 0.8979592 (271)\ttotal: 1.37s\tremaining: 165ms\n",
      "893:\tlearn: 1.0000000\ttest: 0.8892128\tbest: 0.8979592 (271)\ttotal: 1.38s\tremaining: 163ms\n",
      "894:\tlearn: 1.0000000\ttest: 0.8892128\tbest: 0.8979592 (271)\ttotal: 1.38s\tremaining: 162ms\n",
      "895:\tlearn: 1.0000000\ttest: 0.8892128\tbest: 0.8979592 (271)\ttotal: 1.38s\tremaining: 160ms\n",
      "896:\tlearn: 1.0000000\ttest: 0.8892128\tbest: 0.8979592 (271)\ttotal: 1.38s\tremaining: 159ms\n",
      "897:\tlearn: 1.0000000\ttest: 0.8892128\tbest: 0.8979592 (271)\ttotal: 1.38s\tremaining: 157ms\n",
      "898:\tlearn: 1.0000000\ttest: 0.8892128\tbest: 0.8979592 (271)\ttotal: 1.38s\tremaining: 155ms\n",
      "899:\tlearn: 1.0000000\ttest: 0.8892128\tbest: 0.8979592 (271)\ttotal: 1.39s\tremaining: 154ms\n",
      "900:\tlearn: 1.0000000\ttest: 0.8892128\tbest: 0.8979592 (271)\ttotal: 1.39s\tremaining: 152ms\n",
      "901:\tlearn: 1.0000000\ttest: 0.8892128\tbest: 0.8979592 (271)\ttotal: 1.39s\tremaining: 151ms\n",
      "902:\tlearn: 1.0000000\ttest: 0.8892128\tbest: 0.8979592 (271)\ttotal: 1.39s\tremaining: 149ms\n",
      "903:\tlearn: 1.0000000\ttest: 0.8892128\tbest: 0.8979592 (271)\ttotal: 1.39s\tremaining: 148ms\n",
      "904:\tlearn: 1.0000000\ttest: 0.8892128\tbest: 0.8979592 (271)\ttotal: 1.39s\tremaining: 146ms\n",
      "905:\tlearn: 1.0000000\ttest: 0.8892128\tbest: 0.8979592 (271)\ttotal: 1.39s\tremaining: 145ms\n",
      "906:\tlearn: 1.0000000\ttest: 0.8892128\tbest: 0.8979592 (271)\ttotal: 1.4s\tremaining: 143ms\n",
      "907:\tlearn: 1.0000000\ttest: 0.8892128\tbest: 0.8979592 (271)\ttotal: 1.4s\tremaining: 142ms\n",
      "908:\tlearn: 1.0000000\ttest: 0.8892128\tbest: 0.8979592 (271)\ttotal: 1.4s\tremaining: 140ms\n",
      "909:\tlearn: 1.0000000\ttest: 0.8892128\tbest: 0.8979592 (271)\ttotal: 1.4s\tremaining: 139ms\n",
      "910:\tlearn: 1.0000000\ttest: 0.8892128\tbest: 0.8979592 (271)\ttotal: 1.4s\tremaining: 137ms\n",
      "911:\tlearn: 1.0000000\ttest: 0.8892128\tbest: 0.8979592 (271)\ttotal: 1.4s\tremaining: 135ms\n",
      "912:\tlearn: 1.0000000\ttest: 0.8892128\tbest: 0.8979592 (271)\ttotal: 1.41s\tremaining: 134ms\n",
      "913:\tlearn: 1.0000000\ttest: 0.8892128\tbest: 0.8979592 (271)\ttotal: 1.41s\tremaining: 132ms\n",
      "914:\tlearn: 1.0000000\ttest: 0.8892128\tbest: 0.8979592 (271)\ttotal: 1.41s\tremaining: 131ms\n",
      "915:\tlearn: 1.0000000\ttest: 0.8892128\tbest: 0.8979592 (271)\ttotal: 1.41s\tremaining: 129ms\n",
      "916:\tlearn: 1.0000000\ttest: 0.8892128\tbest: 0.8979592 (271)\ttotal: 1.41s\tremaining: 128ms\n",
      "917:\tlearn: 1.0000000\ttest: 0.8892128\tbest: 0.8979592 (271)\ttotal: 1.41s\tremaining: 126ms\n",
      "918:\tlearn: 1.0000000\ttest: 0.8892128\tbest: 0.8979592 (271)\ttotal: 1.41s\tremaining: 125ms\n",
      "919:\tlearn: 1.0000000\ttest: 0.8892128\tbest: 0.8979592 (271)\ttotal: 1.42s\tremaining: 123ms\n",
      "920:\tlearn: 1.0000000\ttest: 0.8892128\tbest: 0.8979592 (271)\ttotal: 1.42s\tremaining: 122ms\n",
      "921:\tlearn: 1.0000000\ttest: 0.8892128\tbest: 0.8979592 (271)\ttotal: 1.42s\tremaining: 120ms\n",
      "922:\tlearn: 1.0000000\ttest: 0.8892128\tbest: 0.8979592 (271)\ttotal: 1.42s\tremaining: 119ms\n",
      "923:\tlearn: 1.0000000\ttest: 0.8892128\tbest: 0.8979592 (271)\ttotal: 1.42s\tremaining: 117ms\n",
      "924:\tlearn: 1.0000000\ttest: 0.8892128\tbest: 0.8979592 (271)\ttotal: 1.42s\tremaining: 115ms\n",
      "925:\tlearn: 1.0000000\ttest: 0.8892128\tbest: 0.8979592 (271)\ttotal: 1.43s\tremaining: 114ms\n",
      "926:\tlearn: 1.0000000\ttest: 0.8892128\tbest: 0.8979592 (271)\ttotal: 1.43s\tremaining: 112ms\n",
      "927:\tlearn: 1.0000000\ttest: 0.8892128\tbest: 0.8979592 (271)\ttotal: 1.43s\tremaining: 111ms\n",
      "928:\tlearn: 1.0000000\ttest: 0.8892128\tbest: 0.8979592 (271)\ttotal: 1.43s\tremaining: 109ms\n",
      "929:\tlearn: 1.0000000\ttest: 0.8892128\tbest: 0.8979592 (271)\ttotal: 1.43s\tremaining: 108ms\n",
      "930:\tlearn: 1.0000000\ttest: 0.8892128\tbest: 0.8979592 (271)\ttotal: 1.43s\tremaining: 106ms\n",
      "931:\tlearn: 1.0000000\ttest: 0.8892128\tbest: 0.8979592 (271)\ttotal: 1.43s\tremaining: 105ms\n",
      "932:\tlearn: 1.0000000\ttest: 0.8892128\tbest: 0.8979592 (271)\ttotal: 1.44s\tremaining: 103ms\n",
      "933:\tlearn: 1.0000000\ttest: 0.8892128\tbest: 0.8979592 (271)\ttotal: 1.44s\tremaining: 102ms\n",
      "934:\tlearn: 1.0000000\ttest: 0.8892128\tbest: 0.8979592 (271)\ttotal: 1.44s\tremaining: 100ms\n",
      "935:\tlearn: 1.0000000\ttest: 0.8892128\tbest: 0.8979592 (271)\ttotal: 1.44s\tremaining: 98.5ms\n",
      "936:\tlearn: 1.0000000\ttest: 0.8892128\tbest: 0.8979592 (271)\ttotal: 1.44s\tremaining: 97ms\n",
      "937:\tlearn: 1.0000000\ttest: 0.8892128\tbest: 0.8979592 (271)\ttotal: 1.44s\tremaining: 95.5ms\n",
      "938:\tlearn: 1.0000000\ttest: 0.8892128\tbest: 0.8979592 (271)\ttotal: 1.45s\tremaining: 93.9ms\n",
      "939:\tlearn: 1.0000000\ttest: 0.8892128\tbest: 0.8979592 (271)\ttotal: 1.45s\tremaining: 92.4ms\n",
      "940:\tlearn: 1.0000000\ttest: 0.8892128\tbest: 0.8979592 (271)\ttotal: 1.45s\tremaining: 90.8ms\n",
      "941:\tlearn: 1.0000000\ttest: 0.8892128\tbest: 0.8979592 (271)\ttotal: 1.45s\tremaining: 89.3ms\n",
      "942:\tlearn: 1.0000000\ttest: 0.8892128\tbest: 0.8979592 (271)\ttotal: 1.45s\tremaining: 87.8ms\n",
      "943:\tlearn: 1.0000000\ttest: 0.8892128\tbest: 0.8979592 (271)\ttotal: 1.45s\tremaining: 86.2ms\n",
      "944:\tlearn: 1.0000000\ttest: 0.8892128\tbest: 0.8979592 (271)\ttotal: 1.45s\tremaining: 84.7ms\n",
      "945:\tlearn: 1.0000000\ttest: 0.8892128\tbest: 0.8979592 (271)\ttotal: 1.46s\tremaining: 83.1ms\n",
      "946:\tlearn: 1.0000000\ttest: 0.8892128\tbest: 0.8979592 (271)\ttotal: 1.46s\tremaining: 81.6ms\n",
      "947:\tlearn: 1.0000000\ttest: 0.8892128\tbest: 0.8979592 (271)\ttotal: 1.46s\tremaining: 80ms\n",
      "948:\tlearn: 1.0000000\ttest: 0.8892128\tbest: 0.8979592 (271)\ttotal: 1.46s\tremaining: 78.5ms\n",
      "949:\tlearn: 1.0000000\ttest: 0.8892128\tbest: 0.8979592 (271)\ttotal: 1.46s\tremaining: 77ms\n",
      "950:\tlearn: 1.0000000\ttest: 0.8892128\tbest: 0.8979592 (271)\ttotal: 1.46s\tremaining: 75.4ms\n",
      "951:\tlearn: 1.0000000\ttest: 0.8892128\tbest: 0.8979592 (271)\ttotal: 1.47s\tremaining: 73.9ms\n",
      "952:\tlearn: 1.0000000\ttest: 0.8892128\tbest: 0.8979592 (271)\ttotal: 1.47s\tremaining: 72.4ms\n",
      "953:\tlearn: 1.0000000\ttest: 0.8892128\tbest: 0.8979592 (271)\ttotal: 1.47s\tremaining: 70.8ms\n",
      "954:\tlearn: 1.0000000\ttest: 0.8892128\tbest: 0.8979592 (271)\ttotal: 1.47s\tremaining: 69.3ms\n",
      "955:\tlearn: 1.0000000\ttest: 0.8892128\tbest: 0.8979592 (271)\ttotal: 1.47s\tremaining: 67.7ms\n",
      "956:\tlearn: 1.0000000\ttest: 0.8892128\tbest: 0.8979592 (271)\ttotal: 1.47s\tremaining: 66.2ms\n",
      "957:\tlearn: 1.0000000\ttest: 0.8892128\tbest: 0.8979592 (271)\ttotal: 1.47s\tremaining: 64.7ms\n",
      "958:\tlearn: 1.0000000\ttest: 0.8892128\tbest: 0.8979592 (271)\ttotal: 1.48s\tremaining: 63.1ms\n",
      "959:\tlearn: 1.0000000\ttest: 0.8892128\tbest: 0.8979592 (271)\ttotal: 1.48s\tremaining: 61.6ms\n",
      "960:\tlearn: 1.0000000\ttest: 0.8892128\tbest: 0.8979592 (271)\ttotal: 1.48s\tremaining: 60ms\n",
      "961:\tlearn: 1.0000000\ttest: 0.8892128\tbest: 0.8979592 (271)\ttotal: 1.48s\tremaining: 58.5ms\n",
      "962:\tlearn: 1.0000000\ttest: 0.8892128\tbest: 0.8979592 (271)\ttotal: 1.48s\tremaining: 57ms\n",
      "963:\tlearn: 1.0000000\ttest: 0.8892128\tbest: 0.8979592 (271)\ttotal: 1.48s\tremaining: 55.4ms\n",
      "964:\tlearn: 1.0000000\ttest: 0.8892128\tbest: 0.8979592 (271)\ttotal: 1.49s\tremaining: 53.9ms\n",
      "965:\tlearn: 1.0000000\ttest: 0.8892128\tbest: 0.8979592 (271)\ttotal: 1.49s\tremaining: 52.3ms\n",
      "966:\tlearn: 1.0000000\ttest: 0.8892128\tbest: 0.8979592 (271)\ttotal: 1.49s\tremaining: 50.8ms\n",
      "967:\tlearn: 1.0000000\ttest: 0.8892128\tbest: 0.8979592 (271)\ttotal: 1.49s\tremaining: 49.3ms\n",
      "968:\tlearn: 1.0000000\ttest: 0.8892128\tbest: 0.8979592 (271)\ttotal: 1.49s\tremaining: 47.7ms\n",
      "969:\tlearn: 1.0000000\ttest: 0.8892128\tbest: 0.8979592 (271)\ttotal: 1.49s\tremaining: 46.2ms\n",
      "970:\tlearn: 1.0000000\ttest: 0.8892128\tbest: 0.8979592 (271)\ttotal: 1.49s\tremaining: 44.6ms\n",
      "971:\tlearn: 1.0000000\ttest: 0.8892128\tbest: 0.8979592 (271)\ttotal: 1.5s\tremaining: 43.1ms\n",
      "972:\tlearn: 1.0000000\ttest: 0.8892128\tbest: 0.8979592 (271)\ttotal: 1.5s\tremaining: 41.6ms\n",
      "973:\tlearn: 1.0000000\ttest: 0.8892128\tbest: 0.8979592 (271)\ttotal: 1.5s\tremaining: 40ms\n",
      "974:\tlearn: 1.0000000\ttest: 0.8892128\tbest: 0.8979592 (271)\ttotal: 1.5s\tremaining: 38.5ms\n",
      "975:\tlearn: 1.0000000\ttest: 0.8892128\tbest: 0.8979592 (271)\ttotal: 1.5s\tremaining: 36.9ms\n",
      "976:\tlearn: 1.0000000\ttest: 0.8892128\tbest: 0.8979592 (271)\ttotal: 1.5s\tremaining: 35.4ms\n",
      "977:\tlearn: 1.0000000\ttest: 0.8892128\tbest: 0.8979592 (271)\ttotal: 1.5s\tremaining: 33.9ms\n",
      "978:\tlearn: 1.0000000\ttest: 0.8875912\tbest: 0.8979592 (271)\ttotal: 1.51s\tremaining: 32.3ms\n",
      "979:\tlearn: 1.0000000\ttest: 0.8875912\tbest: 0.8979592 (271)\ttotal: 1.51s\tremaining: 30.8ms\n",
      "980:\tlearn: 1.0000000\ttest: 0.8875912\tbest: 0.8979592 (271)\ttotal: 1.51s\tremaining: 29.2ms\n",
      "981:\tlearn: 1.0000000\ttest: 0.8875912\tbest: 0.8979592 (271)\ttotal: 1.51s\tremaining: 27.7ms\n",
      "982:\tlearn: 1.0000000\ttest: 0.8875912\tbest: 0.8979592 (271)\ttotal: 1.51s\tremaining: 26.2ms\n",
      "983:\tlearn: 1.0000000\ttest: 0.8875912\tbest: 0.8979592 (271)\ttotal: 1.51s\tremaining: 24.6ms\n",
      "984:\tlearn: 1.0000000\ttest: 0.8875912\tbest: 0.8979592 (271)\ttotal: 1.51s\tremaining: 23.1ms\n",
      "985:\tlearn: 1.0000000\ttest: 0.8875912\tbest: 0.8979592 (271)\ttotal: 1.52s\tremaining: 21.5ms\n",
      "986:\tlearn: 1.0000000\ttest: 0.8875912\tbest: 0.8979592 (271)\ttotal: 1.52s\tremaining: 20ms\n",
      "987:\tlearn: 1.0000000\ttest: 0.8875912\tbest: 0.8979592 (271)\ttotal: 1.52s\tremaining: 18.5ms\n",
      "988:\tlearn: 1.0000000\ttest: 0.8875912\tbest: 0.8979592 (271)\ttotal: 1.52s\tremaining: 16.9ms\n",
      "989:\tlearn: 1.0000000\ttest: 0.8875912\tbest: 0.8979592 (271)\ttotal: 1.52s\tremaining: 15.4ms\n",
      "990:\tlearn: 1.0000000\ttest: 0.8875912\tbest: 0.8979592 (271)\ttotal: 1.52s\tremaining: 13.8ms\n",
      "991:\tlearn: 1.0000000\ttest: 0.8875912\tbest: 0.8979592 (271)\ttotal: 1.52s\tremaining: 12.3ms\n",
      "992:\tlearn: 1.0000000\ttest: 0.8875912\tbest: 0.8979592 (271)\ttotal: 1.53s\tremaining: 10.8ms\n",
      "993:\tlearn: 1.0000000\ttest: 0.8875912\tbest: 0.8979592 (271)\ttotal: 1.53s\tremaining: 9.23ms\n",
      "994:\tlearn: 1.0000000\ttest: 0.8875912\tbest: 0.8979592 (271)\ttotal: 1.53s\tremaining: 7.69ms\n",
      "995:\tlearn: 1.0000000\ttest: 0.8875912\tbest: 0.8979592 (271)\ttotal: 1.53s\tremaining: 6.15ms\n",
      "996:\tlearn: 1.0000000\ttest: 0.8875912\tbest: 0.8979592 (271)\ttotal: 1.53s\tremaining: 4.61ms\n",
      "997:\tlearn: 1.0000000\ttest: 0.8875912\tbest: 0.8979592 (271)\ttotal: 1.53s\tremaining: 3.08ms\n",
      "998:\tlearn: 1.0000000\ttest: 0.8875912\tbest: 0.8979592 (271)\ttotal: 1.54s\tremaining: 1.54ms\n",
      "999:\tlearn: 1.0000000\ttest: 0.8875912\tbest: 0.8979592 (271)\ttotal: 1.54s\tremaining: 0us\n",
      "\n",
      "bestTest = 0.8979591837\n",
      "bestIteration = 271\n",
      "\n",
      "Shrink model to first 272 iterations.\n"
     ]
    },
    {
     "data": {
      "text/plain": [
       "<catboost.core.CatBoostClassifier at 0x1dd2acaa340>"
      ]
     },
     "execution_count": 233,
     "metadata": {},
     "output_type": "execute_result"
    }
   ],
   "source": [
    "cat_model.fit(x_train_smote,y_train_smote,eval_set=(x_test,y_test))"
   ]
  },
  {
   "cell_type": "code",
   "execution_count": 234,
   "metadata": {},
   "outputs": [],
   "source": [
    "cat_pred2 = cat_model.predict(x_test)"
   ]
  },
  {
   "cell_type": "code",
   "execution_count": 235,
   "metadata": {},
   "outputs": [
    {
     "name": "stdout",
     "output_type": "stream",
     "text": [
      "              precision    recall  f1-score   support\n",
      "\n",
      "        Left       0.87      0.94      0.91       354\n",
      "      Stayed       0.94      0.86      0.90       358\n",
      "\n",
      "    accuracy                           0.90       712\n",
      "   macro avg       0.90      0.90      0.90       712\n",
      "weighted avg       0.90      0.90      0.90       712\n",
      "\n"
     ]
    }
   ],
   "source": [
    "target_names = ['Left','Stayed']\n",
    "print(classification_report(y_test, cat_pred2, target_names=target_names))"
   ]
  },
  {
   "cell_type": "code",
   "execution_count": 237,
   "metadata": {},
   "outputs": [
    {
     "data": {
      "text/plain": [
       "0.9415384615384615"
      ]
     },
     "execution_count": 237,
     "metadata": {},
     "output_type": "execute_result"
    }
   ],
   "source": [
    "precision_score(y_test, catpred)"
   ]
  },
  {
   "cell_type": "code",
   "execution_count": 238,
   "metadata": {},
   "outputs": [
    {
     "data": {
      "text/plain": [
       "0.8547486033519553"
      ]
     },
     "execution_count": 238,
     "metadata": {},
     "output_type": "execute_result"
    }
   ],
   "source": [
    "recall_score(y_test, catpred)"
   ]
  },
  {
   "cell_type": "code",
   "execution_count": 239,
   "metadata": {},
   "outputs": [
    {
     "data": {
      "text/plain": [
       "Text(0, 0.5, 'True Positive Rate')"
      ]
     },
     "execution_count": 239,
     "metadata": {},
     "output_type": "execute_result"
    },
    {
     "data": {
      "image/png": "[encoded data removed]",
      "text/plain": [
       "<Figure size 432x288 with 1 Axes>"
      ]
     },
     "metadata": {
      "needs_background": "light"
     },
     "output_type": "display_data"
    }
   ],
   "source": [
    "fpr, tpr, thresholds = roc_curve(y_test, cat_pred2)\n",
    "import matplotlib.pyplot as plt\n",
    "plt.plot(fpr,tpr)\n",
    "plt.xlabel('False Positive Rate')\n",
    "plt.ylabel('True Positive Rate')"
   ]
  },
  {
   "cell_type": "markdown",
   "metadata": {},
   "source": [
    "Catboost performs very well and is so far the best of the models we have tried. F1-Score and Accuracy of 0.91! ROC Curve also looks great!"
   ]
  },
  {
   "cell_type": "markdown",
   "metadata": {},
   "source": [
    "XGBoost Classifier"
   ]
  },
  {
   "cell_type": "markdown",
   "metadata": {},
   "source": [
    "One last model to try"
   ]
  },
  {
   "cell_type": "code",
   "execution_count": 240,
   "metadata": {},
   "outputs": [],
   "source": [
    "from xgboost import XGBClassifier\n",
    "xgb = XGBClassifier(n_estimators=100)"
   ]
  },
  {
   "cell_type": "code",
   "execution_count": 241,
   "metadata": {},
   "outputs": [
    {
     "data": {
      "text/html": [
       "<style>#sk-container-id-6 {color: black;background-color: white;}#sk-container-id-6 pre{padding: 0;}#sk-container-id-6 div.sk-toggleable {background-color: white;}#sk-container-id-6 label.sk-toggleable__label {cursor: pointer;display: block;width: 100%;margin-bottom: 0;padding: 0.3em;box-sizing: border-box;text-align: center;}#sk-container-id-6 label.sk-toggleable__label-arrow:before {content: \"▸\";float: left;margin-right: 0.25em;color: #696969;}#sk-container-id-6 label.sk-toggleable__label-arrow:hover:before {color: black;}#sk-container-id-6 div.sk-estimator:hover label.sk-toggleable__label-arrow:before {color: black;}#sk-container-id-6 div.sk-toggleable__content {max-height: 0;max-width: 0;overflow: hidden;text-align: left;background-color: #f0f8ff;}#sk-container-id-6 div.sk-toggleable__content pre {margin: 0.2em;color: black;border-radius: 0.25em;background-color: #f0f8ff;}#sk-container-id-6 input.sk-toggleable__control:checked~div.sk-toggleable__content {max-height: 200px;max-width: 100%;overflow: auto;}#sk-container-id-6 input.sk-toggleable__control:checked~label.sk-toggleable__label-arrow:before {content: \"▾\";}#sk-container-id-6 div.sk-estimator input.sk-toggleable__control:checked~label.sk-toggleable__label {background-color: #d4ebff;}#sk-container-id-6 div.sk-label input.sk-toggleable__control:checked~label.sk-toggleable__label {background-color: #d4ebff;}#sk-container-id-6 input.sk-hidden--visually {border: 0;clip: rect(1px 1px 1px 1px);clip: rect(1px, 1px, 1px, 1px);height: 1px;margin: -1px;overflow: hidden;padding: 0;position: absolute;width: 1px;}#sk-container-id-6 div.sk-estimator {font-family: monospace;background-color: #f0f8ff;border: 1px dotted black;border-radius: 0.25em;box-sizing: border-box;margin-bottom: 0.5em;}#sk-container-id-6 div.sk-estimator:hover {background-color: #d4ebff;}#sk-container-id-6 div.sk-parallel-item::after {content: \"\";width: 100%;border-bottom: 1px solid gray;flex-grow: 1;}#sk-container-id-6 div.sk-label:hover label.sk-toggleable__label {background-color: #d4ebff;}#sk-container-id-6 div.sk-serial::before {content: \"\";position: absolute;border-left: 1px solid gray;box-sizing: border-box;top: 0;bottom: 0;left: 50%;z-index: 0;}#sk-container-id-6 div.sk-serial {display: flex;flex-direction: column;align-items: center;background-color: white;padding-right: 0.2em;padding-left: 0.2em;position: relative;}#sk-container-id-6 div.sk-item {position: relative;z-index: 1;}#sk-container-id-6 div.sk-parallel {display: flex;align-items: stretch;justify-content: center;background-color: white;position: relative;}#sk-container-id-6 div.sk-item::before, #sk-container-id-6 div.sk-parallel-item::before {content: \"\";position: absolute;border-left: 1px solid gray;box-sizing: border-box;top: 0;bottom: 0;left: 50%;z-index: -1;}#sk-container-id-6 div.sk-parallel-item {display: flex;flex-direction: column;z-index: 1;position: relative;background-color: white;}#sk-container-id-6 div.sk-parallel-item:first-child::after {align-self: flex-end;width: 50%;}#sk-container-id-6 div.sk-parallel-item:last-child::after {align-self: flex-start;width: 50%;}#sk-container-id-6 div.sk-parallel-item:only-child::after {width: 0;}#sk-container-id-6 div.sk-dashed-wrapped {border: 1px dashed gray;margin: 0 0.4em 0.5em 0.4em;box-sizing: border-box;padding-bottom: 0.4em;background-color: white;}#sk-container-id-6 div.sk-label label {font-family: monospace;font-weight: bold;display: inline-block;line-height: 1.2em;}#sk-container-id-6 div.sk-label-container {text-align: center;}#sk-container-id-6 div.sk-container {/* jupyter's `normalize.less` sets `[hidden] { display: none; }` but bootstrap.min.css set `[hidden] { display: none !important; }` so we also need the `!important` here to be able to override the default hidden behavior on the sphinx rendered scikit-learn.org. See: https://github.com/scikit-learn/scikit-learn/issues/21755 */display: inline-block !important;position: relative;}#sk-container-id-6 div.sk-text-repr-fallback {display: none;}</style><div id=\"sk-container-id-6\" class=\"sk-top-container\"><div class=\"sk-text-repr-fallback\"><pre>XGBClassifier(base_score=0.5, booster=&#x27;gbtree&#x27;, callbacks=None,\n",
       "              colsample_bylevel=1, colsample_bynode=1, colsample_bytree=1,\n",
       "              early_stopping_rounds=None, enable_categorical=False,\n",
       "              eval_metric=None, feature_types=None, gamma=0, gpu_id=-1,\n",
       "              grow_policy=&#x27;depthwise&#x27;, importance_type=None,\n",
       "              interaction_constraints=&#x27;&#x27;, learning_rate=0.300000012,\n",
       "              max_bin=256, max_cat_threshold=64, max_cat_to_onehot=4,\n",
       "              max_delta_step=0, max_depth=6, max_leaves=0, min_child_weight=1,\n",
       "              missing=nan, monotone_constraints=&#x27;()&#x27;, n_estimators=100,\n",
       "              n_jobs=0, num_parallel_tree=1, predictor=&#x27;auto&#x27;, random_state=0, ...)</pre><b>In a Jupyter environment, please rerun this cell to show the HTML representation or trust the notebook. <br />On GitHub, the HTML representation is unable to render, please try loading this page with nbviewer.org.</b></div><div class=\"sk-container\" hidden><div class=\"sk-item\"><div class=\"sk-estimator sk-toggleable\"><input class=\"sk-toggleable__control sk-hidden--visually\" id=\"sk-estimator-id-8\" type=\"checkbox\" checked><label for=\"sk-estimator-id-8\" class=\"sk-toggleable__label sk-toggleable__label-arrow\">XGBClassifier</label><div class=\"sk-toggleable__content\"><pre>XGBClassifier(base_score=0.5, booster=&#x27;gbtree&#x27;, callbacks=None,\n",
       "              colsample_bylevel=1, colsample_bynode=1, colsample_bytree=1,\n",
       "              early_stopping_rounds=None, enable_categorical=False,\n",
       "              eval_metric=None, feature_types=None, gamma=0, gpu_id=-1,\n",
       "              grow_policy=&#x27;depthwise&#x27;, importance_type=None,\n",
       "              interaction_constraints=&#x27;&#x27;, learning_rate=0.300000012,\n",
       "              max_bin=256, max_cat_threshold=64, max_cat_to_onehot=4,\n",
       "              max_delta_step=0, max_depth=6, max_leaves=0, min_child_weight=1,\n",
       "              missing=nan, monotone_constraints=&#x27;()&#x27;, n_estimators=100,\n",
       "              n_jobs=0, num_parallel_tree=1, predictor=&#x27;auto&#x27;, random_state=0, ...)</pre></div></div></div></div></div>"
      ],
      "text/plain": [
       "XGBClassifier(base_score=0.5, booster='gbtree', callbacks=None,\n",
       "              colsample_bylevel=1, colsample_bynode=1, colsample_bytree=1,\n",
       "              early_stopping_rounds=None, enable_categorical=False,\n",
       "              eval_metric=None, feature_types=None, gamma=0, gpu_id=-1,\n",
       "              grow_policy='depthwise', importance_type=None,\n",
       "              interaction_constraints='', learning_rate=0.300000012,\n",
       "              max_bin=256, max_cat_threshold=64, max_cat_to_onehot=4,\n",
       "              max_delta_step=0, max_depth=6, max_leaves=0, min_child_weight=1,\n",
       "              missing=nan, monotone_constraints='()', n_estimators=100,\n",
       "              n_jobs=0, num_parallel_tree=1, predictor='auto', random_state=0, ...)"
      ]
     },
     "execution_count": 241,
     "metadata": {},
     "output_type": "execute_result"
    }
   ],
   "source": [
    "xgb.fit(x_train,y_train)"
   ]
  },
  {
   "cell_type": "code",
   "execution_count": 242,
   "metadata": {},
   "outputs": [],
   "source": [
    "xgb_pred = xgb.predict(x_test)"
   ]
  },
  {
   "cell_type": "code",
   "execution_count": 243,
   "metadata": {},
   "outputs": [
    {
     "name": "stdout",
     "output_type": "stream",
     "text": [
      "              precision    recall  f1-score   support\n",
      "\n",
      "        Left       0.87      0.91      0.89       354\n",
      "      Stayed       0.90      0.87      0.89       358\n",
      "\n",
      "    accuracy                           0.89       712\n",
      "   macro avg       0.89      0.89      0.89       712\n",
      "weighted avg       0.89      0.89      0.89       712\n",
      "\n"
     ]
    }
   ],
   "source": [
    "target_names = ['Left','Stayed']\n",
    "print(classification_report(y_test, xgb_pred, target_names=target_names))"
   ]
  },
  {
   "cell_type": "code",
   "execution_count": 244,
   "metadata": {},
   "outputs": [
    {
     "data": {
      "text/plain": [
       "Text(0, 0.5, 'True Positive Rate')"
      ]
     },
     "execution_count": 244,
     "metadata": {},
     "output_type": "execute_result"
    },
    {
     "data": {
      "image/png": "[encoded data removed]",
      "text/plain": [
       "<Figure size 432x288 with 1 Axes>"
      ]
     },
     "metadata": {
      "needs_background": "light"
     },
     "output_type": "display_data"
    }
   ],
   "source": [
    "fpr, tpr, thresholds = roc_curve(y_test, xgb_pred)\n",
    "import matplotlib.pyplot as plt\n",
    "plt.plot(fpr,tpr)\n",
    "plt.xlabel('False Positive Rate')\n",
    "plt.ylabel('True Positive Rate')"
   ]
  },
  {
   "cell_type": "code",
   "execution_count": 245,
   "metadata": {},
   "outputs": [
    {
     "name": "stdout",
     "output_type": "stream",
     "text": [
      "              precision    recall  f1-score   support\n",
      "\n",
      "        Left       0.87      0.91      0.89       354\n",
      "      Stayed       0.91      0.87      0.89       358\n",
      "\n",
      "    accuracy                           0.89       712\n",
      "   macro avg       0.89      0.89      0.89       712\n",
      "weighted avg       0.89      0.89      0.89       712\n",
      "\n"
     ]
    }
   ],
   "source": [
    "#Using Balanced Data from SMOTE\n",
    "xgb.fit(x_train_smote,y_train_smote)\n",
    "xgb_pred2 = xgb.predict(x_test)\n",
    "target_names = ['Left','Stayed']\n",
    "print(classification_report(y_test, xgb_pred2, target_names=target_names))"
   ]
  },
  {
   "cell_type": "code",
   "execution_count": 246,
   "metadata": {},
   "outputs": [
    {
     "data": {
      "text/plain": [
       "Text(0, 0.5, 'True Positive Rate')"
      ]
     },
     "execution_count": 246,
     "metadata": {},
     "output_type": "execute_result"
    },
    {
     "data": {
      "image/png": "[encoded data removed]",
      "text/plain": [
       "<Figure size 432x288 with 1 Axes>"
      ]
     },
     "metadata": {
      "needs_background": "light"
     },
     "output_type": "display_data"
    }
   ],
   "source": [
    "fpr, tpr, thresholds = roc_curve(y_test, xgb_pred2)\n",
    "import matplotlib.pyplot as plt\n",
    "plt.plot(fpr,tpr)\n",
    "plt.xlabel('False Positive Rate')\n",
    "plt.ylabel('True Positive Rate')"
   ]
  },
  {
   "cell_type": "markdown",
   "metadata": {},
   "source": [
    "XGBoost also performs very well, but Catboost slightly edged it"
   ]
  },
  {
   "cell_type": "markdown",
   "metadata": {},
   "source": [
    "Recommendations: The results from this classification analysis indicate some factors that may be leading towards attrition. This can be seen on the feature importance graph of the random forest model. The longer it has been since a promotion, the more likely an employee is to leave the company. The amount of years that an employee has worked also seems to be a strong factor for the decision to leave the company. Another interesting factor is the distance an employee lives from home. Job satisfaction seems to be a minor factor, which could indicate that employees are not being honest during surveys. Some recommendations from these results would be to better incentivize people to remain at the company through promotions (if they have performed well). The company may also find it beneficial to provide more remote  work opportunity to reduce distance from the company to be a determining factor. "
   ]
  },
  {
   "cell_type": "markdown",
   "metadata": {},
   "source": [
    "Predictive Feasibility: The boosting and random forest models used in the notebook will be very good for predicting whether an employee will leave the company. With F1 scores near or at 90% as well as success in other metrics described in the notebook, the predictive capability of these models can be relied upon. My personal recommenation would be to use the catboost model for future predictions."
   ]
  }
 ],
 "metadata": {
  "kernelspec": {
   "display_name": "Python 3 (ipykernel)",
   "language": "python",
   "name": "python3"
  },
  "language_info": {
   "codemirror_mode": {
    "name": "ipython",
    "version": 3
   },
   "file_extension": ".py",
   "mimetype": "text/x-python",
   "name": "python",
   "nbconvert_exporter": "python",
   "pygments_lexer": "ipython3",
   "version": "3.9.12"
  },
  "vscode": {
   "interpreter": {
    "hash": "fb833273add3e7c60eb33c0608260b79a61e072ade6f02cc8d07b0a26eef8ab8"
   }
  }
 },
 "nbformat": 4,
 "nbformat_minor": 2
}
